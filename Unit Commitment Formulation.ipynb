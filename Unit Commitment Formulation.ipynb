{
 "cells": [
  {
   "cell_type": "code",
   "execution_count": 1,
   "id": "37674bba-1b9b-48c7-8974-f0c08bb18df1",
   "metadata": {
    "scrolled": true
   },
   "outputs": [],
   "source": [
    "#data management \n",
    "using CSV\n",
    "using DataFrames\n",
    "using PowerSystems\n",
    "#datetime stuff\n",
    "using TimeSeries\n",
    "using Dates\n",
    "##optimization\n",
    "using JuMP\n",
    "using Gurobi"
   ]
  },
  {
   "cell_type": "markdown",
   "id": "5a743a7e-97ba-43fc-803d-9ee332b0b35f",
   "metadata": {},
   "source": [
    "### Setting up Generators"
   ]
  },
  {
   "cell_type": "code",
   "execution_count": 2,
   "id": "7a9f73a5-b343-4a0c-aa9c-430e269766ba",
   "metadata": {},
   "outputs": [
    {
     "name": "stdout",
     "output_type": "stream",
     "text": [
      "done"
     ]
    }
   ],
   "source": [
    "gen_data = DataFrame(CSV.File(\"data/gen_thermal_data_modified_margins.csv\"))\n",
    "node_name = [\"BEL AIR\", \"CDB\", \"TP\", \"KP\", \"KAH\", \"MP\", \"CG\", \"KPS\", \"SENDOU\", \"OMVG\"]\n",
    "nodes_thermal = [ACBus(i, name, nothing, nothing, nothing, (min = 0.9, max = 1.05), nothing, nothing, nothing) for (i, name) in zip(1:length(node_name), node_name)]\n",
    "#\n",
    "thermal_generator = []\n",
    "for g in eachrow(gen_data)\n",
    "    node = nodes_thermal |> filter(x-> get_name(x) == g.Nom_Noeud ) |> first\n",
    "    p = PrimeMovers.ST\n",
    "    up_down = (up = 1, down = 1)\n",
    "    if g.Fuel == \"HTS\"\n",
    "        f = ThermalFuels.RESIDUAL_FUEL_OIL\n",
    "    elseif g.Fuel == \"BTS\"\n",
    "        f = ThermalFuels.DISTILLATE_FUEL_OIL\n",
    "    elseif g.Fuel == \"COAL\"\n",
    "        f = ThermalFuels.COAL\n",
    "    elseif g.Fuel == \"GAZ\"\n",
    "        f = ThermalFuels.NATURAL_GAS\n",
    "    elseif g.Fuel == \"HYDRO\"\n",
    "        f = ThermalFuels.OTHER\n",
    "        P = PrimeMovers.HY\n",
    "        up_down = (up = 0, down = 0)\n",
    "    else\n",
    "        println(\"a problem happened for $(g.CENTRALE)\")\n",
    "    end\n",
    "    t = ThermalStandard(;\n",
    "        name = g.CENTRALE, \n",
    "        available = true, \n",
    "        status = true,\n",
    "        bus = node,\n",
    "        active_power = 0,\n",
    "        reactive_power = 0,\n",
    "        rating = 100,\n",
    "        prime_mover_type = p,\n",
    "        fuel = f, \n",
    "        active_power_limits = (min = g.P_MIN, max = g.P_MAX), \n",
    "        reactive_power_limits = nothing,\n",
    "        operation_cost = ThreePartCost(g.Cost, 0.0, 0.0, 0.0),\n",
    "        base_power = g.Puissance_nominale_MVA, \n",
    "        ramp_limits = (up = g.RAMP_UP, down = g.RAMP_DOWN),\n",
    "        time_limits = up_down\n",
    "        )\n",
    "    push!(thermal_generator, t)\n",
    "end\n",
    "print(\"done\")"
   ]
  },
  {
   "cell_type": "markdown",
   "id": "be6dc3a8-394a-495c-b624-2ca130f4ccc6",
   "metadata": {},
   "source": [
    "### Setting up Renewable Generators"
   ]
  },
  {
   "cell_type": "code",
   "execution_count": 3,
   "id": "ec76aad5-33cd-4539-96af-d4f38c30fa4a",
   "metadata": {},
   "outputs": [
    {
     "name": "stdout",
     "output_type": "stream",
     "text": [
      "done"
     ]
    }
   ],
   "source": [
    "renew_generator = []\n",
    "gen_renew_data = DataFrame(CSV.File(\"data/gen_renew_data.csv\"))\n",
    "#\n",
    "node_name = [\"CICAD\", \"BOKHOL\", \"DIASS\", \"MALICOUNDA\", \"KAHONE\", \"TOUBA\", \"MERINA\", \"SANTHIOU\", \"SAKAL\", \"TAIBA NDIAYE\"]\n",
    "nodes_renew = [ACBus(i, name, nothing, nothing, nothing, (min = 0.9, max = 1.05), nothing, nothing, nothing) for (i, name) in zip(11:11+length(node_name), node_name)] #length of first node name is 10\n",
    "#\n",
    "for g in eachrow(gen_renew_data)\n",
    "    node = nodes_renew |> filter(x-> get_name(x) == g.Nom_Noeud ) |> first\n",
    "    if g.type == \"PV\"\n",
    "        p = PrimeMovers.PVe\n",
    "    else\n",
    "        p = PrimeMovers.WT\n",
    "    end\n",
    "    r = RenewableDispatch(;\n",
    "        name = g.CENTRALE,\n",
    "        available = true,\n",
    "        bus = node,\n",
    "        active_power = 0, \n",
    "        reactive_power = 0,\n",
    "        rating = g.rating,\n",
    "        prime_mover_type = p,\n",
    "        reactive_power_limits = (min = 0.0, max = 0.0),\n",
    "        power_factor = 1.0,\n",
    "        operation_cost = TwoPartCost(0.0, 0.0),\n",
    "        base_power = 100)\n",
    "    push!(renew_generator, r)\n",
    "end\n",
    "print(\"done\")"
   ]
  },
  {
   "cell_type": "markdown",
   "id": "1daf9418-2818-4478-8e73-51ce9dcc2c92",
   "metadata": {},
   "source": [
    "### Adding a SLACK GEN"
   ]
  },
  {
   "cell_type": "code",
   "execution_count": 4,
   "id": "df6070cf-e8d0-48d6-bc96-1e8972cb5890",
   "metadata": {},
   "outputs": [
    {
     "name": "stdout",
     "output_type": "stream",
     "text": [
      "done"
     ]
    }
   ],
   "source": [
    "#slack_node = get_components(ACBus, system) |> collect |> filter(x -> get_name(x) == \"BEL AIR\") |> first \n",
    "slack_node = nodes_thermal |> filter(x-> get_name(x) == \"BEL AIR\" ) |> first\n",
    "slack = ThermalStandard(;\n",
    "    name = \"SLACK\", available = true, status = true, bus = slack_node, active_power = 0, reactive_power = 0, rating = 1E4,\n",
    "    prime_mover_type = PrimeMovers.ST, fuel = ThermalFuels.RESIDUAL_FUEL_OIL, active_power_limits = (min = 0, max = 1E4), reactive_power_limits = nothing,\n",
    "    operation_cost = ThreePartCost(1E6, 0.0, 0.0, 0.0), base_power = 100, ramp_limits = (up = 1E4, down = 1E4), time_limits = (up = 0, down = 0)\n",
    "    )\n",
    "push!(thermal_generator, slack);\n",
    "print(\"done\")"
   ]
  },
  {
   "cell_type": "markdown",
   "id": "9bcae505-c55e-4916-99a9-d1e441b584ec",
   "metadata": {},
   "source": [
    "### Building the system"
   ]
  },
  {
   "cell_type": "code",
   "execution_count": 5,
   "id": "ecb1a55e-05a8-4a3d-bfe3-a8280afc2e83",
   "metadata": {},
   "outputs": [
    {
     "name": "stderr",
     "output_type": "stream",
     "text": [
      "\u001b[91m\u001b[1m┌ \u001b[22m\u001b[39m\u001b[91m\u001b[1mError: \u001b[22m\u001b[39mModel doesn't contain a slack bus\n",
      "\u001b[91m\u001b[1m└ \u001b[22m\u001b[39m\u001b[90m@ PowerSystems C:\\Users\\lenovo\\.julia\\packages\\PowerSystems\\mjN6j\\src\\utils\\IO\\system_checks.jl:27\u001b[39m\n",
      "\u001b[33m\u001b[1m┌ \u001b[22m\u001b[39m\u001b[33m\u001b[1mWarning: \u001b[22m\u001b[39mBus/Nodes data does not contain information to build an a network\n",
      "\u001b[33m\u001b[1m└ \u001b[22m\u001b[39m\u001b[90m@ PowerSystems C:\\Users\\lenovo\\.julia\\packages\\PowerSystems\\mjN6j\\src\\utils\\IO\\system_checks.jl:9\u001b[39m\n",
      "\u001b[33m\u001b[1m┌ \u001b[22m\u001b[39m\u001b[33m\u001b[1mWarning: \u001b[22m\u001b[39mBus/Nodes data does not contain information to build an a network\n",
      "\u001b[33m\u001b[1m└ \u001b[22m\u001b[39m\u001b[90m@ PowerSystems C:\\Users\\lenovo\\.julia\\packages\\PowerSystems\\mjN6j\\src\\utils\\IO\\system_checks.jl:9\u001b[39m\n",
      "\u001b[33m\u001b[1m┌ \u001b[22m\u001b[39m\u001b[33m\u001b[1mWarning: \u001b[22m\u001b[39mBus/Nodes data does not contain information to build an a network\n",
      "\u001b[33m\u001b[1m└ \u001b[22m\u001b[39m\u001b[90m@ PowerSystems C:\\Users\\lenovo\\.julia\\packages\\PowerSystems\\mjN6j\\src\\utils\\IO\\system_checks.jl:9\u001b[39m\n",
      "\u001b[33m\u001b[1m┌ \u001b[22m\u001b[39m\u001b[33m\u001b[1mWarning: \u001b[22m\u001b[39mBus/Nodes data does not contain information to build an a network\n",
      "\u001b[33m\u001b[1m└ \u001b[22m\u001b[39m\u001b[90m@ PowerSystems C:\\Users\\lenovo\\.julia\\packages\\PowerSystems\\mjN6j\\src\\utils\\IO\\system_checks.jl:9\u001b[39m\n",
      "\u001b[33m\u001b[1m┌ \u001b[22m\u001b[39m\u001b[33m\u001b[1mWarning: \u001b[22m\u001b[39mBus/Nodes data does not contain information to build an a network\n",
      "\u001b[33m\u001b[1m└ \u001b[22m\u001b[39m\u001b[90m@ PowerSystems C:\\Users\\lenovo\\.julia\\packages\\PowerSystems\\mjN6j\\src\\utils\\IO\\system_checks.jl:9\u001b[39m\n",
      "\u001b[33m\u001b[1m┌ \u001b[22m\u001b[39m\u001b[33m\u001b[1mWarning: \u001b[22m\u001b[39mBus/Nodes data does not contain information to build an a network\n",
      "\u001b[33m\u001b[1m└ \u001b[22m\u001b[39m\u001b[90m@ PowerSystems C:\\Users\\lenovo\\.julia\\packages\\PowerSystems\\mjN6j\\src\\utils\\IO\\system_checks.jl:9\u001b[39m\n",
      "\u001b[33m\u001b[1m┌ \u001b[22m\u001b[39m\u001b[33m\u001b[1mWarning: \u001b[22m\u001b[39mBus/Nodes data does not contain information to build an a network\n",
      "\u001b[33m\u001b[1m└ \u001b[22m\u001b[39m\u001b[90m@ PowerSystems C:\\Users\\lenovo\\.julia\\packages\\PowerSystems\\mjN6j\\src\\utils\\IO\\system_checks.jl:9\u001b[39m\n",
      "\u001b[33m\u001b[1m┌ \u001b[22m\u001b[39m\u001b[33m\u001b[1mWarning: \u001b[22m\u001b[39mBus/Nodes data does not contain information to build an a network\n",
      "\u001b[33m\u001b[1m└ \u001b[22m\u001b[39m\u001b[90m@ PowerSystems C:\\Users\\lenovo\\.julia\\packages\\PowerSystems\\mjN6j\\src\\utils\\IO\\system_checks.jl:9\u001b[39m\n",
      "\u001b[33m\u001b[1m┌ \u001b[22m\u001b[39m\u001b[33m\u001b[1mWarning: \u001b[22m\u001b[39mBus/Nodes data does not contain information to build an a network\n",
      "\u001b[33m\u001b[1m└ \u001b[22m\u001b[39m\u001b[90m@ PowerSystems C:\\Users\\lenovo\\.julia\\packages\\PowerSystems\\mjN6j\\src\\utils\\IO\\system_checks.jl:9\u001b[39m\n",
      "\u001b[33m\u001b[1m┌ \u001b[22m\u001b[39m\u001b[33m\u001b[1mWarning: \u001b[22m\u001b[39mBus/Nodes data does not contain information to build an a network\n",
      "\u001b[33m\u001b[1m└ \u001b[22m\u001b[39m\u001b[90m@ PowerSystems C:\\Users\\lenovo\\.julia\\packages\\PowerSystems\\mjN6j\\src\\utils\\IO\\system_checks.jl:9\u001b[39m\n",
      "\u001b[33m\u001b[1m┌ \u001b[22m\u001b[39m\u001b[33m\u001b[1mWarning: \u001b[22m\u001b[39mThere are no ElectricLoad Components in the System\n",
      "\u001b[33m\u001b[1m└ \u001b[22m\u001b[39m\u001b[90m@ PowerSystems C:\\Users\\lenovo\\.julia\\packages\\PowerSystems\\mjN6j\\src\\utils\\IO\\system_checks.jl:59\u001b[39m\n"
     ]
    },
    {
     "name": "stdout",
     "output_type": "stream",
     "text": [
      "done"
     ]
    },
    {
     "name": "stderr",
     "output_type": "stream",
     "text": [
      "\u001b[36m\u001b[1m[ \u001b[22m\u001b[39m\u001b[36m\u001b[1mInfo: \u001b[22m\u001b[39mUnit System changed to UnitSystem.DEVICE_BASE = 1\n"
     ]
    }
   ],
   "source": [
    "nodes = vcat(nodes_thermal, nodes_renew)\n",
    "system = System(100.0, nodes, vcat(thermal_generator, renew_generator,));\n",
    "set_units_base_system!(system, \"DEVICE_BASE\")\n",
    "print(\"done\")"
   ]
  },
  {
   "cell_type": "markdown",
   "id": "d8e2a858-b9a4-4b41-b497-6de90de85791",
   "metadata": {},
   "source": [
    "### Adding Time Series for renewable and extracting demand"
   ]
  },
  {
   "cell_type": "code",
   "execution_count": 6,
   "id": "b8db6097-3ae1-4dc6-936d-5c3aa1409ab1",
   "metadata": {},
   "outputs": [
    {
     "name": "stdout",
     "output_type": "stream",
     "text": [
      "done"
     ]
    }
   ],
   "source": [
    "#using CSV\n",
    "#using DataFrames\n",
    "using TimeSeries\n",
    "file_path = \"data/renew_1&2Dec_2023.csv\"\n",
    "renew_df = CSV.File(file_path) |> DataFrame\n",
    "#\n",
    "resolution = Dates.Hour(1)\n",
    "dates = range(DateTime(\"2023-12-01T01:00:00\"), step = resolution, DateTime(\"2023-12-2T23:00:00\"))\n",
    "for name in DataFrames.names(renew_df)[2:end]\n",
    "    data = TimeArray(dates, renew_df[!, Symbol(name)])\n",
    "    time_series = SingleTimeSeries(\"Renewable Evolution\", data)\n",
    "    add_time_series!(system, get_component(RenewableDispatch, system, name), time_series)\n",
    "end\n",
    "print(\"done\")"
   ]
  },
  {
   "cell_type": "markdown",
   "id": "85d30484-2e93-4fb5-a1dd-87df0dc58570",
   "metadata": {},
   "source": [
    "### Extracting Demand"
   ]
  },
  {
   "cell_type": "code",
   "execution_count": 7,
   "id": "f174b791-f8c1-4118-ad5c-ed31fd7dc53e",
   "metadata": {},
   "outputs": [],
   "source": [
    "file_path = \"data/demand_1&2Dec_2023.csv\"\n",
    "demand_df = CSV.File(file_path) |> DataFrame\n",
    "#\n",
    "demand = demand_df.Demand_in_MW;"
   ]
  },
  {
   "cell_type": "markdown",
   "id": "261a1d98-5d06-430c-ae58-bcc24cea4168",
   "metadata": {},
   "source": [
    "### Setting Up Reserves"
   ]
  },
  {
   "cell_type": "code",
   "execution_count": 8,
   "id": "9ba51bbc-e4e8-4602-ac65-e5dc76b3c873",
   "metadata": {},
   "outputs": [
    {
     "data": {
      "text/plain": [
       "0"
      ]
     },
     "execution_count": 8,
     "metadata": {},
     "output_type": "execute_result"
    }
   ],
   "source": [
    "Pr = Dict(\"$(g.CENTRALE)\" => (0) for g in eachrow(gen_data))# Pr for primary res\n",
    "Sr = Dict(\"$(g.CENTRALE)\" => (0) for g in eachrow(gen_data))# Sr for secondary res\n",
    "Tr = Dict(\"$(g.CENTRALE)\" => (1) for g in eachrow(gen_data))# Tr for tertiary res\n",
    "# if can deliver at least half the margin of your power in less than 20 min, you are eligible for 3rd res\n",
    "generators = get_components(ThermalStandard, system)\n",
    "for g in generators\n",
    "    if(20 * get_ramp_limits(g).up >= (get_active_power_limits(g).max-get_active_power_limits(g).min)/2) && get_name(g) != \"SLACK\"\n",
    "        Tr[\"$(get_name(g))\"] = 1\n",
    "    else\n",
    "        Tr[\"$(get_name(g))\"] = 0\n",
    "    end\n",
    "end\n",
    "# if can deliver at least half the margin of your power in less than 5 min, you are eligible for 2nd res (given you have AGC)\n",
    "for g in generators\n",
    "    if(5 * get_ramp_limits(g).up >= (get_active_power_limits(g).max-get_active_power_limits(g).min)/2) && get_name(g) != \"SLACK\"\n",
    "        Sr[\"$(get_name(g))\"] = 1\n",
    "    else\n",
    "        Sr[\"$(get_name(g))\"] = 0\n",
    "    end\n",
    "end\n",
    "#given the data I have, if you can deliver primary res, you can also deliver 2nd and 3rd res\n",
    "for g in eachrow(gen_data)\n",
    "    Pr[\"$(g.CENTRALE)\"] = g.REG\n",
    "end \n",
    "Pr[\"SLACK\"] = 0 #slack is not in gen_data and it should surely not provide prim res\n",
    "#solve slack issue, it should not provide reserve"
   ]
  },
  {
   "cell_type": "markdown",
   "id": "ada6f1ea-091b-47fc-87b8-4adb58e8a910",
   "metadata": {},
   "source": [
    "### UC"
   ]
  },
  {
   "cell_type": "code",
   "execution_count": 9,
   "id": "b55577b8-6112-4476-916b-c434edba6094",
   "metadata": {},
   "outputs": [
    {
     "data": {
      "text/plain": [
       "10000.0"
      ]
     },
     "execution_count": 9,
     "metadata": {},
     "output_type": "execute_result"
    }
   ],
   "source": [
    "mutable struct ValueInitializer\n",
    "    pg_init::Float64\n",
    "    u_init::Int64\n",
    "end\n",
    "mutable struct Reserve\n",
    "    pr::Float64\n",
    "    sr::Float64\n",
    "    tr::Float64\n",
    "    \n",
    "end\n",
    "Ɣ2_cost = 1E4\n",
    "Ɣ3_cost = 1E4"
   ]
  },
  {
   "cell_type": "code",
   "execution_count": 27,
   "id": "dbe888b3-e7dc-499f-8bc6-62d91c1a4b06",
   "metadata": {},
   "outputs": [
    {
     "data": {
      "text/plain": [
       "my_callback_function (generic function with 1 method)"
      ]
     },
     "execution_count": 27,
     "metadata": {},
     "output_type": "execute_result"
    }
   ],
   "source": [
    "softlimit = 5\n",
    "hardlimit = 300\n",
    "function my_callback_function(cb_data, cb_where::Cint)\n",
    "    if cb_where == GRB_CB_MIP\n",
    "        runtimeP = Ref{Cdouble}()\n",
    "        objbstP = Ref{Cdouble}()\n",
    "        objbndP = Ref{Cdouble}()\n",
    "        GRBcbget(cb_data, cb_where, GRB_CB_RUNTIME, runtimeP)\n",
    "        GRBcbget(cb_data, cb_where, GRB_CB_MIP_OBJBST, objbstP)\n",
    "        GRBcbget(cb_data, cb_where, GRB_CB_MIP_OBJBND, objbndP)\n",
    "        gap = abs((objbstP[] - objbndP[]) / objbstP[])\n",
    "        println(\"The current gap is : $(gap)\")\n",
    "        if runtimeP[] > hardlimit && gap < 0.5\n",
    "            GRBterminate(backend(uc_model))\n",
    "        end\n",
    "    end\n",
    "    return\n",
    "end"
   ]
  },
  {
   "cell_type": "code",
   "execution_count": 78,
   "id": "64d78444-be80-4b88-a5fd-ddd2d577a848",
   "metadata": {},
   "outputs": [
    {
     "data": {
      "text/plain": [
       "uc_model (generic function with 1 method)"
      ]
     },
     "execution_count": 78,
     "metadata": {},
     "output_type": "execute_result"
    }
   ],
   "source": [
    "function uc_model(system::System, target_date::DateTime, init::ValueInitializer, Reserve, optimizer)\n",
    "    uc_m = Model(optimizer)\n",
    "    #callbacks to print logs\n",
    "    MOI.set(uc_m, Gurobi.CallbackFunction(), my_callback_function)\n",
    "    #\n",
    "    # Set the MIP gap to 0.01 (1%)\n",
    "    set_optimizer_attribute(uc_m, \"MIPGap\", 0.01)\n",
    "    #\n",
    "    set_silent(uc_m)\n",
    "    time_periods = 1:47\n",
    "    N = length(get_components(ThermalStandard, system))\n",
    "    thermal_gen_names = get_name.(get_components(ThermalStandard, system))\n",
    "    @variable(uc_m, pg[g in thermal_gen_names, t in time_periods] >= 0)\n",
    "    #reserve vars\n",
    "    @variable(uc_m, r1[g in thermal_gen_names, t in time_periods] >= 0)\n",
    "    @variable(uc_m, r2[g in thermal_gen_names, t in time_periods] >= 0)\n",
    "    @variable(uc_m, r3s[g in thermal_gen_names, t in time_periods] >= 0)\n",
    "    @variable(uc_m, r3ns[g in thermal_gen_names, t in time_periods] >= 0)\n",
    "    #vars for violation of reserve vals\n",
    "    #@variable(uc_m, Reserve.pr >= Ɣ1[t in time_periods] >= 0)\n",
    "    @variable(uc_m, Reserve.sr >= Ɣ2[t in time_periods] >= 0)\n",
    "    @variable(uc_m, Reserve.tr >= Ɣ3[t in time_periods] >= 0)\n",
    "    #binary vars\n",
    "    @variable(uc_m, u[g in thermal_gen_names, t in time_periods], Bin)\n",
    "    @variable(uc_m, su[g in thermal_gen_names, t in time_periods], Bin)\n",
    "    @variable(uc_m, sd[g in thermal_gen_names, t in time_periods], Bin)\n",
    "    ##\n",
    "    @variable(uc_m, svu[g in thermal_gen_names, t in time_periods], Bin)\n",
    "    @variable(uc_m, svd[g in thermal_gen_names, t in time_periods], Bin)\n",
    "    @variable(uc_m, v[g in thermal_gen_names, t in time_periods], Bin)\n",
    "    ##\n",
    "\n",
    "    for g in get_components(ThermalStandard, system), t in time_periods\n",
    "        name = get_name(g)\n",
    "        if t == 1\n",
    "            @constraint(uc_m, pg[name, t]-init.pg_init <= min(60*get_ramp_limits(g).up, get_active_power_limits(g).max))#i multiply by 60 bcz the ramps were expressed in mw/min and i didn't wan't to change the da\n",
    "            @constraint(uc_m, init.pg_init-pg[name, t] <= min(60*get_ramp_limits(g).down, get_active_power_limits(g).max))\n",
    "            @constraint(uc_m, init.u_init - u[name, t] + su[name, t] - sd[name, t] == 0 )\n",
    "            ##~~~~~\n",
    "            @constraint(uc_m, init.u_init - v[name, t] + svu[name, t] - svd[name, t] == 0 )\n",
    "            ##~~~~~\n",
    "        else\n",
    "            @constraint(uc_m, u[name, t-1] - u[name, t] + su[name, t] - sd[name, t] == 0 )\n",
    "            ##~~~~~\n",
    "            @constraint(uc_m, v[name, t-1] - v[name, t] + svu[name, t] - svd[name, t] == 0 )\n",
    "            ##~~~~~\n",
    "            @constraint(uc_m, pg[name, t]-pg[name, t-1] <= min(60*get_ramp_limits(g).up, get_active_power_limits(g).max))\n",
    "            @constraint(uc_m, pg[name, t-1]-pg[name, t] <= min(60*get_ramp_limits(g).down, get_active_power_limits(g).max))\n",
    "            \n",
    "            # MinUpTime\n",
    "            if t <= get_time_limits(g).up\n",
    "                @constraint(uc_m, sum(su[name, trunc(Int, i)] for i in t-1:-1:1) <= u[name, t] )\n",
    "            else\n",
    "                @constraint(uc_m, sum(su[name, trunc(Int, i)] for i in (t-1):-1:(t-get_time_limits(g).up+1)) <= u[name, t] )\n",
    "            end\n",
    "            # MinDownTime\n",
    "            if t <= get_time_limits(g).down\n",
    "                @constraint(uc_m, sum(sd[name, trunc(Int, i)] for i in t-1:-1:1) <= 1 - u[name, t] )\n",
    "            else\n",
    "                @constraint(uc_m, sum(sd[name, trunc(Int, i)] for i in (t-1):-1:(t-get_time_limits(g).up+1)) <= 1 - u[name, t] )\n",
    "            end \n",
    "            \n",
    "            ##~~~~~\n",
    "            # MinUpTime hot state\n",
    "            if t <= 5*get_time_limits(g).up #uptime 1H but it must be down for 5 hours bcz that time corresponds to the time needed to heat the boiler\n",
    "                @constraint(uc_m, sum(svu[name, trunc(Int, i)] for i in t-1:-1:1) <= v[name, t] )\n",
    "            else\n",
    "                @constraint(uc_m, sum(svu[name, trunc(Int, i)] for i in (t-1):-1:(t-5*get_time_limits(g).up+1)) <= v[name, t] )\n",
    "            end\n",
    "            # MinDownTime hot state\n",
    "            if t <= 5*get_time_limits(g).down\n",
    "                @constraint(uc_m, sum(svd[name, trunc(Int, i)] for i in t-1:-1:1) <= 1 - v[name, t] )\n",
    "            else\n",
    "                @constraint(uc_m, sum(svd[name, trunc(Int, i)] for i in (t-1):-1:(t-5*get_time_limits(g).up+1)) <= 1 - v[name, t] )\n",
    "            end \n",
    "            ##~~~~~\n",
    "            \n",
    "        end\n",
    "        ##~~~~~\n",
    "        @constraint(uc_m, svu[name, t] + svd[name, t] <= 1 )        \n",
    "        ##~~~~~\n",
    "        @constraint(uc_m, su[name, t] + sd[name, t] <= 1 )\n",
    "        #power generation + reserve\n",
    "        @constraint(uc_m, pg[name, t] >= get_active_power_limits(g).min*u[name, t] ) \n",
    "        @constraint(uc_m, pg[name, t] +r1[name, t]+ r2[name, t]+ r3s[name, t] <= get_active_power_limits(g).max*u[name, t] )\n",
    "        #limit values for reserves\n",
    "        @constraint(uc_m, r1[name, t] <= 0.5*Pr[name]*u[name, t]*get_ramp_limits(g).up) \n",
    "        @constraint(uc_m, r2[name, t] <= u[name, t]*Sr[name]*min(5*get_ramp_limits(g).up, trunc(Int, get_active_power_limits(g).max)) ) #forced to use trunc bcz sometimes Gmax \n",
    "        @constraint(uc_m, r3s[name, t] <= u[name, t]*Tr[name]*min(20*get_ramp_limits(g).up, trunc(Int, get_active_power_limits(g).max)) ) #results can generate float and solver can not\n",
    "        @constraint(uc_m, r3ns[name, t] <= v[name, t]*min(20*get_ramp_limits(g).up, trunc(Int, get_active_power_limits(g).max)) )          # handle <= Type{Float64}\n",
    "        #tertiary reserve related constraint\n",
    "        @constraint(uc_m, v[name, t] <= Tr[name])\n",
    "        @constraint(uc_m, v[name, t] + u[name, t] <= 1)\n",
    "    end\n",
    "    #partial reserve must be equal\n",
    "    for t in time_periods\n",
    "        @constraint(uc_m, sum(r1[name, t] for name in thermal_gen_names) == Reserve.pr)\n",
    "        @constraint(uc_m, sum(r2[name, t] for name in thermal_gen_names) == Reserve.sr - Ɣ2[t])\n",
    "        @constraint(uc_m, sum(r3s[name, t]+r3ns[name, t] for name in thermal_gen_names) == Reserve.tr - Ɣ3[t])\n",
    "    end\n",
    "    ###Load Gen Equality Constr\n",
    "    net_load = zeros(length(time_periods))\n",
    "    println(target_date)\n",
    "    for g in get_components(RenewableGen, system)\n",
    "        net_load -= get_time_series_values(SingleTimeSeries, g, \"Renewable Evolution\", start_time = target_date, len = 47,)\n",
    "    end\n",
    "\n",
    "    net_load += demand[1:end]#only works here because I know the format of the data (first day of month )\n",
    "\n",
    "    for t in time_periods\n",
    "        @constraint(uc_m, sum(pg[g, t] for g in thermal_gen_names) == net_load[t])\n",
    "    end\n",
    "    ###Load Gen Equality Constr\n",
    "    @objective(uc_m, Min, sum(\n",
    "            (pg[get_name(g), t])*(get_fixed(get_operation_cost(g))+get_variable(get_operation_cost(g))[1])+\n",
    "            su[get_name(g), t]*get_start_up(get_operation_cost(g))+\n",
    "            sd[get_name(g), t]*get_shut_down(get_operation_cost(g))+\n",
    "            v[get_name(g), t]*(get_fixed(get_operation_cost(g))+get_variable(get_operation_cost(g))[1])*get_active_power_limits(g).max#remuneration for hot state should be more sophisticated\n",
    "            for g in get_components(ThermalStandard, system), t in time_periods) +\n",
    "            sum( Ɣ2_cost*Ɣ2[t] + Ɣ3_cost*Ɣ3[t] for t in time_periods)\n",
    "        )\n",
    "    #print(thermal_gen_names)\n",
    "    optimize!(uc_m);\n",
    "    status = termination_status(uc_m)\n",
    "    if status != OPTIMAL\n",
    "        return (status = status,)\n",
    "    else\n",
    "    return(pg = value.(pg),\n",
    "            r1 = value.(r1),\n",
    "            r2 = value.(r2),\n",
    "            r3s = value.(r3s),\n",
    "            r3ns = value.(r3ns),\n",
    "            u = value.(u),\n",
    "            su = value.(su),\n",
    "            sd = value.(sd),\n",
    "            v = value.(v),\n",
    "            Ɣ2 = value.(Ɣ2),\n",
    "            Ɣ3 = value.(Ɣ3),\n",
    "            status)\n",
    "    end\n",
    "end    "
   ]
  },
  {
   "cell_type": "code",
   "execution_count": 79,
   "id": "ca48d4db-0110-4f6d-89e1-4ddf5ab6d248",
   "metadata": {},
   "outputs": [
    {
     "name": "stdout",
     "output_type": "stream",
     "text": [
      "Set parameter Username\n",
      "Academic license - for non-commercial use only - expires 2025-02-04\n",
      "Set parameter MIPGap to value 0.01\n",
      "2023-12-01T01:00:00\n",
      "The current gap is : 1.0\n",
      "The current gap is : 1.000007662410878\n",
      "The current gap is : 0.9979836992879082\n",
      "The current gap is : 0.1261143438010096\n",
      "The current gap is : 0.1261143438010096\n",
      "The current gap is : 0.1261143438010096\n",
      "The current gap is : 0.12557456681197204\n",
      "The current gap is : 0.12557456681197204\n",
      "The current gap is : 0.12539791456918464\n",
      "The current gap is : 0.12539791456918464\n",
      "The current gap is : 0.12524088256591429\n",
      "The current gap is : 0.12524088256591429\n",
      "The current gap is : 0.12522599248611296\n",
      "The current gap is : 0.12522599248611296\n",
      "The current gap is : 0.12522594855062874\n",
      "The current gap is : 0.12522594855062874\n",
      "The current gap is : 0.12515393273132552\n",
      "The current gap is : 0.12515393273132552\n",
      "The current gap is : 0.12513002864715242\n",
      "The current gap is : 0.12513002864715242\n",
      "The current gap is : 0.12511374694356794\n",
      "The current gap is : 0.12511374694356794\n",
      "The current gap is : 0.12511308173493074\n",
      "The current gap is : 0.06644245385048966\n",
      "The current gap is : 0.06643685713559937\n",
      "The current gap is : 0.06643685713559937\n",
      "The current gap is : 0.05511411113236308\n",
      "The current gap is : 0.02387486798335341\n",
      "The current gap is : 0.02387486798335341\n",
      "The current gap is : 0.02387486798335341\n",
      "The current gap is : 0.023874608970253435\n",
      "The current gap is : 0.020053639199376028\n",
      "The current gap is : 0.0076599272413124045\n"
     ]
    }
   ],
   "source": [
    "date = DateTime(\"2023-12-01T01:00:00\")\n",
    "using HiGHS\n",
    "result = uc_model(system, date, ValueInitializer(0, 0), Reserve(20, 140, 100), Gurobi.Optimizer);"
   ]
  },
  {
   "cell_type": "code",
   "execution_count": 80,
   "id": "e321512b-2fce-45a3-b7e8-7920172a8ec5",
   "metadata": {},
   "outputs": [
    {
     "name": "stdout",
     "output_type": "stream",
     "text": [
      "done"
     ]
    }
   ],
   "source": [
    "resolution = Dates.Hour(1)\n",
    "dates = range(DateTime(\"2023-12-01T01:00:00\"), step = resolution, DateTime(\"2023-12-2T23:00:00\"))\n",
    "pg_df = DataFrame(datetime = dates)\n",
    "u_df = DataFrame(datetime = dates)\n",
    "v_df = DataFrame(datetime = dates)\n",
    "su_df = DataFrame(datetime = dates)\n",
    "sd_df = DataFrame(datetime = dates)\n",
    "r1_df = DataFrame(datetime = dates)\n",
    "r2_df = DataFrame(datetime = dates)\n",
    "r3s_df = DataFrame(datetime = dates)\n",
    "r3ns_df = DataFrame(datetime = dates)\n",
    "#Ɣ1_df =  DataFrame(datetime = dates, Ɣ1 = result.Ɣ1.data)\n",
    "Ɣ2_df =  DataFrame(datetime = dates, Ɣ2 = result.Ɣ2.data)\n",
    "Ɣ3_df =  DataFrame(datetime = dates, Ɣ3 = result.Ɣ3.data)\n",
    "for ax in axes(result.pg)[1]\n",
    "    pg_df[!, Symbol(ax)] = result.pg[ax, :]\n",
    "    u_df[!, Symbol(ax)] = result.u[ax, :]\n",
    "    v_df[!, Symbol(ax)] = result.v[ax, :]\n",
    "    su_df[!, Symbol(ax)] = result.su[ax, :]\n",
    "    sd_df[!, Symbol(ax)] = result.sd[ax, :]\n",
    "    r1_df[!, Symbol(ax)] = result.r1[ax, :]\n",
    "    r2_df[!, Symbol(ax)] = result.r2[ax, :]\n",
    "    r3s_df[!, Symbol(ax)] = result.r3s[ax, :]\n",
    "    r3ns_df[!, Symbol(ax)] = result.r3ns[ax, :]\n",
    "end\n",
    "#\n",
    "#CSV.write(\"data/output/Power_Generation_RTS.csv\", pg_df)\n",
    "#CSV.write(\"data/output/Commitment_Sequence_RTS.csv\", u_df)\n",
    "#CSV.write(\"data/output/StartUp_Sequence_RTS.csv\", su_df)\n",
    "#CSV.write(\"data/output/Shutdown_Sequence_RTS.csv\", sd_df)\n",
    "#\n",
    "print(\"done\")"
   ]
  },
  {
   "cell_type": "code",
   "execution_count": 81,
   "id": "433a4667-0962-4369-bd94-173bdaa4f6d9",
   "metadata": {},
   "outputs": [
    {
     "data": {
      "text/plain": [
       "true"
      ]
     },
     "execution_count": 81,
     "metadata": {},
     "output_type": "execute_result"
    }
   ],
   "source": [
    "\"Kaleta\" in axes(result.pg)[1]"
   ]
  },
  {
   "cell_type": "markdown",
   "id": "d73d58e0-480f-4e04-8978-07267794feec",
   "metadata": {},
   "source": [
    "### Grouping data for Stackplot"
   ]
  },
  {
   "cell_type": "code",
   "execution_count": 82,
   "id": "123c9340-809d-4043-b714-00be89de1d01",
   "metadata": {},
   "outputs": [],
   "source": [
    "#before using this, be sure to drop the datetime columns first\n",
    "function sum_columns_with_common_prefix(df::DataFrame)\n",
    "    # Initialize an empty DataFrame to store the result\n",
    "    result_df = DataFrame()\n",
    "    \n",
    "    # Track columns that have been summed\n",
    "    summed_cols = Set{Symbol}()\n",
    "    \n",
    "    # Loop over the unique common prefixes in column names\n",
    "    for prefix in unique([split(name, '_')[1] for name in names(df)])\n",
    "        # Select columns with the current prefix\n",
    "        cols_starting_with_prefix = [Symbol(x) for x in names(df) if startswith(x, \"$(prefix)_\")]\n",
    "        if length(cols_starting_with_prefix) == 0\n",
    "            continue\n",
    "        end\n",
    "        cols_to_sum = df[!, cols_starting_with_prefix]\n",
    "        \n",
    "        # Sum along columns and create a new column with the sum\n",
    "        summed_col = sum(eachcol(cols_to_sum))\n",
    "        \n",
    "        # Rename the summed column\n",
    "        new_col_name = Symbol(prefix)\n",
    "        # Append the summed column to the result DataFrame\n",
    "        result_df[!, new_col_name] = summed_col.data\n",
    "        \n",
    "        # Add the summed columns to the tracked set\n",
    "        for col_name in names(cols_to_sum)\n",
    "            push!(summed_cols, Symbol(col_name))\n",
    "        end\n",
    "    end\n",
    "    \n",
    "    # Add columns without the style \"name_\" to the result DataFrame\n",
    "    for col_name in names(df)\n",
    "        if !(Symbol(col_name) in summed_cols)\n",
    "            result_df[!,Symbol(col_name)] = df[!, col_name]\n",
    "        end\n",
    "    end\n",
    "    \n",
    "    return result_df\n",
    "end\n",
    "\n",
    "generation = sum_columns_with_common_prefix(pg_df);\n"
   ]
  },
  {
   "cell_type": "code",
   "execution_count": 83,
   "id": "e9ee600f-7160-4e79-b9ab-849d0107f712",
   "metadata": {},
   "outputs": [
    {
     "data": {
      "text/plain": [
       "DateTime(\"2023-12-01T01:00:00\"):Hour(1):DateTime(\"2023-12-02T23:00:00\")"
      ]
     },
     "execution_count": 83,
     "metadata": {},
     "output_type": "execute_result"
    }
   ],
   "source": [
    "# JE DOIS AJOUTER UN SLACK ET LOCALISER LE SOUCIS\n",
    "solar_df = select(renew_df, Not(:Datetime, :PETN))\n",
    "wind_df = select(renew_df, :PETN)\n",
    "generation.solar = sum(eachcol(solar_df))\n",
    "generation.wind = sum(eachcol(wind_df))\n",
    "generation.hour = dates\n",
    "#generation;"
   ]
  },
  {
   "cell_type": "code",
   "execution_count": 84,
   "id": "0236637c-e2c8-448e-bb16-4a48ec309c6c",
   "metadata": {},
   "outputs": [
    {
     "data": {
      "application/vnd.vega.v5+json": {
       "$schema": "https://vega.github.io/schema/vega/v5.json",
       "axes": [
        {
         "aria": false,
         "domain": false,
         "grid": true,
         "gridScale": "y",
         "labels": false,
         "maxExtent": 0,
         "minExtent": 0,
         "orient": "bottom",
         "scale": "x",
         "tickCount": {
          "signal": "ceil(width/40)"
         },
         "ticks": false,
         "zindex": 0
        },
        {
         "aria": false,
         "domain": false,
         "grid": true,
         "gridScale": "x",
         "labels": false,
         "maxExtent": 0,
         "minExtent": 0,
         "orient": "left",
         "scale": "y",
         "tickCount": {
          "signal": "ceil(height/40)"
         },
         "ticks": false,
         "zindex": 0
        },
        {
         "grid": false,
         "labelFlush": true,
         "labelOverlap": true,
         "orient": "bottom",
         "scale": "x",
         "tickCount": {
          "signal": "ceil(width/40)"
         },
         "title": "hour",
         "zindex": 0
        },
        {
         "grid": false,
         "labelOverlap": true,
         "orient": "left",
         "scale": "y",
         "tickCount": {
          "signal": "ceil(height/40)"
         },
         "title": "value",
         "zindex": 0
        }
       ],
       "background": "white",
       "data": [
        {
         "name": "source_0",
         "values": [
          {
           "datetime": "2023-12-01T01:00:00",
           "hour": "2023-12-01T01:00:00",
           "value": 96.25,
           "variable": "Malicounda"
          },
          {
           "datetime": "2023-12-01T02:00:00",
           "hour": "2023-12-01T02:00:00",
           "value": 96.25,
           "variable": "Malicounda"
          },
          {
           "datetime": "2023-12-01T03:00:00",
           "hour": "2023-12-01T03:00:00",
           "value": 96.25,
           "variable": "Malicounda"
          },
          {
           "datetime": "2023-12-01T04:00:00",
           "hour": "2023-12-01T04:00:00",
           "value": 96.25,
           "variable": "Malicounda"
          },
          {
           "datetime": "2023-12-01T05:00:00",
           "hour": "2023-12-01T05:00:00",
           "value": 96.25,
           "variable": "Malicounda"
          },
          {
           "datetime": "2023-12-01T06:00:00",
           "hour": "2023-12-01T06:00:00",
           "value": 96.25,
           "variable": "Malicounda"
          },
          {
           "datetime": "2023-12-01T07:00:00",
           "hour": "2023-12-01T07:00:00",
           "value": 96.25,
           "variable": "Malicounda"
          },
          {
           "datetime": "2023-12-01T08:00:00",
           "hour": "2023-12-01T08:00:00",
           "value": 102.91000000000011,
           "variable": "Malicounda"
          },
          {
           "datetime": "2023-12-01T09:00:00",
           "hour": "2023-12-01T09:00:00",
           "value": 96.25,
           "variable": "Malicounda"
          },
          {
           "datetime": "2023-12-01T10:00:00",
           "hour": "2023-12-01T10:00:00",
           "value": 96.25,
           "variable": "Malicounda"
          },
          {
           "datetime": "2023-12-01T11:00:00",
           "hour": "2023-12-01T11:00:00",
           "value": 96.25,
           "variable": "Malicounda"
          },
          {
           "datetime": "2023-12-01T12:00:00",
           "hour": "2023-12-01T12:00:00",
           "value": 96.25,
           "variable": "Malicounda"
          },
          {
           "datetime": "2023-12-01T13:00:00",
           "hour": "2023-12-01T13:00:00",
           "value": 96.25,
           "variable": "Malicounda"
          },
          {
           "datetime": "2023-12-01T14:00:00",
           "hour": "2023-12-01T14:00:00",
           "value": 96.25,
           "variable": "Malicounda"
          },
          {
           "datetime": "2023-12-01T15:00:00",
           "hour": "2023-12-01T15:00:00",
           "value": 96.25,
           "variable": "Malicounda"
          },
          {
           "datetime": "2023-12-01T16:00:00",
           "hour": "2023-12-01T16:00:00",
           "value": 96.25,
           "variable": "Malicounda"
          },
          {
           "datetime": "2023-12-01T17:00:00",
           "hour": "2023-12-01T17:00:00",
           "value": 96.25,
           "variable": "Malicounda"
          },
          {
           "datetime": "2023-12-01T18:00:00",
           "hour": "2023-12-01T18:00:00",
           "value": 96.25,
           "variable": "Malicounda"
          },
          {
           "datetime": "2023-12-01T19:00:00",
           "hour": "2023-12-01T19:00:00",
           "value": 96.25,
           "variable": "Malicounda"
          },
          {
           "datetime": "2023-12-01T20:00:00",
           "hour": "2023-12-01T20:00:00",
           "value": 96.25,
           "variable": "Malicounda"
          },
          {
           "datetime": "2023-12-01T21:00:00",
           "hour": "2023-12-01T21:00:00",
           "value": 96.25,
           "variable": "Malicounda"
          },
          {
           "datetime": "2023-12-01T22:00:00",
           "hour": "2023-12-01T22:00:00",
           "value": 96.25,
           "variable": "Malicounda"
          },
          {
           "datetime": "2023-12-01T23:00:00",
           "hour": "2023-12-01T23:00:00",
           "value": 96.25,
           "variable": "Malicounda"
          },
          {
           "datetime": "2023-12-02T00:00:00",
           "hour": "2023-12-02T00:00:00",
           "value": 96.25,
           "variable": "Malicounda"
          },
          {
           "datetime": "2023-12-02T01:00:00",
           "hour": "2023-12-02T01:00:00",
           "value": 96.25,
           "variable": "Malicounda"
          },
          {
           "datetime": "2023-12-02T02:00:00",
           "hour": "2023-12-02T02:00:00",
           "value": 96.25,
           "variable": "Malicounda"
          },
          {
           "datetime": "2023-12-02T03:00:00",
           "hour": "2023-12-02T03:00:00",
           "value": 96.25,
           "variable": "Malicounda"
          },
          {
           "datetime": "2023-12-02T04:00:00",
           "hour": "2023-12-02T04:00:00",
           "value": 96.25,
           "variable": "Malicounda"
          },
          {
           "datetime": "2023-12-02T05:00:00",
           "hour": "2023-12-02T05:00:00",
           "value": 96.25,
           "variable": "Malicounda"
          },
          {
           "datetime": "2023-12-02T06:00:00",
           "hour": "2023-12-02T06:00:00",
           "value": 96.25,
           "variable": "Malicounda"
          },
          {
           "datetime": "2023-12-02T07:00:00",
           "hour": "2023-12-02T07:00:00",
           "value": 96.25,
           "variable": "Malicounda"
          },
          {
           "datetime": "2023-12-02T08:00:00",
           "hour": "2023-12-02T08:00:00",
           "value": 96.25,
           "variable": "Malicounda"
          },
          {
           "datetime": "2023-12-02T09:00:00",
           "hour": "2023-12-02T09:00:00",
           "value": 96.25,
           "variable": "Malicounda"
          },
          {
           "datetime": "2023-12-02T10:00:00",
           "hour": "2023-12-02T10:00:00",
           "value": 96.25,
           "variable": "Malicounda"
          },
          {
           "datetime": "2023-12-02T11:00:00",
           "hour": "2023-12-02T11:00:00",
           "value": 96.25,
           "variable": "Malicounda"
          },
          {
           "datetime": "2023-12-02T12:00:00",
           "hour": "2023-12-02T12:00:00",
           "value": 68.75,
           "variable": "Malicounda"
          },
          {
           "datetime": "2023-12-02T13:00:00",
           "hour": "2023-12-02T13:00:00",
           "value": 96.25,
           "variable": "Malicounda"
          },
          {
           "datetime": "2023-12-02T14:00:00",
           "hour": "2023-12-02T14:00:00",
           "value": 96.25,
           "variable": "Malicounda"
          },
          {
           "datetime": "2023-12-02T15:00:00",
           "hour": "2023-12-02T15:00:00",
           "value": 96.25,
           "variable": "Malicounda"
          },
          {
           "datetime": "2023-12-02T16:00:00",
           "hour": "2023-12-02T16:00:00",
           "value": 96.25,
           "variable": "Malicounda"
          },
          {
           "datetime": "2023-12-02T17:00:00",
           "hour": "2023-12-02T17:00:00",
           "value": 96.25,
           "variable": "Malicounda"
          },
          {
           "datetime": "2023-12-02T18:00:00",
           "hour": "2023-12-02T18:00:00",
           "value": 96.25,
           "variable": "Malicounda"
          },
          {
           "datetime": "2023-12-02T19:00:00",
           "hour": "2023-12-02T19:00:00",
           "value": 96.25,
           "variable": "Malicounda"
          },
          {
           "datetime": "2023-12-02T20:00:00",
           "hour": "2023-12-02T20:00:00",
           "value": 96.25,
           "variable": "Malicounda"
          },
          {
           "datetime": "2023-12-02T21:00:00",
           "hour": "2023-12-02T21:00:00",
           "value": 96.25,
           "variable": "Malicounda"
          },
          {
           "datetime": "2023-12-02T22:00:00",
           "hour": "2023-12-02T22:00:00",
           "value": 96.25,
           "variable": "Malicounda"
          },
          {
           "datetime": "2023-12-02T23:00:00",
           "hour": "2023-12-02T23:00:00",
           "value": 96.25,
           "variable": "Malicounda"
          },
          {
           "datetime": "2023-12-01T01:00:00",
           "hour": "2023-12-01T01:00:00",
           "value": 0,
           "variable": "C3"
          },
          {
           "datetime": "2023-12-01T02:00:00",
           "hour": "2023-12-01T02:00:00",
           "value": 0,
           "variable": "C3"
          },
          {
           "datetime": "2023-12-01T03:00:00",
           "hour": "2023-12-01T03:00:00",
           "value": 0,
           "variable": "C3"
          },
          {
           "datetime": "2023-12-01T04:00:00",
           "hour": "2023-12-01T04:00:00",
           "value": 0,
           "variable": "C3"
          },
          {
           "datetime": "2023-12-01T05:00:00",
           "hour": "2023-12-01T05:00:00",
           "value": 0,
           "variable": "C3"
          },
          {
           "datetime": "2023-12-01T06:00:00",
           "hour": "2023-12-01T06:00:00",
           "value": 0,
           "variable": "C3"
          },
          {
           "datetime": "2023-12-01T07:00:00",
           "hour": "2023-12-01T07:00:00",
           "value": 0,
           "variable": "C3"
          },
          {
           "datetime": "2023-12-01T08:00:00",
           "hour": "2023-12-01T08:00:00",
           "value": 0,
           "variable": "C3"
          },
          {
           "datetime": "2023-12-01T09:00:00",
           "hour": "2023-12-01T09:00:00",
           "value": 0,
           "variable": "C3"
          },
          {
           "datetime": "2023-12-01T10:00:00",
           "hour": "2023-12-01T10:00:00",
           "value": 0,
           "variable": "C3"
          },
          {
           "datetime": "2023-12-01T11:00:00",
           "hour": "2023-12-01T11:00:00",
           "value": 0,
           "variable": "C3"
          },
          {
           "datetime": "2023-12-01T12:00:00",
           "hour": "2023-12-01T12:00:00",
           "value": 0,
           "variable": "C3"
          },
          {
           "datetime": "2023-12-01T13:00:00",
           "hour": "2023-12-01T13:00:00",
           "value": 0,
           "variable": "C3"
          },
          {
           "datetime": "2023-12-01T14:00:00",
           "hour": "2023-12-01T14:00:00",
           "value": 0,
           "variable": "C3"
          },
          {
           "datetime": "2023-12-01T15:00:00",
           "hour": "2023-12-01T15:00:00",
           "value": 0,
           "variable": "C3"
          },
          {
           "datetime": "2023-12-01T16:00:00",
           "hour": "2023-12-01T16:00:00",
           "value": 0,
           "variable": "C3"
          },
          {
           "datetime": "2023-12-01T17:00:00",
           "hour": "2023-12-01T17:00:00",
           "value": 0,
           "variable": "C3"
          },
          {
           "datetime": "2023-12-01T18:00:00",
           "hour": "2023-12-01T18:00:00",
           "value": 0,
           "variable": "C3"
          },
          {
           "datetime": "2023-12-01T19:00:00",
           "hour": "2023-12-01T19:00:00",
           "value": 0,
           "variable": "C3"
          },
          {
           "datetime": "2023-12-01T20:00:00",
           "hour": "2023-12-01T20:00:00",
           "value": 0,
           "variable": "C3"
          },
          {
           "datetime": "2023-12-01T21:00:00",
           "hour": "2023-12-01T21:00:00",
           "value": 0,
           "variable": "C3"
          },
          {
           "datetime": "2023-12-01T22:00:00",
           "hour": "2023-12-01T22:00:00",
           "value": 0,
           "variable": "C3"
          },
          {
           "datetime": "2023-12-01T23:00:00",
           "hour": "2023-12-01T23:00:00",
           "value": 0,
           "variable": "C3"
          },
          {
           "datetime": "2023-12-02T00:00:00",
           "hour": "2023-12-02T00:00:00",
           "value": 0,
           "variable": "C3"
          },
          {
           "datetime": "2023-12-02T01:00:00",
           "hour": "2023-12-02T01:00:00",
           "value": 0,
           "variable": "C3"
          },
          {
           "datetime": "2023-12-02T02:00:00",
           "hour": "2023-12-02T02:00:00",
           "value": 0,
           "variable": "C3"
          },
          {
           "datetime": "2023-12-02T03:00:00",
           "hour": "2023-12-02T03:00:00",
           "value": 0,
           "variable": "C3"
          },
          {
           "datetime": "2023-12-02T04:00:00",
           "hour": "2023-12-02T04:00:00",
           "value": 0,
           "variable": "C3"
          },
          {
           "datetime": "2023-12-02T05:00:00",
           "hour": "2023-12-02T05:00:00",
           "value": 0,
           "variable": "C3"
          },
          {
           "datetime": "2023-12-02T06:00:00",
           "hour": "2023-12-02T06:00:00",
           "value": 0,
           "variable": "C3"
          },
          {
           "datetime": "2023-12-02T07:00:00",
           "hour": "2023-12-02T07:00:00",
           "value": 0,
           "variable": "C3"
          },
          {
           "datetime": "2023-12-02T08:00:00",
           "hour": "2023-12-02T08:00:00",
           "value": 0,
           "variable": "C3"
          },
          {
           "datetime": "2023-12-02T09:00:00",
           "hour": "2023-12-02T09:00:00",
           "value": 0,
           "variable": "C3"
          },
          {
           "datetime": "2023-12-02T10:00:00",
           "hour": "2023-12-02T10:00:00",
           "value": 0,
           "variable": "C3"
          },
          {
           "datetime": "2023-12-02T11:00:00",
           "hour": "2023-12-02T11:00:00",
           "value": 0,
           "variable": "C3"
          },
          {
           "datetime": "2023-12-02T12:00:00",
           "hour": "2023-12-02T12:00:00",
           "value": 0,
           "variable": "C3"
          },
          {
           "datetime": "2023-12-02T13:00:00",
           "hour": "2023-12-02T13:00:00",
           "value": 0,
           "variable": "C3"
          },
          {
           "datetime": "2023-12-02T14:00:00",
           "hour": "2023-12-02T14:00:00",
           "value": 0,
           "variable": "C3"
          },
          {
           "datetime": "2023-12-02T15:00:00",
           "hour": "2023-12-02T15:00:00",
           "value": 0,
           "variable": "C3"
          },
          {
           "datetime": "2023-12-02T16:00:00",
           "hour": "2023-12-02T16:00:00",
           "value": 0,
           "variable": "C3"
          },
          {
           "datetime": "2023-12-02T17:00:00",
           "hour": "2023-12-02T17:00:00",
           "value": 0,
           "variable": "C3"
          },
          {
           "datetime": "2023-12-02T18:00:00",
           "hour": "2023-12-02T18:00:00",
           "value": 0,
           "variable": "C3"
          },
          {
           "datetime": "2023-12-02T19:00:00",
           "hour": "2023-12-02T19:00:00",
           "value": 0,
           "variable": "C3"
          },
          {
           "datetime": "2023-12-02T20:00:00",
           "hour": "2023-12-02T20:00:00",
           "value": 0,
           "variable": "C3"
          },
          {
           "datetime": "2023-12-02T21:00:00",
           "hour": "2023-12-02T21:00:00",
           "value": 0,
           "variable": "C3"
          },
          {
           "datetime": "2023-12-02T22:00:00",
           "hour": "2023-12-02T22:00:00",
           "value": 0,
           "variable": "C3"
          },
          {
           "datetime": "2023-12-02T23:00:00",
           "hour": "2023-12-02T23:00:00",
           "value": 0,
           "variable": "C3"
          },
          {
           "datetime": "2023-12-01T01:00:00",
           "hour": "2023-12-01T01:00:00",
           "value": 48,
           "variable": "IPP Tobene Power"
          },
          {
           "datetime": "2023-12-01T02:00:00",
           "hour": "2023-12-01T02:00:00",
           "value": 36,
           "variable": "IPP Tobene Power"
          },
          {
           "datetime": "2023-12-01T03:00:00",
           "hour": "2023-12-01T03:00:00",
           "value": 36,
           "variable": "IPP Tobene Power"
          },
          {
           "datetime": "2023-12-01T04:00:00",
           "hour": "2023-12-01T04:00:00",
           "value": 48,
           "variable": "IPP Tobene Power"
          },
          {
           "datetime": "2023-12-01T05:00:00",
           "hour": "2023-12-01T05:00:00",
           "value": 60,
           "variable": "IPP Tobene Power"
          },
          {
           "datetime": "2023-12-01T06:00:00",
           "hour": "2023-12-01T06:00:00",
           "value": 72,
           "variable": "IPP Tobene Power"
          },
          {
           "datetime": "2023-12-01T07:00:00",
           "hour": "2023-12-01T07:00:00",
           "value": 36,
           "variable": "IPP Tobene Power"
          },
          {
           "datetime": "2023-12-01T08:00:00",
           "hour": "2023-12-01T08:00:00",
           "value": 72,
           "variable": "IPP Tobene Power"
          },
          {
           "datetime": "2023-12-01T09:00:00",
           "hour": "2023-12-01T09:00:00",
           "value": 72,
           "variable": "IPP Tobene Power"
          },
          {
           "datetime": "2023-12-01T10:00:00",
           "hour": "2023-12-01T10:00:00",
           "value": 72,
           "variable": "IPP Tobene Power"
          },
          {
           "datetime": "2023-12-01T11:00:00",
           "hour": "2023-12-01T11:00:00",
           "value": 60,
           "variable": "IPP Tobene Power"
          },
          {
           "datetime": "2023-12-01T12:00:00",
           "hour": "2023-12-01T12:00:00",
           "value": 24,
           "variable": "IPP Tobene Power"
          },
          {
           "datetime": "2023-12-01T13:00:00",
           "hour": "2023-12-01T13:00:00",
           "value": 36,
           "variable": "IPP Tobene Power"
          },
          {
           "datetime": "2023-12-01T14:00:00",
           "hour": "2023-12-01T14:00:00",
           "value": 24,
           "variable": "IPP Tobene Power"
          },
          {
           "datetime": "2023-12-01T15:00:00",
           "hour": "2023-12-01T15:00:00",
           "value": 36,
           "variable": "IPP Tobene Power"
          },
          {
           "datetime": "2023-12-01T16:00:00",
           "hour": "2023-12-01T16:00:00",
           "value": 72,
           "variable": "IPP Tobene Power"
          },
          {
           "datetime": "2023-12-01T17:00:00",
           "hour": "2023-12-01T17:00:00",
           "value": 72,
           "variable": "IPP Tobene Power"
          },
          {
           "datetime": "2023-12-01T18:00:00",
           "hour": "2023-12-01T18:00:00",
           "value": 72,
           "variable": "IPP Tobene Power"
          },
          {
           "datetime": "2023-12-01T19:00:00",
           "hour": "2023-12-01T19:00:00",
           "value": 36,
           "variable": "IPP Tobene Power"
          },
          {
           "datetime": "2023-12-01T20:00:00",
           "hour": "2023-12-01T20:00:00",
           "value": 38,
           "variable": "IPP Tobene Power"
          },
          {
           "datetime": "2023-12-01T21:00:00",
           "hour": "2023-12-01T21:00:00",
           "value": 36,
           "variable": "IPP Tobene Power"
          },
          {
           "datetime": "2023-12-01T22:00:00",
           "hour": "2023-12-01T22:00:00",
           "value": 36,
           "variable": "IPP Tobene Power"
          },
          {
           "datetime": "2023-12-01T23:00:00",
           "hour": "2023-12-01T23:00:00",
           "value": 36,
           "variable": "IPP Tobene Power"
          },
          {
           "datetime": "2023-12-02T00:00:00",
           "hour": "2023-12-02T00:00:00",
           "value": 36,
           "variable": "IPP Tobene Power"
          },
          {
           "datetime": "2023-12-02T01:00:00",
           "hour": "2023-12-02T01:00:00",
           "value": 48,
           "variable": "IPP Tobene Power"
          },
          {
           "datetime": "2023-12-02T02:00:00",
           "hour": "2023-12-02T02:00:00",
           "value": 72,
           "variable": "IPP Tobene Power"
          },
          {
           "datetime": "2023-12-02T03:00:00",
           "hour": "2023-12-02T03:00:00",
           "value": 72,
           "variable": "IPP Tobene Power"
          },
          {
           "datetime": "2023-12-02T04:00:00",
           "hour": "2023-12-02T04:00:00",
           "value": 72,
           "variable": "IPP Tobene Power"
          },
          {
           "datetime": "2023-12-02T05:00:00",
           "hour": "2023-12-02T05:00:00",
           "value": 72,
           "variable": "IPP Tobene Power"
          },
          {
           "datetime": "2023-12-02T06:00:00",
           "hour": "2023-12-02T06:00:00",
           "value": 72,
           "variable": "IPP Tobene Power"
          },
          {
           "datetime": "2023-12-02T07:00:00",
           "hour": "2023-12-02T07:00:00",
           "value": 60,
           "variable": "IPP Tobene Power"
          },
          {
           "datetime": "2023-12-02T08:00:00",
           "hour": "2023-12-02T08:00:00",
           "value": 24,
           "variable": "IPP Tobene Power"
          },
          {
           "datetime": "2023-12-02T09:00:00",
           "hour": "2023-12-02T09:00:00",
           "value": 12,
           "variable": "IPP Tobene Power"
          },
          {
           "datetime": "2023-12-02T10:00:00",
           "hour": "2023-12-02T10:00:00",
           "value": 36,
           "variable": "IPP Tobene Power"
          },
          {
           "datetime": "2023-12-02T11:00:00",
           "hour": "2023-12-02T11:00:00",
           "value": 12,
           "variable": "IPP Tobene Power"
          },
          {
           "datetime": "2023-12-02T12:00:00",
           "hour": "2023-12-02T12:00:00",
           "value": 0,
           "variable": "IPP Tobene Power"
          },
          {
           "datetime": "2023-12-02T13:00:00",
           "hour": "2023-12-02T13:00:00",
           "value": 12,
           "variable": "IPP Tobene Power"
          },
          {
           "datetime": "2023-12-02T14:00:00",
           "hour": "2023-12-02T14:00:00",
           "value": 12,
           "variable": "IPP Tobene Power"
          },
          {
           "datetime": "2023-12-02T15:00:00",
           "hour": "2023-12-02T15:00:00",
           "value": 24,
           "variable": "IPP Tobene Power"
          },
          {
           "datetime": "2023-12-02T16:00:00",
           "hour": "2023-12-02T16:00:00",
           "value": 48,
           "variable": "IPP Tobene Power"
          },
          {
           "datetime": "2023-12-02T17:00:00",
           "hour": "2023-12-02T17:00:00",
           "value": 72,
           "variable": "IPP Tobene Power"
          },
          {
           "datetime": "2023-12-02T18:00:00",
           "hour": "2023-12-02T18:00:00",
           "value": 72,
           "variable": "IPP Tobene Power"
          },
          {
           "datetime": "2023-12-02T19:00:00",
           "hour": "2023-12-02T19:00:00",
           "value": 48,
           "variable": "IPP Tobene Power"
          },
          {
           "datetime": "2023-12-02T20:00:00",
           "hour": "2023-12-02T20:00:00",
           "value": 36,
           "variable": "IPP Tobene Power"
          },
          {
           "datetime": "2023-12-02T21:00:00",
           "hour": "2023-12-02T21:00:00",
           "value": 48,
           "variable": "IPP Tobene Power"
          },
          {
           "datetime": "2023-12-02T22:00:00",
           "hour": "2023-12-02T22:00:00",
           "value": 36,
           "variable": "IPP Tobene Power"
          },
          {
           "datetime": "2023-12-02T23:00:00",
           "hour": "2023-12-02T23:00:00",
           "value": 36,
           "variable": "IPP Tobene Power"
          },
          {
           "datetime": "2023-12-01T01:00:00",
           "hour": "2023-12-01T01:00:00",
           "value": 0,
           "variable": "Kahone C1"
          },
          {
           "datetime": "2023-12-01T02:00:00",
           "hour": "2023-12-01T02:00:00",
           "value": 0,
           "variable": "Kahone C1"
          },
          {
           "datetime": "2023-12-01T03:00:00",
           "hour": "2023-12-01T03:00:00",
           "value": 0,
           "variable": "Kahone C1"
          },
          {
           "datetime": "2023-12-01T04:00:00",
           "hour": "2023-12-01T04:00:00",
           "value": 0,
           "variable": "Kahone C1"
          },
          {
           "datetime": "2023-12-01T05:00:00",
           "hour": "2023-12-01T05:00:00",
           "value": 0,
           "variable": "Kahone C1"
          },
          {
           "datetime": "2023-12-01T06:00:00",
           "hour": "2023-12-01T06:00:00",
           "value": 2,
           "variable": "Kahone C1"
          },
          {
           "datetime": "2023-12-01T07:00:00",
           "hour": "2023-12-01T07:00:00",
           "value": 0,
           "variable": "Kahone C1"
          },
          {
           "datetime": "2023-12-01T08:00:00",
           "hour": "2023-12-01T08:00:00",
           "value": 0,
           "variable": "Kahone C1"
          },
          {
           "datetime": "2023-12-01T09:00:00",
           "hour": "2023-12-01T09:00:00",
           "value": 2,
           "variable": "Kahone C1"
          },
          {
           "datetime": "2023-12-01T10:00:00",
           "hour": "2023-12-01T10:00:00",
           "value": 0,
           "variable": "Kahone C1"
          },
          {
           "datetime": "2023-12-01T11:00:00",
           "hour": "2023-12-01T11:00:00",
           "value": 0,
           "variable": "Kahone C1"
          },
          {
           "datetime": "2023-12-01T12:00:00",
           "hour": "2023-12-01T12:00:00",
           "value": 2,
           "variable": "Kahone C1"
          },
          {
           "datetime": "2023-12-01T13:00:00",
           "hour": "2023-12-01T13:00:00",
           "value": 0,
           "variable": "Kahone C1"
          },
          {
           "datetime": "2023-12-01T14:00:00",
           "hour": "2023-12-01T14:00:00",
           "value": 2,
           "variable": "Kahone C1"
          },
          {
           "datetime": "2023-12-01T15:00:00",
           "hour": "2023-12-01T15:00:00",
           "value": 0,
           "variable": "Kahone C1"
          },
          {
           "datetime": "2023-12-01T16:00:00",
           "hour": "2023-12-01T16:00:00",
           "value": 0,
           "variable": "Kahone C1"
          },
          {
           "datetime": "2023-12-01T17:00:00",
           "hour": "2023-12-01T17:00:00",
           "value": 0,
           "variable": "Kahone C1"
          },
          {
           "datetime": "2023-12-01T18:00:00",
           "hour": "2023-12-01T18:00:00",
           "value": 0,
           "variable": "Kahone C1"
          },
          {
           "datetime": "2023-12-01T19:00:00",
           "hour": "2023-12-01T19:00:00",
           "value": 0,
           "variable": "Kahone C1"
          },
          {
           "datetime": "2023-12-01T20:00:00",
           "hour": "2023-12-01T20:00:00",
           "value": 0,
           "variable": "Kahone C1"
          },
          {
           "datetime": "2023-12-01T21:00:00",
           "hour": "2023-12-01T21:00:00",
           "value": 0,
           "variable": "Kahone C1"
          },
          {
           "datetime": "2023-12-01T22:00:00",
           "hour": "2023-12-01T22:00:00",
           "value": 0,
           "variable": "Kahone C1"
          },
          {
           "datetime": "2023-12-01T23:00:00",
           "hour": "2023-12-01T23:00:00",
           "value": 0,
           "variable": "Kahone C1"
          },
          {
           "datetime": "2023-12-02T00:00:00",
           "hour": "2023-12-02T00:00:00",
           "value": 0,
           "variable": "Kahone C1"
          },
          {
           "datetime": "2023-12-02T01:00:00",
           "hour": "2023-12-02T01:00:00",
           "value": 0,
           "variable": "Kahone C1"
          },
          {
           "datetime": "2023-12-02T02:00:00",
           "hour": "2023-12-02T02:00:00",
           "value": 0,
           "variable": "Kahone C1"
          },
          {
           "datetime": "2023-12-02T03:00:00",
           "hour": "2023-12-02T03:00:00",
           "value": 0,
           "variable": "Kahone C1"
          },
          {
           "datetime": "2023-12-02T04:00:00",
           "hour": "2023-12-02T04:00:00",
           "value": 0,
           "variable": "Kahone C1"
          },
          {
           "datetime": "2023-12-02T05:00:00",
           "hour": "2023-12-02T05:00:00",
           "value": 0,
           "variable": "Kahone C1"
          },
          {
           "datetime": "2023-12-02T06:00:00",
           "hour": "2023-12-02T06:00:00",
           "value": 0,
           "variable": "Kahone C1"
          },
          {
           "datetime": "2023-12-02T07:00:00",
           "hour": "2023-12-02T07:00:00",
           "value": 0,
           "variable": "Kahone C1"
          },
          {
           "datetime": "2023-12-02T08:00:00",
           "hour": "2023-12-02T08:00:00",
           "value": 0,
           "variable": "Kahone C1"
          },
          {
           "datetime": "2023-12-02T09:00:00",
           "hour": "2023-12-02T09:00:00",
           "value": 0,
           "variable": "Kahone C1"
          },
          {
           "datetime": "2023-12-02T10:00:00",
           "hour": "2023-12-02T10:00:00",
           "value": 0,
           "variable": "Kahone C1"
          },
          {
           "datetime": "2023-12-02T11:00:00",
           "hour": "2023-12-02T11:00:00",
           "value": 2,
           "variable": "Kahone C1"
          },
          {
           "datetime": "2023-12-02T12:00:00",
           "hour": "2023-12-02T12:00:00",
           "value": 0,
           "variable": "Kahone C1"
          },
          {
           "datetime": "2023-12-02T13:00:00",
           "hour": "2023-12-02T13:00:00",
           "value": 0,
           "variable": "Kahone C1"
          },
          {
           "datetime": "2023-12-02T14:00:00",
           "hour": "2023-12-02T14:00:00",
           "value": 0,
           "variable": "Kahone C1"
          },
          {
           "datetime": "2023-12-02T15:00:00",
           "hour": "2023-12-02T15:00:00",
           "value": 0,
           "variable": "Kahone C1"
          },
          {
           "datetime": "2023-12-02T16:00:00",
           "hour": "2023-12-02T16:00:00",
           "value": 0,
           "variable": "Kahone C1"
          },
          {
           "datetime": "2023-12-02T17:00:00",
           "hour": "2023-12-02T17:00:00",
           "value": 0,
           "variable": "Kahone C1"
          },
          {
           "datetime": "2023-12-02T18:00:00",
           "hour": "2023-12-02T18:00:00",
           "value": 0,
           "variable": "Kahone C1"
          },
          {
           "datetime": "2023-12-02T19:00:00",
           "hour": "2023-12-02T19:00:00",
           "value": 0,
           "variable": "Kahone C1"
          },
          {
           "datetime": "2023-12-02T20:00:00",
           "hour": "2023-12-02T20:00:00",
           "value": 0,
           "variable": "Kahone C1"
          },
          {
           "datetime": "2023-12-02T21:00:00",
           "hour": "2023-12-02T21:00:00",
           "value": 0,
           "variable": "Kahone C1"
          },
          {
           "datetime": "2023-12-02T22:00:00",
           "hour": "2023-12-02T22:00:00",
           "value": 0,
           "variable": "Kahone C1"
          },
          {
           "datetime": "2023-12-02T23:00:00",
           "hour": "2023-12-02T23:00:00",
           "value": 0,
           "variable": "Kahone C1"
          },
          {
           "datetime": "2023-12-01T01:00:00",
           "hour": "2023-12-01T01:00:00",
           "value": 81,
           "variable": "Cap des Biches C4"
          },
          {
           "datetime": "2023-12-01T02:00:00",
           "hour": "2023-12-01T02:00:00",
           "value": 81,
           "variable": "Cap des Biches C4"
          },
          {
           "datetime": "2023-12-01T03:00:00",
           "hour": "2023-12-01T03:00:00",
           "value": 81,
           "variable": "Cap des Biches C4"
          },
          {
           "datetime": "2023-12-01T04:00:00",
           "hour": "2023-12-01T04:00:00",
           "value": 77,
           "variable": "Cap des Biches C4"
          },
          {
           "datetime": "2023-12-01T05:00:00",
           "hour": "2023-12-01T05:00:00",
           "value": 77,
           "variable": "Cap des Biches C4"
          },
          {
           "datetime": "2023-12-01T06:00:00",
           "hour": "2023-12-01T06:00:00",
           "value": 81,
           "variable": "Cap des Biches C4"
          },
          {
           "datetime": "2023-12-01T07:00:00",
           "hour": "2023-12-01T07:00:00",
           "value": 77.32002754914599,
           "variable": "Cap des Biches C4"
          },
          {
           "datetime": "2023-12-01T08:00:00",
           "hour": "2023-12-01T08:00:00",
           "value": 78.5,
           "variable": "Cap des Biches C4"
          },
          {
           "datetime": "2023-12-01T09:00:00",
           "hour": "2023-12-01T09:00:00",
           "value": 77,
           "variable": "Cap des Biches C4"
          },
          {
           "datetime": "2023-12-01T10:00:00",
           "hour": "2023-12-01T10:00:00",
           "value": 77,
           "variable": "Cap des Biches C4"
          },
          {
           "datetime": "2023-12-01T11:00:00",
           "hour": "2023-12-01T11:00:00",
           "value": 77,
           "variable": "Cap des Biches C4"
          },
          {
           "datetime": "2023-12-01T12:00:00",
           "hour": "2023-12-01T12:00:00",
           "value": 60,
           "variable": "Cap des Biches C4"
          },
          {
           "datetime": "2023-12-01T13:00:00",
           "hour": "2023-12-01T13:00:00",
           "value": 60,
           "variable": "Cap des Biches C4"
          },
          {
           "datetime": "2023-12-01T14:00:00",
           "hour": "2023-12-01T14:00:00",
           "value": 77,
           "variable": "Cap des Biches C4"
          },
          {
           "datetime": "2023-12-01T15:00:00",
           "hour": "2023-12-01T15:00:00",
           "value": 77,
           "variable": "Cap des Biches C4"
          },
          {
           "datetime": "2023-12-01T16:00:00",
           "hour": "2023-12-01T16:00:00",
           "value": 77,
           "variable": "Cap des Biches C4"
          },
          {
           "datetime": "2023-12-01T17:00:00",
           "hour": "2023-12-01T17:00:00",
           "value": 77,
           "variable": "Cap des Biches C4"
          },
          {
           "datetime": "2023-12-01T18:00:00",
           "hour": "2023-12-01T18:00:00",
           "value": 77,
           "variable": "Cap des Biches C4"
          },
          {
           "datetime": "2023-12-01T19:00:00",
           "hour": "2023-12-01T19:00:00",
           "value": 77,
           "variable": "Cap des Biches C4"
          },
          {
           "datetime": "2023-12-01T20:00:00",
           "hour": "2023-12-01T20:00:00",
           "value": 79.648867996845,
           "variable": "Cap des Biches C4"
          },
          {
           "datetime": "2023-12-01T21:00:00",
           "hour": "2023-12-01T21:00:00",
           "value": 81,
           "variable": "Cap des Biches C4"
          },
          {
           "datetime": "2023-12-01T22:00:00",
           "hour": "2023-12-01T22:00:00",
           "value": 81,
           "variable": "Cap des Biches C4"
          },
          {
           "datetime": "2023-12-01T23:00:00",
           "hour": "2023-12-01T23:00:00",
           "value": 81,
           "variable": "Cap des Biches C4"
          },
          {
           "datetime": "2023-12-02T00:00:00",
           "hour": "2023-12-02T00:00:00",
           "value": 78.0332989690719,
           "variable": "Cap des Biches C4"
          },
          {
           "datetime": "2023-12-02T01:00:00",
           "hour": "2023-12-02T01:00:00",
           "value": 77,
           "variable": "Cap des Biches C4"
          },
          {
           "datetime": "2023-12-02T02:00:00",
           "hour": "2023-12-02T02:00:00",
           "value": 77,
           "variable": "Cap des Biches C4"
          },
          {
           "datetime": "2023-12-02T03:00:00",
           "hour": "2023-12-02T03:00:00",
           "value": 77,
           "variable": "Cap des Biches C4"
          },
          {
           "datetime": "2023-12-02T04:00:00",
           "hour": "2023-12-02T04:00:00",
           "value": 77,
           "variable": "Cap des Biches C4"
          },
          {
           "datetime": "2023-12-02T05:00:00",
           "hour": "2023-12-02T05:00:00",
           "value": 60,
           "variable": "Cap des Biches C4"
          },
          {
           "datetime": "2023-12-02T06:00:00",
           "hour": "2023-12-02T06:00:00",
           "value": 77,
           "variable": "Cap des Biches C4"
          },
          {
           "datetime": "2023-12-02T07:00:00",
           "hour": "2023-12-02T07:00:00",
           "value": 77,
           "variable": "Cap des Biches C4"
          },
          {
           "datetime": "2023-12-02T08:00:00",
           "hour": "2023-12-02T08:00:00",
           "value": 77,
           "variable": "Cap des Biches C4"
          },
          {
           "datetime": "2023-12-02T09:00:00",
           "hour": "2023-12-02T09:00:00",
           "value": 77,
           "variable": "Cap des Biches C4"
          },
          {
           "datetime": "2023-12-02T10:00:00",
           "hour": "2023-12-02T10:00:00",
           "value": 77,
           "variable": "Cap des Biches C4"
          },
          {
           "datetime": "2023-12-02T11:00:00",
           "hour": "2023-12-02T11:00:00",
           "value": 77,
           "variable": "Cap des Biches C4"
          },
          {
           "datetime": "2023-12-02T12:00:00",
           "hour": "2023-12-02T12:00:00",
           "value": 47,
           "variable": "Cap des Biches C4"
          },
          {
           "datetime": "2023-12-02T13:00:00",
           "hour": "2023-12-02T13:00:00",
           "value": 77,
           "variable": "Cap des Biches C4"
          },
          {
           "datetime": "2023-12-02T14:00:00",
           "hour": "2023-12-02T14:00:00",
           "value": 77,
           "variable": "Cap des Biches C4"
          },
          {
           "datetime": "2023-12-02T15:00:00",
           "hour": "2023-12-02T15:00:00",
           "value": 77,
           "variable": "Cap des Biches C4"
          },
          {
           "datetime": "2023-12-02T16:00:00",
           "hour": "2023-12-02T16:00:00",
           "value": 77,
           "variable": "Cap des Biches C4"
          },
          {
           "datetime": "2023-12-02T17:00:00",
           "hour": "2023-12-02T17:00:00",
           "value": 60,
           "variable": "Cap des Biches C4"
          },
          {
           "datetime": "2023-12-02T18:00:00",
           "hour": "2023-12-02T18:00:00",
           "value": 77,
           "variable": "Cap des Biches C4"
          },
          {
           "datetime": "2023-12-02T19:00:00",
           "hour": "2023-12-02T19:00:00",
           "value": 77,
           "variable": "Cap des Biches C4"
          },
          {
           "datetime": "2023-12-02T20:00:00",
           "hour": "2023-12-02T20:00:00",
           "value": 81,
           "variable": "Cap des Biches C4"
          },
          {
           "datetime": "2023-12-02T21:00:00",
           "hour": "2023-12-02T21:00:00",
           "value": 77.56113603808191,
           "variable": "Cap des Biches C4"
          },
          {
           "datetime": "2023-12-02T22:00:00",
           "hour": "2023-12-02T22:00:00",
           "value": 81,
           "variable": "Cap des Biches C4"
          },
          {
           "datetime": "2023-12-02T23:00:00",
           "hour": "2023-12-02T23:00:00",
           "value": 77.7452577319591,
           "variable": "Cap des Biches C4"
          },
          {
           "datetime": "2023-12-01T01:00:00",
           "hour": "2023-12-01T01:00:00",
           "value": 165.02222856386354,
           "variable": "KARPOWERSHIP"
          },
          {
           "datetime": "2023-12-01T02:00:00",
           "hour": "2023-12-01T02:00:00",
           "value": 165,
           "variable": "KARPOWERSHIP"
          },
          {
           "datetime": "2023-12-01T03:00:00",
           "hour": "2023-12-01T03:00:00",
           "value": 165,
           "variable": "KARPOWERSHIP"
          },
          {
           "datetime": "2023-12-01T04:00:00",
           "hour": "2023-12-01T04:00:00",
           "value": 110,
           "variable": "KARPOWERSHIP"
          },
          {
           "datetime": "2023-12-01T05:00:00",
           "hour": "2023-12-01T05:00:00",
           "value": 96.25,
           "variable": "KARPOWERSHIP"
          },
          {
           "datetime": "2023-12-01T06:00:00",
           "hour": "2023-12-01T06:00:00",
           "value": 55,
           "variable": "KARPOWERSHIP"
          },
          {
           "datetime": "2023-12-01T07:00:00",
           "hour": "2023-12-01T07:00:00",
           "value": 123.75,
           "variable": "KARPOWERSHIP"
          },
          {
           "datetime": "2023-12-01T08:00:00",
           "hour": "2023-12-01T08:00:00",
           "value": 27.5,
           "variable": "KARPOWERSHIP"
          },
          {
           "datetime": "2023-12-01T09:00:00",
           "hour": "2023-12-01T09:00:00",
           "value": 27.5,
           "variable": "KARPOWERSHIP"
          },
          {
           "datetime": "2023-12-01T10:00:00",
           "hour": "2023-12-01T10:00:00",
           "value": 0,
           "variable": "KARPOWERSHIP"
          },
          {
           "datetime": "2023-12-01T11:00:00",
           "hour": "2023-12-01T11:00:00",
           "value": 0,
           "variable": "KARPOWERSHIP"
          },
          {
           "datetime": "2023-12-01T12:00:00",
           "hour": "2023-12-01T12:00:00",
           "value": 13.75,
           "variable": "KARPOWERSHIP"
          },
          {
           "datetime": "2023-12-01T13:00:00",
           "hour": "2023-12-01T13:00:00",
           "value": 13.75,
           "variable": "KARPOWERSHIP"
          },
          {
           "datetime": "2023-12-01T14:00:00",
           "hour": "2023-12-01T14:00:00",
           "value": 0,
           "variable": "KARPOWERSHIP"
          },
          {
           "datetime": "2023-12-01T15:00:00",
           "hour": "2023-12-01T15:00:00",
           "value": 0,
           "variable": "KARPOWERSHIP"
          },
          {
           "datetime": "2023-12-01T16:00:00",
           "hour": "2023-12-01T16:00:00",
           "value": 13.75,
           "variable": "KARPOWERSHIP"
          },
          {
           "datetime": "2023-12-01T17:00:00",
           "hour": "2023-12-01T17:00:00",
           "value": 55,
           "variable": "KARPOWERSHIP"
          },
          {
           "datetime": "2023-12-01T18:00:00",
           "hour": "2023-12-01T18:00:00",
           "value": 55,
           "variable": "KARPOWERSHIP"
          },
          {
           "datetime": "2023-12-01T19:00:00",
           "hour": "2023-12-01T19:00:00",
           "value": 137.5,
           "variable": "KARPOWERSHIP"
          },
          {
           "datetime": "2023-12-01T20:00:00",
           "hour": "2023-12-01T20:00:00",
           "value": 151.25,
           "variable": "KARPOWERSHIP"
          },
          {
           "datetime": "2023-12-01T21:00:00",
           "hour": "2023-12-01T21:00:00",
           "value": 151.25,
           "variable": "KARPOWERSHIP"
          },
          {
           "datetime": "2023-12-01T22:00:00",
           "hour": "2023-12-01T22:00:00",
           "value": 165,
           "variable": "KARPOWERSHIP"
          },
          {
           "datetime": "2023-12-01T23:00:00",
           "hour": "2023-12-01T23:00:00",
           "value": 165,
           "variable": "KARPOWERSHIP"
          },
          {
           "datetime": "2023-12-02T00:00:00",
           "hour": "2023-12-02T00:00:00",
           "value": 151.25,
           "variable": "KARPOWERSHIP"
          },
          {
           "datetime": "2023-12-02T01:00:00",
           "hour": "2023-12-02T01:00:00",
           "value": 110,
           "variable": "KARPOWERSHIP"
          },
          {
           "datetime": "2023-12-02T02:00:00",
           "hour": "2023-12-02T02:00:00",
           "value": 41.25,
           "variable": "KARPOWERSHIP"
          },
          {
           "datetime": "2023-12-02T03:00:00",
           "hour": "2023-12-02T03:00:00",
           "value": 41.25,
           "variable": "KARPOWERSHIP"
          },
          {
           "datetime": "2023-12-02T04:00:00",
           "hour": "2023-12-02T04:00:00",
           "value": 27.5,
           "variable": "KARPOWERSHIP"
          },
          {
           "datetime": "2023-12-02T05:00:00",
           "hour": "2023-12-02T05:00:00",
           "value": 27.5,
           "variable": "KARPOWERSHIP"
          },
          {
           "datetime": "2023-12-02T06:00:00",
           "hour": "2023-12-02T06:00:00",
           "value": 0,
           "variable": "KARPOWERSHIP"
          },
          {
           "datetime": "2023-12-02T07:00:00",
           "hour": "2023-12-02T07:00:00",
           "value": 0,
           "variable": "KARPOWERSHIP"
          },
          {
           "datetime": "2023-12-02T08:00:00",
           "hour": "2023-12-02T08:00:00",
           "value": 0,
           "variable": "KARPOWERSHIP"
          },
          {
           "datetime": "2023-12-02T09:00:00",
           "hour": "2023-12-02T09:00:00",
           "value": 0,
           "variable": "KARPOWERSHIP"
          },
          {
           "datetime": "2023-12-02T10:00:00",
           "hour": "2023-12-02T10:00:00",
           "value": 0,
           "variable": "KARPOWERSHIP"
          },
          {
           "datetime": "2023-12-02T11:00:00",
           "hour": "2023-12-02T11:00:00",
           "value": 0,
           "variable": "KARPOWERSHIP"
          },
          {
           "datetime": "2023-12-02T12:00:00",
           "hour": "2023-12-02T12:00:00",
           "value": 27.5,
           "variable": "KARPOWERSHIP"
          },
          {
           "datetime": "2023-12-02T13:00:00",
           "hour": "2023-12-02T13:00:00",
           "value": 0,
           "variable": "KARPOWERSHIP"
          },
          {
           "datetime": "2023-12-02T14:00:00",
           "hour": "2023-12-02T14:00:00",
           "value": 0,
           "variable": "KARPOWERSHIP"
          },
          {
           "datetime": "2023-12-02T15:00:00",
           "hour": "2023-12-02T15:00:00",
           "value": 0,
           "variable": "KARPOWERSHIP"
          },
          {
           "datetime": "2023-12-02T16:00:00",
           "hour": "2023-12-02T16:00:00",
           "value": 0,
           "variable": "KARPOWERSHIP"
          },
          {
           "datetime": "2023-12-02T17:00:00",
           "hour": "2023-12-02T17:00:00",
           "value": 0,
           "variable": "KARPOWERSHIP"
          },
          {
           "datetime": "2023-12-02T18:00:00",
           "hour": "2023-12-02T18:00:00",
           "value": 41.25,
           "variable": "KARPOWERSHIP"
          },
          {
           "datetime": "2023-12-02T19:00:00",
           "hour": "2023-12-02T19:00:00",
           "value": 137.5,
           "variable": "KARPOWERSHIP"
          },
          {
           "datetime": "2023-12-02T20:00:00",
           "hour": "2023-12-02T20:00:00",
           "value": 151.25,
           "variable": "KARPOWERSHIP"
          },
          {
           "datetime": "2023-12-02T21:00:00",
           "hour": "2023-12-02T21:00:00",
           "value": 123.75,
           "variable": "KARPOWERSHIP"
          },
          {
           "datetime": "2023-12-02T22:00:00",
           "hour": "2023-12-02T22:00:00",
           "value": 151.25,
           "variable": "KARPOWERSHIP"
          },
          {
           "datetime": "2023-12-02T23:00:00",
           "hour": "2023-12-02T23:00:00",
           "value": 151.25,
           "variable": "KARPOWERSHIP"
          },
          {
           "datetime": "2023-12-01T01:00:00",
           "hour": "2023-12-01T01:00:00",
           "value": 55,
           "variable": "IPP Contour Global"
          },
          {
           "datetime": "2023-12-01T02:00:00",
           "hour": "2023-12-01T02:00:00",
           "value": 55,
           "variable": "IPP Contour Global"
          },
          {
           "datetime": "2023-12-01T03:00:00",
           "hour": "2023-12-01T03:00:00",
           "value": 55,
           "variable": "IPP Contour Global"
          },
          {
           "datetime": "2023-12-01T04:00:00",
           "hour": "2023-12-01T04:00:00",
           "value": 55,
           "variable": "IPP Contour Global"
          },
          {
           "datetime": "2023-12-01T05:00:00",
           "hour": "2023-12-01T05:00:00",
           "value": 55,
           "variable": "IPP Contour Global"
          },
          {
           "datetime": "2023-12-01T06:00:00",
           "hour": "2023-12-01T06:00:00",
           "value": 55,
           "variable": "IPP Contour Global"
          },
          {
           "datetime": "2023-12-01T07:00:00",
           "hour": "2023-12-01T07:00:00",
           "value": 55,
           "variable": "IPP Contour Global"
          },
          {
           "datetime": "2023-12-01T08:00:00",
           "hour": "2023-12-01T08:00:00",
           "value": 55,
           "variable": "IPP Contour Global"
          },
          {
           "datetime": "2023-12-01T09:00:00",
           "hour": "2023-12-01T09:00:00",
           "value": 44,
           "variable": "IPP Contour Global"
          },
          {
           "datetime": "2023-12-01T10:00:00",
           "hour": "2023-12-01T10:00:00",
           "value": 55,
           "variable": "IPP Contour Global"
          },
          {
           "datetime": "2023-12-01T11:00:00",
           "hour": "2023-12-01T11:00:00",
           "value": 55,
           "variable": "IPP Contour Global"
          },
          {
           "datetime": "2023-12-01T12:00:00",
           "hour": "2023-12-01T12:00:00",
           "value": 55,
           "variable": "IPP Contour Global"
          },
          {
           "datetime": "2023-12-01T13:00:00",
           "hour": "2023-12-01T13:00:00",
           "value": 55,
           "variable": "IPP Contour Global"
          },
          {
           "datetime": "2023-12-01T14:00:00",
           "hour": "2023-12-01T14:00:00",
           "value": 55,
           "variable": "IPP Contour Global"
          },
          {
           "datetime": "2023-12-01T15:00:00",
           "hour": "2023-12-01T15:00:00",
           "value": 55,
           "variable": "IPP Contour Global"
          },
          {
           "datetime": "2023-12-01T16:00:00",
           "hour": "2023-12-01T16:00:00",
           "value": 55,
           "variable": "IPP Contour Global"
          },
          {
           "datetime": "2023-12-01T17:00:00",
           "hour": "2023-12-01T17:00:00",
           "value": 55,
           "variable": "IPP Contour Global"
          },
          {
           "datetime": "2023-12-01T18:00:00",
           "hour": "2023-12-01T18:00:00",
           "value": 55,
           "variable": "IPP Contour Global"
          },
          {
           "datetime": "2023-12-01T19:00:00",
           "hour": "2023-12-01T19:00:00",
           "value": 55,
           "variable": "IPP Contour Global"
          },
          {
           "datetime": "2023-12-01T20:00:00",
           "hour": "2023-12-01T20:00:00",
           "value": 55,
           "variable": "IPP Contour Global"
          },
          {
           "datetime": "2023-12-01T21:00:00",
           "hour": "2023-12-01T21:00:00",
           "value": 55,
           "variable": "IPP Contour Global"
          },
          {
           "datetime": "2023-12-01T22:00:00",
           "hour": "2023-12-01T22:00:00",
           "value": 55,
           "variable": "IPP Contour Global"
          },
          {
           "datetime": "2023-12-01T23:00:00",
           "hour": "2023-12-01T23:00:00",
           "value": 55,
           "variable": "IPP Contour Global"
          },
          {
           "datetime": "2023-12-02T00:00:00",
           "hour": "2023-12-02T00:00:00",
           "value": 55,
           "variable": "IPP Contour Global"
          },
          {
           "datetime": "2023-12-02T01:00:00",
           "hour": "2023-12-02T01:00:00",
           "value": 55,
           "variable": "IPP Contour Global"
          },
          {
           "datetime": "2023-12-02T02:00:00",
           "hour": "2023-12-02T02:00:00",
           "value": 55,
           "variable": "IPP Contour Global"
          },
          {
           "datetime": "2023-12-02T03:00:00",
           "hour": "2023-12-02T03:00:00",
           "value": 55,
           "variable": "IPP Contour Global"
          },
          {
           "datetime": "2023-12-02T04:00:00",
           "hour": "2023-12-02T04:00:00",
           "value": 55,
           "variable": "IPP Contour Global"
          },
          {
           "datetime": "2023-12-02T05:00:00",
           "hour": "2023-12-02T05:00:00",
           "value": 55,
           "variable": "IPP Contour Global"
          },
          {
           "datetime": "2023-12-02T06:00:00",
           "hour": "2023-12-02T06:00:00",
           "value": 55,
           "variable": "IPP Contour Global"
          },
          {
           "datetime": "2023-12-02T07:00:00",
           "hour": "2023-12-02T07:00:00",
           "value": 55,
           "variable": "IPP Contour Global"
          },
          {
           "datetime": "2023-12-02T08:00:00",
           "hour": "2023-12-02T08:00:00",
           "value": 55,
           "variable": "IPP Contour Global"
          },
          {
           "datetime": "2023-12-02T09:00:00",
           "hour": "2023-12-02T09:00:00",
           "value": 55,
           "variable": "IPP Contour Global"
          },
          {
           "datetime": "2023-12-02T10:00:00",
           "hour": "2023-12-02T10:00:00",
           "value": 55,
           "variable": "IPP Contour Global"
          },
          {
           "datetime": "2023-12-02T11:00:00",
           "hour": "2023-12-02T11:00:00",
           "value": 55,
           "variable": "IPP Contour Global"
          },
          {
           "datetime": "2023-12-02T12:00:00",
           "hour": "2023-12-02T12:00:00",
           "value": 55,
           "variable": "IPP Contour Global"
          },
          {
           "datetime": "2023-12-02T13:00:00",
           "hour": "2023-12-02T13:00:00",
           "value": 55,
           "variable": "IPP Contour Global"
          },
          {
           "datetime": "2023-12-02T14:00:00",
           "hour": "2023-12-02T14:00:00",
           "value": 55,
           "variable": "IPP Contour Global"
          },
          {
           "datetime": "2023-12-02T15:00:00",
           "hour": "2023-12-02T15:00:00",
           "value": 55,
           "variable": "IPP Contour Global"
          },
          {
           "datetime": "2023-12-02T16:00:00",
           "hour": "2023-12-02T16:00:00",
           "value": 55,
           "variable": "IPP Contour Global"
          },
          {
           "datetime": "2023-12-02T17:00:00",
           "hour": "2023-12-02T17:00:00",
           "value": 55,
           "variable": "IPP Contour Global"
          },
          {
           "datetime": "2023-12-02T18:00:00",
           "hour": "2023-12-02T18:00:00",
           "value": 55,
           "variable": "IPP Contour Global"
          },
          {
           "datetime": "2023-12-02T19:00:00",
           "hour": "2023-12-02T19:00:00",
           "value": 55,
           "variable": "IPP Contour Global"
          },
          {
           "datetime": "2023-12-02T20:00:00",
           "hour": "2023-12-02T20:00:00",
           "value": 55,
           "variable": "IPP Contour Global"
          },
          {
           "datetime": "2023-12-02T21:00:00",
           "hour": "2023-12-02T21:00:00",
           "value": 55,
           "variable": "IPP Contour Global"
          },
          {
           "datetime": "2023-12-02T22:00:00",
           "hour": "2023-12-02T22:00:00",
           "value": 55,
           "variable": "IPP Contour Global"
          },
          {
           "datetime": "2023-12-02T23:00:00",
           "hour": "2023-12-02T23:00:00",
           "value": 55,
           "variable": "IPP Contour Global"
          },
          {
           "datetime": "2023-12-01T01:00:00",
           "hour": "2023-12-01T01:00:00",
           "value": 0,
           "variable": "IPP Tobene Power TAV"
          },
          {
           "datetime": "2023-12-01T02:00:00",
           "hour": "2023-12-01T02:00:00",
           "value": 0,
           "variable": "IPP Tobene Power TAV"
          },
          {
           "datetime": "2023-12-01T03:00:00",
           "hour": "2023-12-01T03:00:00",
           "value": 0,
           "variable": "IPP Tobene Power TAV"
          },
          {
           "datetime": "2023-12-01T04:00:00",
           "hour": "2023-12-01T04:00:00",
           "value": 0,
           "variable": "IPP Tobene Power TAV"
          },
          {
           "datetime": "2023-12-01T05:00:00",
           "hour": "2023-12-01T05:00:00",
           "value": 0,
           "variable": "IPP Tobene Power TAV"
          },
          {
           "datetime": "2023-12-01T06:00:00",
           "hour": "2023-12-01T06:00:00",
           "value": 0,
           "variable": "IPP Tobene Power TAV"
          },
          {
           "datetime": "2023-12-01T07:00:00",
           "hour": "2023-12-01T07:00:00",
           "value": 7.12,
           "variable": "IPP Tobene Power TAV"
          },
          {
           "datetime": "2023-12-01T08:00:00",
           "hour": "2023-12-01T08:00:00",
           "value": 0,
           "variable": "IPP Tobene Power TAV"
          },
          {
           "datetime": "2023-12-01T09:00:00",
           "hour": "2023-12-01T09:00:00",
           "value": 0,
           "variable": "IPP Tobene Power TAV"
          },
          {
           "datetime": "2023-12-01T10:00:00",
           "hour": "2023-12-01T10:00:00",
           "value": 0,
           "variable": "IPP Tobene Power TAV"
          },
          {
           "datetime": "2023-12-01T11:00:00",
           "hour": "2023-12-01T11:00:00",
           "value": 0,
           "variable": "IPP Tobene Power TAV"
          },
          {
           "datetime": "2023-12-01T12:00:00",
           "hour": "2023-12-01T12:00:00",
           "value": 0,
           "variable": "IPP Tobene Power TAV"
          },
          {
           "datetime": "2023-12-01T13:00:00",
           "hour": "2023-12-01T13:00:00",
           "value": 0,
           "variable": "IPP Tobene Power TAV"
          },
          {
           "datetime": "2023-12-01T14:00:00",
           "hour": "2023-12-01T14:00:00",
           "value": 0,
           "variable": "IPP Tobene Power TAV"
          },
          {
           "datetime": "2023-12-01T15:00:00",
           "hour": "2023-12-01T15:00:00",
           "value": 0,
           "variable": "IPP Tobene Power TAV"
          },
          {
           "datetime": "2023-12-01T16:00:00",
           "hour": "2023-12-01T16:00:00",
           "value": 0,
           "variable": "IPP Tobene Power TAV"
          },
          {
           "datetime": "2023-12-01T17:00:00",
           "hour": "2023-12-01T17:00:00",
           "value": 0,
           "variable": "IPP Tobene Power TAV"
          },
          {
           "datetime": "2023-12-01T18:00:00",
           "hour": "2023-12-01T18:00:00",
           "value": 0,
           "variable": "IPP Tobene Power TAV"
          },
          {
           "datetime": "2023-12-01T19:00:00",
           "hour": "2023-12-01T19:00:00",
           "value": 7.12,
           "variable": "IPP Tobene Power TAV"
          },
          {
           "datetime": "2023-12-01T20:00:00",
           "hour": "2023-12-01T20:00:00",
           "value": 0,
           "variable": "IPP Tobene Power TAV"
          },
          {
           "datetime": "2023-12-01T21:00:00",
           "hour": "2023-12-01T21:00:00",
           "value": 0,
           "variable": "IPP Tobene Power TAV"
          },
          {
           "datetime": "2023-12-01T22:00:00",
           "hour": "2023-12-01T22:00:00",
           "value": 0,
           "variable": "IPP Tobene Power TAV"
          },
          {
           "datetime": "2023-12-01T23:00:00",
           "hour": "2023-12-01T23:00:00",
           "value": 0,
           "variable": "IPP Tobene Power TAV"
          },
          {
           "datetime": "2023-12-02T00:00:00",
           "hour": "2023-12-02T00:00:00",
           "value": 0,
           "variable": "IPP Tobene Power TAV"
          },
          {
           "datetime": "2023-12-02T01:00:00",
           "hour": "2023-12-02T01:00:00",
           "value": 0,
           "variable": "IPP Tobene Power TAV"
          },
          {
           "datetime": "2023-12-02T02:00:00",
           "hour": "2023-12-02T02:00:00",
           "value": 0,
           "variable": "IPP Tobene Power TAV"
          },
          {
           "datetime": "2023-12-02T03:00:00",
           "hour": "2023-12-02T03:00:00",
           "value": 0,
           "variable": "IPP Tobene Power TAV"
          },
          {
           "datetime": "2023-12-02T04:00:00",
           "hour": "2023-12-02T04:00:00",
           "value": 0,
           "variable": "IPP Tobene Power TAV"
          },
          {
           "datetime": "2023-12-02T05:00:00",
           "hour": "2023-12-02T05:00:00",
           "value": 0,
           "variable": "IPP Tobene Power TAV"
          },
          {
           "datetime": "2023-12-02T06:00:00",
           "hour": "2023-12-02T06:00:00",
           "value": 0,
           "variable": "IPP Tobene Power TAV"
          },
          {
           "datetime": "2023-12-02T07:00:00",
           "hour": "2023-12-02T07:00:00",
           "value": 0,
           "variable": "IPP Tobene Power TAV"
          },
          {
           "datetime": "2023-12-02T08:00:00",
           "hour": "2023-12-02T08:00:00",
           "value": 0,
           "variable": "IPP Tobene Power TAV"
          },
          {
           "datetime": "2023-12-02T09:00:00",
           "hour": "2023-12-02T09:00:00",
           "value": 0,
           "variable": "IPP Tobene Power TAV"
          },
          {
           "datetime": "2023-12-02T10:00:00",
           "hour": "2023-12-02T10:00:00",
           "value": 0,
           "variable": "IPP Tobene Power TAV"
          },
          {
           "datetime": "2023-12-02T11:00:00",
           "hour": "2023-12-02T11:00:00",
           "value": 0,
           "variable": "IPP Tobene Power TAV"
          },
          {
           "datetime": "2023-12-02T12:00:00",
           "hour": "2023-12-02T12:00:00",
           "value": 7.12,
           "variable": "IPP Tobene Power TAV"
          },
          {
           "datetime": "2023-12-02T13:00:00",
           "hour": "2023-12-02T13:00:00",
           "value": 0,
           "variable": "IPP Tobene Power TAV"
          },
          {
           "datetime": "2023-12-02T14:00:00",
           "hour": "2023-12-02T14:00:00",
           "value": 0,
           "variable": "IPP Tobene Power TAV"
          },
          {
           "datetime": "2023-12-02T15:00:00",
           "hour": "2023-12-02T15:00:00",
           "value": 0,
           "variable": "IPP Tobene Power TAV"
          },
          {
           "datetime": "2023-12-02T16:00:00",
           "hour": "2023-12-02T16:00:00",
           "value": 0,
           "variable": "IPP Tobene Power TAV"
          },
          {
           "datetime": "2023-12-02T17:00:00",
           "hour": "2023-12-02T17:00:00",
           "value": 0,
           "variable": "IPP Tobene Power TAV"
          },
          {
           "datetime": "2023-12-02T18:00:00",
           "hour": "2023-12-02T18:00:00",
           "value": 0,
           "variable": "IPP Tobene Power TAV"
          },
          {
           "datetime": "2023-12-02T19:00:00",
           "hour": "2023-12-02T19:00:00",
           "value": 0,
           "variable": "IPP Tobene Power TAV"
          },
          {
           "datetime": "2023-12-02T20:00:00",
           "hour": "2023-12-02T20:00:00",
           "value": 7.12,
           "variable": "IPP Tobene Power TAV"
          },
          {
           "datetime": "2023-12-02T21:00:00",
           "hour": "2023-12-02T21:00:00",
           "value": 0,
           "variable": "IPP Tobene Power TAV"
          },
          {
           "datetime": "2023-12-02T22:00:00",
           "hour": "2023-12-02T22:00:00",
           "value": 0,
           "variable": "IPP Tobene Power TAV"
          },
          {
           "datetime": "2023-12-02T23:00:00",
           "hour": "2023-12-02T23:00:00",
           "value": 0,
           "variable": "IPP Tobene Power TAV"
          },
          {
           "datetime": "2023-12-01T01:00:00",
           "hour": "2023-12-01T01:00:00",
           "value": 0,
           "variable": "IPP Kounoune Power"
          },
          {
           "datetime": "2023-12-01T02:00:00",
           "hour": "2023-12-01T02:00:00",
           "value": 0,
           "variable": "IPP Kounoune Power"
          },
          {
           "datetime": "2023-12-01T03:00:00",
           "hour": "2023-12-01T03:00:00",
           "value": 0,
           "variable": "IPP Kounoune Power"
          },
          {
           "datetime": "2023-12-01T04:00:00",
           "hour": "2023-12-01T04:00:00",
           "value": 0,
           "variable": "IPP Kounoune Power"
          },
          {
           "datetime": "2023-12-01T05:00:00",
           "hour": "2023-12-01T05:00:00",
           "value": 0,
           "variable": "IPP Kounoune Power"
          },
          {
           "datetime": "2023-12-01T06:00:00",
           "hour": "2023-12-01T06:00:00",
           "value": 0,
           "variable": "IPP Kounoune Power"
          },
          {
           "datetime": "2023-12-01T07:00:00",
           "hour": "2023-12-01T07:00:00",
           "value": 0,
           "variable": "IPP Kounoune Power"
          },
          {
           "datetime": "2023-12-01T08:00:00",
           "hour": "2023-12-01T08:00:00",
           "value": 0,
           "variable": "IPP Kounoune Power"
          },
          {
           "datetime": "2023-12-01T09:00:00",
           "hour": "2023-12-01T09:00:00",
           "value": 0,
           "variable": "IPP Kounoune Power"
          },
          {
           "datetime": "2023-12-01T10:00:00",
           "hour": "2023-12-01T10:00:00",
           "value": 0,
           "variable": "IPP Kounoune Power"
          },
          {
           "datetime": "2023-12-01T11:00:00",
           "hour": "2023-12-01T11:00:00",
           "value": 0,
           "variable": "IPP Kounoune Power"
          },
          {
           "datetime": "2023-12-01T12:00:00",
           "hour": "2023-12-01T12:00:00",
           "value": 0,
           "variable": "IPP Kounoune Power"
          },
          {
           "datetime": "2023-12-01T13:00:00",
           "hour": "2023-12-01T13:00:00",
           "value": 0,
           "variable": "IPP Kounoune Power"
          },
          {
           "datetime": "2023-12-01T14:00:00",
           "hour": "2023-12-01T14:00:00",
           "value": 0,
           "variable": "IPP Kounoune Power"
          },
          {
           "datetime": "2023-12-01T15:00:00",
           "hour": "2023-12-01T15:00:00",
           "value": 0,
           "variable": "IPP Kounoune Power"
          },
          {
           "datetime": "2023-12-01T16:00:00",
           "hour": "2023-12-01T16:00:00",
           "value": 0,
           "variable": "IPP Kounoune Power"
          },
          {
           "datetime": "2023-12-01T17:00:00",
           "hour": "2023-12-01T17:00:00",
           "value": 0,
           "variable": "IPP Kounoune Power"
          },
          {
           "datetime": "2023-12-01T18:00:00",
           "hour": "2023-12-01T18:00:00",
           "value": 0,
           "variable": "IPP Kounoune Power"
          },
          {
           "datetime": "2023-12-01T19:00:00",
           "hour": "2023-12-01T19:00:00",
           "value": 0,
           "variable": "IPP Kounoune Power"
          },
          {
           "datetime": "2023-12-01T20:00:00",
           "hour": "2023-12-01T20:00:00",
           "value": 0,
           "variable": "IPP Kounoune Power"
          },
          {
           "datetime": "2023-12-01T21:00:00",
           "hour": "2023-12-01T21:00:00",
           "value": 0,
           "variable": "IPP Kounoune Power"
          },
          {
           "datetime": "2023-12-01T22:00:00",
           "hour": "2023-12-01T22:00:00",
           "value": 0,
           "variable": "IPP Kounoune Power"
          },
          {
           "datetime": "2023-12-01T23:00:00",
           "hour": "2023-12-01T23:00:00",
           "value": 0,
           "variable": "IPP Kounoune Power"
          },
          {
           "datetime": "2023-12-02T00:00:00",
           "hour": "2023-12-02T00:00:00",
           "value": 0,
           "variable": "IPP Kounoune Power"
          },
          {
           "datetime": "2023-12-02T01:00:00",
           "hour": "2023-12-02T01:00:00",
           "value": 0,
           "variable": "IPP Kounoune Power"
          },
          {
           "datetime": "2023-12-02T02:00:00",
           "hour": "2023-12-02T02:00:00",
           "value": 0,
           "variable": "IPP Kounoune Power"
          },
          {
           "datetime": "2023-12-02T03:00:00",
           "hour": "2023-12-02T03:00:00",
           "value": 0,
           "variable": "IPP Kounoune Power"
          },
          {
           "datetime": "2023-12-02T04:00:00",
           "hour": "2023-12-02T04:00:00",
           "value": 0,
           "variable": "IPP Kounoune Power"
          },
          {
           "datetime": "2023-12-02T05:00:00",
           "hour": "2023-12-02T05:00:00",
           "value": 0,
           "variable": "IPP Kounoune Power"
          },
          {
           "datetime": "2023-12-02T06:00:00",
           "hour": "2023-12-02T06:00:00",
           "value": 0,
           "variable": "IPP Kounoune Power"
          },
          {
           "datetime": "2023-12-02T07:00:00",
           "hour": "2023-12-02T07:00:00",
           "value": 0,
           "variable": "IPP Kounoune Power"
          },
          {
           "datetime": "2023-12-02T08:00:00",
           "hour": "2023-12-02T08:00:00",
           "value": 0,
           "variable": "IPP Kounoune Power"
          },
          {
           "datetime": "2023-12-02T09:00:00",
           "hour": "2023-12-02T09:00:00",
           "value": 0,
           "variable": "IPP Kounoune Power"
          },
          {
           "datetime": "2023-12-02T10:00:00",
           "hour": "2023-12-02T10:00:00",
           "value": 0,
           "variable": "IPP Kounoune Power"
          },
          {
           "datetime": "2023-12-02T11:00:00",
           "hour": "2023-12-02T11:00:00",
           "value": 0,
           "variable": "IPP Kounoune Power"
          },
          {
           "datetime": "2023-12-02T12:00:00",
           "hour": "2023-12-02T12:00:00",
           "value": 0,
           "variable": "IPP Kounoune Power"
          },
          {
           "datetime": "2023-12-02T13:00:00",
           "hour": "2023-12-02T13:00:00",
           "value": 0,
           "variable": "IPP Kounoune Power"
          },
          {
           "datetime": "2023-12-02T14:00:00",
           "hour": "2023-12-02T14:00:00",
           "value": 0,
           "variable": "IPP Kounoune Power"
          },
          {
           "datetime": "2023-12-02T15:00:00",
           "hour": "2023-12-02T15:00:00",
           "value": 0,
           "variable": "IPP Kounoune Power"
          },
          {
           "datetime": "2023-12-02T16:00:00",
           "hour": "2023-12-02T16:00:00",
           "value": 0,
           "variable": "IPP Kounoune Power"
          },
          {
           "datetime": "2023-12-02T17:00:00",
           "hour": "2023-12-02T17:00:00",
           "value": 0,
           "variable": "IPP Kounoune Power"
          },
          {
           "datetime": "2023-12-02T18:00:00",
           "hour": "2023-12-02T18:00:00",
           "value": 0,
           "variable": "IPP Kounoune Power"
          },
          {
           "datetime": "2023-12-02T19:00:00",
           "hour": "2023-12-02T19:00:00",
           "value": 0,
           "variable": "IPP Kounoune Power"
          },
          {
           "datetime": "2023-12-02T20:00:00",
           "hour": "2023-12-02T20:00:00",
           "value": 0,
           "variable": "IPP Kounoune Power"
          },
          {
           "datetime": "2023-12-02T21:00:00",
           "hour": "2023-12-02T21:00:00",
           "value": 0,
           "variable": "IPP Kounoune Power"
          },
          {
           "datetime": "2023-12-02T22:00:00",
           "hour": "2023-12-02T22:00:00",
           "value": 0,
           "variable": "IPP Kounoune Power"
          },
          {
           "datetime": "2023-12-02T23:00:00",
           "hour": "2023-12-02T23:00:00",
           "value": 0,
           "variable": "IPP Kounoune Power"
          },
          {
           "datetime": "2023-12-01T01:00:00",
           "hour": "2023-12-01T01:00:00",
           "value": 72,
           "variable": "Kahone C7"
          },
          {
           "datetime": "2023-12-01T02:00:00",
           "hour": "2023-12-01T02:00:00",
           "value": 72,
           "variable": "Kahone C7"
          },
          {
           "datetime": "2023-12-01T03:00:00",
           "hour": "2023-12-01T03:00:00",
           "value": 72,
           "variable": "Kahone C7"
          },
          {
           "datetime": "2023-12-01T04:00:00",
           "hour": "2023-12-01T04:00:00",
           "value": 72,
           "variable": "Kahone C7"
          },
          {
           "datetime": "2023-12-01T05:00:00",
           "hour": "2023-12-01T05:00:00",
           "value": 72,
           "variable": "Kahone C7"
          },
          {
           "datetime": "2023-12-01T06:00:00",
           "hour": "2023-12-01T06:00:00",
           "value": 72,
           "variable": "Kahone C7"
          },
          {
           "datetime": "2023-12-01T07:00:00",
           "hour": "2023-12-01T07:00:00",
           "value": 72,
           "variable": "Kahone C7"
          },
          {
           "datetime": "2023-12-01T08:00:00",
           "hour": "2023-12-01T08:00:00",
           "value": 72,
           "variable": "Kahone C7"
          },
          {
           "datetime": "2023-12-01T09:00:00",
           "hour": "2023-12-01T09:00:00",
           "value": 72,
           "variable": "Kahone C7"
          },
          {
           "datetime": "2023-12-01T10:00:00",
           "hour": "2023-12-01T10:00:00",
           "value": 72,
           "variable": "Kahone C7"
          },
          {
           "datetime": "2023-12-01T11:00:00",
           "hour": "2023-12-01T11:00:00",
           "value": 72,
           "variable": "Kahone C7"
          },
          {
           "datetime": "2023-12-01T12:00:00",
           "hour": "2023-12-01T12:00:00",
           "value": 72,
           "variable": "Kahone C7"
          },
          {
           "datetime": "2023-12-01T13:00:00",
           "hour": "2023-12-01T13:00:00",
           "value": 72,
           "variable": "Kahone C7"
          },
          {
           "datetime": "2023-12-01T14:00:00",
           "hour": "2023-12-01T14:00:00",
           "value": 72,
           "variable": "Kahone C7"
          },
          {
           "datetime": "2023-12-01T15:00:00",
           "hour": "2023-12-01T15:00:00",
           "value": 72,
           "variable": "Kahone C7"
          },
          {
           "datetime": "2023-12-01T16:00:00",
           "hour": "2023-12-01T16:00:00",
           "value": 72,
           "variable": "Kahone C7"
          },
          {
           "datetime": "2023-12-01T17:00:00",
           "hour": "2023-12-01T17:00:00",
           "value": 72,
           "variable": "Kahone C7"
          },
          {
           "datetime": "2023-12-01T18:00:00",
           "hour": "2023-12-01T18:00:00",
           "value": 72,
           "variable": "Kahone C7"
          },
          {
           "datetime": "2023-12-01T19:00:00",
           "hour": "2023-12-01T19:00:00",
           "value": 72,
           "variable": "Kahone C7"
          },
          {
           "datetime": "2023-12-01T20:00:00",
           "hour": "2023-12-01T20:00:00",
           "value": 72,
           "variable": "Kahone C7"
          },
          {
           "datetime": "2023-12-01T21:00:00",
           "hour": "2023-12-01T21:00:00",
           "value": 72,
           "variable": "Kahone C7"
          },
          {
           "datetime": "2023-12-01T22:00:00",
           "hour": "2023-12-01T22:00:00",
           "value": 72,
           "variable": "Kahone C7"
          },
          {
           "datetime": "2023-12-01T23:00:00",
           "hour": "2023-12-01T23:00:00",
           "value": 72,
           "variable": "Kahone C7"
          },
          {
           "datetime": "2023-12-02T00:00:00",
           "hour": "2023-12-02T00:00:00",
           "value": 72,
           "variable": "Kahone C7"
          },
          {
           "datetime": "2023-12-02T01:00:00",
           "hour": "2023-12-02T01:00:00",
           "value": 72,
           "variable": "Kahone C7"
          },
          {
           "datetime": "2023-12-02T02:00:00",
           "hour": "2023-12-02T02:00:00",
           "value": 72,
           "variable": "Kahone C7"
          },
          {
           "datetime": "2023-12-02T03:00:00",
           "hour": "2023-12-02T03:00:00",
           "value": 72,
           "variable": "Kahone C7"
          },
          {
           "datetime": "2023-12-02T04:00:00",
           "hour": "2023-12-02T04:00:00",
           "value": 72,
           "variable": "Kahone C7"
          },
          {
           "datetime": "2023-12-02T05:00:00",
           "hour": "2023-12-02T05:00:00",
           "value": 72,
           "variable": "Kahone C7"
          },
          {
           "datetime": "2023-12-02T06:00:00",
           "hour": "2023-12-02T06:00:00",
           "value": 72,
           "variable": "Kahone C7"
          },
          {
           "datetime": "2023-12-02T07:00:00",
           "hour": "2023-12-02T07:00:00",
           "value": 72,
           "variable": "Kahone C7"
          },
          {
           "datetime": "2023-12-02T08:00:00",
           "hour": "2023-12-02T08:00:00",
           "value": 72,
           "variable": "Kahone C7"
          },
          {
           "datetime": "2023-12-02T09:00:00",
           "hour": "2023-12-02T09:00:00",
           "value": 72,
           "variable": "Kahone C7"
          },
          {
           "datetime": "2023-12-02T10:00:00",
           "hour": "2023-12-02T10:00:00",
           "value": 72,
           "variable": "Kahone C7"
          },
          {
           "datetime": "2023-12-02T11:00:00",
           "hour": "2023-12-02T11:00:00",
           "value": 72,
           "variable": "Kahone C7"
          },
          {
           "datetime": "2023-12-02T12:00:00",
           "hour": "2023-12-02T12:00:00",
           "value": 72,
           "variable": "Kahone C7"
          },
          {
           "datetime": "2023-12-02T13:00:00",
           "hour": "2023-12-02T13:00:00",
           "value": 72,
           "variable": "Kahone C7"
          },
          {
           "datetime": "2023-12-02T14:00:00",
           "hour": "2023-12-02T14:00:00",
           "value": 72,
           "variable": "Kahone C7"
          },
          {
           "datetime": "2023-12-02T15:00:00",
           "hour": "2023-12-02T15:00:00",
           "value": 72,
           "variable": "Kahone C7"
          },
          {
           "datetime": "2023-12-02T16:00:00",
           "hour": "2023-12-02T16:00:00",
           "value": 72,
           "variable": "Kahone C7"
          },
          {
           "datetime": "2023-12-02T17:00:00",
           "hour": "2023-12-02T17:00:00",
           "value": 72,
           "variable": "Kahone C7"
          },
          {
           "datetime": "2023-12-02T18:00:00",
           "hour": "2023-12-02T18:00:00",
           "value": 72,
           "variable": "Kahone C7"
          },
          {
           "datetime": "2023-12-02T19:00:00",
           "hour": "2023-12-02T19:00:00",
           "value": 72,
           "variable": "Kahone C7"
          },
          {
           "datetime": "2023-12-02T20:00:00",
           "hour": "2023-12-02T20:00:00",
           "value": 72,
           "variable": "Kahone C7"
          },
          {
           "datetime": "2023-12-02T21:00:00",
           "hour": "2023-12-02T21:00:00",
           "value": 72,
           "variable": "Kahone C7"
          },
          {
           "datetime": "2023-12-02T22:00:00",
           "hour": "2023-12-02T22:00:00",
           "value": 72,
           "variable": "Kahone C7"
          },
          {
           "datetime": "2023-12-02T23:00:00",
           "hour": "2023-12-02T23:00:00",
           "value": 72,
           "variable": "Kahone C7"
          },
          {
           "datetime": "2023-12-01T01:00:00",
           "hour": "2023-12-01T01:00:00",
           "value": 88.29498997302446,
           "variable": "Bel-Air C6"
          },
          {
           "datetime": "2023-12-01T02:00:00",
           "hour": "2023-12-01T02:00:00",
           "value": 76.90783707097519,
           "variable": "Bel-Air C6"
          },
          {
           "datetime": "2023-12-01T03:00:00",
           "hour": "2023-12-01T03:00:00",
           "value": 77.44103298069302,
           "variable": "Bel-Air C6"
          },
          {
           "datetime": "2023-12-01T04:00:00",
           "hour": "2023-12-01T04:00:00",
           "value": 72,
           "variable": "Bel-Air C6"
          },
          {
           "datetime": "2023-12-01T05:00:00",
           "hour": "2023-12-01T05:00:00",
           "value": 72,
           "variable": "Bel-Air C6"
          },
          {
           "datetime": "2023-12-01T06:00:00",
           "hour": "2023-12-01T06:00:00",
           "value": 72.78192571533822,
           "variable": "Bel-Air C6"
          },
          {
           "datetime": "2023-12-01T07:00:00",
           "hour": "2023-12-01T07:00:00",
           "value": 72,
           "variable": "Bel-Air C6"
          },
          {
           "datetime": "2023-12-01T08:00:00",
           "hour": "2023-12-01T08:00:00",
           "value": 72,
           "variable": "Bel-Air C6"
          },
          {
           "datetime": "2023-12-01T09:00:00",
           "hour": "2023-12-01T09:00:00",
           "value": 72,
           "variable": "Bel-Air C6"
          },
          {
           "datetime": "2023-12-01T10:00:00",
           "hour": "2023-12-01T10:00:00",
           "value": 72,
           "variable": "Bel-Air C6"
          },
          {
           "datetime": "2023-12-01T11:00:00",
           "hour": "2023-12-01T11:00:00",
           "value": 72,
           "variable": "Bel-Air C6"
          },
          {
           "datetime": "2023-12-01T12:00:00",
           "hour": "2023-12-01T12:00:00",
           "value": 72,
           "variable": "Bel-Air C6"
          },
          {
           "datetime": "2023-12-01T13:00:00",
           "hour": "2023-12-01T13:00:00",
           "value": 73.25,
           "variable": "Bel-Air C6"
          },
          {
           "datetime": "2023-12-01T14:00:00",
           "hour": "2023-12-01T14:00:00",
           "value": 72,
           "variable": "Bel-Air C6"
          },
          {
           "datetime": "2023-12-01T15:00:00",
           "hour": "2023-12-01T15:00:00",
           "value": 72,
           "variable": "Bel-Air C6"
          },
          {
           "datetime": "2023-12-01T16:00:00",
           "hour": "2023-12-01T16:00:00",
           "value": 72,
           "variable": "Bel-Air C6"
          },
          {
           "datetime": "2023-12-01T17:00:00",
           "hour": "2023-12-01T17:00:00",
           "value": 72,
           "variable": "Bel-Air C6"
          },
          {
           "datetime": "2023-12-01T18:00:00",
           "hour": "2023-12-01T18:00:00",
           "value": 72,
           "variable": "Bel-Air C6"
          },
          {
           "datetime": "2023-12-01T19:00:00",
           "hour": "2023-12-01T19:00:00",
           "value": 72,
           "variable": "Bel-Air C6"
          },
          {
           "datetime": "2023-12-01T20:00:00",
           "hour": "2023-12-01T20:00:00",
           "value": 76.5,
           "variable": "Bel-Air C6"
          },
          {
           "datetime": "2023-12-01T21:00:00",
           "hour": "2023-12-01T21:00:00",
           "value": 77.27680614117497,
           "variable": "Bel-Air C6"
          },
          {
           "datetime": "2023-12-01T22:00:00",
           "hour": "2023-12-01T22:00:00",
           "value": 81.53989892468005,
           "variable": "Bel-Air C6"
          },
          {
           "datetime": "2023-12-01T23:00:00",
           "hour": "2023-12-01T23:00:00",
           "value": 79.94041237113393,
           "variable": "Bel-Air C6"
          },
          {
           "datetime": "2023-12-02T00:00:00",
           "hour": "2023-12-02T00:00:00",
           "value": 72,
           "variable": "Bel-Air C6"
          },
          {
           "datetime": "2023-12-02T01:00:00",
           "hour": "2023-12-02T01:00:00",
           "value": 72,
           "variable": "Bel-Air C6"
          },
          {
           "datetime": "2023-12-02T02:00:00",
           "hour": "2023-12-02T02:00:00",
           "value": 72,
           "variable": "Bel-Air C6"
          },
          {
           "datetime": "2023-12-02T03:00:00",
           "hour": "2023-12-02T03:00:00",
           "value": 72,
           "variable": "Bel-Air C6"
          },
          {
           "datetime": "2023-12-02T04:00:00",
           "hour": "2023-12-02T04:00:00",
           "value": 72,
           "variable": "Bel-Air C6"
          },
          {
           "datetime": "2023-12-02T05:00:00",
           "hour": "2023-12-02T05:00:00",
           "value": 72,
           "variable": "Bel-Air C6"
          },
          {
           "datetime": "2023-12-02T06:00:00",
           "hour": "2023-12-02T06:00:00",
           "value": 72,
           "variable": "Bel-Air C6"
          },
          {
           "datetime": "2023-12-02T07:00:00",
           "hour": "2023-12-02T07:00:00",
           "value": 72,
           "variable": "Bel-Air C6"
          },
          {
           "datetime": "2023-12-02T08:00:00",
           "hour": "2023-12-02T08:00:00",
           "value": 72,
           "variable": "Bel-Air C6"
          },
          {
           "datetime": "2023-12-02T09:00:00",
           "hour": "2023-12-02T09:00:00",
           "value": 72,
           "variable": "Bel-Air C6"
          },
          {
           "datetime": "2023-12-02T10:00:00",
           "hour": "2023-12-02T10:00:00",
           "value": 72,
           "variable": "Bel-Air C6"
          },
          {
           "datetime": "2023-12-02T11:00:00",
           "hour": "2023-12-02T11:00:00",
           "value": 72,
           "variable": "Bel-Air C6"
          },
          {
           "datetime": "2023-12-02T12:00:00",
           "hour": "2023-12-02T12:00:00",
           "value": 72,
           "variable": "Bel-Air C6"
          },
          {
           "datetime": "2023-12-02T13:00:00",
           "hour": "2023-12-02T13:00:00",
           "value": 72,
           "variable": "Bel-Air C6"
          },
          {
           "datetime": "2023-12-02T14:00:00",
           "hour": "2023-12-02T14:00:00",
           "value": 72,
           "variable": "Bel-Air C6"
          },
          {
           "datetime": "2023-12-02T15:00:00",
           "hour": "2023-12-02T15:00:00",
           "value": 72,
           "variable": "Bel-Air C6"
          },
          {
           "datetime": "2023-12-02T16:00:00",
           "hour": "2023-12-02T16:00:00",
           "value": 72,
           "variable": "Bel-Air C6"
          },
          {
           "datetime": "2023-12-02T17:00:00",
           "hour": "2023-12-02T17:00:00",
           "value": 72,
           "variable": "Bel-Air C6"
          },
          {
           "datetime": "2023-12-02T18:00:00",
           "hour": "2023-12-02T18:00:00",
           "value": 72,
           "variable": "Bel-Air C6"
          },
          {
           "datetime": "2023-12-02T19:00:00",
           "hour": "2023-12-02T19:00:00",
           "value": 72.39197933705094,
           "variable": "Bel-Air C6"
          },
          {
           "datetime": "2023-12-02T20:00:00",
           "hour": "2023-12-02T20:00:00",
           "value": 73.65948655354603,
           "variable": "Bel-Air C6"
          },
          {
           "datetime": "2023-12-02T21:00:00",
           "hour": "2023-12-02T21:00:00",
           "value": 72,
           "variable": "Bel-Air C6"
          },
          {
           "datetime": "2023-12-02T22:00:00",
           "hour": "2023-12-02T22:00:00",
           "value": 75.05845562571102,
           "variable": "Bel-Air C6"
          },
          {
           "datetime": "2023-12-02T23:00:00",
           "hour": "2023-12-02T23:00:00",
           "value": 72,
           "variable": "Bel-Air C6"
          },
          {
           "datetime": "2023-12-01T01:00:00",
           "hour": "2023-12-01T01:00:00",
           "value": 4.66,
           "variable": "IPP Contour Global TAV"
          },
          {
           "datetime": "2023-12-01T02:00:00",
           "hour": "2023-12-01T02:00:00",
           "value": 0,
           "variable": "IPP Contour Global TAV"
          },
          {
           "datetime": "2023-12-01T03:00:00",
           "hour": "2023-12-01T03:00:00",
           "value": 0,
           "variable": "IPP Contour Global TAV"
          },
          {
           "datetime": "2023-12-01T04:00:00",
           "hour": "2023-12-01T04:00:00",
           "value": 0,
           "variable": "IPP Contour Global TAV"
          },
          {
           "datetime": "2023-12-01T05:00:00",
           "hour": "2023-12-01T05:00:00",
           "value": 0,
           "variable": "IPP Contour Global TAV"
          },
          {
           "datetime": "2023-12-01T06:00:00",
           "hour": "2023-12-01T06:00:00",
           "value": 0,
           "variable": "IPP Contour Global TAV"
          },
          {
           "datetime": "2023-12-01T07:00:00",
           "hour": "2023-12-01T07:00:00",
           "value": 0,
           "variable": "IPP Contour Global TAV"
          },
          {
           "datetime": "2023-12-01T08:00:00",
           "hour": "2023-12-01T08:00:00",
           "value": 0,
           "variable": "IPP Contour Global TAV"
          },
          {
           "datetime": "2023-12-01T09:00:00",
           "hour": "2023-12-01T09:00:00",
           "value": 4.66,
           "variable": "IPP Contour Global TAV"
          },
          {
           "datetime": "2023-12-01T10:00:00",
           "hour": "2023-12-01T10:00:00",
           "value": 0,
           "variable": "IPP Contour Global TAV"
          },
          {
           "datetime": "2023-12-01T11:00:00",
           "hour": "2023-12-01T11:00:00",
           "value": 0,
           "variable": "IPP Contour Global TAV"
          },
          {
           "datetime": "2023-12-01T12:00:00",
           "hour": "2023-12-01T12:00:00",
           "value": 4.66,
           "variable": "IPP Contour Global TAV"
          },
          {
           "datetime": "2023-12-01T13:00:00",
           "hour": "2023-12-01T13:00:00",
           "value": 0,
           "variable": "IPP Contour Global TAV"
          },
          {
           "datetime": "2023-12-01T14:00:00",
           "hour": "2023-12-01T14:00:00",
           "value": 0,
           "variable": "IPP Contour Global TAV"
          },
          {
           "datetime": "2023-12-01T15:00:00",
           "hour": "2023-12-01T15:00:00",
           "value": 0,
           "variable": "IPP Contour Global TAV"
          },
          {
           "datetime": "2023-12-01T16:00:00",
           "hour": "2023-12-01T16:00:00",
           "value": 0,
           "variable": "IPP Contour Global TAV"
          },
          {
           "datetime": "2023-12-01T17:00:00",
           "hour": "2023-12-01T17:00:00",
           "value": 0,
           "variable": "IPP Contour Global TAV"
          },
          {
           "datetime": "2023-12-01T18:00:00",
           "hour": "2023-12-01T18:00:00",
           "value": 0,
           "variable": "IPP Contour Global TAV"
          },
          {
           "datetime": "2023-12-01T19:00:00",
           "hour": "2023-12-01T19:00:00",
           "value": 0,
           "variable": "IPP Contour Global TAV"
          },
          {
           "datetime": "2023-12-01T20:00:00",
           "hour": "2023-12-01T20:00:00",
           "value": 4.66,
           "variable": "IPP Contour Global TAV"
          },
          {
           "datetime": "2023-12-01T21:00:00",
           "hour": "2023-12-01T21:00:00",
           "value": 0,
           "variable": "IPP Contour Global TAV"
          },
          {
           "datetime": "2023-12-01T22:00:00",
           "hour": "2023-12-01T22:00:00",
           "value": 0,
           "variable": "IPP Contour Global TAV"
          },
          {
           "datetime": "2023-12-01T23:00:00",
           "hour": "2023-12-01T23:00:00",
           "value": 0,
           "variable": "IPP Contour Global TAV"
          },
          {
           "datetime": "2023-12-02T00:00:00",
           "hour": "2023-12-02T00:00:00",
           "value": 0,
           "variable": "IPP Contour Global TAV"
          },
          {
           "datetime": "2023-12-02T01:00:00",
           "hour": "2023-12-02T01:00:00",
           "value": 0,
           "variable": "IPP Contour Global TAV"
          },
          {
           "datetime": "2023-12-02T02:00:00",
           "hour": "2023-12-02T02:00:00",
           "value": 0,
           "variable": "IPP Contour Global TAV"
          },
          {
           "datetime": "2023-12-02T03:00:00",
           "hour": "2023-12-02T03:00:00",
           "value": 0,
           "variable": "IPP Contour Global TAV"
          },
          {
           "datetime": "2023-12-02T04:00:00",
           "hour": "2023-12-02T04:00:00",
           "value": 0,
           "variable": "IPP Contour Global TAV"
          },
          {
           "datetime": "2023-12-02T05:00:00",
           "hour": "2023-12-02T05:00:00",
           "value": 0,
           "variable": "IPP Contour Global TAV"
          },
          {
           "datetime": "2023-12-02T06:00:00",
           "hour": "2023-12-02T06:00:00",
           "value": 0,
           "variable": "IPP Contour Global TAV"
          },
          {
           "datetime": "2023-12-02T07:00:00",
           "hour": "2023-12-02T07:00:00",
           "value": 0,
           "variable": "IPP Contour Global TAV"
          },
          {
           "datetime": "2023-12-02T08:00:00",
           "hour": "2023-12-02T08:00:00",
           "value": 0,
           "variable": "IPP Contour Global TAV"
          },
          {
           "datetime": "2023-12-02T09:00:00",
           "hour": "2023-12-02T09:00:00",
           "value": 0,
           "variable": "IPP Contour Global TAV"
          },
          {
           "datetime": "2023-12-02T10:00:00",
           "hour": "2023-12-02T10:00:00",
           "value": 0,
           "variable": "IPP Contour Global TAV"
          },
          {
           "datetime": "2023-12-02T11:00:00",
           "hour": "2023-12-02T11:00:00",
           "value": 0,
           "variable": "IPP Contour Global TAV"
          },
          {
           "datetime": "2023-12-02T12:00:00",
           "hour": "2023-12-02T12:00:00",
           "value": 0,
           "variable": "IPP Contour Global TAV"
          },
          {
           "datetime": "2023-12-02T13:00:00",
           "hour": "2023-12-02T13:00:00",
           "value": 0,
           "variable": "IPP Contour Global TAV"
          },
          {
           "datetime": "2023-12-02T14:00:00",
           "hour": "2023-12-02T14:00:00",
           "value": 0,
           "variable": "IPP Contour Global TAV"
          },
          {
           "datetime": "2023-12-02T15:00:00",
           "hour": "2023-12-02T15:00:00",
           "value": 0,
           "variable": "IPP Contour Global TAV"
          },
          {
           "datetime": "2023-12-02T16:00:00",
           "hour": "2023-12-02T16:00:00",
           "value": 0,
           "variable": "IPP Contour Global TAV"
          },
          {
           "datetime": "2023-12-02T17:00:00",
           "hour": "2023-12-02T17:00:00",
           "value": 4.66,
           "variable": "IPP Contour Global TAV"
          },
          {
           "datetime": "2023-12-02T18:00:00",
           "hour": "2023-12-02T18:00:00",
           "value": 0,
           "variable": "IPP Contour Global TAV"
          },
          {
           "datetime": "2023-12-02T19:00:00",
           "hour": "2023-12-02T19:00:00",
           "value": 0,
           "variable": "IPP Contour Global TAV"
          },
          {
           "datetime": "2023-12-02T20:00:00",
           "hour": "2023-12-02T20:00:00",
           "value": 0,
           "variable": "IPP Contour Global TAV"
          },
          {
           "datetime": "2023-12-02T21:00:00",
           "hour": "2023-12-02T21:00:00",
           "value": 0,
           "variable": "IPP Contour Global TAV"
          },
          {
           "datetime": "2023-12-02T22:00:00",
           "hour": "2023-12-02T22:00:00",
           "value": 0,
           "variable": "IPP Contour Global TAV"
          },
          {
           "datetime": "2023-12-02T23:00:00",
           "hour": "2023-12-02T23:00:00",
           "value": 0,
           "variable": "IPP Contour Global TAV"
          },
          {
           "datetime": "2023-12-01T01:00:00",
           "hour": "2023-12-01T01:00:00",
           "value": 46.7,
           "variable": "Gouina"
          },
          {
           "datetime": "2023-12-01T02:00:00",
           "hour": "2023-12-01T02:00:00",
           "value": 46.7,
           "variable": "Gouina"
          },
          {
           "datetime": "2023-12-01T03:00:00",
           "hour": "2023-12-01T03:00:00",
           "value": 46.7,
           "variable": "Gouina"
          },
          {
           "datetime": "2023-12-01T04:00:00",
           "hour": "2023-12-01T04:00:00",
           "value": 41.29391962877298,
           "variable": "Gouina"
          },
          {
           "datetime": "2023-12-01T05:00:00",
           "hour": "2023-12-01T05:00:00",
           "value": 36.35907426794801,
           "variable": "Gouina"
          },
          {
           "datetime": "2023-12-01T06:00:00",
           "hour": "2023-12-01T06:00:00",
           "value": 37.88614856932381,
           "variable": "Gouina"
          },
          {
           "datetime": "2023-12-01T07:00:00",
           "hour": "2023-12-01T07:00:00",
           "value": 45.2,
           "variable": "Gouina"
          },
          {
           "datetime": "2023-12-01T08:00:00",
           "hour": "2023-12-01T08:00:00",
           "value": 13.530531084162051,
           "variable": "Gouina"
          },
          {
           "datetime": "2023-12-01T09:00:00",
           "hour": "2023-12-01T09:00:00",
           "value": 26.749358339548888,
           "variable": "Gouina"
          },
          {
           "datetime": "2023-12-01T10:00:00",
           "hour": "2023-12-01T10:00:00",
           "value": 14.848223460753088,
           "variable": "Gouina"
          },
          {
           "datetime": "2023-12-01T11:00:00",
           "hour": "2023-12-01T11:00:00",
           "value": 11.419487022450964,
           "variable": "Gouina"
          },
          {
           "datetime": "2023-12-01T12:00:00",
           "hour": "2023-12-01T12:00:00",
           "value": 0,
           "variable": "Gouina"
          },
          {
           "datetime": "2023-12-01T13:00:00",
           "hour": "2023-12-01T13:00:00",
           "value": 2,
           "variable": "Gouina"
          },
          {
           "datetime": "2023-12-01T14:00:00",
           "hour": "2023-12-01T14:00:00",
           "value": 0,
           "variable": "Gouina"
          },
          {
           "datetime": "2023-12-01T15:00:00",
           "hour": "2023-12-01T15:00:00",
           "value": 0,
           "variable": "Gouina"
          },
          {
           "datetime": "2023-12-01T16:00:00",
           "hour": "2023-12-01T16:00:00",
           "value": 25.42335872751994,
           "variable": "Gouina"
          },
          {
           "datetime": "2023-12-01T17:00:00",
           "hour": "2023-12-01T17:00:00",
           "value": 40.71792904856693,
           "variable": "Gouina"
          },
          {
           "datetime": "2023-12-01T18:00:00",
           "hour": "2023-12-01T18:00:00",
           "value": 41.49146931605097,
           "variable": "Gouina"
          },
          {
           "datetime": "2023-12-01T19:00:00",
           "hour": "2023-12-01T19:00:00",
           "value": 45.09819720613407,
           "variable": "Gouina"
          },
          {
           "datetime": "2023-12-01T20:00:00",
           "hour": "2023-12-01T20:00:00",
           "value": 46.7,
           "variable": "Gouina"
          },
          {
           "datetime": "2023-12-01T21:00:00",
           "hour": "2023-12-01T21:00:00",
           "value": 46.7,
           "variable": "Gouina"
          },
          {
           "datetime": "2023-12-01T22:00:00",
           "hour": "2023-12-01T22:00:00",
           "value": 46.7,
           "variable": "Gouina"
          },
          {
           "datetime": "2023-12-01T23:00:00",
           "hour": "2023-12-01T23:00:00",
           "value": 46.7,
           "variable": "Gouina"
          },
          {
           "datetime": "2023-12-02T00:00:00",
           "hour": "2023-12-02T00:00:00",
           "value": 46.7,
           "variable": "Gouina"
          },
          {
           "datetime": "2023-12-02T01:00:00",
           "hour": "2023-12-02T01:00:00",
           "value": 44.17237317606396,
           "variable": "Gouina"
          },
          {
           "datetime": "2023-12-02T02:00:00",
           "hour": "2023-12-02T02:00:00",
           "value": 37.404744287470976,
           "variable": "Gouina"
          },
          {
           "datetime": "2023-12-02T03:00:00",
           "hour": "2023-12-02T03:00:00",
           "value": 30.547321640486995,
           "variable": "Gouina"
          },
          {
           "datetime": "2023-12-02T04:00:00",
           "hour": "2023-12-02T04:00:00",
           "value": 28.195466020525046,
           "variable": "Gouina"
          },
          {
           "datetime": "2023-12-02T05:00:00",
           "hour": "2023-12-02T05:00:00",
           "value": 15.318764989596971,
           "variable": "Gouina"
          },
          {
           "datetime": "2023-12-02T06:00:00",
           "hour": "2023-12-02T06:00:00",
           "value": 14.761136140332056,
           "variable": "Gouina"
          },
          {
           "datetime": "2023-12-02T07:00:00",
           "hour": "2023-12-02T07:00:00",
           "value": 9.968284428846625,
           "variable": "Gouina"
          },
          {
           "datetime": "2023-12-02T08:00:00",
           "hour": "2023-12-02T08:00:00",
           "value": 0,
           "variable": "Gouina"
          },
          {
           "datetime": "2023-12-02T09:00:00",
           "hour": "2023-12-02T09:00:00",
           "value": 0,
           "variable": "Gouina"
          },
          {
           "datetime": "2023-12-02T10:00:00",
           "hour": "2023-12-02T10:00:00",
           "value": 0,
           "variable": "Gouina"
          },
          {
           "datetime": "2023-12-02T11:00:00",
           "hour": "2023-12-02T11:00:00",
           "value": 0,
           "variable": "Gouina"
          },
          {
           "datetime": "2023-12-02T12:00:00",
           "hour": "2023-12-02T12:00:00",
           "value": 4.129999999999946,
           "variable": "Gouina"
          },
          {
           "datetime": "2023-12-02T13:00:00",
           "hour": "2023-12-02T13:00:00",
           "value": 0,
           "variable": "Gouina"
          },
          {
           "datetime": "2023-12-02T14:00:00",
           "hour": "2023-12-02T14:00:00",
           "value": 0,
           "variable": "Gouina"
          },
          {
           "datetime": "2023-12-02T15:00:00",
           "hour": "2023-12-02T15:00:00",
           "value": 0,
           "variable": "Gouina"
          },
          {
           "datetime": "2023-12-02T16:00:00",
           "hour": "2023-12-02T16:00:00",
           "value": 0.5636526366539921,
           "variable": "Gouina"
          },
          {
           "datetime": "2023-12-02T17:00:00",
           "hour": "2023-12-02T17:00:00",
           "value": 20.371528719752114,
           "variable": "Gouina"
          },
          {
           "datetime": "2023-12-02T18:00:00",
           "hour": "2023-12-02T18:00:00",
           "value": 33.053349963638965,
           "variable": "Gouina"
          },
          {
           "datetime": "2023-12-02T19:00:00",
           "hour": "2023-12-02T19:00:00",
           "value": 46.7,
           "variable": "Gouina"
          },
          {
           "datetime": "2023-12-02T20:00:00",
           "hour": "2023-12-02T20:00:00",
           "value": 46.69999999999989,
           "variable": "Gouina"
          },
          {
           "datetime": "2023-12-02T21:00:00",
           "hour": "2023-12-02T21:00:00",
           "value": 46.7,
           "variable": "Gouina"
          },
          {
           "datetime": "2023-12-02T22:00:00",
           "hour": "2023-12-02T22:00:00",
           "value": 46.7,
           "variable": "Gouina"
          },
          {
           "datetime": "2023-12-02T23:00:00",
           "hour": "2023-12-02T23:00:00",
           "value": 46.7,
           "variable": "Gouina"
          },
          {
           "datetime": "2023-12-01T01:00:00",
           "hour": "2023-12-01T01:00:00",
           "value": 0,
           "variable": "BEL-AIR TAG4"
          },
          {
           "datetime": "2023-12-01T02:00:00",
           "hour": "2023-12-01T02:00:00",
           "value": 0,
           "variable": "BEL-AIR TAG4"
          },
          {
           "datetime": "2023-12-01T03:00:00",
           "hour": "2023-12-01T03:00:00",
           "value": 0,
           "variable": "BEL-AIR TAG4"
          },
          {
           "datetime": "2023-12-01T04:00:00",
           "hour": "2023-12-01T04:00:00",
           "value": 0,
           "variable": "BEL-AIR TAG4"
          },
          {
           "datetime": "2023-12-01T05:00:00",
           "hour": "2023-12-01T05:00:00",
           "value": 0,
           "variable": "BEL-AIR TAG4"
          },
          {
           "datetime": "2023-12-01T06:00:00",
           "hour": "2023-12-01T06:00:00",
           "value": 0,
           "variable": "BEL-AIR TAG4"
          },
          {
           "datetime": "2023-12-01T07:00:00",
           "hour": "2023-12-01T07:00:00",
           "value": 0,
           "variable": "BEL-AIR TAG4"
          },
          {
           "datetime": "2023-12-01T08:00:00",
           "hour": "2023-12-01T08:00:00",
           "value": 0,
           "variable": "BEL-AIR TAG4"
          },
          {
           "datetime": "2023-12-01T09:00:00",
           "hour": "2023-12-01T09:00:00",
           "value": 0,
           "variable": "BEL-AIR TAG4"
          },
          {
           "datetime": "2023-12-01T10:00:00",
           "hour": "2023-12-01T10:00:00",
           "value": 0,
           "variable": "BEL-AIR TAG4"
          },
          {
           "datetime": "2023-12-01T11:00:00",
           "hour": "2023-12-01T11:00:00",
           "value": 0,
           "variable": "BEL-AIR TAG4"
          },
          {
           "datetime": "2023-12-01T12:00:00",
           "hour": "2023-12-01T12:00:00",
           "value": 0,
           "variable": "BEL-AIR TAG4"
          },
          {
           "datetime": "2023-12-01T13:00:00",
           "hour": "2023-12-01T13:00:00",
           "value": 0,
           "variable": "BEL-AIR TAG4"
          },
          {
           "datetime": "2023-12-01T14:00:00",
           "hour": "2023-12-01T14:00:00",
           "value": 0,
           "variable": "BEL-AIR TAG4"
          },
          {
           "datetime": "2023-12-01T15:00:00",
           "hour": "2023-12-01T15:00:00",
           "value": 0,
           "variable": "BEL-AIR TAG4"
          },
          {
           "datetime": "2023-12-01T16:00:00",
           "hour": "2023-12-01T16:00:00",
           "value": 0,
           "variable": "BEL-AIR TAG4"
          },
          {
           "datetime": "2023-12-01T17:00:00",
           "hour": "2023-12-01T17:00:00",
           "value": 0,
           "variable": "BEL-AIR TAG4"
          },
          {
           "datetime": "2023-12-01T18:00:00",
           "hour": "2023-12-01T18:00:00",
           "value": 0,
           "variable": "BEL-AIR TAG4"
          },
          {
           "datetime": "2023-12-01T19:00:00",
           "hour": "2023-12-01T19:00:00",
           "value": 0,
           "variable": "BEL-AIR TAG4"
          },
          {
           "datetime": "2023-12-01T20:00:00",
           "hour": "2023-12-01T20:00:00",
           "value": 0,
           "variable": "BEL-AIR TAG4"
          },
          {
           "datetime": "2023-12-01T21:00:00",
           "hour": "2023-12-01T21:00:00",
           "value": 0,
           "variable": "BEL-AIR TAG4"
          },
          {
           "datetime": "2023-12-01T22:00:00",
           "hour": "2023-12-01T22:00:00",
           "value": 0,
           "variable": "BEL-AIR TAG4"
          },
          {
           "datetime": "2023-12-01T23:00:00",
           "hour": "2023-12-01T23:00:00",
           "value": 0,
           "variable": "BEL-AIR TAG4"
          },
          {
           "datetime": "2023-12-02T00:00:00",
           "hour": "2023-12-02T00:00:00",
           "value": 0,
           "variable": "BEL-AIR TAG4"
          },
          {
           "datetime": "2023-12-02T01:00:00",
           "hour": "2023-12-02T01:00:00",
           "value": 0,
           "variable": "BEL-AIR TAG4"
          },
          {
           "datetime": "2023-12-02T02:00:00",
           "hour": "2023-12-02T02:00:00",
           "value": 0,
           "variable": "BEL-AIR TAG4"
          },
          {
           "datetime": "2023-12-02T03:00:00",
           "hour": "2023-12-02T03:00:00",
           "value": 0,
           "variable": "BEL-AIR TAG4"
          },
          {
           "datetime": "2023-12-02T04:00:00",
           "hour": "2023-12-02T04:00:00",
           "value": 0,
           "variable": "BEL-AIR TAG4"
          },
          {
           "datetime": "2023-12-02T05:00:00",
           "hour": "2023-12-02T05:00:00",
           "value": 0,
           "variable": "BEL-AIR TAG4"
          },
          {
           "datetime": "2023-12-02T06:00:00",
           "hour": "2023-12-02T06:00:00",
           "value": 0,
           "variable": "BEL-AIR TAG4"
          },
          {
           "datetime": "2023-12-02T07:00:00",
           "hour": "2023-12-02T07:00:00",
           "value": 0,
           "variable": "BEL-AIR TAG4"
          },
          {
           "datetime": "2023-12-02T08:00:00",
           "hour": "2023-12-02T08:00:00",
           "value": 0,
           "variable": "BEL-AIR TAG4"
          },
          {
           "datetime": "2023-12-02T09:00:00",
           "hour": "2023-12-02T09:00:00",
           "value": 0,
           "variable": "BEL-AIR TAG4"
          },
          {
           "datetime": "2023-12-02T10:00:00",
           "hour": "2023-12-02T10:00:00",
           "value": 0,
           "variable": "BEL-AIR TAG4"
          },
          {
           "datetime": "2023-12-02T11:00:00",
           "hour": "2023-12-02T11:00:00",
           "value": 0,
           "variable": "BEL-AIR TAG4"
          },
          {
           "datetime": "2023-12-02T12:00:00",
           "hour": "2023-12-02T12:00:00",
           "value": 0,
           "variable": "BEL-AIR TAG4"
          },
          {
           "datetime": "2023-12-02T13:00:00",
           "hour": "2023-12-02T13:00:00",
           "value": 0,
           "variable": "BEL-AIR TAG4"
          },
          {
           "datetime": "2023-12-02T14:00:00",
           "hour": "2023-12-02T14:00:00",
           "value": 0,
           "variable": "BEL-AIR TAG4"
          },
          {
           "datetime": "2023-12-02T15:00:00",
           "hour": "2023-12-02T15:00:00",
           "value": 0,
           "variable": "BEL-AIR TAG4"
          },
          {
           "datetime": "2023-12-02T16:00:00",
           "hour": "2023-12-02T16:00:00",
           "value": 0,
           "variable": "BEL-AIR TAG4"
          },
          {
           "datetime": "2023-12-02T17:00:00",
           "hour": "2023-12-02T17:00:00",
           "value": 25,
           "variable": "BEL-AIR TAG4"
          },
          {
           "datetime": "2023-12-02T18:00:00",
           "hour": "2023-12-02T18:00:00",
           "value": 0,
           "variable": "BEL-AIR TAG4"
          },
          {
           "datetime": "2023-12-02T19:00:00",
           "hour": "2023-12-02T19:00:00",
           "value": 0,
           "variable": "BEL-AIR TAG4"
          },
          {
           "datetime": "2023-12-02T20:00:00",
           "hour": "2023-12-02T20:00:00",
           "value": 0,
           "variable": "BEL-AIR TAG4"
          },
          {
           "datetime": "2023-12-02T21:00:00",
           "hour": "2023-12-02T21:00:00",
           "value": 0,
           "variable": "BEL-AIR TAG4"
          },
          {
           "datetime": "2023-12-02T22:00:00",
           "hour": "2023-12-02T22:00:00",
           "value": 0,
           "variable": "BEL-AIR TAG4"
          },
          {
           "datetime": "2023-12-02T23:00:00",
           "hour": "2023-12-02T23:00:00",
           "value": 0,
           "variable": "BEL-AIR TAG4"
          },
          {
           "datetime": "2023-12-01T01:00:00",
           "hour": "2023-12-01T01:00:00",
           "value": 21.15,
           "variable": "Felou"
          },
          {
           "datetime": "2023-12-01T02:00:00",
           "hour": "2023-12-01T02:00:00",
           "value": 21.15,
           "variable": "Felou"
          },
          {
           "datetime": "2023-12-01T03:00:00",
           "hour": "2023-12-01T03:00:00",
           "value": 21.15,
           "variable": "Felou"
          },
          {
           "datetime": "2023-12-01T04:00:00",
           "hour": "2023-12-01T04:00:00",
           "value": 21.15,
           "variable": "Felou"
          },
          {
           "datetime": "2023-12-01T05:00:00",
           "hour": "2023-12-01T05:00:00",
           "value": 21.15,
           "variable": "Felou"
          },
          {
           "datetime": "2023-12-01T06:00:00",
           "hour": "2023-12-01T06:00:00",
           "value": 21.15,
           "variable": "Felou"
          },
          {
           "datetime": "2023-12-01T07:00:00",
           "hour": "2023-12-01T07:00:00",
           "value": 21.15,
           "variable": "Felou"
          },
          {
           "datetime": "2023-12-01T08:00:00",
           "hour": "2023-12-01T08:00:00",
           "value": 20.984734457918876,
           "variable": "Felou"
          },
          {
           "datetime": "2023-12-01T09:00:00",
           "hour": "2023-12-01T09:00:00",
           "value": 21.15,
           "variable": "Felou"
          },
          {
           "datetime": "2023-12-01T10:00:00",
           "hour": "2023-12-01T10:00:00",
           "value": 21.15,
           "variable": "Felou"
          },
          {
           "datetime": "2023-12-01T11:00:00",
           "hour": "2023-12-01T11:00:00",
           "value": 21.15,
           "variable": "Felou"
          },
          {
           "datetime": "2023-12-01T12:00:00",
           "hour": "2023-12-01T12:00:00",
           "value": 16.44468779373993,
           "variable": "Felou"
          },
          {
           "datetime": "2023-12-01T13:00:00",
           "hour": "2023-12-01T13:00:00",
           "value": 20.955275727057963,
           "variable": "Felou"
          },
          {
           "datetime": "2023-12-01T14:00:00",
           "hour": "2023-12-01T14:00:00",
           "value": 9.893823997795993,
           "variable": "Felou"
          },
          {
           "datetime": "2023-12-01T15:00:00",
           "hour": "2023-12-01T15:00:00",
           "value": 16.671350720772985,
           "variable": "Felou"
          },
          {
           "datetime": "2023-12-01T16:00:00",
           "hour": "2023-12-01T16:00:00",
           "value": 21.15,
           "variable": "Felou"
          },
          {
           "datetime": "2023-12-01T17:00:00",
           "hour": "2023-12-01T17:00:00",
           "value": 21.15,
           "variable": "Felou"
          },
          {
           "datetime": "2023-12-01T18:00:00",
           "hour": "2023-12-01T18:00:00",
           "value": 21.15,
           "variable": "Felou"
          },
          {
           "datetime": "2023-12-01T19:00:00",
           "hour": "2023-12-01T19:00:00",
           "value": 21.15,
           "variable": "Felou"
          },
          {
           "datetime": "2023-12-01T20:00:00",
           "hour": "2023-12-01T20:00:00",
           "value": 21.15,
           "variable": "Felou"
          },
          {
           "datetime": "2023-12-01T21:00:00",
           "hour": "2023-12-01T21:00:00",
           "value": 21.15,
           "variable": "Felou"
          },
          {
           "datetime": "2023-12-01T22:00:00",
           "hour": "2023-12-01T22:00:00",
           "value": 21.15,
           "variable": "Felou"
          },
          {
           "datetime": "2023-12-01T23:00:00",
           "hour": "2023-12-01T23:00:00",
           "value": 21.15,
           "variable": "Felou"
          },
          {
           "datetime": "2023-12-02T00:00:00",
           "hour": "2023-12-02T00:00:00",
           "value": 21.15,
           "variable": "Felou"
          },
          {
           "datetime": "2023-12-02T01:00:00",
           "hour": "2023-12-02T01:00:00",
           "value": 21.15,
           "variable": "Felou"
          },
          {
           "datetime": "2023-12-02T02:00:00",
           "hour": "2023-12-02T02:00:00",
           "value": 21.15,
           "variable": "Felou"
          },
          {
           "datetime": "2023-12-02T03:00:00",
           "hour": "2023-12-02T03:00:00",
           "value": 21.15,
           "variable": "Felou"
          },
          {
           "datetime": "2023-12-02T04:00:00",
           "hour": "2023-12-02T04:00:00",
           "value": 21.15,
           "variable": "Felou"
          },
          {
           "datetime": "2023-12-02T05:00:00",
           "hour": "2023-12-02T05:00:00",
           "value": 21.15,
           "variable": "Felou"
          },
          {
           "datetime": "2023-12-02T06:00:00",
           "hour": "2023-12-02T06:00:00",
           "value": 21.15,
           "variable": "Felou"
          },
          {
           "datetime": "2023-12-02T07:00:00",
           "hour": "2023-12-02T07:00:00",
           "value": 21.15,
           "variable": "Felou"
          },
          {
           "datetime": "2023-12-02T08:00:00",
           "hour": "2023-12-02T08:00:00",
           "value": 5.647650719658991,
           "variable": "Felou"
          },
          {
           "datetime": "2023-12-02T09:00:00",
           "hour": "2023-12-02T09:00:00",
           "value": 0,
           "variable": "Felou"
          },
          {
           "datetime": "2023-12-02T10:00:00",
           "hour": "2023-12-02T10:00:00",
           "value": 15.487180739556983,
           "variable": "Felou"
          },
          {
           "datetime": "2023-12-02T11:00:00",
           "hour": "2023-12-02T11:00:00",
           "value": 2.637566101316958,
           "variable": "Felou"
          },
          {
           "datetime": "2023-12-02T12:00:00",
           "hour": "2023-12-02T12:00:00",
           "value": 0,
           "variable": "Felou"
          },
          {
           "datetime": "2023-12-02T13:00:00",
           "hour": "2023-12-02T13:00:00",
           "value": 0,
           "variable": "Felou"
          },
          {
           "datetime": "2023-12-02T14:00:00",
           "hour": "2023-12-02T14:00:00",
           "value": 0,
           "variable": "Felou"
          },
          {
           "datetime": "2023-12-02T15:00:00",
           "hour": "2023-12-02T15:00:00",
           "value": 3.1325541371639503,
           "variable": "Felou"
          },
          {
           "datetime": "2023-12-02T16:00:00",
           "hour": "2023-12-02T16:00:00",
           "value": 21.15,
           "variable": "Felou"
          },
          {
           "datetime": "2023-12-02T17:00:00",
           "hour": "2023-12-02T17:00:00",
           "value": 16.06423564012379,
           "variable": "Felou"
          },
          {
           "datetime": "2023-12-02T18:00:00",
           "hour": "2023-12-02T18:00:00",
           "value": 21.15,
           "variable": "Felou"
          },
          {
           "datetime": "2023-12-02T19:00:00",
           "hour": "2023-12-02T19:00:00",
           "value": 21.15,
           "variable": "Felou"
          },
          {
           "datetime": "2023-12-02T20:00:00",
           "hour": "2023-12-02T20:00:00",
           "value": 21.15,
           "variable": "Felou"
          },
          {
           "datetime": "2023-12-02T21:00:00",
           "hour": "2023-12-02T21:00:00",
           "value": 19.65,
           "variable": "Felou"
          },
          {
           "datetime": "2023-12-02T22:00:00",
           "hour": "2023-12-02T22:00:00",
           "value": 21.15,
           "variable": "Felou"
          },
          {
           "datetime": "2023-12-02T23:00:00",
           "hour": "2023-12-02T23:00:00",
           "value": 21.15,
           "variable": "Felou"
          },
          {
           "datetime": "2023-12-01T01:00:00",
           "hour": "2023-12-01T01:00:00",
           "value": 0,
           "variable": "IPP Malicounda Power TAV"
          },
          {
           "datetime": "2023-12-01T02:00:00",
           "hour": "2023-12-01T02:00:00",
           "value": 0,
           "variable": "IPP Malicounda Power TAV"
          },
          {
           "datetime": "2023-12-01T03:00:00",
           "hour": "2023-12-01T03:00:00",
           "value": 0,
           "variable": "IPP Malicounda Power TAV"
          },
          {
           "datetime": "2023-12-01T04:00:00",
           "hour": "2023-12-01T04:00:00",
           "value": 0,
           "variable": "IPP Malicounda Power TAV"
          },
          {
           "datetime": "2023-12-01T05:00:00",
           "hour": "2023-12-01T05:00:00",
           "value": 0,
           "variable": "IPP Malicounda Power TAV"
          },
          {
           "datetime": "2023-12-01T06:00:00",
           "hour": "2023-12-01T06:00:00",
           "value": 0,
           "variable": "IPP Malicounda Power TAV"
          },
          {
           "datetime": "2023-12-01T07:00:00",
           "hour": "2023-12-01T07:00:00",
           "value": 0,
           "variable": "IPP Malicounda Power TAV"
          },
          {
           "datetime": "2023-12-01T08:00:00",
           "hour": "2023-12-01T08:00:00",
           "value": 0,
           "variable": "IPP Malicounda Power TAV"
          },
          {
           "datetime": "2023-12-01T09:00:00",
           "hour": "2023-12-01T09:00:00",
           "value": 0,
           "variable": "IPP Malicounda Power TAV"
          },
          {
           "datetime": "2023-12-01T10:00:00",
           "hour": "2023-12-01T10:00:00",
           "value": 0,
           "variable": "IPP Malicounda Power TAV"
          },
          {
           "datetime": "2023-12-01T11:00:00",
           "hour": "2023-12-01T11:00:00",
           "value": 0,
           "variable": "IPP Malicounda Power TAV"
          },
          {
           "datetime": "2023-12-01T12:00:00",
           "hour": "2023-12-01T12:00:00",
           "value": 0,
           "variable": "IPP Malicounda Power TAV"
          },
          {
           "datetime": "2023-12-01T13:00:00",
           "hour": "2023-12-01T13:00:00",
           "value": 0,
           "variable": "IPP Malicounda Power TAV"
          },
          {
           "datetime": "2023-12-01T14:00:00",
           "hour": "2023-12-01T14:00:00",
           "value": 0,
           "variable": "IPP Malicounda Power TAV"
          },
          {
           "datetime": "2023-12-01T15:00:00",
           "hour": "2023-12-01T15:00:00",
           "value": 0,
           "variable": "IPP Malicounda Power TAV"
          },
          {
           "datetime": "2023-12-01T16:00:00",
           "hour": "2023-12-01T16:00:00",
           "value": 0,
           "variable": "IPP Malicounda Power TAV"
          },
          {
           "datetime": "2023-12-01T17:00:00",
           "hour": "2023-12-01T17:00:00",
           "value": 0,
           "variable": "IPP Malicounda Power TAV"
          },
          {
           "datetime": "2023-12-01T18:00:00",
           "hour": "2023-12-01T18:00:00",
           "value": 0,
           "variable": "IPP Malicounda Power TAV"
          },
          {
           "datetime": "2023-12-01T19:00:00",
           "hour": "2023-12-01T19:00:00",
           "value": 0,
           "variable": "IPP Malicounda Power TAV"
          },
          {
           "datetime": "2023-12-01T20:00:00",
           "hour": "2023-12-01T20:00:00",
           "value": 0,
           "variable": "IPP Malicounda Power TAV"
          },
          {
           "datetime": "2023-12-01T21:00:00",
           "hour": "2023-12-01T21:00:00",
           "value": 0,
           "variable": "IPP Malicounda Power TAV"
          },
          {
           "datetime": "2023-12-01T22:00:00",
           "hour": "2023-12-01T22:00:00",
           "value": 0,
           "variable": "IPP Malicounda Power TAV"
          },
          {
           "datetime": "2023-12-01T23:00:00",
           "hour": "2023-12-01T23:00:00",
           "value": 0,
           "variable": "IPP Malicounda Power TAV"
          },
          {
           "datetime": "2023-12-02T00:00:00",
           "hour": "2023-12-02T00:00:00",
           "value": 0,
           "variable": "IPP Malicounda Power TAV"
          },
          {
           "datetime": "2023-12-02T01:00:00",
           "hour": "2023-12-02T01:00:00",
           "value": 0,
           "variable": "IPP Malicounda Power TAV"
          },
          {
           "datetime": "2023-12-02T02:00:00",
           "hour": "2023-12-02T02:00:00",
           "value": 0,
           "variable": "IPP Malicounda Power TAV"
          },
          {
           "datetime": "2023-12-02T03:00:00",
           "hour": "2023-12-02T03:00:00",
           "value": 0,
           "variable": "IPP Malicounda Power TAV"
          },
          {
           "datetime": "2023-12-02T04:00:00",
           "hour": "2023-12-02T04:00:00",
           "value": 0,
           "variable": "IPP Malicounda Power TAV"
          },
          {
           "datetime": "2023-12-02T05:00:00",
           "hour": "2023-12-02T05:00:00",
           "value": 0,
           "variable": "IPP Malicounda Power TAV"
          },
          {
           "datetime": "2023-12-02T06:00:00",
           "hour": "2023-12-02T06:00:00",
           "value": 0,
           "variable": "IPP Malicounda Power TAV"
          },
          {
           "datetime": "2023-12-02T07:00:00",
           "hour": "2023-12-02T07:00:00",
           "value": 0,
           "variable": "IPP Malicounda Power TAV"
          },
          {
           "datetime": "2023-12-02T08:00:00",
           "hour": "2023-12-02T08:00:00",
           "value": 0,
           "variable": "IPP Malicounda Power TAV"
          },
          {
           "datetime": "2023-12-02T09:00:00",
           "hour": "2023-12-02T09:00:00",
           "value": 0,
           "variable": "IPP Malicounda Power TAV"
          },
          {
           "datetime": "2023-12-02T10:00:00",
           "hour": "2023-12-02T10:00:00",
           "value": 0,
           "variable": "IPP Malicounda Power TAV"
          },
          {
           "datetime": "2023-12-02T11:00:00",
           "hour": "2023-12-02T11:00:00",
           "value": 0,
           "variable": "IPP Malicounda Power TAV"
          },
          {
           "datetime": "2023-12-02T12:00:00",
           "hour": "2023-12-02T12:00:00",
           "value": 0,
           "variable": "IPP Malicounda Power TAV"
          },
          {
           "datetime": "2023-12-02T13:00:00",
           "hour": "2023-12-02T13:00:00",
           "value": 0,
           "variable": "IPP Malicounda Power TAV"
          },
          {
           "datetime": "2023-12-02T14:00:00",
           "hour": "2023-12-02T14:00:00",
           "value": 0,
           "variable": "IPP Malicounda Power TAV"
          },
          {
           "datetime": "2023-12-02T15:00:00",
           "hour": "2023-12-02T15:00:00",
           "value": 0,
           "variable": "IPP Malicounda Power TAV"
          },
          {
           "datetime": "2023-12-02T16:00:00",
           "hour": "2023-12-02T16:00:00",
           "value": 0,
           "variable": "IPP Malicounda Power TAV"
          },
          {
           "datetime": "2023-12-02T17:00:00",
           "hour": "2023-12-02T17:00:00",
           "value": 0,
           "variable": "IPP Malicounda Power TAV"
          },
          {
           "datetime": "2023-12-02T18:00:00",
           "hour": "2023-12-02T18:00:00",
           "value": 0,
           "variable": "IPP Malicounda Power TAV"
          },
          {
           "datetime": "2023-12-02T19:00:00",
           "hour": "2023-12-02T19:00:00",
           "value": 0,
           "variable": "IPP Malicounda Power TAV"
          },
          {
           "datetime": "2023-12-02T20:00:00",
           "hour": "2023-12-02T20:00:00",
           "value": 0,
           "variable": "IPP Malicounda Power TAV"
          },
          {
           "datetime": "2023-12-02T21:00:00",
           "hour": "2023-12-02T21:00:00",
           "value": 9.44,
           "variable": "IPP Malicounda Power TAV"
          },
          {
           "datetime": "2023-12-02T22:00:00",
           "hour": "2023-12-02T22:00:00",
           "value": 0,
           "variable": "IPP Malicounda Power TAV"
          },
          {
           "datetime": "2023-12-02T23:00:00",
           "hour": "2023-12-02T23:00:00",
           "value": 0,
           "variable": "IPP Malicounda Power TAV"
          },
          {
           "datetime": "2023-12-01T01:00:00",
           "hour": "2023-12-01T01:00:00",
           "value": 0,
           "variable": "SLACK"
          },
          {
           "datetime": "2023-12-01T02:00:00",
           "hour": "2023-12-01T02:00:00",
           "value": 0,
           "variable": "SLACK"
          },
          {
           "datetime": "2023-12-01T03:00:00",
           "hour": "2023-12-01T03:00:00",
           "value": 0,
           "variable": "SLACK"
          },
          {
           "datetime": "2023-12-01T04:00:00",
           "hour": "2023-12-01T04:00:00",
           "value": 0,
           "variable": "SLACK"
          },
          {
           "datetime": "2023-12-01T05:00:00",
           "hour": "2023-12-01T05:00:00",
           "value": 0,
           "variable": "SLACK"
          },
          {
           "datetime": "2023-12-01T06:00:00",
           "hour": "2023-12-01T06:00:00",
           "value": 0,
           "variable": "SLACK"
          },
          {
           "datetime": "2023-12-01T07:00:00",
           "hour": "2023-12-01T07:00:00",
           "value": 0,
           "variable": "SLACK"
          },
          {
           "datetime": "2023-12-01T08:00:00",
           "hour": "2023-12-01T08:00:00",
           "value": 0,
           "variable": "SLACK"
          },
          {
           "datetime": "2023-12-01T09:00:00",
           "hour": "2023-12-01T09:00:00",
           "value": 0,
           "variable": "SLACK"
          },
          {
           "datetime": "2023-12-01T10:00:00",
           "hour": "2023-12-01T10:00:00",
           "value": 0,
           "variable": "SLACK"
          },
          {
           "datetime": "2023-12-01T11:00:00",
           "hour": "2023-12-01T11:00:00",
           "value": 0,
           "variable": "SLACK"
          },
          {
           "datetime": "2023-12-01T12:00:00",
           "hour": "2023-12-01T12:00:00",
           "value": 0,
           "variable": "SLACK"
          },
          {
           "datetime": "2023-12-01T13:00:00",
           "hour": "2023-12-01T13:00:00",
           "value": 0,
           "variable": "SLACK"
          },
          {
           "datetime": "2023-12-01T14:00:00",
           "hour": "2023-12-01T14:00:00",
           "value": 0,
           "variable": "SLACK"
          },
          {
           "datetime": "2023-12-01T15:00:00",
           "hour": "2023-12-01T15:00:00",
           "value": 0,
           "variable": "SLACK"
          },
          {
           "datetime": "2023-12-01T16:00:00",
           "hour": "2023-12-01T16:00:00",
           "value": 0,
           "variable": "SLACK"
          },
          {
           "datetime": "2023-12-01T17:00:00",
           "hour": "2023-12-01T17:00:00",
           "value": 0,
           "variable": "SLACK"
          },
          {
           "datetime": "2023-12-01T18:00:00",
           "hour": "2023-12-01T18:00:00",
           "value": 0,
           "variable": "SLACK"
          },
          {
           "datetime": "2023-12-01T19:00:00",
           "hour": "2023-12-01T19:00:00",
           "value": 0,
           "variable": "SLACK"
          },
          {
           "datetime": "2023-12-01T20:00:00",
           "hour": "2023-12-01T20:00:00",
           "value": 0,
           "variable": "SLACK"
          },
          {
           "datetime": "2023-12-01T21:00:00",
           "hour": "2023-12-01T21:00:00",
           "value": 0,
           "variable": "SLACK"
          },
          {
           "datetime": "2023-12-01T22:00:00",
           "hour": "2023-12-01T22:00:00",
           "value": 0,
           "variable": "SLACK"
          },
          {
           "datetime": "2023-12-01T23:00:00",
           "hour": "2023-12-01T23:00:00",
           "value": 0,
           "variable": "SLACK"
          },
          {
           "datetime": "2023-12-02T00:00:00",
           "hour": "2023-12-02T00:00:00",
           "value": 0,
           "variable": "SLACK"
          },
          {
           "datetime": "2023-12-02T01:00:00",
           "hour": "2023-12-02T01:00:00",
           "value": 0,
           "variable": "SLACK"
          },
          {
           "datetime": "2023-12-02T02:00:00",
           "hour": "2023-12-02T02:00:00",
           "value": 0,
           "variable": "SLACK"
          },
          {
           "datetime": "2023-12-02T03:00:00",
           "hour": "2023-12-02T03:00:00",
           "value": 0,
           "variable": "SLACK"
          },
          {
           "datetime": "2023-12-02T04:00:00",
           "hour": "2023-12-02T04:00:00",
           "value": 0,
           "variable": "SLACK"
          },
          {
           "datetime": "2023-12-02T05:00:00",
           "hour": "2023-12-02T05:00:00",
           "value": 0,
           "variable": "SLACK"
          },
          {
           "datetime": "2023-12-02T06:00:00",
           "hour": "2023-12-02T06:00:00",
           "value": 0,
           "variable": "SLACK"
          },
          {
           "datetime": "2023-12-02T07:00:00",
           "hour": "2023-12-02T07:00:00",
           "value": 0,
           "variable": "SLACK"
          },
          {
           "datetime": "2023-12-02T08:00:00",
           "hour": "2023-12-02T08:00:00",
           "value": 0,
           "variable": "SLACK"
          },
          {
           "datetime": "2023-12-02T09:00:00",
           "hour": "2023-12-02T09:00:00",
           "value": 0,
           "variable": "SLACK"
          },
          {
           "datetime": "2023-12-02T10:00:00",
           "hour": "2023-12-02T10:00:00",
           "value": 0,
           "variable": "SLACK"
          },
          {
           "datetime": "2023-12-02T11:00:00",
           "hour": "2023-12-02T11:00:00",
           "value": 0,
           "variable": "SLACK"
          },
          {
           "datetime": "2023-12-02T12:00:00",
           "hour": "2023-12-02T12:00:00",
           "value": 0,
           "variable": "SLACK"
          },
          {
           "datetime": "2023-12-02T13:00:00",
           "hour": "2023-12-02T13:00:00",
           "value": 0,
           "variable": "SLACK"
          },
          {
           "datetime": "2023-12-02T14:00:00",
           "hour": "2023-12-02T14:00:00",
           "value": 0,
           "variable": "SLACK"
          },
          {
           "datetime": "2023-12-02T15:00:00",
           "hour": "2023-12-02T15:00:00",
           "value": 0,
           "variable": "SLACK"
          },
          {
           "datetime": "2023-12-02T16:00:00",
           "hour": "2023-12-02T16:00:00",
           "value": 0,
           "variable": "SLACK"
          },
          {
           "datetime": "2023-12-02T17:00:00",
           "hour": "2023-12-02T17:00:00",
           "value": 0,
           "variable": "SLACK"
          },
          {
           "datetime": "2023-12-02T18:00:00",
           "hour": "2023-12-02T18:00:00",
           "value": 0,
           "variable": "SLACK"
          },
          {
           "datetime": "2023-12-02T19:00:00",
           "hour": "2023-12-02T19:00:00",
           "value": 0,
           "variable": "SLACK"
          },
          {
           "datetime": "2023-12-02T20:00:00",
           "hour": "2023-12-02T20:00:00",
           "value": 0,
           "variable": "SLACK"
          },
          {
           "datetime": "2023-12-02T21:00:00",
           "hour": "2023-12-02T21:00:00",
           "value": 0,
           "variable": "SLACK"
          },
          {
           "datetime": "2023-12-02T22:00:00",
           "hour": "2023-12-02T22:00:00",
           "value": 0,
           "variable": "SLACK"
          },
          {
           "datetime": "2023-12-02T23:00:00",
           "hour": "2023-12-02T23:00:00",
           "value": 0,
           "variable": "SLACK"
          },
          {
           "datetime": "2023-12-01T01:00:00",
           "hour": "2023-12-01T01:00:00",
           "value": 39.95,
           "variable": "Manantali"
          },
          {
           "datetime": "2023-12-01T02:00:00",
           "hour": "2023-12-01T02:00:00",
           "value": 39.95,
           "variable": "Manantali"
          },
          {
           "datetime": "2023-12-01T03:00:00",
           "hour": "2023-12-01T03:00:00",
           "value": 39.95,
           "variable": "Manantali"
          },
          {
           "datetime": "2023-12-01T04:00:00",
           "hour": "2023-12-01T04:00:00",
           "value": 39.95,
           "variable": "Manantali"
          },
          {
           "datetime": "2023-12-01T05:00:00",
           "hour": "2023-12-01T05:00:00",
           "value": 39.95,
           "variable": "Manantali"
          },
          {
           "datetime": "2023-12-01T06:00:00",
           "hour": "2023-12-01T06:00:00",
           "value": 39.95,
           "variable": "Manantali"
          },
          {
           "datetime": "2023-12-01T07:00:00",
           "hour": "2023-12-01T07:00:00",
           "value": 39.95,
           "variable": "Manantali"
          },
          {
           "datetime": "2023-12-01T08:00:00",
           "hour": "2023-12-01T08:00:00",
           "value": 39.95,
           "variable": "Manantali"
          },
          {
           "datetime": "2023-12-01T09:00:00",
           "hour": "2023-12-01T09:00:00",
           "value": 39.95,
           "variable": "Manantali"
          },
          {
           "datetime": "2023-12-01T10:00:00",
           "hour": "2023-12-01T10:00:00",
           "value": 39.95,
           "variable": "Manantali"
          },
          {
           "datetime": "2023-12-01T11:00:00",
           "hour": "2023-12-01T11:00:00",
           "value": 39.95,
           "variable": "Manantali"
          },
          {
           "datetime": "2023-12-01T12:00:00",
           "hour": "2023-12-01T12:00:00",
           "value": 39.95,
           "variable": "Manantali"
          },
          {
           "datetime": "2023-12-01T13:00:00",
           "hour": "2023-12-01T13:00:00",
           "value": 39.95,
           "variable": "Manantali"
          },
          {
           "datetime": "2023-12-01T14:00:00",
           "hour": "2023-12-01T14:00:00",
           "value": 39.95,
           "variable": "Manantali"
          },
          {
           "datetime": "2023-12-01T15:00:00",
           "hour": "2023-12-01T15:00:00",
           "value": 39.95,
           "variable": "Manantali"
          },
          {
           "datetime": "2023-12-01T16:00:00",
           "hour": "2023-12-01T16:00:00",
           "value": 39.95,
           "variable": "Manantali"
          },
          {
           "datetime": "2023-12-01T17:00:00",
           "hour": "2023-12-01T17:00:00",
           "value": 39.95,
           "variable": "Manantali"
          },
          {
           "datetime": "2023-12-01T18:00:00",
           "hour": "2023-12-01T18:00:00",
           "value": 39.95,
           "variable": "Manantali"
          },
          {
           "datetime": "2023-12-01T19:00:00",
           "hour": "2023-12-01T19:00:00",
           "value": 39.95,
           "variable": "Manantali"
          },
          {
           "datetime": "2023-12-01T20:00:00",
           "hour": "2023-12-01T20:00:00",
           "value": 39.95,
           "variable": "Manantali"
          },
          {
           "datetime": "2023-12-01T21:00:00",
           "hour": "2023-12-01T21:00:00",
           "value": 39.95,
           "variable": "Manantali"
          },
          {
           "datetime": "2023-12-01T22:00:00",
           "hour": "2023-12-01T22:00:00",
           "value": 39.95,
           "variable": "Manantali"
          },
          {
           "datetime": "2023-12-01T23:00:00",
           "hour": "2023-12-01T23:00:00",
           "value": 39.95,
           "variable": "Manantali"
          },
          {
           "datetime": "2023-12-02T00:00:00",
           "hour": "2023-12-02T00:00:00",
           "value": 39.95,
           "variable": "Manantali"
          },
          {
           "datetime": "2023-12-02T01:00:00",
           "hour": "2023-12-02T01:00:00",
           "value": 39.95,
           "variable": "Manantali"
          },
          {
           "datetime": "2023-12-02T02:00:00",
           "hour": "2023-12-02T02:00:00",
           "value": 39.95,
           "variable": "Manantali"
          },
          {
           "datetime": "2023-12-02T03:00:00",
           "hour": "2023-12-02T03:00:00",
           "value": 39.95,
           "variable": "Manantali"
          },
          {
           "datetime": "2023-12-02T04:00:00",
           "hour": "2023-12-02T04:00:00",
           "value": 39.95,
           "variable": "Manantali"
          },
          {
           "datetime": "2023-12-02T05:00:00",
           "hour": "2023-12-02T05:00:00",
           "value": 39.95,
           "variable": "Manantali"
          },
          {
           "datetime": "2023-12-02T06:00:00",
           "hour": "2023-12-02T06:00:00",
           "value": 39.95,
           "variable": "Manantali"
          },
          {
           "datetime": "2023-12-02T07:00:00",
           "hour": "2023-12-02T07:00:00",
           "value": 39.95,
           "variable": "Manantali"
          },
          {
           "datetime": "2023-12-02T08:00:00",
           "hour": "2023-12-02T08:00:00",
           "value": 39.95,
           "variable": "Manantali"
          },
          {
           "datetime": "2023-12-02T09:00:00",
           "hour": "2023-12-02T09:00:00",
           "value": 37.61078204552891,
           "variable": "Manantali"
          },
          {
           "datetime": "2023-12-02T10:00:00",
           "hour": "2023-12-02T10:00:00",
           "value": 39.95,
           "variable": "Manantali"
          },
          {
           "datetime": "2023-12-02T11:00:00",
           "hour": "2023-12-02T11:00:00",
           "value": 39.95,
           "variable": "Manantali"
          },
          {
           "datetime": "2023-12-02T12:00:00",
           "hour": "2023-12-02T12:00:00",
           "value": 20.079391548894034,
           "variable": "Manantali"
          },
          {
           "datetime": "2023-12-02T13:00:00",
           "hour": "2023-12-02T13:00:00",
           "value": 37.00495999200599,
           "variable": "Manantali"
          },
          {
           "datetime": "2023-12-02T14:00:00",
           "hour": "2023-12-02T14:00:00",
           "value": 37.046333445111955,
           "variable": "Manantali"
          },
          {
           "datetime": "2023-12-02T15:00:00",
           "hour": "2023-12-02T15:00:00",
           "value": 39.95,
           "variable": "Manantali"
          },
          {
           "datetime": "2023-12-02T16:00:00",
           "hour": "2023-12-02T16:00:00",
           "value": 39.95,
           "variable": "Manantali"
          },
          {
           "datetime": "2023-12-02T17:00:00",
           "hour": "2023-12-02T17:00:00",
           "value": 39.95,
           "variable": "Manantali"
          },
          {
           "datetime": "2023-12-02T18:00:00",
           "hour": "2023-12-02T18:00:00",
           "value": 39.95,
           "variable": "Manantali"
          },
          {
           "datetime": "2023-12-02T19:00:00",
           "hour": "2023-12-02T19:00:00",
           "value": 39.95,
           "variable": "Manantali"
          },
          {
           "datetime": "2023-12-02T20:00:00",
           "hour": "2023-12-02T20:00:00",
           "value": 39.95,
           "variable": "Manantali"
          },
          {
           "datetime": "2023-12-02T21:00:00",
           "hour": "2023-12-02T21:00:00",
           "value": 39.95,
           "variable": "Manantali"
          },
          {
           "datetime": "2023-12-02T22:00:00",
           "hour": "2023-12-02T22:00:00",
           "value": 39.95,
           "variable": "Manantali"
          },
          {
           "datetime": "2023-12-02T23:00:00",
           "hour": "2023-12-02T23:00:00",
           "value": 39.95,
           "variable": "Manantali"
          },
          {
           "datetime": "2023-12-01T01:00:00",
           "hour": "2023-12-01T01:00:00",
           "value": 50,
           "variable": "Kaleta"
          },
          {
           "datetime": "2023-12-01T02:00:00",
           "hour": "2023-12-01T02:00:00",
           "value": 50,
           "variable": "Kaleta"
          },
          {
           "datetime": "2023-12-01T03:00:00",
           "hour": "2023-12-01T03:00:00",
           "value": 50,
           "variable": "Kaleta"
          },
          {
           "datetime": "2023-12-01T04:00:00",
           "hour": "2023-12-01T04:00:00",
           "value": 50,
           "variable": "Kaleta"
          },
          {
           "datetime": "2023-12-01T05:00:00",
           "hour": "2023-12-01T05:00:00",
           "value": 50,
           "variable": "Kaleta"
          },
          {
           "datetime": "2023-12-01T06:00:00",
           "hour": "2023-12-01T06:00:00",
           "value": 50,
           "variable": "Kaleta"
          },
          {
           "datetime": "2023-12-01T07:00:00",
           "hour": "2023-12-01T07:00:00",
           "value": 50,
           "variable": "Kaleta"
          },
          {
           "datetime": "2023-12-01T08:00:00",
           "hour": "2023-12-01T08:00:00",
           "value": 50,
           "variable": "Kaleta"
          },
          {
           "datetime": "2023-12-01T09:00:00",
           "hour": "2023-12-01T09:00:00",
           "value": 47.5,
           "variable": "Kaleta"
          },
          {
           "datetime": "2023-12-01T10:00:00",
           "hour": "2023-12-01T10:00:00",
           "value": 50,
           "variable": "Kaleta"
          },
          {
           "datetime": "2023-12-01T11:00:00",
           "hour": "2023-12-01T11:00:00",
           "value": 50,
           "variable": "Kaleta"
          },
          {
           "datetime": "2023-12-01T12:00:00",
           "hour": "2023-12-01T12:00:00",
           "value": 50,
           "variable": "Kaleta"
          },
          {
           "datetime": "2023-12-01T13:00:00",
           "hour": "2023-12-01T13:00:00",
           "value": 50,
           "variable": "Kaleta"
          },
          {
           "datetime": "2023-12-01T14:00:00",
           "hour": "2023-12-01T14:00:00",
           "value": 50,
           "variable": "Kaleta"
          },
          {
           "datetime": "2023-12-01T15:00:00",
           "hour": "2023-12-01T15:00:00",
           "value": 50,
           "variable": "Kaleta"
          },
          {
           "datetime": "2023-12-01T16:00:00",
           "hour": "2023-12-01T16:00:00",
           "value": 50,
           "variable": "Kaleta"
          },
          {
           "datetime": "2023-12-01T17:00:00",
           "hour": "2023-12-01T17:00:00",
           "value": 50,
           "variable": "Kaleta"
          },
          {
           "datetime": "2023-12-01T18:00:00",
           "hour": "2023-12-01T18:00:00",
           "value": 50,
           "variable": "Kaleta"
          },
          {
           "datetime": "2023-12-01T19:00:00",
           "hour": "2023-12-01T19:00:00",
           "value": 50,
           "variable": "Kaleta"
          },
          {
           "datetime": "2023-12-01T20:00:00",
           "hour": "2023-12-01T20:00:00",
           "value": 50,
           "variable": "Kaleta"
          },
          {
           "datetime": "2023-12-01T21:00:00",
           "hour": "2023-12-01T21:00:00",
           "value": 50,
           "variable": "Kaleta"
          },
          {
           "datetime": "2023-12-01T22:00:00",
           "hour": "2023-12-01T22:00:00",
           "value": 50,
           "variable": "Kaleta"
          },
          {
           "datetime": "2023-12-01T23:00:00",
           "hour": "2023-12-01T23:00:00",
           "value": 50,
           "variable": "Kaleta"
          },
          {
           "datetime": "2023-12-02T00:00:00",
           "hour": "2023-12-02T00:00:00",
           "value": 50,
           "variable": "Kaleta"
          },
          {
           "datetime": "2023-12-02T01:00:00",
           "hour": "2023-12-02T01:00:00",
           "value": 50,
           "variable": "Kaleta"
          },
          {
           "datetime": "2023-12-02T02:00:00",
           "hour": "2023-12-02T02:00:00",
           "value": 50,
           "variable": "Kaleta"
          },
          {
           "datetime": "2023-12-02T03:00:00",
           "hour": "2023-12-02T03:00:00",
           "value": 50,
           "variable": "Kaleta"
          },
          {
           "datetime": "2023-12-02T04:00:00",
           "hour": "2023-12-02T04:00:00",
           "value": 50,
           "variable": "Kaleta"
          },
          {
           "datetime": "2023-12-02T05:00:00",
           "hour": "2023-12-02T05:00:00",
           "value": 50,
           "variable": "Kaleta"
          },
          {
           "datetime": "2023-12-02T06:00:00",
           "hour": "2023-12-02T06:00:00",
           "value": 50,
           "variable": "Kaleta"
          },
          {
           "datetime": "2023-12-02T07:00:00",
           "hour": "2023-12-02T07:00:00",
           "value": 50,
           "variable": "Kaleta"
          },
          {
           "datetime": "2023-12-02T08:00:00",
           "hour": "2023-12-02T08:00:00",
           "value": 50,
           "variable": "Kaleta"
          },
          {
           "datetime": "2023-12-02T09:00:00",
           "hour": "2023-12-02T09:00:00",
           "value": 48.5,
           "variable": "Kaleta"
          },
          {
           "datetime": "2023-12-02T10:00:00",
           "hour": "2023-12-02T10:00:00",
           "value": 50,
           "variable": "Kaleta"
          },
          {
           "datetime": "2023-12-02T11:00:00",
           "hour": "2023-12-02T11:00:00",
           "value": 50,
           "variable": "Kaleta"
          },
          {
           "datetime": "2023-12-02T12:00:00",
           "hour": "2023-12-02T12:00:00",
           "value": 48.5,
           "variable": "Kaleta"
          },
          {
           "datetime": "2023-12-02T13:00:00",
           "hour": "2023-12-02T13:00:00",
           "value": 50,
           "variable": "Kaleta"
          },
          {
           "datetime": "2023-12-02T14:00:00",
           "hour": "2023-12-02T14:00:00",
           "value": 48.5,
           "variable": "Kaleta"
          },
          {
           "datetime": "2023-12-02T15:00:00",
           "hour": "2023-12-02T15:00:00",
           "value": 50,
           "variable": "Kaleta"
          },
          {
           "datetime": "2023-12-02T16:00:00",
           "hour": "2023-12-02T16:00:00",
           "value": 50,
           "variable": "Kaleta"
          },
          {
           "datetime": "2023-12-02T17:00:00",
           "hour": "2023-12-02T17:00:00",
           "value": 50,
           "variable": "Kaleta"
          },
          {
           "datetime": "2023-12-02T18:00:00",
           "hour": "2023-12-02T18:00:00",
           "value": 50,
           "variable": "Kaleta"
          },
          {
           "datetime": "2023-12-02T19:00:00",
           "hour": "2023-12-02T19:00:00",
           "value": 50,
           "variable": "Kaleta"
          },
          {
           "datetime": "2023-12-02T20:00:00",
           "hour": "2023-12-02T20:00:00",
           "value": 50,
           "variable": "Kaleta"
          },
          {
           "datetime": "2023-12-02T21:00:00",
           "hour": "2023-12-02T21:00:00",
           "value": 50,
           "variable": "Kaleta"
          },
          {
           "datetime": "2023-12-02T22:00:00",
           "hour": "2023-12-02T22:00:00",
           "value": 50,
           "variable": "Kaleta"
          },
          {
           "datetime": "2023-12-02T23:00:00",
           "hour": "2023-12-02T23:00:00",
           "value": 50,
           "variable": "Kaleta"
          },
          {
           "datetime": "2023-12-01T01:00:00",
           "hour": "2023-12-01T01:00:00",
           "value": 0,
           "variable": "Sendou"
          },
          {
           "datetime": "2023-12-01T02:00:00",
           "hour": "2023-12-01T02:00:00",
           "value": 0,
           "variable": "Sendou"
          },
          {
           "datetime": "2023-12-01T03:00:00",
           "hour": "2023-12-01T03:00:00",
           "value": 0,
           "variable": "Sendou"
          },
          {
           "datetime": "2023-12-01T04:00:00",
           "hour": "2023-12-01T04:00:00",
           "value": 0,
           "variable": "Sendou"
          },
          {
           "datetime": "2023-12-01T05:00:00",
           "hour": "2023-12-01T05:00:00",
           "value": 0,
           "variable": "Sendou"
          },
          {
           "datetime": "2023-12-01T06:00:00",
           "hour": "2023-12-01T06:00:00",
           "value": 0,
           "variable": "Sendou"
          },
          {
           "datetime": "2023-12-01T07:00:00",
           "hour": "2023-12-01T07:00:00",
           "value": 0,
           "variable": "Sendou"
          },
          {
           "datetime": "2023-12-01T08:00:00",
           "hour": "2023-12-01T08:00:00",
           "value": 0,
           "variable": "Sendou"
          },
          {
           "datetime": "2023-12-01T09:00:00",
           "hour": "2023-12-01T09:00:00",
           "value": 0,
           "variable": "Sendou"
          },
          {
           "datetime": "2023-12-01T10:00:00",
           "hour": "2023-12-01T10:00:00",
           "value": 0,
           "variable": "Sendou"
          },
          {
           "datetime": "2023-12-01T11:00:00",
           "hour": "2023-12-01T11:00:00",
           "value": 0,
           "variable": "Sendou"
          },
          {
           "datetime": "2023-12-01T12:00:00",
           "hour": "2023-12-01T12:00:00",
           "value": 0,
           "variable": "Sendou"
          },
          {
           "datetime": "2023-12-01T13:00:00",
           "hour": "2023-12-01T13:00:00",
           "value": 0,
           "variable": "Sendou"
          },
          {
           "datetime": "2023-12-01T14:00:00",
           "hour": "2023-12-01T14:00:00",
           "value": 0,
           "variable": "Sendou"
          },
          {
           "datetime": "2023-12-01T15:00:00",
           "hour": "2023-12-01T15:00:00",
           "value": 0,
           "variable": "Sendou"
          },
          {
           "datetime": "2023-12-01T16:00:00",
           "hour": "2023-12-01T16:00:00",
           "value": 0,
           "variable": "Sendou"
          },
          {
           "datetime": "2023-12-01T17:00:00",
           "hour": "2023-12-01T17:00:00",
           "value": 0,
           "variable": "Sendou"
          },
          {
           "datetime": "2023-12-01T18:00:00",
           "hour": "2023-12-01T18:00:00",
           "value": 0,
           "variable": "Sendou"
          },
          {
           "datetime": "2023-12-01T19:00:00",
           "hour": "2023-12-01T19:00:00",
           "value": 0,
           "variable": "Sendou"
          },
          {
           "datetime": "2023-12-01T20:00:00",
           "hour": "2023-12-01T20:00:00",
           "value": 0,
           "variable": "Sendou"
          },
          {
           "datetime": "2023-12-01T21:00:00",
           "hour": "2023-12-01T21:00:00",
           "value": 0,
           "variable": "Sendou"
          },
          {
           "datetime": "2023-12-01T22:00:00",
           "hour": "2023-12-01T22:00:00",
           "value": 0,
           "variable": "Sendou"
          },
          {
           "datetime": "2023-12-01T23:00:00",
           "hour": "2023-12-01T23:00:00",
           "value": 0,
           "variable": "Sendou"
          },
          {
           "datetime": "2023-12-02T00:00:00",
           "hour": "2023-12-02T00:00:00",
           "value": 0,
           "variable": "Sendou"
          },
          {
           "datetime": "2023-12-02T01:00:00",
           "hour": "2023-12-02T01:00:00",
           "value": 0,
           "variable": "Sendou"
          },
          {
           "datetime": "2023-12-02T02:00:00",
           "hour": "2023-12-02T02:00:00",
           "value": 0,
           "variable": "Sendou"
          },
          {
           "datetime": "2023-12-02T03:00:00",
           "hour": "2023-12-02T03:00:00",
           "value": 0,
           "variable": "Sendou"
          },
          {
           "datetime": "2023-12-02T04:00:00",
           "hour": "2023-12-02T04:00:00",
           "value": 0,
           "variable": "Sendou"
          },
          {
           "datetime": "2023-12-02T05:00:00",
           "hour": "2023-12-02T05:00:00",
           "value": 0,
           "variable": "Sendou"
          },
          {
           "datetime": "2023-12-02T06:00:00",
           "hour": "2023-12-02T06:00:00",
           "value": 0,
           "variable": "Sendou"
          },
          {
           "datetime": "2023-12-02T07:00:00",
           "hour": "2023-12-02T07:00:00",
           "value": 0,
           "variable": "Sendou"
          },
          {
           "datetime": "2023-12-02T08:00:00",
           "hour": "2023-12-02T08:00:00",
           "value": 0,
           "variable": "Sendou"
          },
          {
           "datetime": "2023-12-02T09:00:00",
           "hour": "2023-12-02T09:00:00",
           "value": 0,
           "variable": "Sendou"
          },
          {
           "datetime": "2023-12-02T10:00:00",
           "hour": "2023-12-02T10:00:00",
           "value": 0,
           "variable": "Sendou"
          },
          {
           "datetime": "2023-12-02T11:00:00",
           "hour": "2023-12-02T11:00:00",
           "value": 0,
           "variable": "Sendou"
          },
          {
           "datetime": "2023-12-02T12:00:00",
           "hour": "2023-12-02T12:00:00",
           "value": 0,
           "variable": "Sendou"
          },
          {
           "datetime": "2023-12-02T13:00:00",
           "hour": "2023-12-02T13:00:00",
           "value": 0,
           "variable": "Sendou"
          },
          {
           "datetime": "2023-12-02T14:00:00",
           "hour": "2023-12-02T14:00:00",
           "value": 0,
           "variable": "Sendou"
          },
          {
           "datetime": "2023-12-02T15:00:00",
           "hour": "2023-12-02T15:00:00",
           "value": 0,
           "variable": "Sendou"
          },
          {
           "datetime": "2023-12-02T16:00:00",
           "hour": "2023-12-02T16:00:00",
           "value": 0,
           "variable": "Sendou"
          },
          {
           "datetime": "2023-12-02T17:00:00",
           "hour": "2023-12-02T17:00:00",
           "value": 0,
           "variable": "Sendou"
          },
          {
           "datetime": "2023-12-02T18:00:00",
           "hour": "2023-12-02T18:00:00",
           "value": 0,
           "variable": "Sendou"
          },
          {
           "datetime": "2023-12-02T19:00:00",
           "hour": "2023-12-02T19:00:00",
           "value": 0,
           "variable": "Sendou"
          },
          {
           "datetime": "2023-12-02T20:00:00",
           "hour": "2023-12-02T20:00:00",
           "value": 0,
           "variable": "Sendou"
          },
          {
           "datetime": "2023-12-02T21:00:00",
           "hour": "2023-12-02T21:00:00",
           "value": 0,
           "variable": "Sendou"
          },
          {
           "datetime": "2023-12-02T22:00:00",
           "hour": "2023-12-02T22:00:00",
           "value": 0,
           "variable": "Sendou"
          },
          {
           "datetime": "2023-12-02T23:00:00",
           "hour": "2023-12-02T23:00:00",
           "value": 0,
           "variable": "Sendou"
          },
          {
           "datetime": "2023-12-01T01:00:00",
           "hour": "2023-12-01T01:00:00",
           "value": 0,
           "variable": "CDB TAG2"
          },
          {
           "datetime": "2023-12-01T02:00:00",
           "hour": "2023-12-01T02:00:00",
           "value": 0,
           "variable": "CDB TAG2"
          },
          {
           "datetime": "2023-12-01T03:00:00",
           "hour": "2023-12-01T03:00:00",
           "value": 0,
           "variable": "CDB TAG2"
          },
          {
           "datetime": "2023-12-01T04:00:00",
           "hour": "2023-12-01T04:00:00",
           "value": 0,
           "variable": "CDB TAG2"
          },
          {
           "datetime": "2023-12-01T05:00:00",
           "hour": "2023-12-01T05:00:00",
           "value": 0,
           "variable": "CDB TAG2"
          },
          {
           "datetime": "2023-12-01T06:00:00",
           "hour": "2023-12-01T06:00:00",
           "value": 0,
           "variable": "CDB TAG2"
          },
          {
           "datetime": "2023-12-01T07:00:00",
           "hour": "2023-12-01T07:00:00",
           "value": 0,
           "variable": "CDB TAG2"
          },
          {
           "datetime": "2023-12-01T08:00:00",
           "hour": "2023-12-01T08:00:00",
           "value": 0,
           "variable": "CDB TAG2"
          },
          {
           "datetime": "2023-12-01T09:00:00",
           "hour": "2023-12-01T09:00:00",
           "value": 0,
           "variable": "CDB TAG2"
          },
          {
           "datetime": "2023-12-01T10:00:00",
           "hour": "2023-12-01T10:00:00",
           "value": 0,
           "variable": "CDB TAG2"
          },
          {
           "datetime": "2023-12-01T11:00:00",
           "hour": "2023-12-01T11:00:00",
           "value": 0,
           "variable": "CDB TAG2"
          },
          {
           "datetime": "2023-12-01T12:00:00",
           "hour": "2023-12-01T12:00:00",
           "value": 0,
           "variable": "CDB TAG2"
          },
          {
           "datetime": "2023-12-01T13:00:00",
           "hour": "2023-12-01T13:00:00",
           "value": 0,
           "variable": "CDB TAG2"
          },
          {
           "datetime": "2023-12-01T14:00:00",
           "hour": "2023-12-01T14:00:00",
           "value": 0,
           "variable": "CDB TAG2"
          },
          {
           "datetime": "2023-12-01T15:00:00",
           "hour": "2023-12-01T15:00:00",
           "value": 0,
           "variable": "CDB TAG2"
          },
          {
           "datetime": "2023-12-01T16:00:00",
           "hour": "2023-12-01T16:00:00",
           "value": 0,
           "variable": "CDB TAG2"
          },
          {
           "datetime": "2023-12-01T17:00:00",
           "hour": "2023-12-01T17:00:00",
           "value": 0,
           "variable": "CDB TAG2"
          },
          {
           "datetime": "2023-12-01T18:00:00",
           "hour": "2023-12-01T18:00:00",
           "value": 0,
           "variable": "CDB TAG2"
          },
          {
           "datetime": "2023-12-01T19:00:00",
           "hour": "2023-12-01T19:00:00",
           "value": 0,
           "variable": "CDB TAG2"
          },
          {
           "datetime": "2023-12-01T20:00:00",
           "hour": "2023-12-01T20:00:00",
           "value": 0,
           "variable": "CDB TAG2"
          },
          {
           "datetime": "2023-12-01T21:00:00",
           "hour": "2023-12-01T21:00:00",
           "value": 0,
           "variable": "CDB TAG2"
          },
          {
           "datetime": "2023-12-01T22:00:00",
           "hour": "2023-12-01T22:00:00",
           "value": 0,
           "variable": "CDB TAG2"
          },
          {
           "datetime": "2023-12-01T23:00:00",
           "hour": "2023-12-01T23:00:00",
           "value": 0,
           "variable": "CDB TAG2"
          },
          {
           "datetime": "2023-12-02T00:00:00",
           "hour": "2023-12-02T00:00:00",
           "value": 0,
           "variable": "CDB TAG2"
          },
          {
           "datetime": "2023-12-02T01:00:00",
           "hour": "2023-12-02T01:00:00",
           "value": 0,
           "variable": "CDB TAG2"
          },
          {
           "datetime": "2023-12-02T02:00:00",
           "hour": "2023-12-02T02:00:00",
           "value": 0,
           "variable": "CDB TAG2"
          },
          {
           "datetime": "2023-12-02T03:00:00",
           "hour": "2023-12-02T03:00:00",
           "value": 0,
           "variable": "CDB TAG2"
          },
          {
           "datetime": "2023-12-02T04:00:00",
           "hour": "2023-12-02T04:00:00",
           "value": 0,
           "variable": "CDB TAG2"
          },
          {
           "datetime": "2023-12-02T05:00:00",
           "hour": "2023-12-02T05:00:00",
           "value": 0,
           "variable": "CDB TAG2"
          },
          {
           "datetime": "2023-12-02T06:00:00",
           "hour": "2023-12-02T06:00:00",
           "value": 0,
           "variable": "CDB TAG2"
          },
          {
           "datetime": "2023-12-02T07:00:00",
           "hour": "2023-12-02T07:00:00",
           "value": 0,
           "variable": "CDB TAG2"
          },
          {
           "datetime": "2023-12-02T08:00:00",
           "hour": "2023-12-02T08:00:00",
           "value": 0,
           "variable": "CDB TAG2"
          },
          {
           "datetime": "2023-12-02T09:00:00",
           "hour": "2023-12-02T09:00:00",
           "value": 0,
           "variable": "CDB TAG2"
          },
          {
           "datetime": "2023-12-02T10:00:00",
           "hour": "2023-12-02T10:00:00",
           "value": 0,
           "variable": "CDB TAG2"
          },
          {
           "datetime": "2023-12-02T11:00:00",
           "hour": "2023-12-02T11:00:00",
           "value": 0,
           "variable": "CDB TAG2"
          },
          {
           "datetime": "2023-12-02T12:00:00",
           "hour": "2023-12-02T12:00:00",
           "value": 0,
           "variable": "CDB TAG2"
          },
          {
           "datetime": "2023-12-02T13:00:00",
           "hour": "2023-12-02T13:00:00",
           "value": 0,
           "variable": "CDB TAG2"
          },
          {
           "datetime": "2023-12-02T14:00:00",
           "hour": "2023-12-02T14:00:00",
           "value": 0,
           "variable": "CDB TAG2"
          },
          {
           "datetime": "2023-12-02T15:00:00",
           "hour": "2023-12-02T15:00:00",
           "value": 0,
           "variable": "CDB TAG2"
          },
          {
           "datetime": "2023-12-02T16:00:00",
           "hour": "2023-12-02T16:00:00",
           "value": 0,
           "variable": "CDB TAG2"
          },
          {
           "datetime": "2023-12-02T17:00:00",
           "hour": "2023-12-02T17:00:00",
           "value": 0,
           "variable": "CDB TAG2"
          },
          {
           "datetime": "2023-12-02T18:00:00",
           "hour": "2023-12-02T18:00:00",
           "value": 0,
           "variable": "CDB TAG2"
          },
          {
           "datetime": "2023-12-02T19:00:00",
           "hour": "2023-12-02T19:00:00",
           "value": 0,
           "variable": "CDB TAG2"
          },
          {
           "datetime": "2023-12-02T20:00:00",
           "hour": "2023-12-02T20:00:00",
           "value": 0,
           "variable": "CDB TAG2"
          },
          {
           "datetime": "2023-12-02T21:00:00",
           "hour": "2023-12-02T21:00:00",
           "value": 18,
           "variable": "CDB TAG2"
          },
          {
           "datetime": "2023-12-02T22:00:00",
           "hour": "2023-12-02T22:00:00",
           "value": 0,
           "variable": "CDB TAG2"
          },
          {
           "datetime": "2023-12-02T23:00:00",
           "hour": "2023-12-02T23:00:00",
           "value": 0,
           "variable": "CDB TAG2"
          },
          {
           "datetime": "2023-12-01T01:00:00",
           "hour": "2023-12-01T01:00:00",
           "value": 0,
           "variable": "solar"
          },
          {
           "datetime": "2023-12-01T02:00:00",
           "hour": "2023-12-01T02:00:00",
           "value": 0,
           "variable": "solar"
          },
          {
           "datetime": "2023-12-01T03:00:00",
           "hour": "2023-12-01T03:00:00",
           "value": 0,
           "variable": "solar"
          },
          {
           "datetime": "2023-12-01T04:00:00",
           "hour": "2023-12-01T04:00:00",
           "value": 0,
           "variable": "solar"
          },
          {
           "datetime": "2023-12-01T05:00:00",
           "hour": "2023-12-01T05:00:00",
           "value": 0,
           "variable": "solar"
          },
          {
           "datetime": "2023-12-01T06:00:00",
           "hour": "2023-12-01T06:00:00",
           "value": 0,
           "variable": "solar"
          },
          {
           "datetime": "2023-12-01T07:00:00",
           "hour": "2023-12-01T07:00:00",
           "value": 0.8440683850000001,
           "variable": "solar"
          },
          {
           "datetime": "2023-12-01T08:00:00",
           "hour": "2023-12-01T08:00:00",
           "value": 11.409235470999999,
           "variable": "solar"
          },
          {
           "datetime": "2023-12-01T09:00:00",
           "hour": "2023-12-01T09:00:00",
           "value": 47.539602546,
           "variable": "solar"
          },
          {
           "datetime": "2023-12-01T10:00:00",
           "hour": "2023-12-01T10:00:00",
           "value": 77.762352872,
           "variable": "solar"
          },
          {
           "datetime": "2023-12-01T11:00:00",
           "hour": "2023-12-01T11:00:00",
           "value": 108.73223153999999,
           "variable": "solar"
          },
          {
           "datetime": "2023-12-01T12:00:00",
           "hour": "2023-12-01T12:00:00",
           "value": 127.32257264,
           "variable": "solar"
          },
          {
           "datetime": "2023-12-01T13:00:00",
           "hour": "2023-12-01T13:00:00",
           "value": 133.54390886,
           "variable": "solar"
          },
          {
           "datetime": "2023-12-01T14:00:00",
           "hour": "2023-12-01T14:00:00",
           "value": 131.37957184,
           "variable": "solar"
          },
          {
           "datetime": "2023-12-01T15:00:00",
           "hour": "2023-12-01T15:00:00",
           "value": 120.48857808999998,
           "variable": "solar"
          },
          {
           "datetime": "2023-12-01T16:00:00",
           "hour": "2023-12-01T16:00:00",
           "value": 76.61452069900001,
           "variable": "solar"
          },
          {
           "datetime": "2023-12-01T17:00:00",
           "hour": "2023-12-01T17:00:00",
           "value": 45.657928639000005,
           "variable": "solar"
          },
          {
           "datetime": "2023-12-01T18:00:00",
           "hour": "2023-12-01T18:00:00",
           "value": 17.324710020999998,
           "variable": "solar"
          },
          {
           "datetime": "2023-12-01T19:00:00",
           "hour": "2023-12-01T19:00:00",
           "value": 1.0356666669999999,
           "variable": "solar"
          },
          {
           "datetime": "2023-12-01T20:00:00",
           "hour": "2023-12-01T20:00:00",
           "value": 0,
           "variable": "solar"
          },
          {
           "datetime": "2023-12-01T21:00:00",
           "hour": "2023-12-01T21:00:00",
           "value": 0,
           "variable": "solar"
          },
          {
           "datetime": "2023-12-01T22:00:00",
           "hour": "2023-12-01T22:00:00",
           "value": 0.01,
           "variable": "solar"
          },
          {
           "datetime": "2023-12-01T23:00:00",
           "hour": "2023-12-01T23:00:00",
           "value": 0.01,
           "variable": "solar"
          },
          {
           "datetime": "2023-12-02T00:00:00",
           "hour": "2023-12-02T00:00:00",
           "value": 0.01,
           "variable": "solar"
          },
          {
           "datetime": "2023-12-02T01:00:00",
           "hour": "2023-12-02T01:00:00",
           "value": 0,
           "variable": "solar"
          },
          {
           "datetime": "2023-12-02T02:00:00",
           "hour": "2023-12-02T02:00:00",
           "value": 0,
           "variable": "solar"
          },
          {
           "datetime": "2023-12-02T03:00:00",
           "hour": "2023-12-02T03:00:00",
           "value": 0,
           "variable": "solar"
          },
          {
           "datetime": "2023-12-02T04:00:00",
           "hour": "2023-12-02T04:00:00",
           "value": 0,
           "variable": "solar"
          },
          {
           "datetime": "2023-12-02T05:00:00",
           "hour": "2023-12-02T05:00:00",
           "value": 0,
           "variable": "solar"
          },
          {
           "datetime": "2023-12-02T06:00:00",
           "hour": "2023-12-02T06:00:00",
           "value": 0,
           "variable": "solar"
          },
          {
           "datetime": "2023-12-02T07:00:00",
           "hour": "2023-12-02T07:00:00",
           "value": 0.825430062,
           "variable": "solar"
          },
          {
           "datetime": "2023-12-02T08:00:00",
           "hour": "2023-12-02T08:00:00",
           "value": 13.152642046,
           "variable": "solar"
          },
          {
           "datetime": "2023-12-02T09:00:00",
           "hour": "2023-12-02T09:00:00",
           "value": 55.025107706,
           "variable": "solar"
          },
          {
           "datetime": "2023-12-02T10:00:00",
           "hour": "2023-12-02T10:00:00",
           "value": 97.15046982000001,
           "variable": "solar"
          },
          {
           "datetime": "2023-12-02T11:00:00",
           "hour": "2023-12-02T11:00:00",
           "value": 125.10564009,
           "variable": "solar"
          },
          {
           "datetime": "2023-12-02T12:00:00",
           "hour": "2023-12-02T12:00:00",
           "value": 138.76140839,
           "variable": "solar"
          },
          {
           "datetime": "2023-12-02T13:00:00",
           "hour": "2023-12-02T13:00:00",
           "value": 142.26209676,
           "variable": "solar"
          },
          {
           "datetime": "2023-12-02T14:00:00",
           "hour": "2023-12-02T14:00:00",
           "value": 140.79241497,
           "variable": "solar"
          },
          {
           "datetime": "2023-12-02T15:00:00",
           "hour": "2023-12-02T15:00:00",
           "value": 126.13562621999999,
           "variable": "solar"
          },
          {
           "datetime": "2023-12-02T16:00:00",
           "hour": "2023-12-02T16:00:00",
           "value": 98.49813916100001,
           "variable": "solar"
          },
          {
           "datetime": "2023-12-02T17:00:00",
           "hour": "2023-12-02T17:00:00",
           "value": 59.693260338,
           "variable": "solar"
          },
          {
           "datetime": "2023-12-02T18:00:00",
           "hour": "2023-12-02T18:00:00",
           "value": 21.361406693,
           "variable": "solar"
          },
          {
           "datetime": "2023-12-02T19:00:00",
           "hour": "2023-12-02T19:00:00",
           "value": 0.8806,
           "variable": "solar"
          },
          {
           "datetime": "2023-12-02T20:00:00",
           "hour": "2023-12-02T20:00:00",
           "value": 0,
           "variable": "solar"
          },
          {
           "datetime": "2023-12-02T21:00:00",
           "hour": "2023-12-02T21:00:00",
           "value": 0,
           "variable": "solar"
          },
          {
           "datetime": "2023-12-02T22:00:00",
           "hour": "2023-12-02T22:00:00",
           "value": 0.01,
           "variable": "solar"
          },
          {
           "datetime": "2023-12-02T23:00:00",
           "hour": "2023-12-02T23:00:00",
           "value": 0.01,
           "variable": "solar"
          },
          {
           "datetime": "2023-12-01T01:00:00",
           "hour": "2023-12-01T01:00:00",
           "value": 49.5,
           "variable": "wind"
          },
          {
           "datetime": "2023-12-01T02:00:00",
           "hour": "2023-12-01T02:00:00",
           "value": 52.63,
           "variable": "wind"
          },
          {
           "datetime": "2023-12-01T03:00:00",
           "hour": "2023-12-01T03:00:00",
           "value": 32.4,
           "variable": "wind"
          },
          {
           "datetime": "2023-12-01T04:00:00",
           "hour": "2023-12-01T04:00:00",
           "value": 46.17,
           "variable": "wind"
          },
          {
           "datetime": "2023-12-01T05:00:00",
           "hour": "2023-12-01T05:00:00",
           "value": 33.92,
           "variable": "wind"
          },
          {
           "datetime": "2023-12-01T06:00:00",
           "hour": "2023-12-01T06:00:00",
           "value": 48,
           "variable": "wind"
          },
          {
           "datetime": "2023-12-01T07:00:00",
           "hour": "2023-12-01T07:00:00",
           "value": 42.32,
           "variable": "wind"
          },
          {
           "datetime": "2023-12-01T08:00:00",
           "hour": "2023-12-01T08:00:00",
           "value": 59.18,
           "variable": "wind"
          },
          {
           "datetime": "2023-12-01T09:00:00",
           "hour": "2023-12-01T09:00:00",
           "value": 37.03,
           "variable": "wind"
          },
          {
           "datetime": "2023-12-01T10:00:00",
           "hour": "2023-12-01T10:00:00",
           "value": 39.24,
           "variable": "wind"
          },
          {
           "datetime": "2023-12-01T11:00:00",
           "hour": "2023-12-01T11:00:00",
           "value": 43.69,
           "variable": "wind"
          },
          {
           "datetime": "2023-12-01T12:00:00",
           "hour": "2023-12-01T12:00:00",
           "value": 38.35,
           "variable": "wind"
          },
          {
           "datetime": "2023-12-01T13:00:00",
           "hour": "2023-12-01T13:00:00",
           "value": 24.71,
           "variable": "wind"
          },
          {
           "datetime": "2023-12-01T14:00:00",
           "hour": "2023-12-01T14:00:00",
           "value": 13.9,
           "variable": "wind"
          },
          {
           "datetime": "2023-12-01T15:00:00",
           "hour": "2023-12-01T15:00:00",
           "value": 34.11,
           "variable": "wind"
          },
          {
           "datetime": "2023-12-01T16:00:00",
           "hour": "2023-12-01T16:00:00",
           "value": 44.3,
           "variable": "wind"
          },
          {
           "datetime": "2023-12-01T17:00:00",
           "hour": "2023-12-01T17:00:00",
           "value": 46.54,
           "variable": "wind"
          },
          {
           "datetime": "2023-12-01T18:00:00",
           "hour": "2023-12-01T18:00:00",
           "value": 45.93,
           "variable": "wind"
          },
          {
           "datetime": "2023-12-01T19:00:00",
           "hour": "2023-12-01T19:00:00",
           "value": 68.39,
           "variable": "wind"
          },
          {
           "datetime": "2023-12-01T20:00:00",
           "hour": "2023-12-01T20:00:00",
           "value": 76.84,
           "variable": "wind"
          },
          {
           "datetime": "2023-12-01T21:00:00",
           "hour": "2023-12-01T21:00:00",
           "value": 95.29,
           "variable": "wind"
          },
          {
           "datetime": "2023-12-01T22:00:00",
           "hour": "2023-12-01T22:00:00",
           "value": 101,
           "variable": "wind"
          },
          {
           "datetime": "2023-12-01T23:00:00",
           "hour": "2023-12-01T23:00:00",
           "value": 94.74,
           "variable": "wind"
          },
          {
           "datetime": "2023-12-02T00:00:00",
           "hour": "2023-12-02T00:00:00",
           "value": 112.18,
           "variable": "wind"
          },
          {
           "datetime": "2023-12-02T01:00:00",
           "hour": "2023-12-02T01:00:00",
           "value": 118.6,
           "variable": "wind"
          },
          {
           "datetime": "2023-12-02T02:00:00",
           "hour": "2023-12-02T02:00:00",
           "value": 122.85,
           "variable": "wind"
          },
          {
           "datetime": "2023-12-02T03:00:00",
           "hour": "2023-12-02T03:00:00",
           "value": 103.02,
           "variable": "wind"
          },
          {
           "datetime": "2023-12-02T04:00:00",
           "hour": "2023-12-02T04:00:00",
           "value": 101.3,
           "variable": "wind"
          },
          {
           "datetime": "2023-12-02T05:00:00",
           "hour": "2023-12-02T05:00:00",
           "value": 117.08,
           "variable": "wind"
          },
          {
           "datetime": "2023-12-02T06:00:00",
           "hour": "2023-12-02T06:00:00",
           "value": 110.91,
           "variable": "wind"
          },
          {
           "datetime": "2023-12-02T07:00:00",
           "hour": "2023-12-02T07:00:00",
           "value": 128.66,
           "variable": "wind"
          },
          {
           "datetime": "2023-12-02T08:00:00",
           "hour": "2023-12-02T08:00:00",
           "value": 140.08,
           "variable": "wind"
          },
          {
           "datetime": "2023-12-02T09:00:00",
           "hour": "2023-12-02T09:00:00",
           "value": 110.4,
           "variable": "wind"
          },
          {
           "datetime": "2023-12-02T10:00:00",
           "hour": "2023-12-02T10:00:00",
           "value": 28.28,
           "variable": "wind"
          },
          {
           "datetime": "2023-12-02T11:00:00",
           "hour": "2023-12-02T11:00:00",
           "value": 26.31,
           "variable": "wind"
          },
          {
           "datetime": "2023-12-02T12:00:00",
           "hour": "2023-12-02T12:00:00",
           "value": 52.78,
           "variable": "wind"
          },
          {
           "datetime": "2023-12-02T13:00:00",
           "hour": "2023-12-02T13:00:00",
           "value": 24.87,
           "variable": "wind"
          },
          {
           "datetime": "2023-12-02T14:00:00",
           "hour": "2023-12-02T14:00:00",
           "value": 21.87,
           "variable": "wind"
          },
          {
           "datetime": "2023-12-02T15:00:00",
           "hour": "2023-12-02T15:00:00",
           "value": 21.66,
           "variable": "wind"
          },
          {
           "datetime": "2023-12-02T16:00:00",
           "hour": "2023-12-02T16:00:00",
           "value": 40.02,
           "variable": "wind"
          },
          {
           "datetime": "2023-12-02T17:00:00",
           "hour": "2023-12-02T17:00:00",
           "value": 52.3,
           "variable": "wind"
          },
          {
           "datetime": "2023-12-02T18:00:00",
           "hour": "2023-12-02T18:00:00",
           "value": 54.54,
           "variable": "wind"
          },
          {
           "datetime": "2023-12-02T19:00:00",
           "hour": "2023-12-02T19:00:00",
           "value": 79.58,
           "variable": "wind"
          },
          {
           "datetime": "2023-12-02T20:00:00",
           "hour": "2023-12-02T20:00:00",
           "value": 114,
           "variable": "wind"
          },
          {
           "datetime": "2023-12-02T21:00:00",
           "hour": "2023-12-02T21:00:00",
           "value": 110.36,
           "variable": "wind"
          },
          {
           "datetime": "2023-12-02T22:00:00",
           "hour": "2023-12-02T22:00:00",
           "value": 124.54,
           "variable": "wind"
          },
          {
           "datetime": "2023-12-02T23:00:00",
           "hour": "2023-12-02T23:00:00",
           "value": 131.69,
           "variable": "wind"
          }
         ]
        },
        {
         "name": "data_0",
         "source": "source_0",
         "transform": [
          {
           "as": "hour",
           "expr": "toDate(datum[\"hour\"])",
           "type": "formula"
          },
          {
           "field": "value",
           "groupby": [
            "variable"
           ],
           "key": "hour",
           "method": "value",
           "type": "impute",
           "value": 0
          },
          {
           "as": [
            "value_start",
            "value_end"
           ],
           "field": "value",
           "groupby": [
            "hour"
           ],
           "offset": "zero",
           "sort": {
            "field": [
             "variable"
            ],
            "order": [
             "descending"
            ]
           },
           "type": "stack"
          }
         ]
        }
       ],
       "height": 600,
       "legends": [
        {
         "fill": "color",
         "symbolType": "circle",
         "title": "variable"
        }
       ],
       "marks": [
        {
         "encode": {
          "update": {
           "height": {
            "field": {
             "group": "height"
            }
           },
           "width": {
            "field": {
             "group": "width"
            }
           }
          }
         },
         "from": {
          "facet": {
           "data": "data_0",
           "groupby": [
            "variable"
           ],
           "name": "faceted_path_main"
          }
         },
         "marks": [
          {
           "encode": {
            "update": {
             "defined": {
              "signal": "isValid(datum[\"hour\"]) && isFinite(+datum[\"hour\"]) && isValid(datum[\"value\"]) && isFinite(+datum[\"value\"])"
             },
             "description": {
              "signal": "\"hour: \" + (timeFormat(datum[\"hour\"], '%b %d, %Y')) + \"; value: \" + (format(datum[\"value\"], \"\")) + \"; variable: \" + (isValid(datum[\"variable\"]) ? datum[\"variable\"] : \"\"+datum[\"variable\"])"
             },
             "fill": {
              "field": "variable",
              "scale": "color"
             },
             "orient": {
              "value": "vertical"
             },
             "x": {
              "field": "hour",
              "scale": "x"
             },
             "y": {
              "field": "value_end",
              "scale": "y"
             },
             "y2": {
              "field": "value_start",
              "scale": "y"
             }
            }
           },
           "from": {
            "data": "faceted_path_main"
           },
           "name": "marks",
           "sort": {
            "field": "datum[\"hour\"]"
           },
           "style": [
            "area"
           ],
           "type": "area"
          }
         ],
         "name": "pathgroup",
         "type": "group"
        }
       ],
       "padding": 5,
       "scales": [
        {
         "domain": {
          "data": "data_0",
          "field": "hour"
         },
         "name": "x",
         "range": [
          0,
          {
           "signal": "width"
          }
         ],
         "type": "time"
        },
        {
         "domain": {
          "data": "data_0",
          "fields": [
           "value_start",
           "value_end"
          ]
         },
         "name": "y",
         "nice": true,
         "range": [
          {
           "signal": "height"
          },
          0
         ],
         "type": "linear",
         "zero": true
        },
        {
         "domain": {
          "data": "data_0",
          "field": "variable",
          "sort": true
         },
         "name": "color",
         "range": "category",
         "type": "ordinal"
        }
       ],
       "style": "cell",
       "width": 700
      },
      "image/png": "[encoded data removed]",
      "image/svg+xml": [
       "<svg xmlns=\"http://www.w3.org/2000/svg\" xmlns:xlink=\"http://www.w3.org/1999/xlink\" version=\"1.1\" class=\"marks\" width=\"901\" height=\"647\" viewBox=\"0 0 901 647\"><rect width=\"901\" height=\"647\" fill=\"white\"/><g fill=\"none\" stroke-miterlimit=\"10\" transform=\"translate(44,10)\"><g class=\"mark-group role-frame root\" role=\"graphics-object\" aria-roledescription=\"group mark container\"><g transform=\"translate(0,0)\"><path class=\"background\" aria-hidden=\"true\" d=\"M0.5,0.5h700v600h-700Z\" stroke=\"#ddd\"/><g><g class=\"mark-group role-axis\" aria-hidden=\"true\"><g transform=\"translate(0.5,600.5)\"><path class=\"background\" aria-hidden=\"true\" d=\"M0,0h0v0h0Z\" pointer-events=\"none\"/><g><g class=\"mark-rule role-axis-grid\" pointer-events=\"none\"><line transform=\"translate(30,-600)\" x2=\"0\" y2=\"600\" stroke=\"#ddd\" stroke-width=\"1\" opacity=\"1\"/><line transform=\"translate(76,-600)\" x2=\"0\" y2=\"600\" stroke=\"#ddd\" stroke-width=\"1\" opacity=\"1\"/><line transform=\"translate(122,-600)\" x2=\"0\" y2=\"600\" stroke=\"#ddd\" stroke-width=\"1\" opacity=\"1\"/><line transform=\"translate(167,-600)\" x2=\"0\" y2=\"600\" stroke=\"#ddd\" stroke-width=\"1\" opacity=\"1\"/><line transform=\"translate(213,-600)\" x2=\"0\" y2=\"600\" stroke=\"#ddd\" stroke-width=\"1\" opacity=\"1\"/><line transform=\"translate(259,-600)\" x2=\"0\" y2=\"600\" stroke=\"#ddd\" stroke-width=\"1\" opacity=\"1\"/><line transform=\"translate(304,-600)\" x2=\"0\" y2=\"600\" stroke=\"#ddd\" stroke-width=\"1\" opacity=\"1\"/><line transform=\"translate(350,-600)\" x2=\"0\" y2=\"600\" stroke=\"#ddd\" stroke-width=\"1\" opacity=\"1\"/><line transform=\"translate(396,-600)\" x2=\"0\" y2=\"600\" stroke=\"#ddd\" stroke-width=\"1\" opacity=\"1\"/><line transform=\"translate(441,-600)\" x2=\"0\" y2=\"600\" stroke=\"#ddd\" stroke-width=\"1\" opacity=\"1\"/><line transform=\"translate(487,-600)\" x2=\"0\" y2=\"600\" stroke=\"#ddd\" stroke-width=\"1\" opacity=\"1\"/><line transform=\"translate(533,-600)\" x2=\"0\" y2=\"600\" stroke=\"#ddd\" stroke-width=\"1\" opacity=\"1\"/><line transform=\"translate(578,-600)\" x2=\"0\" y2=\"600\" stroke=\"#ddd\" stroke-width=\"1\" opacity=\"1\"/><line transform=\"translate(624,-600)\" x2=\"0\" y2=\"600\" stroke=\"#ddd\" stroke-width=\"1\" opacity=\"1\"/><line transform=\"translate(670,-600)\" x2=\"0\" y2=\"600\" stroke=\"#ddd\" stroke-width=\"1\" opacity=\"1\"/></g></g><path class=\"foreground\" aria-hidden=\"true\" d=\"\" pointer-events=\"none\" display=\"none\"/></g></g><g class=\"mark-group role-axis\" aria-hidden=\"true\"><g transform=\"translate(0.5,0.5)\"><path class=\"background\" aria-hidden=\"true\" d=\"M0,0h0v0h0Z\" pointer-events=\"none\"/><g><g class=\"mark-rule role-axis-grid\" pointer-events=\"none\"><line transform=\"translate(0,600)\" x2=\"700\" y2=\"0\" stroke=\"#ddd\" stroke-width=\"1\" opacity=\"1\"/><line transform=\"translate(0,567)\" x2=\"700\" y2=\"0\" stroke=\"#ddd\" stroke-width=\"1\" opacity=\"1\"/><line transform=\"translate(0,533)\" x2=\"700\" y2=\"0\" stroke=\"#ddd\" stroke-width=\"1\" opacity=\"1\"/><line transform=\"translate(0,500)\" x2=\"700\" y2=\"0\" stroke=\"#ddd\" stroke-width=\"1\" opacity=\"1\"/><line transform=\"translate(0,467)\" x2=\"700\" y2=\"0\" stroke=\"#ddd\" stroke-width=\"1\" opacity=\"1\"/><line transform=\"translate(0,433)\" x2=\"700\" y2=\"0\" stroke=\"#ddd\" stroke-width=\"1\" opacity=\"1\"/><line transform=\"translate(0,400)\" x2=\"700\" y2=\"0\" stroke=\"#ddd\" stroke-width=\"1\" opacity=\"1\"/><line transform=\"translate(0,367)\" x2=\"700\" y2=\"0\" stroke=\"#ddd\" stroke-width=\"1\" opacity=\"1\"/><line transform=\"translate(0,333)\" x2=\"700\" y2=\"0\" stroke=\"#ddd\" stroke-width=\"1\" opacity=\"1\"/><line transform=\"translate(0,300)\" x2=\"700\" y2=\"0\" stroke=\"#ddd\" stroke-width=\"1\" opacity=\"1\"/><line transform=\"translate(0,267)\" x2=\"700\" y2=\"0\" stroke=\"#ddd\" stroke-width=\"1\" opacity=\"1\"/><line transform=\"translate(0,233)\" x2=\"700\" y2=\"0\" stroke=\"#ddd\" stroke-width=\"1\" opacity=\"1\"/><line transform=\"translate(0,200)\" x2=\"700\" y2=\"0\" stroke=\"#ddd\" stroke-width=\"1\" opacity=\"1\"/><line transform=\"translate(0,167)\" x2=\"700\" y2=\"0\" stroke=\"#ddd\" stroke-width=\"1\" opacity=\"1\"/><line transform=\"translate(0,133)\" x2=\"700\" y2=\"0\" stroke=\"#ddd\" stroke-width=\"1\" opacity=\"1\"/><line transform=\"translate(0,100)\" x2=\"700\" y2=\"0\" stroke=\"#ddd\" stroke-width=\"1\" opacity=\"1\"/><line transform=\"translate(0,67)\" x2=\"700\" y2=\"0\" stroke=\"#ddd\" stroke-width=\"1\" opacity=\"1\"/><line transform=\"translate(0,33)\" x2=\"700\" y2=\"0\" stroke=\"#ddd\" stroke-width=\"1\" opacity=\"1\"/><line transform=\"translate(0,0)\" x2=\"700\" y2=\"0\" stroke=\"#ddd\" stroke-width=\"1\" opacity=\"1\"/></g></g><path class=\"foreground\" aria-hidden=\"true\" d=\"\" pointer-events=\"none\" display=\"none\"/></g></g><g class=\"mark-group role-axis\" role=\"graphics-symbol\" aria-roledescription=\"axis\" aria-label=\"X-axis titled 'hour' for a time scale with values from Friday, 01 December 2023, 1:00:00 AM to Saturday, 02 December 2023, 11:00:00 PM\"><g transform=\"translate(0.5,600.5)\"><path class=\"background\" aria-hidden=\"true\" d=\"M0,0h0v0h0Z\" pointer-events=\"none\"/><g><g class=\"mark-rule role-axis-tick\" pointer-events=\"none\"><line transform=\"translate(30,0)\" x2=\"0\" y2=\"5\" stroke=\"#888\" stroke-width=\"1\" opacity=\"1\"/><line transform=\"translate(76,0)\" x2=\"0\" y2=\"5\" stroke=\"#888\" stroke-width=\"1\" opacity=\"1\"/><line transform=\"translate(122,0)\" x2=\"0\" y2=\"5\" stroke=\"#888\" stroke-width=\"1\" opacity=\"1\"/><line transform=\"translate(167,0)\" x2=\"0\" y2=\"5\" stroke=\"#888\" stroke-width=\"1\" opacity=\"1\"/><line transform=\"translate(213,0)\" x2=\"0\" y2=\"5\" stroke=\"#888\" stroke-width=\"1\" opacity=\"1\"/><line transform=\"translate(259,0)\" x2=\"0\" y2=\"5\" stroke=\"#888\" stroke-width=\"1\" opacity=\"1\"/><line transform=\"translate(304,0)\" x2=\"0\" y2=\"5\" stroke=\"#888\" stroke-width=\"1\" opacity=\"1\"/><line transform=\"translate(350,0)\" x2=\"0\" y2=\"5\" stroke=\"#888\" stroke-width=\"1\" opacity=\"1\"/><line transform=\"translate(396,0)\" x2=\"0\" y2=\"5\" stroke=\"#888\" stroke-width=\"1\" opacity=\"1\"/><line transform=\"translate(441,0)\" x2=\"0\" y2=\"5\" stroke=\"#888\" stroke-width=\"1\" opacity=\"1\"/><line transform=\"translate(487,0)\" x2=\"0\" y2=\"5\" stroke=\"#888\" stroke-width=\"1\" opacity=\"1\"/><line transform=\"translate(533,0)\" x2=\"0\" y2=\"5\" stroke=\"#888\" stroke-width=\"1\" opacity=\"1\"/><line transform=\"translate(578,0)\" x2=\"0\" y2=\"5\" stroke=\"#888\" stroke-width=\"1\" opacity=\"1\"/><line transform=\"translate(624,0)\" x2=\"0\" y2=\"5\" stroke=\"#888\" stroke-width=\"1\" opacity=\"1\"/><line transform=\"translate(670,0)\" x2=\"0\" y2=\"5\" stroke=\"#888\" stroke-width=\"1\" opacity=\"1\"/></g><g class=\"mark-text role-axis-label\" pointer-events=\"none\"><text text-anchor=\"middle\" transform=\"translate(30.434782608695652,15)\" font-family=\"sans-serif\" font-size=\"10px\" fill=\"#000\" opacity=\"1\">03 AM</text><text text-anchor=\"middle\" transform=\"translate(76.08695652173913,15)\" font-family=\"sans-serif\" font-size=\"10px\" fill=\"#000\" opacity=\"1\">06 AM</text><text text-anchor=\"middle\" transform=\"translate(121.73913043478261,15)\" font-family=\"sans-serif\" font-size=\"10px\" fill=\"#000\" opacity=\"1\">09 AM</text><text text-anchor=\"middle\" transform=\"translate(167.3913043478261,15)\" font-family=\"sans-serif\" font-size=\"10px\" fill=\"#000\" opacity=\"1\">12 PM</text><text text-anchor=\"middle\" transform=\"translate(213.0434782608696,15)\" font-family=\"sans-serif\" font-size=\"10px\" fill=\"#000\" opacity=\"1\">03 PM</text><text text-anchor=\"middle\" transform=\"translate(258.695652173913,15)\" font-family=\"sans-serif\" font-size=\"10px\" fill=\"#000\" opacity=\"1\">06 PM</text><text text-anchor=\"middle\" transform=\"translate(304.3478260869565,15)\" font-family=\"sans-serif\" font-size=\"10px\" fill=\"#000\" opacity=\"1\">09 PM</text><text text-anchor=\"middle\" transform=\"translate(350,15)\" font-family=\"sans-serif\" font-size=\"10px\" fill=\"#000\" opacity=\"1\">Sat 02</text><text text-anchor=\"middle\" transform=\"translate(395.65217391304344,15)\" font-family=\"sans-serif\" font-size=\"10px\" fill=\"#000\" opacity=\"1\">03 AM</text><text text-anchor=\"middle\" transform=\"translate(441.304347826087,15)\" font-family=\"sans-serif\" font-size=\"10px\" fill=\"#000\" opacity=\"1\">06 AM</text><text text-anchor=\"middle\" transform=\"translate(486.95652173913044,15)\" font-family=\"sans-serif\" font-size=\"10px\" fill=\"#000\" opacity=\"1\">09 AM</text><text text-anchor=\"middle\" transform=\"translate(532.608695652174,15)\" font-family=\"sans-serif\" font-size=\"10px\" fill=\"#000\" opacity=\"1\">12 PM</text><text text-anchor=\"middle\" transform=\"translate(578.2608695652174,15)\" font-family=\"sans-serif\" font-size=\"10px\" fill=\"#000\" opacity=\"1\">03 PM</text><text text-anchor=\"middle\" transform=\"translate(623.9130434782609,15)\" font-family=\"sans-serif\" font-size=\"10px\" fill=\"#000\" opacity=\"1\">06 PM</text><text text-anchor=\"middle\" transform=\"translate(669.5652173913044,15)\" font-family=\"sans-serif\" font-size=\"10px\" fill=\"#000\" opacity=\"1\">09 PM</text></g><g class=\"mark-rule role-axis-domain\" pointer-events=\"none\"><line transform=\"translate(0,0)\" x2=\"700\" y2=\"0\" stroke=\"#888\" stroke-width=\"1\" opacity=\"1\"/></g><g class=\"mark-text role-axis-title\" pointer-events=\"none\"><text text-anchor=\"middle\" transform=\"translate(350,30)\" font-family=\"sans-serif\" font-size=\"11px\" font-weight=\"bold\" fill=\"#000\" opacity=\"1\">hour</text></g></g><path class=\"foreground\" aria-hidden=\"true\" d=\"\" pointer-events=\"none\" display=\"none\"/></g></g><g class=\"mark-group role-axis\" role=\"graphics-symbol\" aria-roledescription=\"axis\" aria-label=\"Y-axis titled 'value' for a linear scale with values from 0 to 900\"><g transform=\"translate(0.5,0.5)\"><path class=\"background\" aria-hidden=\"true\" d=\"M0,0h0v0h0Z\" pointer-events=\"none\"/><g><g class=\"mark-rule role-axis-tick\" pointer-events=\"none\"><line transform=\"translate(0,600)\" x2=\"-5\" y2=\"0\" stroke=\"#888\" stroke-width=\"1\" opacity=\"1\"/><line transform=\"translate(0,567)\" x2=\"-5\" y2=\"0\" stroke=\"#888\" stroke-width=\"1\" opacity=\"1\"/><line transform=\"translate(0,533)\" x2=\"-5\" y2=\"0\" stroke=\"#888\" stroke-width=\"1\" opacity=\"1\"/><line transform=\"translate(0,500)\" x2=\"-5\" y2=\"0\" stroke=\"#888\" stroke-width=\"1\" opacity=\"1\"/><line transform=\"translate(0,467)\" x2=\"-5\" y2=\"0\" stroke=\"#888\" stroke-width=\"1\" opacity=\"1\"/><line transform=\"translate(0,433)\" x2=\"-5\" y2=\"0\" stroke=\"#888\" stroke-width=\"1\" opacity=\"1\"/><line transform=\"translate(0,400)\" x2=\"-5\" y2=\"0\" stroke=\"#888\" stroke-width=\"1\" opacity=\"1\"/><line transform=\"translate(0,367)\" x2=\"-5\" y2=\"0\" stroke=\"#888\" stroke-width=\"1\" opacity=\"1\"/><line transform=\"translate(0,333)\" x2=\"-5\" y2=\"0\" stroke=\"#888\" stroke-width=\"1\" opacity=\"1\"/><line transform=\"translate(0,300)\" x2=\"-5\" y2=\"0\" stroke=\"#888\" stroke-width=\"1\" opacity=\"1\"/><line transform=\"translate(0,267)\" x2=\"-5\" y2=\"0\" stroke=\"#888\" stroke-width=\"1\" opacity=\"1\"/><line transform=\"translate(0,233)\" x2=\"-5\" y2=\"0\" stroke=\"#888\" stroke-width=\"1\" opacity=\"1\"/><line transform=\"translate(0,200)\" x2=\"-5\" y2=\"0\" stroke=\"#888\" stroke-width=\"1\" opacity=\"1\"/><line transform=\"translate(0,167)\" x2=\"-5\" y2=\"0\" stroke=\"#888\" stroke-width=\"1\" opacity=\"1\"/><line transform=\"translate(0,133)\" x2=\"-5\" y2=\"0\" stroke=\"#888\" stroke-width=\"1\" opacity=\"1\"/><line transform=\"translate(0,100)\" x2=\"-5\" y2=\"0\" stroke=\"#888\" stroke-width=\"1\" opacity=\"1\"/><line transform=\"translate(0,67)\" x2=\"-5\" y2=\"0\" stroke=\"#888\" stroke-width=\"1\" opacity=\"1\"/><line transform=\"translate(0,33)\" x2=\"-5\" y2=\"0\" stroke=\"#888\" stroke-width=\"1\" opacity=\"1\"/><line transform=\"translate(0,0)\" x2=\"-5\" y2=\"0\" stroke=\"#888\" stroke-width=\"1\" opacity=\"1\"/></g><g class=\"mark-text role-axis-label\" pointer-events=\"none\"><text text-anchor=\"end\" transform=\"translate(-7,603)\" font-family=\"sans-serif\" font-size=\"10px\" fill=\"#000\" opacity=\"1\">0</text><text text-anchor=\"end\" transform=\"translate(-7,569.6666666666666)\" font-family=\"sans-serif\" font-size=\"10px\" fill=\"#000\" opacity=\"1\">50</text><text text-anchor=\"end\" transform=\"translate(-7,536.3333333333333)\" font-family=\"sans-serif\" font-size=\"10px\" fill=\"#000\" opacity=\"1\">100</text><text text-anchor=\"end\" transform=\"translate(-7,503)\" font-family=\"sans-serif\" font-size=\"10px\" fill=\"#000\" opacity=\"1\">150</text><text text-anchor=\"end\" transform=\"translate(-7,469.6666666666667)\" font-family=\"sans-serif\" font-size=\"10px\" fill=\"#000\" opacity=\"1\">200</text><text text-anchor=\"end\" transform=\"translate(-7,436.3333333333333)\" font-family=\"sans-serif\" font-size=\"10px\" fill=\"#000\" opacity=\"1\">250</text><text text-anchor=\"end\" transform=\"translate(-7,403.00000000000006)\" font-family=\"sans-serif\" font-size=\"10px\" fill=\"#000\" opacity=\"1\">300</text><text text-anchor=\"end\" transform=\"translate(-7,369.6666666666667)\" font-family=\"sans-serif\" font-size=\"10px\" fill=\"#000\" opacity=\"1\">350</text><text text-anchor=\"end\" transform=\"translate(-7,336.33333333333337)\" font-family=\"sans-serif\" font-size=\"10px\" fill=\"#000\" opacity=\"1\">400</text><text text-anchor=\"end\" transform=\"translate(-7,303)\" font-family=\"sans-serif\" font-size=\"10px\" fill=\"#000\" opacity=\"1\">450</text><text text-anchor=\"end\" transform=\"translate(-7,269.66666666666663)\" font-family=\"sans-serif\" font-size=\"10px\" fill=\"#000\" opacity=\"1\">500</text><text text-anchor=\"end\" transform=\"translate(-7,236.33333333333331)\" font-family=\"sans-serif\" font-size=\"10px\" fill=\"#000\" opacity=\"1\">550</text><text text-anchor=\"end\" transform=\"translate(-7,203.00000000000003)\" font-family=\"sans-serif\" font-size=\"10px\" fill=\"#000\" opacity=\"1\">600</text><text text-anchor=\"end\" transform=\"translate(-7,169.66666666666669)\" font-family=\"sans-serif\" font-size=\"10px\" fill=\"#000\" opacity=\"1\">650</text><text text-anchor=\"end\" transform=\"translate(-7,136.33333333333331)\" font-family=\"sans-serif\" font-size=\"10px\" fill=\"#000\" opacity=\"1\">700</text><text text-anchor=\"end\" transform=\"translate(-7,102.99999999999997)\" font-family=\"sans-serif\" font-size=\"10px\" fill=\"#000\" opacity=\"1\">750</text><text text-anchor=\"end\" transform=\"translate(-7,69.6666666666667)\" font-family=\"sans-serif\" font-size=\"10px\" fill=\"#000\" opacity=\"1\">800</text><text text-anchor=\"end\" transform=\"translate(-7,36.33333333333335)\" font-family=\"sans-serif\" font-size=\"10px\" fill=\"#000\" opacity=\"1\">850</text><text text-anchor=\"end\" transform=\"translate(-7,3)\" font-family=\"sans-serif\" font-size=\"10px\" fill=\"#000\" opacity=\"1\">900</text></g><g class=\"mark-rule role-axis-domain\" pointer-events=\"none\"><line transform=\"translate(0,600)\" x2=\"0\" y2=\"-600\" stroke=\"#888\" stroke-width=\"1\" opacity=\"1\"/></g><g class=\"mark-text role-axis-title\" pointer-events=\"none\"><text text-anchor=\"middle\" transform=\"translate(-27.376953125,300) rotate(-90) translate(0,-2)\" font-family=\"sans-serif\" font-size=\"11px\" font-weight=\"bold\" fill=\"#000\" opacity=\"1\">value</text></g></g><path class=\"foreground\" aria-hidden=\"true\" d=\"\" pointer-events=\"none\" display=\"none\"/></g></g><g class=\"mark-group role-scope pathgroup\" role=\"graphics-object\" aria-roledescription=\"group mark container\"><g transform=\"translate(0,0)\"><path class=\"background\" aria-hidden=\"true\" d=\"M0,0h700v600h-700Z\"/><g><g class=\"mark-area role-mark marks\" role=\"graphics-object\" aria-roledescription=\"area mark container\"><path aria-label=\"hour: Dec 01, 2023; value: 96.25; variable: Malicounda\" role=\"graphics-symbol\" aria-roledescription=\"area mark\" d=\"M0,476.2L15.217,474.113L30.435,487.6L45.652,478.42L60.87,486.587L76.087,477.2L91.304,480.424L106.522,457.701L121.739,452.82L136.957,431.198L152.174,407.585L167.391,398.752L182.609,403.697L197.826,412.347L213.043,406.134L228.261,428.59L243.478,447.735L258.696,467.03L273.913,462.916L289.13,457.973L304.348,445.673L319.565,441.86L334.783,446.033L350,434.407L365.217,430.133L380.435,427.3L395.652,440.52L410.87,441.667L426.087,431.147L441.304,435.26L456.522,422.876L471.739,407.045L486.957,400.476L502.174,425.58L517.391,408.256L532.609,413.086L547.826,399.742L563.043,402.694L578.261,410.67L593.478,416.855L608.696,434.538L623.913,458.599L639.13,455.56L654.348,433.2L669.565,435.627L684.783,426.167L700,421.4L700,485.567L684.783,490.333L669.565,499.793L654.348,497.367L639.13,519.726L623.913,522.766L608.696,498.704L593.478,481.021L578.261,474.836L563.043,466.861L547.826,463.909L532.609,458.919L517.391,472.423L502.174,489.746L486.957,464.643L471.739,471.212L456.522,487.043L441.304,499.427L426.087,495.313L410.87,505.833L395.652,504.687L380.435,491.467L365.217,494.3L350,498.573L334.783,510.2L319.565,506.027L304.348,509.84L289.13,522.14L273.913,527.083L258.696,531.197L243.478,511.901L228.261,492.757L213.043,470.301L197.826,476.514L182.609,467.864L167.391,462.918L152.174,471.752L136.957,495.365L121.739,516.987L106.522,526.307L91.304,544.591L76.087,541.367L60.87,550.753L45.652,542.587L30.435,551.767L15.217,538.28L0,540.367Z\" fill=\"#ff9da6\"/></g></g><path class=\"foreground\" aria-hidden=\"true\" d=\"\" display=\"none\"/></g><g transform=\"translate(0,0)\"><path class=\"background\" aria-hidden=\"true\" d=\"M0,0h700v600h-700Z\"/><g><g class=\"mark-area role-mark marks\" role=\"graphics-object\" aria-roledescription=\"area mark container\"><path aria-label=\"hour: Dec 01, 2023; value: 0; variable: C3\" role=\"graphics-symbol\" aria-roledescription=\"area mark\" d=\"M0,113.845L15.217,122.88L30.435,136.367L45.652,162.124L60.87,174.747L76.087,179.843L91.304,155.397L106.522,198.024L121.739,189.781L136.957,189.866L152.174,176.539L167.391,200.182L182.609,197.227L197.826,219.084L213.043,201.687L228.261,171.041L243.478,152.489L258.696,171.269L273.913,129.004L289.13,112.367L304.348,103.607L319.565,90.627L334.783,94.8L350,94.318L365.217,111.918L380.435,143.43L395.652,161.222L410.87,173.103L426.087,182.501L441.304,193.986L456.522,192.798L471.739,217.946L486.957,224.143L502.174,221.922L517.391,227.831L532.609,238.919L547.826,222.409L563.043,226.361L578.261,223.248L593.478,201.045L608.696,201.141L623.913,177.63L639.13,117.326L654.348,86.387L669.565,88.893L684.783,84.1L700,81.503L700,81.503L684.783,84.1L669.565,88.893L654.348,86.387L639.13,117.326L623.913,177.63L608.696,201.141L593.478,201.045L578.261,223.248L563.043,226.361L547.826,222.409L532.609,238.919L517.391,227.831L502.174,221.922L486.957,224.143L471.739,217.946L456.522,192.798L441.304,193.986L426.087,182.501L410.87,173.103L395.652,161.222L380.435,143.43L365.217,111.918L350,94.318L334.783,94.8L319.565,90.627L304.348,103.607L289.13,112.367L273.913,129.004L258.696,171.269L243.478,152.489L228.261,171.041L213.043,201.687L197.826,219.084L182.609,197.227L167.391,200.182L152.174,176.539L136.957,189.866L121.739,189.781L106.522,198.024L91.304,155.397L76.087,179.843L60.87,174.747L45.652,162.124L30.435,136.367L15.217,122.88L0,113.845Z\" fill=\"#e45756\"/></g></g><path class=\"foreground\" aria-hidden=\"true\" d=\"\" display=\"none\"/></g><g transform=\"translate(0,0)\"><path class=\"background\" aria-hidden=\"true\" d=\"M0,0h700v600h-700Z\"/><g><g class=\"mark-area role-mark marks\" role=\"graphics-object\" aria-roledescription=\"area mark container\"><path aria-label=\"hour: Dec 01, 2023; value: 48; variable: IPP Tobene Power\" role=\"graphics-symbol\" aria-roledescription=\"area mark\" d=\"M0,252.852L15.217,258.78L30.435,272.267L45.652,291.753L60.87,301.087L76.087,309.867L91.304,287.844L106.522,310.034L121.739,305.487L136.957,301.865L152.174,286.252L167.391,290.918L182.609,289.197L197.826,313.68L213.043,300.801L228.261,290.09L243.478,281.735L258.696,301.03L273.913,261.17L289.13,250.473L304.348,239.507L319.565,226.527L334.783,230.7L350,228.24L365.217,243.467L380.435,270.467L395.652,283.687L410.87,294L426.087,283.48L441.304,305.927L456.522,301.543L471.739,309.712L486.957,312.143L502.174,320.246L517.391,317.59L532.609,309.673L547.826,310.409L563.043,314.361L578.261,313.336L593.478,303.521L608.696,305.204L623.913,301.766L639.13,250.56L654.348,222.287L669.565,239.793L684.783,220L700,215.233L700,239.233L684.783,244L669.565,271.793L654.348,246.287L639.13,282.56L623.913,349.766L608.696,353.204L593.478,335.521L578.261,329.336L563.043,322.361L547.826,318.409L532.609,309.673L517.391,325.59L502.174,344.246L486.957,320.143L471.739,325.712L456.522,341.543L441.304,353.927L426.087,331.48L410.87,342L395.652,331.687L380.435,318.467L365.217,275.467L350,252.24L334.783,254.7L319.565,250.527L304.348,263.507L289.13,275.807L273.913,285.17L258.696,349.03L243.478,329.735L228.261,338.09L213.043,324.801L197.826,329.68L182.609,313.197L167.391,306.918L152.174,326.252L136.957,349.865L121.739,353.487L106.522,358.034L91.304,311.844L76.087,357.867L60.87,341.087L45.652,323.753L30.435,296.267L15.217,282.78L0,284.852Z\" fill=\"#f58518\"/></g></g><path class=\"foreground\" aria-hidden=\"true\" d=\"\" display=\"none\"/></g><g transform=\"translate(0,0)\"><path class=\"background\" aria-hidden=\"true\" d=\"M0,0h700v600h-700Z\"/><g><g class=\"mark-area role-mark marks\" role=\"graphics-object\" aria-roledescription=\"area mark container\"><path aria-label=\"hour: Dec 01, 2023; value: 0; variable: Kahone C1\" role=\"graphics-symbol\" aria-roledescription=\"area mark\" d=\"M0,394.867L15.217,392.78L30.435,406.267L45.652,397.087L60.87,405.253L76.087,394.533L91.304,399.091L106.522,376.367L121.739,371.82L136.957,349.865L152.174,326.252L167.391,316.085L182.609,322.364L197.826,329.68L213.043,324.801L228.261,347.257L243.478,366.401L258.696,385.697L273.913,381.583L289.13,376.64L304.348,364.34L319.565,360.527L334.783,364.7L350,353.073L365.217,348.8L380.435,345.967L395.652,359.187L410.87,360.333L426.087,349.813L441.304,353.927L456.522,341.543L471.739,325.712L486.957,320.143L502.174,344.246L517.391,325.59L532.609,332.753L547.826,318.409L563.043,322.361L578.261,329.336L593.478,335.521L608.696,353.204L623.913,377.266L639.13,374.226L654.348,351.867L669.565,354.293L684.783,344.833L700,340.067L700,340.067L684.783,344.833L669.565,354.293L654.348,351.867L639.13,374.226L623.913,377.266L608.696,353.204L593.478,335.521L578.261,329.336L563.043,322.361L547.826,318.409L532.609,332.753L517.391,326.923L502.174,344.246L486.957,320.143L471.739,325.712L456.522,341.543L441.304,353.927L426.087,349.813L410.87,360.333L395.652,359.187L380.435,345.967L365.217,348.8L350,353.073L334.783,364.7L319.565,360.527L304.348,364.34L289.13,376.64L273.913,381.583L258.696,385.697L243.478,366.401L228.261,347.257L213.043,324.801L197.826,331.014L182.609,322.364L167.391,317.418L152.174,326.252L136.957,349.865L121.739,373.154L106.522,376.367L91.304,399.091L76.087,395.867L60.87,405.253L45.652,397.087L30.435,406.267L15.217,392.78L0,394.867Z\" fill=\"#54a24b\"/></g></g><path class=\"foreground\" aria-hidden=\"true\" d=\"\" display=\"none\"/></g><g transform=\"translate(0,0)\"><path class=\"background\" aria-hidden=\"true\" d=\"M0,0h700v600h-700Z\"/><g><g class=\"mark-area role-mark marks\" role=\"graphics-object\" aria-roledescription=\"area mark container\"><path aria-label=\"hour: Dec 01, 2023; value: 81; variable: Cap des Biches C4\" role=\"graphics-symbol\" aria-roledescription=\"area mark\" d=\"M0,113.845L15.217,122.88L30.435,136.367L45.652,162.124L60.87,174.747L76.087,179.843L91.304,155.397L106.522,198.024L121.739,189.781L136.957,189.866L152.174,176.539L167.391,200.182L182.609,197.227L197.826,219.084L213.043,201.687L228.261,171.041L243.478,152.489L258.696,171.269L273.913,129.004L289.13,112.367L304.348,103.607L319.565,90.627L334.783,94.8L350,94.318L365.217,111.918L380.435,143.43L395.652,161.222L410.87,173.103L426.087,182.501L441.304,193.986L456.522,192.798L471.739,217.946L486.957,224.143L502.174,221.922L517.391,227.831L532.609,238.919L547.826,222.409L563.043,226.361L578.261,223.248L593.478,201.045L608.696,201.141L623.913,177.63L639.13,117.326L654.348,86.387L669.565,100.893L684.783,84.1L700,81.503L700,133.333L684.783,138.1L669.565,152.6L654.348,140.387L639.13,168.66L623.913,228.963L608.696,241.141L593.478,252.379L578.261,274.581L563.043,277.694L547.826,273.742L532.609,270.253L517.391,279.165L502.174,273.255L486.957,275.476L471.739,269.28L456.522,244.131L441.304,245.319L426.087,222.501L410.87,224.436L395.652,212.555L380.435,194.764L365.217,163.252L350,146.34L334.783,148.8L319.565,144.627L304.348,157.607L289.13,165.467L273.913,180.337L258.696,222.603L243.478,203.823L228.261,222.375L213.043,253.02L197.826,270.418L182.609,237.227L167.391,240.182L152.174,227.872L136.957,241.2L121.739,241.114L106.522,250.357L91.304,206.944L76.087,233.843L60.87,226.081L45.652,213.457L30.435,190.367L15.217,176.88L0,167.845Z\" fill=\"#54a24b\"/></g></g><path class=\"foreground\" aria-hidden=\"true\" d=\"\" display=\"none\"/></g><g transform=\"translate(0,0)\"><path class=\"background\" aria-hidden=\"true\" d=\"M0,0h700v600h-700Z\"/><g><g class=\"mark-area role-mark marks\" role=\"graphics-object\" aria-roledescription=\"area mark container\"><path aria-label=\"hour: Dec 01, 2023; value: 165.022228564; variable: KARPOWERSHIP\" role=\"graphics-symbol\" aria-roledescription=\"area mark\" d=\"M0,284.852L15.217,282.78L30.435,296.267L45.652,323.753L60.87,341.087L76.087,357.867L91.304,316.591L106.522,358.034L121.739,353.487L136.957,349.865L152.174,326.252L167.391,306.918L182.609,313.197L197.826,329.68L213.043,324.801L228.261,338.09L243.478,329.735L258.696,349.03L273.913,289.916L289.13,275.807L304.348,263.507L319.565,250.527L334.783,254.7L350,252.24L365.217,275.467L380.435,318.467L395.652,331.687L410.87,342L426.087,331.48L441.304,353.927L456.522,341.543L471.739,325.712L486.957,320.143L502.174,344.246L517.391,325.59L532.609,314.419L547.826,318.409L563.043,322.361L578.261,329.336L593.478,335.521L608.696,353.204L623.913,349.766L639.13,282.56L654.348,251.033L669.565,271.793L684.783,244L700,239.233L700,340.067L684.783,344.833L669.565,354.293L654.348,351.867L639.13,374.226L623.913,377.266L608.696,353.204L593.478,335.521L578.261,329.336L563.043,322.361L547.826,318.409L532.609,332.753L517.391,325.59L502.174,344.246L486.957,320.143L471.739,325.712L456.522,341.543L441.304,353.927L426.087,349.813L410.87,360.333L395.652,359.187L380.435,345.967L365.217,348.8L350,353.073L334.783,364.7L319.565,360.527L304.348,364.34L289.13,376.64L273.913,381.583L258.696,385.697L243.478,366.401L228.261,347.257L213.043,324.801L197.826,329.68L182.609,322.364L167.391,316.085L152.174,326.252L136.957,349.865L121.739,371.82L106.522,376.367L91.304,399.091L76.087,394.533L60.87,405.253L45.652,397.087L30.435,406.267L15.217,392.78L0,394.867Z\" fill=\"#72b7b2\"/></g></g><path class=\"foreground\" aria-hidden=\"true\" d=\"\" display=\"none\"/></g><g transform=\"translate(0,0)\"><path class=\"background\" aria-hidden=\"true\" d=\"M0,0h700v600h-700Z\"/><g><g class=\"mark-area role-mark marks\" role=\"graphics-object\" aria-roledescription=\"area mark container\"><path aria-label=\"hour: Dec 01, 2023; value: 55; variable: IPP Contour Global\" role=\"graphics-symbol\" aria-roledescription=\"area mark\" d=\"M0,213.079L15.217,222.113L30.435,235.6L45.652,255.087L60.87,264.42L76.087,273.2L91.304,251.177L106.522,273.367L121.739,273.047L136.957,265.198L152.174,249.585L167.391,251.145L182.609,252.531L197.826,277.014L213.043,264.134L228.261,253.424L243.478,245.068L258.696,264.364L273.913,224.503L289.13,210.7L304.348,202.84L319.565,189.86L334.783,194.033L350,191.573L365.217,206.8L380.435,233.8L395.652,247.02L410.87,257.333L426.087,246.813L441.304,269.26L456.522,264.876L471.739,273.045L486.957,275.476L502.174,283.58L517.391,280.923L532.609,273.006L547.826,273.742L563.043,277.694L578.261,276.67L593.478,266.855L608.696,265.431L623.913,265.099L639.13,213.893L654.348,185.62L669.565,196.833L684.783,183.333L700,178.567L700,215.233L684.783,220L669.565,233.5L654.348,222.287L639.13,250.56L623.913,301.766L608.696,302.098L593.478,303.521L578.261,313.336L563.043,314.361L547.826,310.409L532.609,309.673L517.391,317.59L502.174,320.246L486.957,312.143L471.739,309.712L456.522,301.543L441.304,305.927L426.087,283.48L410.87,294L395.652,283.687L380.435,270.467L365.217,243.467L350,228.24L334.783,230.7L319.565,226.527L304.348,239.507L289.13,247.367L273.913,261.17L258.696,301.03L243.478,281.735L228.261,290.09L213.043,300.801L197.826,313.68L182.609,289.197L167.391,287.812L152.174,286.252L136.957,301.865L121.739,302.38L106.522,310.034L91.304,287.844L76.087,309.867L60.87,301.087L45.652,291.753L30.435,272.267L15.217,258.78L0,249.745Z\" fill=\"#ff9da6\"/></g></g><path class=\"foreground\" aria-hidden=\"true\" d=\"\" display=\"none\"/></g><g transform=\"translate(0,0)\"><path class=\"background\" aria-hidden=\"true\" d=\"M0,0h700v600h-700Z\"/><g><g class=\"mark-area role-mark marks\" role=\"graphics-object\" aria-roledescription=\"area mark container\"><path aria-label=\"hour: Dec 01, 2023; value: 0; variable: IPP Tobene Power TAV\" role=\"graphics-symbol\" aria-roledescription=\"area mark\" d=\"M0,284.852L15.217,282.78L30.435,296.267L45.652,323.753L60.87,341.087L76.087,357.867L91.304,311.844L106.522,358.034L121.739,353.487L136.957,349.865L152.174,326.252L167.391,306.918L182.609,313.197L197.826,329.68L213.043,324.801L228.261,338.09L243.478,329.735L258.696,349.03L273.913,285.17L289.13,275.807L304.348,263.507L319.565,250.527L334.783,254.7L350,252.24L365.217,275.467L380.435,318.467L395.652,331.687L410.87,342L426.087,331.48L441.304,353.927L456.522,341.543L471.739,325.712L486.957,320.143L502.174,344.246L517.391,325.59L532.609,309.673L547.826,318.409L563.043,322.361L578.261,329.336L593.478,335.521L608.696,353.204L623.913,349.766L639.13,282.56L654.348,246.287L669.565,271.793L684.783,244L700,239.233L700,239.233L684.783,244L669.565,271.793L654.348,251.033L639.13,282.56L623.913,349.766L608.696,353.204L593.478,335.521L578.261,329.336L563.043,322.361L547.826,318.409L532.609,314.419L517.391,325.59L502.174,344.246L486.957,320.143L471.739,325.712L456.522,341.543L441.304,353.927L426.087,331.48L410.87,342L395.652,331.687L380.435,318.467L365.217,275.467L350,252.24L334.783,254.7L319.565,250.527L304.348,263.507L289.13,275.807L273.913,289.916L258.696,349.03L243.478,329.735L228.261,338.09L213.043,324.801L197.826,329.68L182.609,313.197L167.391,306.918L152.174,326.252L136.957,349.865L121.739,353.487L106.522,358.034L91.304,316.591L76.087,357.867L60.87,341.087L45.652,323.753L30.435,296.267L15.217,282.78L0,284.852Z\" fill=\"#e45756\"/></g></g><path class=\"foreground\" aria-hidden=\"true\" d=\"\" display=\"none\"/></g><g transform=\"translate(0,0)\"><path class=\"background\" aria-hidden=\"true\" d=\"M0,0h700v600h-700Z\"/><g><g class=\"mark-area role-mark marks\" role=\"graphics-object\" aria-roledescription=\"area mark container\"><path aria-label=\"hour: Dec 01, 2023; value: 0; variable: IPP Kounoune Power\" role=\"graphics-symbol\" aria-roledescription=\"area mark\" d=\"M0,252.852L15.217,258.78L30.435,272.267L45.652,291.753L60.87,301.087L76.087,309.867L91.304,287.844L106.522,310.034L121.739,305.487L136.957,301.865L152.174,286.252L167.391,290.918L182.609,289.197L197.826,313.68L213.043,300.801L228.261,290.09L243.478,281.735L258.696,301.03L273.913,261.17L289.13,250.473L304.348,239.507L319.565,226.527L334.783,230.7L350,228.24L365.217,243.467L380.435,270.467L395.652,283.687L410.87,294L426.087,283.48L441.304,305.927L456.522,301.543L471.739,309.712L486.957,312.143L502.174,320.246L517.391,317.59L532.609,309.673L547.826,310.409L563.043,314.361L578.261,313.336L593.478,303.521L608.696,305.204L623.913,301.766L639.13,250.56L654.348,222.287L669.565,233.5L684.783,220L700,215.233L700,215.233L684.783,220L669.565,233.5L654.348,222.287L639.13,250.56L623.913,301.766L608.696,305.204L593.478,303.521L578.261,313.336L563.043,314.361L547.826,310.409L532.609,309.673L517.391,317.59L502.174,320.246L486.957,312.143L471.739,309.712L456.522,301.543L441.304,305.927L426.087,283.48L410.87,294L395.652,283.687L380.435,270.467L365.217,243.467L350,228.24L334.783,230.7L319.565,226.527L304.348,239.507L289.13,250.473L273.913,261.17L258.696,301.03L243.478,281.735L228.261,290.09L213.043,300.801L197.826,313.68L182.609,289.197L167.391,290.918L152.174,286.252L136.957,301.865L121.739,305.487L106.522,310.034L91.304,287.844L76.087,309.867L60.87,301.087L45.652,291.753L30.435,272.267L15.217,258.78L0,252.852Z\" fill=\"#bab0ac\"/></g></g><path class=\"foreground\" aria-hidden=\"true\" d=\"\" display=\"none\"/></g><g transform=\"translate(0,0)\"><path class=\"background\" aria-hidden=\"true\" d=\"M0,0h700v600h-700Z\"/><g><g class=\"mark-area role-mark marks\" role=\"graphics-object\" aria-roledescription=\"area mark container\"><path aria-label=\"hour: Dec 01, 2023; value: 72; variable: Kahone C7\" role=\"graphics-symbol\" aria-roledescription=\"area mark\" d=\"M0,394.867L15.217,392.78L30.435,406.267L45.652,397.087L60.87,405.253L76.087,395.867L91.304,399.091L106.522,376.367L121.739,373.154L136.957,349.865L152.174,326.252L167.391,317.418L182.609,322.364L197.826,331.014L213.043,324.801L228.261,347.257L243.478,366.401L258.696,385.697L273.913,381.583L289.13,376.64L304.348,364.34L319.565,360.527L334.783,364.7L350,353.073L365.217,348.8L380.435,345.967L395.652,359.187L410.87,360.333L426.087,349.813L441.304,353.927L456.522,341.543L471.739,325.712L486.957,320.143L502.174,344.246L517.391,326.923L532.609,332.753L547.826,318.409L563.043,322.361L578.261,329.336L593.478,335.521L608.696,353.204L623.913,377.266L639.13,374.226L654.348,351.867L669.565,354.293L684.783,344.833L700,340.067L700,388.067L684.783,392.833L669.565,402.293L654.348,399.867L639.13,422.226L623.913,425.266L608.696,401.204L593.478,383.521L578.261,377.336L563.043,370.361L547.826,366.409L532.609,380.753L517.391,374.923L502.174,392.246L486.957,368.143L471.739,373.712L456.522,389.543L441.304,401.927L426.087,397.813L410.87,408.333L395.652,407.187L380.435,393.967L365.217,396.8L350,401.073L334.783,412.7L319.565,408.527L304.348,412.34L289.13,424.64L273.913,429.583L258.696,433.697L243.478,414.401L228.261,395.257L213.043,372.801L197.826,379.014L182.609,370.364L167.391,365.418L152.174,374.252L136.957,397.865L121.739,421.154L106.522,424.367L91.304,447.091L76.087,443.867L60.87,453.253L45.652,445.087L30.435,454.267L15.217,440.78L0,442.867Z\" fill=\"#eeca3b\"/></g></g><path class=\"foreground\" aria-hidden=\"true\" d=\"\" display=\"none\"/></g><g transform=\"translate(0,0)\"><path class=\"background\" aria-hidden=\"true\" d=\"M0,0h700v600h-700Z\"/><g><g class=\"mark-area role-mark marks\" role=\"graphics-object\" aria-roledescription=\"area mark container\"><path aria-label=\"hour: Dec 01, 2023; value: 88.294989973; variable: Bel-Air C6\" role=\"graphics-symbol\" aria-roledescription=\"area mark\" d=\"M0,54.982L15.217,71.608L30.435,84.739L45.652,114.124L60.87,126.747L76.087,131.321L91.304,107.397L106.522,150.024L121.739,141.781L136.957,141.866L152.174,128.539L167.391,152.182L182.609,148.394L197.826,171.084L213.043,153.687L228.261,123.041L243.478,104.489L258.696,123.269L273.913,81.004L289.13,61.367L304.348,52.089L319.565,36.267L334.783,41.506L350,46.318L365.217,63.918L380.435,95.43L395.652,113.222L410.87,125.103L426.087,134.501L441.304,145.986L456.522,144.798L471.739,169.946L486.957,176.143L502.174,173.922L517.391,179.831L532.609,190.919L547.826,174.409L563.043,178.361L578.261,175.248L593.478,153.045L608.696,153.141L623.913,129.63L639.13,69.065L654.348,37.28L669.565,40.893L684.783,34.061L700,33.503L700,81.503L684.783,84.1L669.565,88.893L654.348,86.387L639.13,117.326L623.913,177.63L608.696,201.141L593.478,201.045L578.261,223.248L563.043,226.361L547.826,222.409L532.609,238.919L517.391,227.831L502.174,221.922L486.957,224.143L471.739,217.946L456.522,192.798L441.304,193.986L426.087,182.501L410.87,173.103L395.652,161.222L380.435,143.43L365.217,111.918L350,94.318L334.783,94.8L319.565,90.627L304.348,103.607L289.13,112.367L273.913,129.004L258.696,171.269L243.478,152.489L228.261,171.041L213.043,201.687L197.826,219.084L182.609,197.227L167.391,200.182L152.174,176.539L136.957,189.866L121.739,189.781L106.522,198.024L91.304,155.397L76.087,179.843L60.87,174.747L45.652,162.124L30.435,136.367L15.217,122.88L0,113.845Z\" fill=\"#f58518\"/></g></g><path class=\"foreground\" aria-hidden=\"true\" d=\"\" display=\"none\"/></g><g transform=\"translate(0,0)\"><path class=\"background\" aria-hidden=\"true\" d=\"M0,0h700v600h-700Z\"/><g><g class=\"mark-area role-mark marks\" role=\"graphics-object\" aria-roledescription=\"area mark container\"><path aria-label=\"hour: Dec 01, 2023; value: 4.66; variable: IPP Contour Global TAV\" role=\"graphics-symbol\" aria-roledescription=\"area mark\" d=\"M0,249.745L15.217,258.78L30.435,272.267L45.652,291.753L60.87,301.087L76.087,309.867L91.304,287.844L106.522,310.034L121.739,302.38L136.957,301.865L152.174,286.252L167.391,287.812L182.609,289.197L197.826,313.68L213.043,300.801L228.261,290.09L243.478,281.735L258.696,301.03L273.913,261.17L289.13,247.367L304.348,239.507L319.565,226.527L334.783,230.7L350,228.24L365.217,243.467L380.435,270.467L395.652,283.687L410.87,294L426.087,283.48L441.304,305.927L456.522,301.543L471.739,309.712L486.957,312.143L502.174,320.246L517.391,317.59L532.609,309.673L547.826,310.409L563.043,314.361L578.261,313.336L593.478,303.521L608.696,302.098L623.913,301.766L639.13,250.56L654.348,222.287L669.565,233.5L684.783,220L700,215.233L700,215.233L684.783,220L669.565,233.5L654.348,222.287L639.13,250.56L623.913,301.766L608.696,305.204L593.478,303.521L578.261,313.336L563.043,314.361L547.826,310.409L532.609,309.673L517.391,317.59L502.174,320.246L486.957,312.143L471.739,309.712L456.522,301.543L441.304,305.927L426.087,283.48L410.87,294L395.652,283.687L380.435,270.467L365.217,243.467L350,228.24L334.783,230.7L319.565,226.527L304.348,239.507L289.13,250.473L273.913,261.17L258.696,301.03L243.478,281.735L228.261,290.09L213.043,300.801L197.826,313.68L182.609,289.197L167.391,290.918L152.174,286.252L136.957,301.865L121.739,305.487L106.522,310.034L91.304,287.844L76.087,309.867L60.87,301.087L45.652,291.753L30.435,272.267L15.217,258.78L0,252.852Z\" fill=\"#9d755d\"/></g></g><path class=\"foreground\" aria-hidden=\"true\" d=\"\" display=\"none\"/></g><g transform=\"translate(0,0)\"><path class=\"background\" aria-hidden=\"true\" d=\"M0,0h700v600h-700Z\"/><g><g class=\"mark-area role-mark marks\" role=\"graphics-object\" aria-roledescription=\"area mark container\"><path aria-label=\"hour: Dec 01, 2023; value: 46.7; variable: Gouina\" role=\"graphics-symbol\" aria-roledescription=\"area mark\" d=\"M0,181.945L15.217,190.98L30.435,204.467L45.652,227.557L60.87,240.181L76.087,247.943L91.304,221.044L106.522,264.347L121.739,255.214L136.957,255.3L152.174,241.972L167.391,251.145L182.609,251.197L197.826,277.014L213.043,264.134L228.261,236.475L243.478,217.923L258.696,236.703L273.913,194.437L289.13,179.567L304.348,171.707L319.565,158.727L334.783,162.9L350,160.44L365.217,177.352L380.435,208.864L395.652,226.655L410.87,238.536L426.087,236.601L441.304,259.419L456.522,258.231L471.739,273.045L486.957,275.476L502.174,283.58L517.391,280.923L532.609,270.253L547.826,273.742L563.043,277.694L578.261,276.67L593.478,266.479L608.696,251.85L623.913,243.063L639.13,182.76L654.348,154.487L669.565,165.7L684.783,152.2L700,147.433L700,178.567L684.783,183.333L669.565,196.833L654.348,185.62L639.13,213.893L623.913,265.099L608.696,265.431L593.478,266.855L578.261,276.67L563.043,277.694L547.826,273.742L532.609,273.006L517.391,280.923L502.174,283.58L486.957,275.476L471.739,273.045L456.522,264.876L441.304,269.26L426.087,246.813L410.87,257.333L395.652,247.02L380.435,233.8L365.217,206.8L350,191.573L334.783,194.033L319.565,189.86L304.348,202.84L289.13,210.7L273.913,224.503L258.696,264.364L243.478,245.068L228.261,253.424L213.043,264.134L197.826,277.014L182.609,252.531L167.391,251.145L152.174,249.585L136.957,265.198L121.739,273.047L106.522,273.367L91.304,251.177L76.087,273.2L60.87,264.42L45.652,255.087L30.435,235.6L15.217,222.113L0,213.079Z\" fill=\"#b279a2\"/></g></g><path class=\"foreground\" aria-hidden=\"true\" d=\"\" display=\"none\"/></g><g transform=\"translate(0,0)\"><path class=\"background\" aria-hidden=\"true\" d=\"M0,0h700v600h-700Z\"/><g><g class=\"mark-area role-mark marks\" role=\"graphics-object\" aria-roledescription=\"area mark container\"><path aria-label=\"hour: Dec 01, 2023; value: 0; variable: BEL-AIR TAG4\" role=\"graphics-symbol\" aria-roledescription=\"area mark\" d=\"M0,54.982L15.217,71.608L30.435,84.739L45.652,114.124L60.87,126.747L76.087,131.321L91.304,107.397L106.522,150.024L121.739,141.781L136.957,141.866L152.174,128.539L167.391,152.182L182.609,148.394L197.826,171.084L213.043,153.687L228.261,123.041L243.478,104.489L258.696,123.269L273.913,81.004L289.13,61.367L304.348,52.089L319.565,36.267L334.783,41.506L350,46.318L365.217,63.918L380.435,95.43L395.652,113.222L410.87,125.103L426.087,134.501L441.304,145.986L456.522,144.798L471.739,169.946L486.957,176.143L502.174,173.922L517.391,179.831L532.609,190.919L547.826,174.409L563.043,178.361L578.261,175.248L593.478,153.045L608.696,136.474L623.913,129.63L639.13,69.065L654.348,37.28L669.565,40.893L684.783,34.061L700,33.503L700,33.503L684.783,34.061L669.565,40.893L654.348,37.28L639.13,69.065L623.913,129.63L608.696,153.141L593.478,153.045L578.261,175.248L563.043,178.361L547.826,174.409L532.609,190.919L517.391,179.831L502.174,173.922L486.957,176.143L471.739,169.946L456.522,144.798L441.304,145.986L426.087,134.501L410.87,125.103L395.652,113.222L380.435,95.43L365.217,63.918L350,46.318L334.783,41.506L319.565,36.267L304.348,52.089L289.13,61.367L273.913,81.004L258.696,123.269L243.478,104.489L228.261,123.041L213.043,153.687L197.826,171.084L182.609,148.394L167.391,152.182L152.174,128.539L136.957,141.866L121.739,141.781L106.522,150.024L91.304,107.397L76.087,131.321L60.87,126.747L45.652,114.124L30.435,84.739L15.217,71.608L0,54.982Z\" fill=\"#4c78a8\"/></g></g><path class=\"foreground\" aria-hidden=\"true\" d=\"\" display=\"none\"/></g><g transform=\"translate(0,0)\"><path class=\"background\" aria-hidden=\"true\" d=\"M0,0h700v600h-700Z\"/><g><g class=\"mark-area role-mark marks\" role=\"graphics-object\" aria-roledescription=\"area mark container\"><path aria-label=\"hour: Dec 01, 2023; value: 21.15; variable: Felou\" role=\"graphics-symbol\" aria-roledescription=\"area mark\" d=\"M0,167.845L15.217,176.88L30.435,190.367L45.652,213.457L60.87,226.081L76.087,233.843L91.304,206.944L106.522,250.357L121.739,241.114L136.957,241.2L152.174,227.872L167.391,240.182L182.609,237.227L197.826,270.418L213.043,253.02L228.261,222.375L243.478,203.823L258.696,222.603L273.913,180.337L289.13,165.467L304.348,157.607L319.565,144.627L334.783,148.8L350,146.34L365.217,163.252L380.435,194.764L395.652,212.555L410.87,224.436L426.087,222.501L441.304,245.319L456.522,244.131L471.739,269.28L486.957,275.476L502.174,273.255L517.391,279.165L532.609,270.253L547.826,273.742L563.043,277.694L578.261,274.581L593.478,252.379L608.696,241.141L623.913,228.963L639.13,168.66L654.348,140.387L669.565,152.6L684.783,138.1L700,133.333L700,147.433L684.783,152.2L669.565,165.7L654.348,154.487L639.13,182.76L623.913,243.063L608.696,251.85L593.478,266.479L578.261,276.67L563.043,277.694L547.826,273.742L532.609,270.253L517.391,280.923L502.174,283.58L486.957,275.476L471.739,273.045L456.522,258.231L441.304,259.419L426.087,236.601L410.87,238.536L395.652,226.655L380.435,208.864L365.217,177.352L350,160.44L334.783,162.9L319.565,158.727L304.348,171.707L289.13,179.567L273.913,194.437L258.696,236.703L243.478,217.923L228.261,236.475L213.043,264.134L197.826,277.014L182.609,251.197L167.391,251.145L152.174,241.972L136.957,255.3L121.739,255.214L106.522,264.347L91.304,221.044L76.087,247.943L60.87,240.181L45.652,227.557L30.435,204.467L15.217,190.98L0,181.945Z\" fill=\"#eeca3b\"/></g></g><path class=\"foreground\" aria-hidden=\"true\" d=\"\" display=\"none\"/></g><g transform=\"translate(0,0)\"><path class=\"background\" aria-hidden=\"true\" d=\"M0,0h700v600h-700Z\"/><g><g class=\"mark-area role-mark marks\" role=\"graphics-object\" aria-roledescription=\"area mark container\"><path aria-label=\"hour: Dec 01, 2023; value: 0; variable: IPP Malicounda Power TAV\" role=\"graphics-symbol\" aria-roledescription=\"area mark\" d=\"M0,252.852L15.217,258.78L30.435,272.267L45.652,291.753L60.87,301.087L76.087,309.867L91.304,287.844L106.522,310.034L121.739,305.487L136.957,301.865L152.174,286.252L167.391,290.918L182.609,289.197L197.826,313.68L213.043,300.801L228.261,290.09L243.478,281.735L258.696,301.03L273.913,261.17L289.13,250.473L304.348,239.507L319.565,226.527L334.783,230.7L350,228.24L365.217,243.467L380.435,270.467L395.652,283.687L410.87,294L426.087,283.48L441.304,305.927L456.522,301.543L471.739,309.712L486.957,312.143L502.174,320.246L517.391,317.59L532.609,309.673L547.826,310.409L563.043,314.361L578.261,313.336L593.478,303.521L608.696,305.204L623.913,301.766L639.13,250.56L654.348,222.287L669.565,233.5L684.783,220L700,215.233L700,215.233L684.783,220L669.565,239.793L654.348,222.287L639.13,250.56L623.913,301.766L608.696,305.204L593.478,303.521L578.261,313.336L563.043,314.361L547.826,310.409L532.609,309.673L517.391,317.59L502.174,320.246L486.957,312.143L471.739,309.712L456.522,301.543L441.304,305.927L426.087,283.48L410.87,294L395.652,283.687L380.435,270.467L365.217,243.467L350,228.24L334.783,230.7L319.565,226.527L304.348,239.507L289.13,250.473L273.913,261.17L258.696,301.03L243.478,281.735L228.261,290.09L213.043,300.801L197.826,313.68L182.609,289.197L167.391,290.918L152.174,286.252L136.957,301.865L121.739,305.487L106.522,310.034L91.304,287.844L76.087,309.867L60.87,301.087L45.652,291.753L30.435,272.267L15.217,258.78L0,252.852Z\" fill=\"#4c78a8\"/></g></g><path class=\"foreground\" aria-hidden=\"true\" d=\"\" display=\"none\"/></g><g transform=\"translate(0,0)\"><path class=\"background\" aria-hidden=\"true\" d=\"M0,0h700v600h-700Z\"/><g><g class=\"mark-area role-mark marks\" role=\"graphics-object\" aria-roledescription=\"area mark container\"><path aria-label=\"hour: Dec 01, 2023; value: 0; variable: SLACK\" role=\"graphics-symbol\" aria-roledescription=\"area mark\" d=\"M0,567L15.217,564.913L30.435,578.4L45.652,569.22L60.87,577.387L76.087,568L91.304,571.224L106.522,552.941L121.739,543.62L136.957,521.998L152.174,498.385L167.391,489.552L182.609,494.497L197.826,503.147L213.043,496.934L228.261,519.39L243.478,538.535L258.696,557.83L273.913,553.716L289.13,548.773L304.348,536.473L319.565,532.66L334.783,536.833L350,525.207L365.217,520.933L380.435,518.1L395.652,531.32L410.87,532.467L426.087,521.947L441.304,526.06L456.522,513.676L471.739,497.845L486.957,489.717L502.174,516.38L517.391,499.056L532.609,472.306L547.826,488.579L563.043,491.558L578.261,501.47L593.478,507.655L608.696,525.338L623.913,549.399L639.13,546.36L654.348,524L669.565,526.427L684.783,516.967L700,512.2L700,512.2L684.783,516.967L669.565,526.427L654.348,524L639.13,546.36L623.913,549.399L608.696,525.338L593.478,507.655L578.261,501.47L563.043,491.558L547.826,488.579L532.609,472.306L517.391,499.056L502.174,516.38L486.957,489.717L471.739,497.845L456.522,513.676L441.304,526.06L426.087,521.947L410.87,532.467L395.652,531.32L380.435,518.1L365.217,520.933L350,525.207L334.783,536.833L319.565,532.66L304.348,536.473L289.13,548.773L273.913,553.716L258.696,557.83L243.478,538.535L228.261,519.39L213.043,496.934L197.826,503.147L182.609,494.497L167.391,489.552L152.174,498.385L136.957,521.998L121.739,543.62L106.522,552.941L91.304,571.224L76.087,568L60.87,577.387L45.652,569.22L30.435,578.4L15.217,564.913L0,567Z\" fill=\"#bab0ac\"/></g></g><path class=\"foreground\" aria-hidden=\"true\" d=\"\" display=\"none\"/></g><g transform=\"translate(0,0)\"><path class=\"background\" aria-hidden=\"true\" d=\"M0,0h700v600h-700Z\"/><g><g class=\"mark-area role-mark marks\" role=\"graphics-object\" aria-roledescription=\"area mark container\"><path aria-label=\"hour: Dec 01, 2023; value: 39.95; variable: Manantali\" role=\"graphics-symbol\" aria-roledescription=\"area mark\" d=\"M0,540.367L15.217,538.28L30.435,551.767L45.652,542.587L60.87,550.753L76.087,541.367L91.304,544.591L106.522,526.307L121.739,516.987L136.957,495.365L152.174,471.752L167.391,462.918L182.609,467.864L197.826,476.514L213.043,470.301L228.261,492.757L243.478,511.901L258.696,531.197L273.913,527.083L289.13,522.14L304.348,509.84L319.565,506.027L334.783,510.2L350,498.573L365.217,494.3L380.435,491.467L395.652,504.687L410.87,505.833L426.087,495.313L441.304,499.427L456.522,487.043L471.739,471.212L486.957,464.643L502.174,489.746L517.391,472.423L532.609,458.919L547.826,463.909L563.043,466.861L578.261,474.836L593.478,481.021L608.696,498.704L623.913,522.766L639.13,519.726L654.348,497.367L669.565,499.793L684.783,490.333L700,485.567L700,512.2L684.783,516.967L669.565,526.427L654.348,524L639.13,546.36L623.913,549.399L608.696,525.338L593.478,507.655L578.261,501.47L563.043,491.558L547.826,488.579L532.609,472.306L517.391,499.056L502.174,516.38L486.957,489.717L471.739,497.845L456.522,513.676L441.304,526.06L426.087,521.947L410.87,532.467L395.652,531.32L380.435,518.1L365.217,520.933L350,525.207L334.783,536.833L319.565,532.66L304.348,536.473L289.13,548.773L273.913,553.716L258.696,557.83L243.478,538.535L228.261,519.39L213.043,496.934L197.826,503.147L182.609,494.497L167.391,489.552L152.174,498.385L136.957,521.998L121.739,543.62L106.522,552.941L91.304,571.224L76.087,568L60.87,577.387L45.652,569.22L30.435,578.4L15.217,564.913L0,567Z\" fill=\"#9d755d\"/></g></g><path class=\"foreground\" aria-hidden=\"true\" d=\"\" display=\"none\"/></g><g transform=\"translate(0,0)\"><path class=\"background\" aria-hidden=\"true\" d=\"M0,0h700v600h-700Z\"/><g><g class=\"mark-area role-mark marks\" role=\"graphics-object\" aria-roledescription=\"area mark container\"><path aria-label=\"hour: Dec 01, 2023; value: 50; variable: Kaleta\" role=\"graphics-symbol\" aria-roledescription=\"area mark\" d=\"M0,442.867L15.217,440.78L30.435,454.267L45.652,445.087L60.87,453.253L76.087,443.867L91.304,447.091L106.522,424.367L121.739,421.154L136.957,397.865L152.174,374.252L167.391,365.418L182.609,370.364L197.826,379.014L213.043,372.801L228.261,395.257L243.478,414.401L258.696,433.697L273.913,429.583L289.13,424.64L304.348,412.34L319.565,408.527L334.783,412.7L350,401.073L365.217,396.8L380.435,393.967L395.652,407.187L410.87,408.333L426.087,397.813L441.304,401.927L456.522,389.543L471.739,373.712L486.957,368.143L502.174,392.246L517.391,374.923L532.609,380.753L547.826,366.409L563.043,370.361L578.261,377.336L593.478,383.521L608.696,401.204L623.913,425.266L639.13,422.226L654.348,399.867L669.565,402.293L684.783,392.833L700,388.067L700,421.4L684.783,426.167L669.565,435.627L654.348,433.2L639.13,455.56L623.913,458.599L608.696,434.538L593.478,416.855L578.261,410.67L563.043,402.694L547.826,399.742L532.609,413.086L517.391,408.256L502.174,425.58L486.957,400.476L471.739,407.045L456.522,422.876L441.304,435.26L426.087,431.147L410.87,441.667L395.652,440.52L380.435,427.3L365.217,430.133L350,434.407L334.783,446.033L319.565,441.86L304.348,445.673L289.13,457.973L273.913,462.916L258.696,467.03L243.478,447.735L228.261,428.59L213.043,406.134L197.826,412.347L182.609,403.697L167.391,398.752L152.174,407.585L136.957,431.198L121.739,452.82L106.522,457.701L91.304,480.424L76.087,477.2L60.87,486.587L45.652,478.42L30.435,487.6L15.217,474.113L0,476.2Z\" fill=\"#b279a2\"/></g></g><path class=\"foreground\" aria-hidden=\"true\" d=\"\" display=\"none\"/></g><g transform=\"translate(0,0)\"><path class=\"background\" aria-hidden=\"true\" d=\"M0,0h700v600h-700Z\"/><g><g class=\"mark-area role-mark marks\" role=\"graphics-object\" aria-roledescription=\"area mark container\"><path aria-label=\"hour: Dec 01, 2023; value: 0; variable: Sendou\" role=\"graphics-symbol\" aria-roledescription=\"area mark\" d=\"M0,567L15.217,564.913L30.435,578.4L45.652,569.22L60.87,577.387L76.087,568L91.304,571.224L106.522,552.941L121.739,543.62L136.957,521.998L152.174,498.385L167.391,489.552L182.609,494.497L197.826,503.147L213.043,496.934L228.261,519.39L243.478,538.535L258.696,557.83L273.913,553.716L289.13,548.773L304.348,536.473L319.565,532.66L334.783,536.833L350,525.207L365.217,520.933L380.435,518.1L395.652,531.32L410.87,532.467L426.087,521.947L441.304,526.06L456.522,513.676L471.739,497.845L486.957,489.717L502.174,516.38L517.391,499.056L532.609,472.306L547.826,488.579L563.043,491.558L578.261,501.47L593.478,507.655L608.696,525.338L623.913,549.399L639.13,546.36L654.348,524L669.565,526.427L684.783,516.967L700,512.2L700,512.2L684.783,516.967L669.565,526.427L654.348,524L639.13,546.36L623.913,549.399L608.696,525.338L593.478,507.655L578.261,501.47L563.043,491.558L547.826,488.579L532.609,472.306L517.391,499.056L502.174,516.38L486.957,489.717L471.739,497.845L456.522,513.676L441.304,526.06L426.087,521.947L410.87,532.467L395.652,531.32L380.435,518.1L365.217,520.933L350,525.207L334.783,536.833L319.565,532.66L304.348,536.473L289.13,548.773L273.913,553.716L258.696,557.83L243.478,538.535L228.261,519.39L213.043,496.934L197.826,503.147L182.609,494.497L167.391,489.552L152.174,498.385L136.957,521.998L121.739,543.62L106.522,552.941L91.304,571.224L76.087,568L60.87,577.387L45.652,569.22L30.435,578.4L15.217,564.913L0,567Z\" fill=\"#4c78a8\"/></g></g><path class=\"foreground\" aria-hidden=\"true\" d=\"\" display=\"none\"/></g><g transform=\"translate(0,0)\"><path class=\"background\" aria-hidden=\"true\" d=\"M0,0h700v600h-700Z\"/><g><g class=\"mark-area role-mark marks\" role=\"graphics-object\" aria-roledescription=\"area mark container\"><path aria-label=\"hour: Dec 01, 2023; value: 0; variable: CDB TAG2\" role=\"graphics-symbol\" aria-roledescription=\"area mark\" d=\"M0,113.845L15.217,122.88L30.435,136.367L45.652,162.124L60.87,174.747L76.087,179.843L91.304,155.397L106.522,198.024L121.739,189.781L136.957,189.866L152.174,176.539L167.391,200.182L182.609,197.227L197.826,219.084L213.043,201.687L228.261,171.041L243.478,152.489L258.696,171.269L273.913,129.004L289.13,112.367L304.348,103.607L319.565,90.627L334.783,94.8L350,94.318L365.217,111.918L380.435,143.43L395.652,161.222L410.87,173.103L426.087,182.501L441.304,193.986L456.522,192.798L471.739,217.946L486.957,224.143L502.174,221.922L517.391,227.831L532.609,238.919L547.826,222.409L563.043,226.361L578.261,223.248L593.478,201.045L608.696,201.141L623.913,177.63L639.13,117.326L654.348,86.387L669.565,88.893L684.783,84.1L700,81.503L700,81.503L684.783,84.1L669.565,100.893L654.348,86.387L639.13,117.326L623.913,177.63L608.696,201.141L593.478,201.045L578.261,223.248L563.043,226.361L547.826,222.409L532.609,238.919L517.391,227.831L502.174,221.922L486.957,224.143L471.739,217.946L456.522,192.798L441.304,193.986L426.087,182.501L410.87,173.103L395.652,161.222L380.435,143.43L365.217,111.918L350,94.318L334.783,94.8L319.565,90.627L304.348,103.607L289.13,112.367L273.913,129.004L258.696,171.269L243.478,152.489L228.261,171.041L213.043,201.687L197.826,219.084L182.609,197.227L167.391,200.182L152.174,176.539L136.957,189.866L121.739,189.781L106.522,198.024L91.304,155.397L76.087,179.843L60.87,174.747L45.652,162.124L30.435,136.367L15.217,122.88L0,113.845Z\" fill=\"#72b7b2\"/></g></g><path class=\"foreground\" aria-hidden=\"true\" d=\"\" display=\"none\"/></g><g transform=\"translate(0,0)\"><path class=\"background\" aria-hidden=\"true\" d=\"M0,0h700v600h-700Z\"/><g><g class=\"mark-area role-mark marks\" role=\"graphics-object\" aria-roledescription=\"area mark container\"><path aria-label=\"hour: Dec 01, 2023; value: 0; variable: solar\" role=\"graphics-symbol\" aria-roledescription=\"area mark\" d=\"M0,567L15.217,564.913L30.435,578.4L45.652,569.22L60.87,577.387L76.087,568L91.304,571.224L106.522,552.941L121.739,543.62L136.957,521.998L152.174,498.385L167.391,489.552L182.609,494.497L197.826,503.147L213.043,496.934L228.261,519.39L243.478,538.535L258.696,557.83L273.913,553.716L289.13,548.773L304.348,536.473L319.565,532.66L334.783,536.833L350,525.207L365.217,520.933L380.435,518.1L395.652,531.32L410.87,532.467L426.087,521.947L441.304,526.06L456.522,513.676L471.739,497.845L486.957,489.717L502.174,516.38L517.391,499.056L532.609,472.306L547.826,488.579L563.043,491.558L578.261,501.47L593.478,507.655L608.696,525.338L623.913,549.399L639.13,546.36L654.348,524L669.565,526.427L684.783,516.967L700,512.2L700,512.207L684.783,516.973L669.565,526.427L654.348,524L639.13,546.947L623.913,563.64L608.696,565.133L593.478,573.32L578.261,585.56L563.043,585.42L547.826,583.42L532.609,564.813L517.391,582.46L502.174,581.147L486.957,526.4L471.739,506.613L456.522,514.227L441.304,526.06L426.087,521.947L410.87,532.467L395.652,531.32L380.435,518.1L365.217,520.933L350,525.213L334.783,536.84L319.565,532.667L304.348,536.473L289.13,548.773L273.913,554.407L258.696,569.38L243.478,568.973L228.261,570.467L213.043,577.26L197.826,590.733L182.609,583.527L167.391,574.433L152.174,570.873L136.957,573.84L121.739,575.313L106.522,560.547L91.304,571.787L76.087,568L60.87,577.387L45.652,569.22L30.435,578.4L15.217,564.913L0,567Z\" fill=\"#f58518\"/></g></g><path class=\"foreground\" aria-hidden=\"true\" d=\"\" display=\"none\"/></g><g transform=\"translate(0,0)\"><path class=\"background\" aria-hidden=\"true\" d=\"M0,0h700v600h-700Z\"/><g><g class=\"mark-area role-mark marks\" role=\"graphics-object\" aria-roledescription=\"area mark container\"><path aria-label=\"hour: Dec 01, 2023; value: 49.5; variable: wind\" role=\"graphics-symbol\" aria-roledescription=\"area mark\" d=\"M0,567L15.217,564.913L30.435,578.4L45.652,569.22L60.87,577.387L76.087,568L91.304,571.787L106.522,560.547L121.739,575.313L136.957,573.84L152.174,570.873L167.391,574.433L182.609,583.527L197.826,590.733L213.043,577.26L228.261,570.467L243.478,568.973L258.696,569.38L273.913,554.407L289.13,548.773L304.348,536.473L319.565,532.667L334.783,536.84L350,525.213L365.217,520.933L380.435,518.1L395.652,531.32L410.87,532.467L426.087,521.947L441.304,526.06L456.522,514.227L471.739,506.613L486.957,526.4L502.174,581.147L517.391,582.46L532.609,564.813L547.826,583.42L563.043,585.42L578.261,585.56L593.478,573.32L608.696,565.133L623.913,563.64L639.13,546.947L654.348,524L669.565,526.427L684.783,516.973L700,512.207L700,600L684.783,600L669.565,600L654.348,600L639.13,600L623.913,600L608.696,600L593.478,600L578.261,600L563.043,600L547.826,600L532.609,600L517.391,600L502.174,600L486.957,600L471.739,600L456.522,600L441.304,600L426.087,600L410.87,600L395.652,600L380.435,600L365.217,600L350,600L334.783,600L319.565,600L304.348,600L289.13,600L273.913,600L258.696,600L243.478,600L228.261,600L213.043,600L197.826,600L182.609,600L167.391,600L152.174,600L136.957,600L121.739,600L106.522,600L91.304,600L76.087,600L60.87,600L45.652,600L30.435,600L15.217,600L0,600Z\" fill=\"#e45756\"/></g></g><path class=\"foreground\" aria-hidden=\"true\" d=\"\" display=\"none\"/></g></g><g class=\"mark-group role-legend\" role=\"graphics-symbol\" aria-roledescription=\"legend\" aria-label=\"Symbol legend titled 'variable' for fill color with 23 values: BEL-AIR TAG4, Bel-Air C6, C3, CDB TAG2, Cap des Biches C4, ending with wind\"><g transform=\"translate(718,0)\"><path class=\"background\" aria-hidden=\"true\" d=\"M0,0h134v313h-134Z\" pointer-events=\"none\"/><g><g class=\"mark-group role-legend-entry\"><g transform=\"translate(0,16)\"><path class=\"background\" aria-hidden=\"true\" d=\"M0,0h0v0h0Z\" pointer-events=\"none\"/><g><g class=\"mark-group role-scope\" role=\"graphics-object\" aria-roledescription=\"group mark container\"><g transform=\"translate(0,0)\"><path class=\"background\" aria-hidden=\"true\" d=\"M0,0h133.6123046875v11h-133.6123046875Z\" pointer-events=\"none\" opacity=\"1\"/><g><g class=\"mark-symbol role-legend-symbol\" pointer-events=\"none\"><path transform=\"translate(6,6)\" d=\"M5,0A5,5,0,1,1,-5,0A5,5,0,1,1,5,0\" fill=\"#4c78a8\" stroke-width=\"1.5\" opacity=\"1\"/></g><g class=\"mark-text role-legend-label\" pointer-events=\"none\"><text text-anchor=\"start\" transform=\"translate(16,9)\" font-family=\"sans-serif\" font-size=\"10px\" fill=\"#000\" opacity=\"1\">BEL-AIR TAG4</text></g></g><path class=\"foreground\" aria-hidden=\"true\" d=\"\" pointer-events=\"none\" display=\"none\"/></g><g transform=\"translate(0,13)\"><path class=\"background\" aria-hidden=\"true\" d=\"M0,0h133.6123046875v11h-133.6123046875Z\" pointer-events=\"none\" opacity=\"1\"/><g><g class=\"mark-symbol role-legend-symbol\" pointer-events=\"none\"><path transform=\"translate(6,6)\" d=\"M5,0A5,5,0,1,1,-5,0A5,5,0,1,1,5,0\" fill=\"#f58518\" stroke-width=\"1.5\" opacity=\"1\"/></g><g class=\"mark-text role-legend-label\" pointer-events=\"none\"><text text-anchor=\"start\" transform=\"translate(16,9)\" font-family=\"sans-serif\" font-size=\"10px\" fill=\"#000\" opacity=\"1\">Bel-Air C6</text></g></g><path class=\"foreground\" aria-hidden=\"true\" d=\"\" pointer-events=\"none\" display=\"none\"/></g><g transform=\"translate(0,26)\"><path class=\"background\" aria-hidden=\"true\" d=\"M0,0h133.6123046875v11h-133.6123046875Z\" pointer-events=\"none\" opacity=\"1\"/><g><g class=\"mark-symbol role-legend-symbol\" pointer-events=\"none\"><path transform=\"translate(6,6)\" d=\"M5,0A5,5,0,1,1,-5,0A5,5,0,1,1,5,0\" fill=\"#e45756\" stroke-width=\"1.5\" opacity=\"1\"/></g><g class=\"mark-text role-legend-label\" pointer-events=\"none\"><text text-anchor=\"start\" transform=\"translate(16,9)\" font-family=\"sans-serif\" font-size=\"10px\" fill=\"#000\" opacity=\"1\">C3</text></g></g><path class=\"foreground\" aria-hidden=\"true\" d=\"\" pointer-events=\"none\" display=\"none\"/></g><g transform=\"translate(0,39)\"><path class=\"background\" aria-hidden=\"true\" d=\"M0,0h133.6123046875v11h-133.6123046875Z\" pointer-events=\"none\" opacity=\"1\"/><g><g class=\"mark-symbol role-legend-symbol\" pointer-events=\"none\"><path transform=\"translate(6,6)\" d=\"M5,0A5,5,0,1,1,-5,0A5,5,0,1,1,5,0\" fill=\"#72b7b2\" stroke-width=\"1.5\" opacity=\"1\"/></g><g class=\"mark-text role-legend-label\" pointer-events=\"none\"><text text-anchor=\"start\" transform=\"translate(16,9)\" font-family=\"sans-serif\" font-size=\"10px\" fill=\"#000\" opacity=\"1\">CDB TAG2</text></g></g><path class=\"foreground\" aria-hidden=\"true\" d=\"\" pointer-events=\"none\" display=\"none\"/></g><g transform=\"translate(0,52)\"><path class=\"background\" aria-hidden=\"true\" d=\"M0,0h133.6123046875v11h-133.6123046875Z\" pointer-events=\"none\" opacity=\"1\"/><g><g class=\"mark-symbol role-legend-symbol\" pointer-events=\"none\"><path transform=\"translate(6,6)\" d=\"M5,0A5,5,0,1,1,-5,0A5,5,0,1,1,5,0\" fill=\"#54a24b\" stroke-width=\"1.5\" opacity=\"1\"/></g><g class=\"mark-text role-legend-label\" pointer-events=\"none\"><text text-anchor=\"start\" transform=\"translate(16,9)\" font-family=\"sans-serif\" font-size=\"10px\" fill=\"#000\" opacity=\"1\">Cap des Biches C4</text></g></g><path class=\"foreground\" aria-hidden=\"true\" d=\"\" pointer-events=\"none\" display=\"none\"/></g><g transform=\"translate(0,65)\"><path class=\"background\" aria-hidden=\"true\" d=\"M0,0h133.6123046875v11h-133.6123046875Z\" pointer-events=\"none\" opacity=\"1\"/><g><g class=\"mark-symbol role-legend-symbol\" pointer-events=\"none\"><path transform=\"translate(6,6)\" d=\"M5,0A5,5,0,1,1,-5,0A5,5,0,1,1,5,0\" fill=\"#eeca3b\" stroke-width=\"1.5\" opacity=\"1\"/></g><g class=\"mark-text role-legend-label\" pointer-events=\"none\"><text text-anchor=\"start\" transform=\"translate(16,9)\" font-family=\"sans-serif\" font-size=\"10px\" fill=\"#000\" opacity=\"1\">Felou</text></g></g><path class=\"foreground\" aria-hidden=\"true\" d=\"\" pointer-events=\"none\" display=\"none\"/></g><g transform=\"translate(0,78)\"><path class=\"background\" aria-hidden=\"true\" d=\"M0,0h133.6123046875v11h-133.6123046875Z\" pointer-events=\"none\" opacity=\"1\"/><g><g class=\"mark-symbol role-legend-symbol\" pointer-events=\"none\"><path transform=\"translate(6,6)\" d=\"M5,0A5,5,0,1,1,-5,0A5,5,0,1,1,5,0\" fill=\"#b279a2\" stroke-width=\"1.5\" opacity=\"1\"/></g><g class=\"mark-text role-legend-label\" pointer-events=\"none\"><text text-anchor=\"start\" transform=\"translate(16,9)\" font-family=\"sans-serif\" font-size=\"10px\" fill=\"#000\" opacity=\"1\">Gouina</text></g></g><path class=\"foreground\" aria-hidden=\"true\" d=\"\" pointer-events=\"none\" display=\"none\"/></g><g transform=\"translate(0,91)\"><path class=\"background\" aria-hidden=\"true\" d=\"M0,0h133.6123046875v11h-133.6123046875Z\" pointer-events=\"none\" opacity=\"1\"/><g><g class=\"mark-symbol role-legend-symbol\" pointer-events=\"none\"><path transform=\"translate(6,6)\" d=\"M5,0A5,5,0,1,1,-5,0A5,5,0,1,1,5,0\" fill=\"#ff9da6\" stroke-width=\"1.5\" opacity=\"1\"/></g><g class=\"mark-text role-legend-label\" pointer-events=\"none\"><text text-anchor=\"start\" transform=\"translate(16,9)\" font-family=\"sans-serif\" font-size=\"10px\" fill=\"#000\" opacity=\"1\">IPP Contour Global</text></g></g><path class=\"foreground\" aria-hidden=\"true\" d=\"\" pointer-events=\"none\" display=\"none\"/></g><g transform=\"translate(0,104)\"><path class=\"background\" aria-hidden=\"true\" d=\"M0,0h133.6123046875v11h-133.6123046875Z\" pointer-events=\"none\" opacity=\"1\"/><g><g class=\"mark-symbol role-legend-symbol\" pointer-events=\"none\"><path transform=\"translate(6,6)\" d=\"M5,0A5,5,0,1,1,-5,0A5,5,0,1,1,5,0\" fill=\"#9d755d\" stroke-width=\"1.5\" opacity=\"1\"/></g><g class=\"mark-text role-legend-label\" pointer-events=\"none\"><text text-anchor=\"start\" transform=\"translate(16,9)\" font-family=\"sans-serif\" font-size=\"10px\" fill=\"#000\" opacity=\"1\">IPP Contour Global TAV</text></g></g><path class=\"foreground\" aria-hidden=\"true\" d=\"\" pointer-events=\"none\" display=\"none\"/></g><g transform=\"translate(0,117)\"><path class=\"background\" aria-hidden=\"true\" d=\"M0,0h133.6123046875v11h-133.6123046875Z\" pointer-events=\"none\" opacity=\"1\"/><g><g class=\"mark-symbol role-legend-symbol\" pointer-events=\"none\"><path transform=\"translate(6,6)\" d=\"M5,0A5,5,0,1,1,-5,0A5,5,0,1,1,5,0\" fill=\"#bab0ac\" stroke-width=\"1.5\" opacity=\"1\"/></g><g class=\"mark-text role-legend-label\" pointer-events=\"none\"><text text-anchor=\"start\" transform=\"translate(16,9)\" font-family=\"sans-serif\" font-size=\"10px\" fill=\"#000\" opacity=\"1\">IPP Kounoune Power</text></g></g><path class=\"foreground\" aria-hidden=\"true\" d=\"\" pointer-events=\"none\" display=\"none\"/></g><g transform=\"translate(0,130)\"><path class=\"background\" aria-hidden=\"true\" d=\"M0,0h133.6123046875v11h-133.6123046875Z\" pointer-events=\"none\" opacity=\"1\"/><g><g class=\"mark-symbol role-legend-symbol\" pointer-events=\"none\"><path transform=\"translate(6,6)\" d=\"M5,0A5,5,0,1,1,-5,0A5,5,0,1,1,5,0\" fill=\"#4c78a8\" stroke-width=\"1.5\" opacity=\"1\"/></g><g class=\"mark-text role-legend-label\" pointer-events=\"none\"><text text-anchor=\"start\" transform=\"translate(16,9)\" font-family=\"sans-serif\" font-size=\"10px\" fill=\"#000\" opacity=\"1\">IPP Malicounda Power TAV</text></g></g><path class=\"foreground\" aria-hidden=\"true\" d=\"\" pointer-events=\"none\" display=\"none\"/></g><g transform=\"translate(0,143)\"><path class=\"background\" aria-hidden=\"true\" d=\"M0,0h133.6123046875v11h-133.6123046875Z\" pointer-events=\"none\" opacity=\"1\"/><g><g class=\"mark-symbol role-legend-symbol\" pointer-events=\"none\"><path transform=\"translate(6,6)\" d=\"M5,0A5,5,0,1,1,-5,0A5,5,0,1,1,5,0\" fill=\"#f58518\" stroke-width=\"1.5\" opacity=\"1\"/></g><g class=\"mark-text role-legend-label\" pointer-events=\"none\"><text text-anchor=\"start\" transform=\"translate(16,9)\" font-family=\"sans-serif\" font-size=\"10px\" fill=\"#000\" opacity=\"1\">IPP Tobene Power</text></g></g><path class=\"foreground\" aria-hidden=\"true\" d=\"\" pointer-events=\"none\" display=\"none\"/></g><g transform=\"translate(0,156)\"><path class=\"background\" aria-hidden=\"true\" d=\"M0,0h133.6123046875v11h-133.6123046875Z\" pointer-events=\"none\" opacity=\"1\"/><g><g class=\"mark-symbol role-legend-symbol\" pointer-events=\"none\"><path transform=\"translate(6,6)\" d=\"M5,0A5,5,0,1,1,-5,0A5,5,0,1,1,5,0\" fill=\"#e45756\" stroke-width=\"1.5\" opacity=\"1\"/></g><g class=\"mark-text role-legend-label\" pointer-events=\"none\"><text text-anchor=\"start\" transform=\"translate(16,9)\" font-family=\"sans-serif\" font-size=\"10px\" fill=\"#000\" opacity=\"1\">IPP Tobene Power TAV</text></g></g><path class=\"foreground\" aria-hidden=\"true\" d=\"\" pointer-events=\"none\" display=\"none\"/></g><g transform=\"translate(0,169)\"><path class=\"background\" aria-hidden=\"true\" d=\"M0,0h133.6123046875v11h-133.6123046875Z\" pointer-events=\"none\" opacity=\"1\"/><g><g class=\"mark-symbol role-legend-symbol\" pointer-events=\"none\"><path transform=\"translate(6,6)\" d=\"M5,0A5,5,0,1,1,-5,0A5,5,0,1,1,5,0\" fill=\"#72b7b2\" stroke-width=\"1.5\" opacity=\"1\"/></g><g class=\"mark-text role-legend-label\" pointer-events=\"none\"><text text-anchor=\"start\" transform=\"translate(16,9)\" font-family=\"sans-serif\" font-size=\"10px\" fill=\"#000\" opacity=\"1\">KARPOWERSHIP</text></g></g><path class=\"foreground\" aria-hidden=\"true\" d=\"\" pointer-events=\"none\" display=\"none\"/></g><g transform=\"translate(0,182)\"><path class=\"background\" aria-hidden=\"true\" d=\"M0,0h133.6123046875v11h-133.6123046875Z\" pointer-events=\"none\" opacity=\"1\"/><g><g class=\"mark-symbol role-legend-symbol\" pointer-events=\"none\"><path transform=\"translate(6,6)\" d=\"M5,0A5,5,0,1,1,-5,0A5,5,0,1,1,5,0\" fill=\"#54a24b\" stroke-width=\"1.5\" opacity=\"1\"/></g><g class=\"mark-text role-legend-label\" pointer-events=\"none\"><text text-anchor=\"start\" transform=\"translate(16,9)\" font-family=\"sans-serif\" font-size=\"10px\" fill=\"#000\" opacity=\"1\">Kahone C1</text></g></g><path class=\"foreground\" aria-hidden=\"true\" d=\"\" pointer-events=\"none\" display=\"none\"/></g><g transform=\"translate(0,195)\"><path class=\"background\" aria-hidden=\"true\" d=\"M0,0h133.6123046875v11h-133.6123046875Z\" pointer-events=\"none\" opacity=\"1\"/><g><g class=\"mark-symbol role-legend-symbol\" pointer-events=\"none\"><path transform=\"translate(6,6)\" d=\"M5,0A5,5,0,1,1,-5,0A5,5,0,1,1,5,0\" fill=\"#eeca3b\" stroke-width=\"1.5\" opacity=\"1\"/></g><g class=\"mark-text role-legend-label\" pointer-events=\"none\"><text text-anchor=\"start\" transform=\"translate(16,9)\" font-family=\"sans-serif\" font-size=\"10px\" fill=\"#000\" opacity=\"1\">Kahone C7</text></g></g><path class=\"foreground\" aria-hidden=\"true\" d=\"\" pointer-events=\"none\" display=\"none\"/></g><g transform=\"translate(0,208)\"><path class=\"background\" aria-hidden=\"true\" d=\"M0,0h133.6123046875v11h-133.6123046875Z\" pointer-events=\"none\" opacity=\"1\"/><g><g class=\"mark-symbol role-legend-symbol\" pointer-events=\"none\"><path transform=\"translate(6,6)\" d=\"M5,0A5,5,0,1,1,-5,0A5,5,0,1,1,5,0\" fill=\"#b279a2\" stroke-width=\"1.5\" opacity=\"1\"/></g><g class=\"mark-text role-legend-label\" pointer-events=\"none\"><text text-anchor=\"start\" transform=\"translate(16,9)\" font-family=\"sans-serif\" font-size=\"10px\" fill=\"#000\" opacity=\"1\">Kaleta</text></g></g><path class=\"foreground\" aria-hidden=\"true\" d=\"\" pointer-events=\"none\" display=\"none\"/></g><g transform=\"translate(0,221)\"><path class=\"background\" aria-hidden=\"true\" d=\"M0,0h133.6123046875v11h-133.6123046875Z\" pointer-events=\"none\" opacity=\"1\"/><g><g class=\"mark-symbol role-legend-symbol\" pointer-events=\"none\"><path transform=\"translate(6,6)\" d=\"M5,0A5,5,0,1,1,-5,0A5,5,0,1,1,5,0\" fill=\"#ff9da6\" stroke-width=\"1.5\" opacity=\"1\"/></g><g class=\"mark-text role-legend-label\" pointer-events=\"none\"><text text-anchor=\"start\" transform=\"translate(16,9)\" font-family=\"sans-serif\" font-size=\"10px\" fill=\"#000\" opacity=\"1\">Malicounda</text></g></g><path class=\"foreground\" aria-hidden=\"true\" d=\"\" pointer-events=\"none\" display=\"none\"/></g><g transform=\"translate(0,234)\"><path class=\"background\" aria-hidden=\"true\" d=\"M0,0h133.6123046875v11h-133.6123046875Z\" pointer-events=\"none\" opacity=\"1\"/><g><g class=\"mark-symbol role-legend-symbol\" pointer-events=\"none\"><path transform=\"translate(6,6)\" d=\"M5,0A5,5,0,1,1,-5,0A5,5,0,1,1,5,0\" fill=\"#9d755d\" stroke-width=\"1.5\" opacity=\"1\"/></g><g class=\"mark-text role-legend-label\" pointer-events=\"none\"><text text-anchor=\"start\" transform=\"translate(16,9)\" font-family=\"sans-serif\" font-size=\"10px\" fill=\"#000\" opacity=\"1\">Manantali</text></g></g><path class=\"foreground\" aria-hidden=\"true\" d=\"\" pointer-events=\"none\" display=\"none\"/></g><g transform=\"translate(0,247)\"><path class=\"background\" aria-hidden=\"true\" d=\"M0,0h133.6123046875v11h-133.6123046875Z\" pointer-events=\"none\" opacity=\"1\"/><g><g class=\"mark-symbol role-legend-symbol\" pointer-events=\"none\"><path transform=\"translate(6,6)\" d=\"M5,0A5,5,0,1,1,-5,0A5,5,0,1,1,5,0\" fill=\"#bab0ac\" stroke-width=\"1.5\" opacity=\"1\"/></g><g class=\"mark-text role-legend-label\" pointer-events=\"none\"><text text-anchor=\"start\" transform=\"translate(16,9)\" font-family=\"sans-serif\" font-size=\"10px\" fill=\"#000\" opacity=\"1\">SLACK</text></g></g><path class=\"foreground\" aria-hidden=\"true\" d=\"\" pointer-events=\"none\" display=\"none\"/></g><g transform=\"translate(0,260)\"><path class=\"background\" aria-hidden=\"true\" d=\"M0,0h133.6123046875v11h-133.6123046875Z\" pointer-events=\"none\" opacity=\"1\"/><g><g class=\"mark-symbol role-legend-symbol\" pointer-events=\"none\"><path transform=\"translate(6,6)\" d=\"M5,0A5,5,0,1,1,-5,0A5,5,0,1,1,5,0\" fill=\"#4c78a8\" stroke-width=\"1.5\" opacity=\"1\"/></g><g class=\"mark-text role-legend-label\" pointer-events=\"none\"><text text-anchor=\"start\" transform=\"translate(16,9)\" font-family=\"sans-serif\" font-size=\"10px\" fill=\"#000\" opacity=\"1\">Sendou</text></g></g><path class=\"foreground\" aria-hidden=\"true\" d=\"\" pointer-events=\"none\" display=\"none\"/></g><g transform=\"translate(0,273)\"><path class=\"background\" aria-hidden=\"true\" d=\"M0,0h133.6123046875v11h-133.6123046875Z\" pointer-events=\"none\" opacity=\"1\"/><g><g class=\"mark-symbol role-legend-symbol\" pointer-events=\"none\"><path transform=\"translate(6,6)\" d=\"M5,0A5,5,0,1,1,-5,0A5,5,0,1,1,5,0\" fill=\"#f58518\" stroke-width=\"1.5\" opacity=\"1\"/></g><g class=\"mark-text role-legend-label\" pointer-events=\"none\"><text text-anchor=\"start\" transform=\"translate(16,9)\" font-family=\"sans-serif\" font-size=\"10px\" fill=\"#000\" opacity=\"1\">solar</text></g></g><path class=\"foreground\" aria-hidden=\"true\" d=\"\" pointer-events=\"none\" display=\"none\"/></g><g transform=\"translate(0,286)\"><path class=\"background\" aria-hidden=\"true\" d=\"M0,0h133.6123046875v11h-133.6123046875Z\" pointer-events=\"none\" opacity=\"1\"/><g><g class=\"mark-symbol role-legend-symbol\" pointer-events=\"none\"><path transform=\"translate(6,6)\" d=\"M5,0A5,5,0,1,1,-5,0A5,5,0,1,1,5,0\" fill=\"#e45756\" stroke-width=\"1.5\" opacity=\"1\"/></g><g class=\"mark-text role-legend-label\" pointer-events=\"none\"><text text-anchor=\"start\" transform=\"translate(16,9)\" font-family=\"sans-serif\" font-size=\"10px\" fill=\"#000\" opacity=\"1\">wind</text></g></g><path class=\"foreground\" aria-hidden=\"true\" d=\"\" pointer-events=\"none\" display=\"none\"/></g></g></g><path class=\"foreground\" aria-hidden=\"true\" d=\"\" pointer-events=\"none\" display=\"none\"/></g></g><g class=\"mark-text role-legend-title\" pointer-events=\"none\"><text text-anchor=\"start\" transform=\"translate(0,9)\" font-family=\"sans-serif\" font-size=\"11px\" font-weight=\"bold\" fill=\"#000\" opacity=\"1\">variable</text></g></g><path class=\"foreground\" aria-hidden=\"true\" d=\"\" pointer-events=\"none\" display=\"none\"/></g></g></g><path class=\"foreground\" aria-hidden=\"true\" d=\"\" display=\"none\"/></g></g></g></svg>"
      ],
      "text/plain": [
       "@vlplot(\n",
       "    width=700,\n",
       "    height=600,\n",
       "    mark=\"area\",\n",
       "    encoding={\n",
       "        x={\n",
       "            field=\"hour\"\n",
       "        },\n",
       "        y={\n",
       "            stack=\"zero\",\n",
       "            field=\"value\"\n",
       "        },\n",
       "        color={\n",
       "            field=\"variable\",\n",
       "            type=\"nominal\"\n",
       "        }\n",
       "    },\n",
       "    data={\n",
       "        values=...\n",
       "    }\n",
       ")"
      ]
     },
     "execution_count": 84,
     "metadata": {},
     "output_type": "execute_result"
    }
   ],
   "source": [
    "using VegaLite\n",
    "generation |>\n",
    "stack |>\n",
    "@vlplot(:area, x=:hour, y={:value, stack=:zero},  width=700, height=600, color=\"variable:n\")"
   ]
  },
  {
   "cell_type": "code",
   "execution_count": 53,
   "id": "ffe208fe-4e6b-4dd4-b708-7728bb63837c",
   "metadata": {},
   "outputs": [
    {
     "data": {
      "text/plain": [
       "SLACK (ThermalStandard):\n",
       "   name: SLACK\n",
       "   available: true\n",
       "   status: true\n",
       "   bus: BEL AIR (ACBus)\n",
       "   active_power: 0.0\n",
       "   reactive_power: 0.0\n",
       "   rating: 10000.0\n",
       "   active_power_limits: (min = 0.0, max = 10000.0)\n",
       "   reactive_power_limits: nothing\n",
       "   ramp_limits: (up = 10000.0, down = 10000.0)\n",
       "   operation_cost: ThreePartCost\n",
       "   base_power: 100.0\n",
       "   time_limits: (up = 0.0, down = 0.0)\n",
       "   must_run: false\n",
       "   prime_mover_type: PrimeMovers.ST = 20\n",
       "   fuel: ThermalFuels.RESIDUAL_FUEL_OIL = 6\n",
       "   services: 0-element Vector{Service}\n",
       "   time_at_status: 10000.0\n",
       "   dynamic_injector: nothing\n",
       "   ext: Dict{String, Any}()\n",
       "   time_series_container: \n",
       "   InfrastructureSystems.SystemUnitsSettings:\n",
       "      base_value: 100.0\n",
       "      unit_system: UnitSystem.DEVICE_BASE = 1"
      ]
     },
     "execution_count": 53,
     "metadata": {},
     "output_type": "execute_result"
    }
   ],
   "source": [
    "a = get_components(ThermalStandard, system) |> collect |> filter(x -> get_name(x) == \"SLACK\") |> first "
   ]
  },
  {
   "cell_type": "code",
   "execution_count": 85,
   "id": "0c2309e0-08d7-49a2-a1a2-b0020e19fdde",
   "metadata": {},
   "outputs": [
    {
     "data": {
      "text/plain": [
       "140.00000000000404"
      ]
     },
     "execution_count": 85,
     "metadata": {},
     "output_type": "execute_result"
    }
   ],
   "source": [
    "sum(r2_df[1, 2:end])"
   ]
  },
  {
   "cell_type": "code",
   "execution_count": 69,
   "id": "14e69451-ee84-4ed3-93a2-77b9fef22fbf",
   "metadata": {},
   "outputs": [
    {
     "data": {
      "text/html": [
       "<div><div style = \"float: left;\"><span>47×74 DataFrame</span></div><div style = \"float: right;\"><span style = \"font-style: italic;\">22 rows omitted</span></div><div style = \"clear: both;\"></div></div><div class = \"data-frame\" style = \"overflow-x: scroll;\"><table class = \"data-frame\" style = \"margin-bottom: 6px;\"><thead><tr class = \"header\"><th class = \"rowNumber\" style = \"font-weight: bold; text-align: right;\">Row</th><th style = \"text-align: left;\">datetime</th><th style = \"text-align: left;\">Malicounda_4</th><th style = \"text-align: left;\">C3_2</th><th style = \"text-align: left;\">Gouina</th><th style = \"text-align: left;\">IPP Tobene Power_2</th><th style = \"text-align: left;\">Kahone C1_2</th><th style = \"text-align: left;\">BEL-AIR TAG4</th><th style = \"text-align: left;\">Malicounda_7</th><th style = \"text-align: left;\">Cap des Biches C4_1</th><th style = \"text-align: left;\">KARPOWERSHIP_6</th><th style = \"text-align: left;\">Kahone C1_1</th><th style = \"text-align: left;\">IPP Contour Global_2</th><th style = \"text-align: left;\">IPP Contour Global_3</th><th style = \"text-align: left;\">IPP Tobene Power_6</th><th style = \"text-align: left;\">KARPOWERSHIP_7</th><th style = \"text-align: left;\">IPP Tobene Power_3</th><th style = \"text-align: left;\">IPP Tobene Power TAV_2</th><th style = \"text-align: left;\">IPP Kounoune Power_3</th><th style = \"text-align: left;\">Cap des Biches C4_4</th><th style = \"text-align: left;\">KARPOWERSHIP_1</th><th style = \"text-align: left;\">Kahone C7_5</th><th style = \"text-align: left;\">Bel-Air C6_3</th><th style = \"text-align: left;\">Kahone C1_4</th><th style = \"text-align: left;\">Kahone C7_4</th><th style = \"text-align: left;\">Malicounda_5</th><th style = \"text-align: left;\">Bel-Air C6_6</th><th style = \"text-align: left;\">Felou</th><th style = \"text-align: left;\">KARPOWERSHIP_12</th><th style = \"text-align: left;\">Bel-Air C6_1</th><th style = \"text-align: left;\">Kahone C7_3</th><th style = \"text-align: left;\">KARPOWERSHIP_9</th><th style = \"text-align: left;\">Malicounda_6</th><th style = \"text-align: left;\">IPP Contour Global_1</th><th style = \"text-align: left;\">IPP Tobene Power_5</th><th style = \"text-align: left;\">KARPOWERSHIP_3</th><th style = \"text-align: left;\">Bel-Air C6_4</th><th style = \"text-align: left;\">Cap des Biches C4_3</th><th style = \"text-align: left;\">IPP Malicounda Power TAV</th><th style = \"text-align: left;\">IPP Tobene Power_1</th><th style = \"text-align: left;\">KARPOWERSHIP_2</th><th style = \"text-align: left;\">IPP Contour Global_4</th><th style = \"text-align: left;\">Bel-Air C6_2</th><th style = \"text-align: left;\">IPP Kounoune Power_8</th><th style = \"text-align: left;\">KARPOWERSHIP_5</th><th style = \"text-align: left;\">IPP Kounoune Power_9</th><th style = \"text-align: left;\">C3_1</th><th style = \"text-align: left;\">Kahone C7_2</th><th style = \"text-align: left;\">IPP Kounoune Power_1</th><th style = \"text-align: left;\">IPP Kounoune Power_2</th><th style = \"text-align: left;\">Kahone C7_1</th><th style = \"text-align: left;\">Malicounda_1</th><th style = \"text-align: left;\">KARPOWERSHIP_10</th><th style = \"text-align: left;\">SLACK</th><th style = \"text-align: left;\">Kahone C1_3</th><th style = \"text-align: left;\">Manantali</th><th style = \"text-align: left;\">Malicounda_2</th><th style = \"text-align: left;\">Cap des Biches C4_5</th><th style = \"text-align: left;\">Kaleta</th><th style = \"text-align: left;\">KARPOWERSHIP_4</th><th style = \"text-align: left;\">Bel-Air C6_5</th><th style = \"text-align: left;\">IPP Contour Global_5</th><th style = \"text-align: left;\">IPP Kounoune Power_7</th><th style = \"text-align: left;\">IPP Kounoune Power_6</th><th style = \"text-align: left;\">KARPOWERSHIP_11</th><th style = \"text-align: left;\">IPP Kounoune Power_5</th><th style = \"text-align: left;\">Cap des Biches C4_2</th><th style = \"text-align: left;\">IPP Kounoune Power_4</th><th style = \"text-align: left;\">Malicounda_3</th><th style = \"text-align: left;\">Sendou</th><th style = \"text-align: left;\">IPP Tobene Power_4</th><th style = \"text-align: left;\">CDB TAG2</th><th style = \"text-align: left;\">KARPOWERSHIP_8</th><th style = \"text-align: left;\">Kahone C7_6</th><th style = \"text-align: left;\">IPP Contour Global TAV_1</th></tr><tr class = \"subheader headerLastRow\"><th class = \"rowNumber\" style = \"font-weight: bold; text-align: right;\"></th><th title = \"DateTime\" style = \"text-align: left;\">DateTime</th><th title = \"Float64\" style = \"text-align: left;\">Float64</th><th title = \"Float64\" style = \"text-align: left;\">Float64</th><th title = \"Float64\" style = \"text-align: left;\">Float64</th><th title = \"Float64\" style = \"text-align: left;\">Float64</th><th title = \"Float64\" style = \"text-align: left;\">Float64</th><th title = \"Float64\" style = \"text-align: left;\">Float64</th><th title = \"Float64\" style = \"text-align: left;\">Float64</th><th title = \"Float64\" style = \"text-align: left;\">Float64</th><th title = \"Float64\" style = \"text-align: left;\">Float64</th><th title = \"Float64\" style = \"text-align: left;\">Float64</th><th title = \"Float64\" style = \"text-align: left;\">Float64</th><th title = \"Float64\" style = \"text-align: left;\">Float64</th><th title = \"Float64\" style = \"text-align: left;\">Float64</th><th title = \"Float64\" style = \"text-align: left;\">Float64</th><th title = \"Float64\" style = \"text-align: left;\">Float64</th><th title = \"Float64\" style = \"text-align: left;\">Float64</th><th title = \"Float64\" style = \"text-align: left;\">Float64</th><th title = \"Float64\" style = \"text-align: left;\">Float64</th><th title = \"Float64\" style = \"text-align: left;\">Float64</th><th title = \"Float64\" style = \"text-align: left;\">Float64</th><th title = \"Float64\" style = \"text-align: left;\">Float64</th><th title = \"Float64\" style = \"text-align: left;\">Float64</th><th title = \"Float64\" style = \"text-align: left;\">Float64</th><th title = \"Float64\" style = \"text-align: left;\">Float64</th><th title = \"Float64\" style = \"text-align: left;\">Float64</th><th title = \"Float64\" style = \"text-align: left;\">Float64</th><th title = \"Float64\" style = \"text-align: left;\">Float64</th><th title = \"Float64\" style = \"text-align: left;\">Float64</th><th title = \"Float64\" style = \"text-align: left;\">Float64</th><th title = \"Float64\" style = \"text-align: left;\">Float64</th><th title = \"Float64\" style = \"text-align: left;\">Float64</th><th title = \"Float64\" style = \"text-align: left;\">Float64</th><th title = \"Float64\" style = \"text-align: left;\">Float64</th><th title = \"Float64\" style = \"text-align: left;\">Float64</th><th title = \"Float64\" style = \"text-align: left;\">Float64</th><th title = \"Float64\" style = \"text-align: left;\">Float64</th><th title = \"Float64\" style = \"text-align: left;\">Float64</th><th title = \"Float64\" style = \"text-align: left;\">Float64</th><th title = \"Float64\" style = \"text-align: left;\">Float64</th><th title = \"Float64\" style = \"text-align: left;\">Float64</th><th title = \"Float64\" style = \"text-align: left;\">Float64</th><th title = \"Float64\" style = \"text-align: left;\">Float64</th><th title = \"Float64\" style = \"text-align: left;\">Float64</th><th title = \"Float64\" style = \"text-align: left;\">Float64</th><th title = \"Float64\" style = \"text-align: left;\">Float64</th><th title = \"Float64\" style = \"text-align: left;\">Float64</th><th title = \"Float64\" style = \"text-align: left;\">Float64</th><th title = \"Float64\" style = \"text-align: left;\">Float64</th><th title = \"Float64\" style = \"text-align: left;\">Float64</th><th title = \"Float64\" style = \"text-align: left;\">Float64</th><th title = \"Float64\" style = \"text-align: left;\">Float64</th><th title = \"Float64\" style = \"text-align: left;\">Float64</th><th title = \"Float64\" style = \"text-align: left;\">Float64</th><th title = \"Float64\" style = \"text-align: left;\">Float64</th><th title = \"Float64\" style = \"text-align: left;\">Float64</th><th title = \"Float64\" style = \"text-align: left;\">Float64</th><th title = \"Float64\" style = \"text-align: left;\">Float64</th><th title = \"Float64\" style = \"text-align: left;\">Float64</th><th title = \"Float64\" style = \"text-align: left;\">Float64</th><th title = \"Float64\" style = \"text-align: left;\">Float64</th><th title = \"Float64\" style = \"text-align: left;\">Float64</th><th title = \"Float64\" style = \"text-align: left;\">Float64</th><th title = \"Float64\" style = \"text-align: left;\">Float64</th><th title = \"Float64\" style = \"text-align: left;\">Float64</th><th title = \"Float64\" style = \"text-align: left;\">Float64</th><th title = \"Float64\" style = \"text-align: left;\">Float64</th><th title = \"Float64\" style = \"text-align: left;\">Float64</th><th title = \"Float64\" style = \"text-align: left;\">Float64</th><th title = \"Float64\" style = \"text-align: left;\">Float64</th><th title = \"Float64\" style = \"text-align: left;\">Float64</th><th title = \"Float64\" style = \"text-align: left;\">Float64</th><th title = \"Float64\" style = \"text-align: left;\">Float64</th><th title = \"Float64\" style = \"text-align: left;\">Float64</th></tr></thead><tbody><tr><td class = \"rowNumber\" style = \"font-weight: bold; text-align: right;\">1</td><td style = \"text-align: left;\">2023-12-01T01:00:00</td><td style = \"text-align: right;\">7.75</td><td style = \"text-align: right;\">0.0</td><td style = \"text-align: right;\">0.0</td><td style = \"text-align: right;\">6.75</td><td style = \"text-align: right;\">0.0</td><td style = \"text-align: right;\">0.0</td><td style = \"text-align: right;\">7.75</td><td style = \"text-align: right;\">0.0</td><td style = \"text-align: right;\">0.0</td><td style = \"text-align: right;\">0.0</td><td style = \"text-align: right;\">0.0</td><td style = \"text-align: right;\">0.0</td><td style = \"text-align: right;\">0.0</td><td style = \"text-align: right;\">0.0</td><td style = \"text-align: right;\">2.75</td><td style = \"text-align: right;\">0.0</td><td style = \"text-align: right;\">0.0</td><td style = \"text-align: right;\">0.0</td><td style = \"text-align: right;\">0.0</td><td style = \"text-align: right;\">4.5</td><td style = \"text-align: right;\">4.5</td><td style = \"text-align: right;\">0.0</td><td style = \"text-align: right;\">4.5</td><td style = \"text-align: right;\">7.75</td><td style = \"text-align: right;\">4.5</td><td style = \"text-align: right;\">0.0</td><td style = \"text-align: right;\">5.25</td><td style = \"text-align: right;\">4.5</td><td style = \"text-align: right;\">4.5</td><td style = \"text-align: right;\">0.0</td><td style = \"text-align: right;\">7.75</td><td style = \"text-align: right;\">0.0</td><td style = \"text-align: right;\">0.0</td><td style = \"text-align: right;\">5.25</td><td style = \"text-align: right;\">1.52278</td><td style = \"text-align: right;\">0.0</td><td style = \"text-align: right;\">0.0</td><td style = \"text-align: right;\">6.75</td><td style = \"text-align: right;\">5.25</td><td style = \"text-align: right;\">0.0</td><td style = \"text-align: right;\">0.0</td><td style = \"text-align: right;\">0.0</td><td style = \"text-align: right;\">0.0</td><td style = \"text-align: right;\">0.0</td><td style = \"text-align: right;\">0.0</td><td style = \"text-align: right;\">4.5</td><td style = \"text-align: right;\">0.0</td><td style = \"text-align: right;\">0.0</td><td style = \"text-align: right;\">4.5</td><td style = \"text-align: right;\">7.75</td><td style = \"text-align: right;\">5.25</td><td style = \"text-align: right;\">0.0</td><td style = \"text-align: right;\">0.0</td><td style = \"text-align: right;\">0.0</td><td style = \"text-align: right;\">0.0</td><td style = \"text-align: right;\">0.0</td><td style = \"text-align: right;\">0.0</td><td style = \"text-align: right;\">5.25</td><td style = \"text-align: right;\">0.0</td><td style = \"text-align: right;\">0.0</td><td style = \"text-align: right;\">0.0</td><td style = \"text-align: right;\">0.0</td><td style = \"text-align: right;\">0.0</td><td style = \"text-align: right;\">0.0</td><td style = \"text-align: right;\">0.0</td><td style = \"text-align: right;\">0.0</td><td style = \"text-align: right;\">7.75</td><td style = \"text-align: right;\">0.0</td><td style = \"text-align: right;\">6.75</td><td style = \"text-align: right;\">0.0</td><td style = \"text-align: right;\">0.0</td><td style = \"text-align: right;\">4.5</td><td style = \"text-align: right;\">0.0</td></tr><tr><td class = \"rowNumber\" style = \"font-weight: bold; text-align: right;\">2</td><td style = \"text-align: left;\">2023-12-01T02:00:00</td><td style = \"text-align: right;\">7.75</td><td style = \"text-align: right;\">0.0</td><td style = \"text-align: right;\">0.0</td><td style = \"text-align: right;\">0.0</td><td style = \"text-align: right;\">0.0</td><td style = \"text-align: right;\">0.0</td><td style = \"text-align: right;\">7.75</td><td style = \"text-align: right;\">0.0</td><td style = \"text-align: right;\">5.25</td><td style = \"text-align: right;\">0.0</td><td style = \"text-align: right;\">0.0</td><td style = \"text-align: right;\">0.0</td><td style = \"text-align: right;\">0.0</td><td style = \"text-align: right;\">5.25</td><td style = \"text-align: right;\">5.25</td><td style = \"text-align: right;\">0.0</td><td style = \"text-align: right;\">0.0</td><td style = \"text-align: right;\">0.0</td><td style = \"text-align: right;\">5.25</td><td style = \"text-align: right;\">0.0</td><td style = \"text-align: right;\">4.5</td><td style = \"text-align: right;\">0.0</td><td style = \"text-align: right;\">0.0</td><td style = \"text-align: right;\">0.0</td><td style = \"text-align: right;\">4.5</td><td style = \"text-align: right;\">0.0</td><td style = \"text-align: right;\">5.25</td><td style = \"text-align: right;\">4.5</td><td style = \"text-align: right;\">0.0</td><td style = \"text-align: right;\">5.25</td><td style = \"text-align: right;\">0.0</td><td style = \"text-align: right;\">0.0</td><td style = \"text-align: right;\">7.0</td><td style = \"text-align: right;\">5.25</td><td style = \"text-align: right;\">4.5</td><td style = \"text-align: right;\">0.0</td><td style = \"text-align: right;\">0.0</td><td style = \"text-align: right;\">0.0</td><td style = \"text-align: right;\">5.25</td><td style = \"text-align: right;\">0.0</td><td style = \"text-align: right;\">4.5</td><td style = \"text-align: right;\">0.0</td><td style = \"text-align: right;\">5.25</td><td style = \"text-align: right;\">0.0</td><td style = \"text-align: right;\">0.0</td><td style = \"text-align: right;\">0.0</td><td style = \"text-align: right;\">0.0</td><td style = \"text-align: right;\">0.0</td><td style = \"text-align: right;\">0.0</td><td style = \"text-align: right;\">7.75</td><td style = \"text-align: right;\">5.25</td><td style = \"text-align: right;\">0.0</td><td style = \"text-align: right;\">0.0</td><td style = \"text-align: right;\">0.0</td><td style = \"text-align: right;\">0.0</td><td style = \"text-align: right;\">0.0</td><td style = \"text-align: right;\">0.0</td><td style = \"text-align: right;\">5.25</td><td style = \"text-align: right;\">4.5</td><td style = \"text-align: right;\">0.0</td><td style = \"text-align: right;\">0.0</td><td style = \"text-align: right;\">0.0</td><td style = \"text-align: right;\">5.25</td><td style = \"text-align: right;\">0.0</td><td style = \"text-align: right;\">0.0</td><td style = \"text-align: right;\">0.0</td><td style = \"text-align: right;\">7.75</td><td style = \"text-align: right;\">0.0</td><td style = \"text-align: right;\">6.75</td><td style = \"text-align: right;\">0.0</td><td style = \"text-align: right;\">5.25</td><td style = \"text-align: right;\">0.0</td><td style = \"text-align: right;\">0.0</td></tr><tr><td class = \"rowNumber\" style = \"font-weight: bold; text-align: right;\">3</td><td style = \"text-align: left;\">2023-12-01T03:00:00</td><td style = \"text-align: right;\">0.0</td><td style = \"text-align: right;\">0.0</td><td style = \"text-align: right;\">0.0</td><td style = \"text-align: right;\">0.0</td><td style = \"text-align: right;\">0.0</td><td style = \"text-align: right;\">0.0</td><td style = \"text-align: right;\">2.5</td><td style = \"text-align: right;\">0.0</td><td style = \"text-align: right;\">5.25</td><td style = \"text-align: right;\">0.0</td><td style = \"text-align: right;\">5.5</td><td style = \"text-align: right;\">0.0</td><td style = \"text-align: right;\">0.0</td><td style = \"text-align: right;\">5.25</td><td style = \"text-align: right;\">6.75</td><td style = \"text-align: right;\">0.0</td><td style = \"text-align: right;\">0.0</td><td style = \"text-align: right;\">0.0</td><td style = \"text-align: right;\">5.25</td><td style = \"text-align: right;\">4.5</td><td style = \"text-align: right;\">4.5</td><td style = \"text-align: right;\">0.0</td><td style = \"text-align: right;\">4.5</td><td style = \"text-align: right;\">0.0</td><td style = \"text-align: right;\">0.0</td><td style = \"text-align: right;\">0.0</td><td style = \"text-align: right;\">0.0</td><td style = \"text-align: right;\">4.5</td><td style = \"text-align: right;\">4.5</td><td style = \"text-align: right;\">5.25</td><td style = \"text-align: right;\">7.75</td><td style = \"text-align: right;\">0.0</td><td style = \"text-align: right;\">7.0</td><td style = \"text-align: right;\">5.25</td><td style = \"text-align: right;\">4.5</td><td style = \"text-align: right;\">0.0</td><td style = \"text-align: right;\">0.0</td><td style = \"text-align: right;\">0.0</td><td style = \"text-align: right;\">0.0</td><td style = \"text-align: right;\">5.5</td><td style = \"text-align: right;\">4.5</td><td style = \"text-align: right;\">0.0</td><td style = \"text-align: right;\">0.0</td><td style = \"text-align: right;\">0.0</td><td style = \"text-align: right;\">0.0</td><td style = \"text-align: right;\">4.5</td><td style = \"text-align: right;\">0.0</td><td style = \"text-align: right;\">0.0</td><td style = \"text-align: right;\">4.5</td><td style = \"text-align: right;\">4.25</td><td style = \"text-align: right;\">5.25</td><td style = \"text-align: right;\">0.0</td><td style = \"text-align: right;\">0.0</td><td style = \"text-align: right;\">0.0</td><td style = \"text-align: right;\">0.0</td><td style = \"text-align: right;\">0.0</td><td style = \"text-align: right;\">0.0</td><td style = \"text-align: right;\">5.25</td><td style = \"text-align: right;\">4.5</td><td style = \"text-align: right;\">2.5</td><td style = \"text-align: right;\">0.0</td><td style = \"text-align: right;\">0.0</td><td style = \"text-align: right;\">5.25</td><td style = \"text-align: right;\">0.0</td><td style = \"text-align: right;\">0.0</td><td style = \"text-align: right;\">0.0</td><td style = \"text-align: right;\">0.0</td><td style = \"text-align: right;\">0.0</td><td style = \"text-align: right;\">6.75</td><td style = \"text-align: right;\">0.0</td><td style = \"text-align: right;\">0.0</td><td style = \"text-align: right;\">4.5</td><td style = \"text-align: right;\">0.0</td></tr><tr><td class = \"rowNumber\" style = \"font-weight: bold; text-align: right;\">4</td><td style = \"text-align: left;\">2023-12-01T04:00:00</td><td style = \"text-align: right;\">7.75</td><td style = \"text-align: right;\">0.0</td><td style = \"text-align: right;\">0.0</td><td style = \"text-align: right;\">0.0</td><td style = \"text-align: right;\">0.0</td><td style = \"text-align: right;\">0.0</td><td style = \"text-align: right;\">7.75</td><td style = \"text-align: right;\">0.0</td><td style = \"text-align: right;\">0.0</td><td style = \"text-align: right;\">0.0</td><td style = \"text-align: right;\">4.65608</td><td style = \"text-align: right;\">0.0</td><td style = \"text-align: right;\">0.0</td><td style = \"text-align: right;\">4.84392</td><td style = \"text-align: right;\">0.0</td><td style = \"text-align: right;\">0.0</td><td style = \"text-align: right;\">0.0</td><td style = \"text-align: right;\">0.0</td><td style = \"text-align: right;\">0.0</td><td style = \"text-align: right;\">0.0</td><td style = \"text-align: right;\">4.5</td><td style = \"text-align: right;\">0.0</td><td style = \"text-align: right;\">0.0</td><td style = \"text-align: right;\">7.75</td><td style = \"text-align: right;\">4.5</td><td style = \"text-align: right;\">0.0</td><td style = \"text-align: right;\">0.0</td><td style = \"text-align: right;\">4.5</td><td style = \"text-align: right;\">0.0</td><td style = \"text-align: right;\">0.0</td><td style = \"text-align: right;\">7.75</td><td style = \"text-align: right;\">5.5</td><td style = \"text-align: right;\">6.75</td><td style = \"text-align: right;\">5.25</td><td style = \"text-align: right;\">4.5</td><td style = \"text-align: right;\">0.0</td><td style = \"text-align: right;\">0.0</td><td style = \"text-align: right;\">6.75</td><td style = \"text-align: right;\">5.25</td><td style = \"text-align: right;\">5.5</td><td style = \"text-align: right;\">0.0</td><td style = \"text-align: right;\">0.0</td><td style = \"text-align: right;\">0.0</td><td style = \"text-align: right;\">0.0</td><td style = \"text-align: right;\">0.0</td><td style = \"text-align: right;\">0.0</td><td style = \"text-align: right;\">0.0</td><td style = \"text-align: right;\">0.0</td><td style = \"text-align: right;\">0.0</td><td style = \"text-align: right;\">7.75</td><td style = \"text-align: right;\">5.25</td><td style = \"text-align: right;\">0.0</td><td style = \"text-align: right;\">0.0</td><td style = \"text-align: right;\">0.0</td><td style = \"text-align: right;\">9.25</td><td style = \"text-align: right;\">0.0</td><td style = \"text-align: right;\">0.0</td><td style = \"text-align: right;\">5.25</td><td style = \"text-align: right;\">4.5</td><td style = \"text-align: right;\">0.0</td><td style = \"text-align: right;\">0.0</td><td style = \"text-align: right;\">0.0</td><td style = \"text-align: right;\">0.0</td><td style = \"text-align: right;\">0.0</td><td style = \"text-align: right;\">0.0</td><td style = \"text-align: right;\">0.0</td><td style = \"text-align: right;\">9.25</td><td style = \"text-align: right;\">0.0</td><td style = \"text-align: right;\">0.0</td><td style = \"text-align: right;\">0.0</td><td style = \"text-align: right;\">5.25</td><td style = \"text-align: right;\">0.0</td><td style = \"text-align: right;\">0.0</td></tr><tr><td class = \"rowNumber\" style = \"font-weight: bold; text-align: right;\">5</td><td style = \"text-align: left;\">2023-12-01T05:00:00</td><td style = \"text-align: right;\">7.75</td><td style = \"text-align: right;\">0.0</td><td style = \"text-align: right;\">0.0</td><td style = \"text-align: right;\">6.75</td><td style = \"text-align: right;\">0.0</td><td style = \"text-align: right;\">0.0</td><td style = \"text-align: right;\">7.75</td><td style = \"text-align: right;\">0.0</td><td style = \"text-align: right;\">4.25</td><td style = \"text-align: right;\">0.0</td><td style = \"text-align: right;\">5.5</td><td style = \"text-align: right;\">5.5</td><td style = \"text-align: right;\">8.0</td><td style = \"text-align: right;\">5.25</td><td style = \"text-align: right;\">0.0</td><td style = \"text-align: right;\">0.0</td><td style = \"text-align: right;\">0.0</td><td style = \"text-align: right;\">0.0</td><td style = \"text-align: right;\">0.0</td><td style = \"text-align: right;\">0.0</td><td style = \"text-align: right;\">0.0</td><td style = \"text-align: right;\">0.0</td><td style = \"text-align: right;\">0.0</td><td style = \"text-align: right;\">7.75</td><td style = \"text-align: right;\">0.0</td><td style = \"text-align: right;\">0.0</td><td style = \"text-align: right;\">0.0</td><td style = \"text-align: right;\">0.0</td><td style = \"text-align: right;\">0.0</td><td style = \"text-align: right;\">5.25</td><td style = \"text-align: right;\">0.0</td><td style = \"text-align: right;\">5.5</td><td style = \"text-align: right;\">6.75</td><td style = \"text-align: right;\">0.0</td><td style = \"text-align: right;\">4.5</td><td style = \"text-align: right;\">0.0</td><td style = \"text-align: right;\">0.0</td><td style = \"text-align: right;\">8.0</td><td style = \"text-align: right;\">0.0</td><td style = \"text-align: right;\">5.5</td><td style = \"text-align: right;\">0.0</td><td style = \"text-align: right;\">0.0</td><td style = \"text-align: right;\">0.0</td><td style = \"text-align: right;\">0.0</td><td style = \"text-align: right;\">0.0</td><td style = \"text-align: right;\">4.5</td><td style = \"text-align: right;\">0.0</td><td style = \"text-align: right;\">0.0</td><td style = \"text-align: right;\">0.0</td><td style = \"text-align: right;\">0.0</td><td style = \"text-align: right;\">5.25</td><td style = \"text-align: right;\">0.0</td><td style = \"text-align: right;\">0.0</td><td style = \"text-align: right;\">0.0</td><td style = \"text-align: right;\">0.0</td><td style = \"text-align: right;\">2.0</td><td style = \"text-align: right;\">0.0</td><td style = \"text-align: right;\">5.25</td><td style = \"text-align: right;\">4.5</td><td style = \"text-align: right;\">5.5</td><td style = \"text-align: right;\">0.0</td><td style = \"text-align: right;\">0.0</td><td style = \"text-align: right;\">0.0</td><td style = \"text-align: right;\">0.0</td><td style = \"text-align: right;\">0.0</td><td style = \"text-align: right;\">0.0</td><td style = \"text-align: right;\">7.75</td><td style = \"text-align: right;\">0.0</td><td style = \"text-align: right;\">6.75</td><td style = \"text-align: right;\">0.0</td><td style = \"text-align: right;\">0.0</td><td style = \"text-align: right;\">4.5</td><td style = \"text-align: right;\">0.0</td></tr><tr><td class = \"rowNumber\" style = \"font-weight: bold; text-align: right;\">6</td><td style = \"text-align: left;\">2023-12-01T06:00:00</td><td style = \"text-align: right;\">7.75</td><td style = \"text-align: right;\">0.0</td><td style = \"text-align: right;\">0.0</td><td style = \"text-align: right;\">6.75</td><td style = \"text-align: right;\">0.0</td><td style = \"text-align: right;\">0.0</td><td style = \"text-align: right;\">7.75</td><td style = \"text-align: right;\">0.0</td><td style = \"text-align: right;\">0.0</td><td style = \"text-align: right;\">0.0</td><td style = \"text-align: right;\">0.0</td><td style = \"text-align: right;\">0.0</td><td style = \"text-align: right;\">6.75</td><td style = \"text-align: right;\">5.25</td><td style = \"text-align: right;\">6.75</td><td style = \"text-align: right;\">0.0</td><td style = \"text-align: right;\">0.0</td><td style = \"text-align: right;\">0.0</td><td style = \"text-align: right;\">0.0</td><td style = \"text-align: right;\">3.75</td><td style = \"text-align: right;\">4.5</td><td style = \"text-align: right;\">0.0</td><td style = \"text-align: right;\">4.5</td><td style = \"text-align: right;\">6.25</td><td style = \"text-align: right;\">4.5</td><td style = \"text-align: right;\">0.0</td><td style = \"text-align: right;\">0.0</td><td style = \"text-align: right;\">4.5</td><td style = \"text-align: right;\">4.5</td><td style = \"text-align: right;\">0.0</td><td style = \"text-align: right;\">7.75</td><td style = \"text-align: right;\">0.0</td><td style = \"text-align: right;\">6.75</td><td style = \"text-align: right;\">0.0</td><td style = \"text-align: right;\">0.0</td><td style = \"text-align: right;\">0.0</td><td style = \"text-align: right;\">0.0</td><td style = \"text-align: right;\">5.5</td><td style = \"text-align: right;\">0.0</td><td style = \"text-align: right;\">0.0</td><td style = \"text-align: right;\">4.5</td><td style = \"text-align: right;\">0.0</td><td style = \"text-align: right;\">0.0</td><td style = \"text-align: right;\">0.0</td><td style = \"text-align: right;\">0.0</td><td style = \"text-align: right;\">4.5</td><td style = \"text-align: right;\">0.0</td><td style = \"text-align: right;\">0.0</td><td style = \"text-align: right;\">0.0</td><td style = \"text-align: right;\">7.75</td><td style = \"text-align: right;\">5.25</td><td style = \"text-align: right;\">0.0</td><td style = \"text-align: right;\">0.0</td><td style = \"text-align: right;\">0.0</td><td style = \"text-align: right;\">0.0</td><td style = \"text-align: right;\">0.0</td><td style = \"text-align: right;\">0.0</td><td style = \"text-align: right;\">5.25</td><td style = \"text-align: right;\">4.5</td><td style = \"text-align: right;\">0.0</td><td style = \"text-align: right;\">0.0</td><td style = \"text-align: right;\">0.0</td><td style = \"text-align: right;\">0.0</td><td style = \"text-align: right;\">0.0</td><td style = \"text-align: right;\">0.0</td><td style = \"text-align: right;\">0.0</td><td style = \"text-align: right;\">8.0</td><td style = \"text-align: right;\">0.0</td><td style = \"text-align: right;\">6.75</td><td style = \"text-align: right;\">0.0</td><td style = \"text-align: right;\">0.0</td><td style = \"text-align: right;\">0.0</td><td style = \"text-align: right;\">0.0</td></tr><tr><td class = \"rowNumber\" style = \"font-weight: bold; text-align: right;\">7</td><td style = \"text-align: left;\">2023-12-01T07:00:00</td><td style = \"text-align: right;\">7.75</td><td style = \"text-align: right;\">0.0</td><td style = \"text-align: right;\">0.0</td><td style = \"text-align: right;\">6.0</td><td style = \"text-align: right;\">0.0</td><td style = \"text-align: right;\">0.0</td><td style = \"text-align: right;\">7.75</td><td style = \"text-align: right;\">0.0</td><td style = \"text-align: right;\">5.25</td><td style = \"text-align: right;\">0.0</td><td style = \"text-align: right;\">0.0</td><td style = \"text-align: right;\">0.0</td><td style = \"text-align: right;\">6.75</td><td style = \"text-align: right;\">4.0</td><td style = \"text-align: right;\">0.0</td><td style = \"text-align: right;\">0.0</td><td style = \"text-align: right;\">0.0</td><td style = \"text-align: right;\">0.0</td><td style = \"text-align: right;\">0.0</td><td style = \"text-align: right;\">0.0</td><td style = \"text-align: right;\">0.0</td><td style = \"text-align: right;\">0.0</td><td style = \"text-align: right;\">0.0</td><td style = \"text-align: right;\">7.75</td><td style = \"text-align: right;\">0.0</td><td style = \"text-align: right;\">0.0</td><td style = \"text-align: right;\">5.25</td><td style = \"text-align: right;\">4.5</td><td style = \"text-align: right;\">0.0</td><td style = \"text-align: right;\">5.25</td><td style = \"text-align: right;\">0.0</td><td style = \"text-align: right;\">5.5</td><td style = \"text-align: right;\">0.0</td><td style = \"text-align: right;\">5.25</td><td style = \"text-align: right;\">4.5</td><td style = \"text-align: right;\">0.0</td><td style = \"text-align: right;\">0.0</td><td style = \"text-align: right;\">0.0</td><td style = \"text-align: right;\">0.0</td><td style = \"text-align: right;\">5.5</td><td style = \"text-align: right;\">4.5</td><td style = \"text-align: right;\">0.0</td><td style = \"text-align: right;\">0.0</td><td style = \"text-align: right;\">0.0</td><td style = \"text-align: right;\">0.0</td><td style = \"text-align: right;\">4.5</td><td style = \"text-align: right;\">0.0</td><td style = \"text-align: right;\">0.0</td><td style = \"text-align: right;\">4.5</td><td style = \"text-align: right;\">7.75</td><td style = \"text-align: right;\">5.25</td><td style = \"text-align: right;\">0.0</td><td style = \"text-align: right;\">0.0</td><td style = \"text-align: right;\">0.0</td><td style = \"text-align: right;\">9.25</td><td style = \"text-align: right;\">0.0</td><td style = \"text-align: right;\">0.0</td><td style = \"text-align: right;\">0.0</td><td style = \"text-align: right;\">4.5</td><td style = \"text-align: right;\">0.0</td><td style = \"text-align: right;\">0.0</td><td style = \"text-align: right;\">0.0</td><td style = \"text-align: right;\">5.25</td><td style = \"text-align: right;\">0.0</td><td style = \"text-align: right;\">0.0</td><td style = \"text-align: right;\">0.0</td><td style = \"text-align: right;\">7.75</td><td style = \"text-align: right;\">0.0</td><td style = \"text-align: right;\">0.5</td><td style = \"text-align: right;\">0.0</td><td style = \"text-align: right;\">5.25</td><td style = \"text-align: right;\">0.0</td><td style = \"text-align: right;\">0.0</td></tr><tr><td class = \"rowNumber\" style = \"font-weight: bold; text-align: right;\">8</td><td style = \"text-align: left;\">2023-12-01T08:00:00</td><td style = \"text-align: right;\">7.75</td><td style = \"text-align: right;\">0.0</td><td style = \"text-align: right;\">0.0</td><td style = \"text-align: right;\">6.75</td><td style = \"text-align: right;\">0.0</td><td style = \"text-align: right;\">0.0</td><td style = \"text-align: right;\">0.0</td><td style = \"text-align: right;\">0.0</td><td style = \"text-align: right;\">0.0</td><td style = \"text-align: right;\">0.0</td><td style = \"text-align: right;\">4.25</td><td style = \"text-align: right;\">5.5</td><td style = \"text-align: right;\">6.75</td><td style = \"text-align: right;\">0.0</td><td style = \"text-align: right;\">6.75</td><td style = \"text-align: right;\">0.0</td><td style = \"text-align: right;\">0.0</td><td style = \"text-align: right;\">0.0</td><td style = \"text-align: right;\">0.0</td><td style = \"text-align: right;\">4.5</td><td style = \"text-align: right;\">0.0</td><td style = \"text-align: right;\">0.0</td><td style = \"text-align: right;\">4.5</td><td style = \"text-align: right;\">7.75</td><td style = \"text-align: right;\">0.0</td><td style = \"text-align: right;\">0.0</td><td style = \"text-align: right;\">0.0</td><td style = \"text-align: right;\">0.0</td><td style = \"text-align: right;\">4.5</td><td style = \"text-align: right;\">0.0</td><td style = \"text-align: right;\">7.75</td><td style = \"text-align: right;\">4.5</td><td style = \"text-align: right;\">6.75</td><td style = \"text-align: right;\">0.0</td><td style = \"text-align: right;\">0.0</td><td style = \"text-align: right;\">0.0</td><td style = \"text-align: right;\">0.0</td><td style = \"text-align: right;\">6.75</td><td style = \"text-align: right;\">0.0</td><td style = \"text-align: right;\">0.0</td><td style = \"text-align: right;\">0.0</td><td style = \"text-align: right;\">0.0</td><td style = \"text-align: right;\">0.0</td><td style = \"text-align: right;\">0.0</td><td style = \"text-align: right;\">0.0</td><td style = \"text-align: right;\">4.5</td><td style = \"text-align: right;\">0.0</td><td style = \"text-align: right;\">0.0</td><td style = \"text-align: right;\">4.5</td><td style = \"text-align: right;\">0.0</td><td style = \"text-align: right;\">5.25</td><td style = \"text-align: right;\">0.0</td><td style = \"text-align: right;\">0.0</td><td style = \"text-align: right;\">0.0</td><td style = \"text-align: right;\">9.25</td><td style = \"text-align: right;\">2.0</td><td style = \"text-align: right;\">0.0</td><td style = \"text-align: right;\">5.25</td><td style = \"text-align: right;\">0.0</td><td style = \"text-align: right;\">5.5</td><td style = \"text-align: right;\">0.0</td><td style = \"text-align: right;\">0.0</td><td style = \"text-align: right;\">0.0</td><td style = \"text-align: right;\">0.0</td><td style = \"text-align: right;\">0.0</td><td style = \"text-align: right;\">0.0</td><td style = \"text-align: right;\">7.75</td><td style = \"text-align: right;\">0.0</td><td style = \"text-align: right;\">6.75</td><td style = \"text-align: right;\">0.0</td><td style = \"text-align: right;\">0.0</td><td style = \"text-align: right;\">4.5</td><td style = \"text-align: right;\">0.0</td></tr><tr><td class = \"rowNumber\" style = \"font-weight: bold; text-align: right;\">9</td><td style = \"text-align: left;\">2023-12-01T09:00:00</td><td style = \"text-align: right;\">7.75</td><td style = \"text-align: right;\">0.0</td><td style = \"text-align: right;\">0.0</td><td style = \"text-align: right;\">8.0</td><td style = \"text-align: right;\">0.0</td><td style = \"text-align: right;\">0.0</td><td style = \"text-align: right;\">0.5</td><td style = \"text-align: right;\">0.0</td><td style = \"text-align: right;\">0.0</td><td style = \"text-align: right;\">0.0</td><td style = \"text-align: right;\">0.0</td><td style = \"text-align: right;\">5.5</td><td style = \"text-align: right;\">7.25</td><td style = \"text-align: right;\">0.0</td><td style = \"text-align: right;\">8.0</td><td style = \"text-align: right;\">0.0</td><td style = \"text-align: right;\">0.0</td><td style = \"text-align: right;\">0.0</td><td style = \"text-align: right;\">0.0</td><td style = \"text-align: right;\">4.5</td><td style = \"text-align: right;\">4.5</td><td style = \"text-align: right;\">0.0</td><td style = \"text-align: right;\">0.0</td><td style = \"text-align: right;\">7.75</td><td style = \"text-align: right;\">4.5</td><td style = \"text-align: right;\">0.0</td><td style = \"text-align: right;\">0.0</td><td style = \"text-align: right;\">0.0</td><td style = \"text-align: right;\">4.5</td><td style = \"text-align: right;\">0.0</td><td style = \"text-align: right;\">7.75</td><td style = \"text-align: right;\">0.0</td><td style = \"text-align: right;\">6.75</td><td style = \"text-align: right;\">0.0</td><td style = \"text-align: right;\">4.5</td><td style = \"text-align: right;\">0.0</td><td style = \"text-align: right;\">0.0</td><td style = \"text-align: right;\">6.75</td><td style = \"text-align: right;\">0.0</td><td style = \"text-align: right;\">5.5</td><td style = \"text-align: right;\">0.0</td><td style = \"text-align: right;\">0.0</td><td style = \"text-align: right;\">0.0</td><td style = \"text-align: right;\">0.0</td><td style = \"text-align: right;\">0.0</td><td style = \"text-align: right;\">4.5</td><td style = \"text-align: right;\">0.0</td><td style = \"text-align: right;\">0.0</td><td style = \"text-align: right;\">4.5</td><td style = \"text-align: right;\">9.25</td><td style = \"text-align: right;\">0.0</td><td style = \"text-align: right;\">0.0</td><td style = \"text-align: right;\">0.0</td><td style = \"text-align: right;\">0.0</td><td style = \"text-align: right;\">3.25</td><td style = \"text-align: right;\">0.0</td><td style = \"text-align: right;\">0.0</td><td style = \"text-align: right;\">0.0</td><td style = \"text-align: right;\">4.5</td><td style = \"text-align: right;\">1.0</td><td style = \"text-align: right;\">0.0</td><td style = \"text-align: right;\">0.0</td><td style = \"text-align: right;\">0.0</td><td style = \"text-align: right;\">0.0</td><td style = \"text-align: right;\">0.0</td><td style = \"text-align: right;\">0.0</td><td style = \"text-align: right;\">7.75</td><td style = \"text-align: right;\">0.0</td><td style = \"text-align: right;\">6.75</td><td style = \"text-align: right;\">0.0</td><td style = \"text-align: right;\">0.0</td><td style = \"text-align: right;\">4.5</td><td style = \"text-align: right;\">0.0</td></tr><tr><td class = \"rowNumber\" style = \"font-weight: bold; text-align: right;\">10</td><td style = \"text-align: left;\">2023-12-01T10:00:00</td><td style = \"text-align: right;\">0.0</td><td style = \"text-align: right;\">0.0</td><td style = \"text-align: right;\">0.0</td><td style = \"text-align: right;\">6.75</td><td style = \"text-align: right;\">0.0</td><td style = \"text-align: right;\">0.0</td><td style = \"text-align: right;\">8.75</td><td style = \"text-align: right;\">0.0</td><td style = \"text-align: right;\">0.0</td><td style = \"text-align: right;\">0.0</td><td style = \"text-align: right;\">5.5</td><td style = \"text-align: right;\">5.5</td><td style = \"text-align: right;\">6.75</td><td style = \"text-align: right;\">0.0</td><td style = \"text-align: right;\">0.0</td><td style = \"text-align: right;\">0.0</td><td style = \"text-align: right;\">0.0</td><td style = \"text-align: right;\">2.0</td><td style = \"text-align: right;\">0.0</td><td style = \"text-align: right;\">4.5</td><td style = \"text-align: right;\">4.5</td><td style = \"text-align: right;\">0.0</td><td style = \"text-align: right;\">4.5</td><td style = \"text-align: right;\">7.75</td><td style = \"text-align: right;\">4.5</td><td style = \"text-align: right;\">0.0</td><td style = \"text-align: right;\">0.0</td><td style = \"text-align: right;\">0.0</td><td style = \"text-align: right;\">4.5</td><td style = \"text-align: right;\">0.0</td><td style = \"text-align: right;\">0.0</td><td style = \"text-align: right;\">7.0</td><td style = \"text-align: right;\">1.5</td><td style = \"text-align: right;\">0.0</td><td style = \"text-align: right;\">4.5</td><td style = \"text-align: right;\">0.0</td><td style = \"text-align: right;\">0.0</td><td style = \"text-align: right;\">1.25</td><td style = \"text-align: right;\">0.0</td><td style = \"text-align: right;\">7.0</td><td style = \"text-align: right;\">4.5</td><td style = \"text-align: right;\">0.0</td><td style = \"text-align: right;\">0.0</td><td style = \"text-align: right;\">0.0</td><td style = \"text-align: right;\">0.0</td><td style = \"text-align: right;\">4.5</td><td style = \"text-align: right;\">0.0</td><td style = \"text-align: right;\">0.0</td><td style = \"text-align: right;\">4.5</td><td style = \"text-align: right;\">0.0</td><td style = \"text-align: right;\">0.0</td><td style = \"text-align: right;\">0.0</td><td style = \"text-align: right;\">0.0</td><td style = \"text-align: right;\">0.0</td><td style = \"text-align: right;\">9.25</td><td style = \"text-align: right;\">0.0</td><td style = \"text-align: right;\">0.0</td><td style = \"text-align: right;\">0.0</td><td style = \"text-align: right;\">4.5</td><td style = \"text-align: right;\">7.0</td><td style = \"text-align: right;\">0.0</td><td style = \"text-align: right;\">0.0</td><td style = \"text-align: right;\">0.0</td><td style = \"text-align: right;\">0.0</td><td style = \"text-align: right;\">0.0</td><td style = \"text-align: right;\">0.0</td><td style = \"text-align: right;\">7.75</td><td style = \"text-align: right;\">0.0</td><td style = \"text-align: right;\">6.75</td><td style = \"text-align: right;\">0.0</td><td style = \"text-align: right;\">0.0</td><td style = \"text-align: right;\">4.5</td><td style = \"text-align: right;\">0.0</td></tr><tr><td class = \"rowNumber\" style = \"font-weight: bold; text-align: right;\">11</td><td style = \"text-align: left;\">2023-12-01T11:00:00</td><td style = \"text-align: right;\">7.75</td><td style = \"text-align: right;\">0.0</td><td style = \"text-align: right;\">0.0</td><td style = \"text-align: right;\">8.0</td><td style = \"text-align: right;\">0.0</td><td style = \"text-align: right;\">0.0</td><td style = \"text-align: right;\">7.75</td><td style = \"text-align: right;\">0.0</td><td style = \"text-align: right;\">0.0</td><td style = \"text-align: right;\">0.0</td><td style = \"text-align: right;\">0.0</td><td style = \"text-align: right;\">5.25</td><td style = \"text-align: right;\">6.75</td><td style = \"text-align: right;\">0.0</td><td style = \"text-align: right;\">8.0</td><td style = \"text-align: right;\">0.0</td><td style = \"text-align: right;\">0.0</td><td style = \"text-align: right;\">0.0</td><td style = \"text-align: right;\">0.0</td><td style = \"text-align: right;\">0.0</td><td style = \"text-align: right;\">0.0</td><td style = \"text-align: right;\">0.0</td><td style = \"text-align: right;\">0.0</td><td style = \"text-align: right;\">6.75</td><td style = \"text-align: right;\">0.0</td><td style = \"text-align: right;\">0.0</td><td style = \"text-align: right;\">0.0</td><td style = \"text-align: right;\">4.5</td><td style = \"text-align: right;\">4.5</td><td style = \"text-align: right;\">0.0</td><td style = \"text-align: right;\">8.0</td><td style = \"text-align: right;\">5.5</td><td style = \"text-align: right;\">6.75</td><td style = \"text-align: right;\">0.0</td><td style = \"text-align: right;\">4.5</td><td style = \"text-align: right;\">0.0</td><td style = \"text-align: right;\">0.0</td><td style = \"text-align: right;\">0.0</td><td style = \"text-align: right;\">0.0</td><td style = \"text-align: right;\">5.5</td><td style = \"text-align: right;\">0.0</td><td style = \"text-align: right;\">0.0</td><td style = \"text-align: right;\">0.0</td><td style = \"text-align: right;\">0.0</td><td style = \"text-align: right;\">0.0</td><td style = \"text-align: right;\">0.0</td><td style = \"text-align: right;\">0.0</td><td style = \"text-align: right;\">0.0</td><td style = \"text-align: right;\">4.5</td><td style = \"text-align: right;\">7.75</td><td style = \"text-align: right;\">0.0</td><td style = \"text-align: right;\">0.0</td><td style = \"text-align: right;\">0.0</td><td style = \"text-align: right;\">0.0</td><td style = \"text-align: right;\">9.25</td><td style = \"text-align: right;\">2.0</td><td style = \"text-align: right;\">0.0</td><td style = \"text-align: right;\">0.0</td><td style = \"text-align: right;\">4.5</td><td style = \"text-align: right;\">5.5</td><td style = \"text-align: right;\">0.0</td><td style = \"text-align: right;\">0.0</td><td style = \"text-align: right;\">0.0</td><td style = \"text-align: right;\">0.0</td><td style = \"text-align: right;\">0.0</td><td style = \"text-align: right;\">0.0</td><td style = \"text-align: right;\">7.75</td><td style = \"text-align: right;\">0.0</td><td style = \"text-align: right;\">4.75</td><td style = \"text-align: right;\">0.0</td><td style = \"text-align: right;\">0.0</td><td style = \"text-align: right;\">4.5</td><td style = \"text-align: right;\">0.0</td></tr><tr><td class = \"rowNumber\" style = \"font-weight: bold; text-align: right;\">12</td><td style = \"text-align: left;\">2023-12-01T12:00:00</td><td style = \"text-align: right;\">7.75</td><td style = \"text-align: right;\">0.0</td><td style = \"text-align: right;\">0.0</td><td style = \"text-align: right;\">0.0</td><td style = \"text-align: right;\">0.0</td><td style = \"text-align: right;\">0.0</td><td style = \"text-align: right;\">7.75</td><td style = \"text-align: right;\">0.0</td><td style = \"text-align: right;\">0.0</td><td style = \"text-align: right;\">0.0</td><td style = \"text-align: right;\">5.5</td><td style = \"text-align: right;\">4.75469</td><td style = \"text-align: right;\">6.75</td><td style = \"text-align: right;\">0.0</td><td style = \"text-align: right;\">8.0</td><td style = \"text-align: right;\">0.0</td><td style = \"text-align: right;\">0.0</td><td style = \"text-align: right;\">0.0</td><td style = \"text-align: right;\">0.0</td><td style = \"text-align: right;\">1.7</td><td style = \"text-align: right;\">4.5</td><td style = \"text-align: right;\">0.0</td><td style = \"text-align: right;\">4.5</td><td style = \"text-align: right;\">7.75</td><td style = \"text-align: right;\">4.5</td><td style = \"text-align: right;\">7.04531</td><td style = \"text-align: right;\">0.0</td><td style = \"text-align: right;\">4.5</td><td style = \"text-align: right;\">0.0</td><td style = \"text-align: right;\">0.0</td><td style = \"text-align: right;\">7.75</td><td style = \"text-align: right;\">0.0</td><td style = \"text-align: right;\">0.0</td><td style = \"text-align: right;\">0.0</td><td style = \"text-align: right;\">4.5</td><td style = \"text-align: right;\">0.0</td><td style = \"text-align: right;\">0.0</td><td style = \"text-align: right;\">0.0</td><td style = \"text-align: right;\">0.0</td><td style = \"text-align: right;\">5.5</td><td style = \"text-align: right;\">4.5</td><td style = \"text-align: right;\">0.0</td><td style = \"text-align: right;\">0.0</td><td style = \"text-align: right;\">0.0</td><td style = \"text-align: right;\">0.0</td><td style = \"text-align: right;\">4.5</td><td style = \"text-align: right;\">0.0</td><td style = \"text-align: right;\">0.0</td><td style = \"text-align: right;\">4.5</td><td style = \"text-align: right;\">7.75</td><td style = \"text-align: right;\">0.0</td><td style = \"text-align: right;\">0.0</td><td style = \"text-align: right;\">0.0</td><td style = \"text-align: right;\">0.0</td><td style = \"text-align: right;\">9.25</td><td style = \"text-align: right;\">0.0</td><td style = \"text-align: right;\">0.0</td><td style = \"text-align: right;\">0.0</td><td style = \"text-align: right;\">4.5</td><td style = \"text-align: right;\">0.0</td><td style = \"text-align: right;\">0.0</td><td style = \"text-align: right;\">0.0</td><td style = \"text-align: right;\">0.0</td><td style = \"text-align: right;\">0.0</td><td style = \"text-align: right;\">0.0</td><td style = \"text-align: right;\">0.0</td><td style = \"text-align: right;\">7.75</td><td style = \"text-align: right;\">0.0</td><td style = \"text-align: right;\">0.0</td><td style = \"text-align: right;\">0.0</td><td style = \"text-align: right;\">0.0</td><td style = \"text-align: right;\">4.5</td><td style = \"text-align: right;\">0.0</td></tr><tr><td class = \"rowNumber\" style = \"font-weight: bold; text-align: right;\">13</td><td style = \"text-align: left;\">2023-12-01T13:00:00</td><td style = \"text-align: right;\">7.75</td><td style = \"text-align: right;\">0.0</td><td style = \"text-align: right;\">0.0</td><td style = \"text-align: right;\">8.0</td><td style = \"text-align: right;\">0.0</td><td style = \"text-align: right;\">0.0</td><td style = \"text-align: right;\">7.75</td><td style = \"text-align: right;\">0.0</td><td style = \"text-align: right;\">0.0</td><td style = \"text-align: right;\">0.0</td><td style = \"text-align: right;\">5.5</td><td style = \"text-align: right;\">5.5</td><td style = \"text-align: right;\">7.44472</td><td style = \"text-align: right;\">0.0</td><td style = \"text-align: right;\">8.0</td><td style = \"text-align: right;\">0.0</td><td style = \"text-align: right;\">0.0</td><td style = \"text-align: right;\">0.0</td><td style = \"text-align: right;\">0.0</td><td style = \"text-align: right;\">4.5</td><td style = \"text-align: right;\">4.5</td><td style = \"text-align: right;\">0.0</td><td style = \"text-align: right;\">4.5</td><td style = \"text-align: right;\">3.75</td><td style = \"text-align: right;\">4.5</td><td style = \"text-align: right;\">0.0</td><td style = \"text-align: right;\">0.0</td><td style = \"text-align: right;\">4.5</td><td style = \"text-align: right;\">4.5</td><td style = \"text-align: right;\">0.0</td><td style = \"text-align: right;\">7.75</td><td style = \"text-align: right;\">5.5</td><td style = \"text-align: right;\">0.0</td><td style = \"text-align: right;\">0.0</td><td style = \"text-align: right;\">4.5</td><td style = \"text-align: right;\">0.0</td><td style = \"text-align: right;\">0.0</td><td style = \"text-align: right;\">0.0</td><td style = \"text-align: right;\">0.0</td><td style = \"text-align: right;\">0.0</td><td style = \"text-align: right;\">4.5</td><td style = \"text-align: right;\">0.0</td><td style = \"text-align: right;\">0.0</td><td style = \"text-align: right;\">0.0</td><td style = \"text-align: right;\">0.0</td><td style = \"text-align: right;\">4.5</td><td style = \"text-align: right;\">0.0</td><td style = \"text-align: right;\">0.0</td><td style = \"text-align: right;\">4.5</td><td style = \"text-align: right;\">7.75</td><td style = \"text-align: right;\">0.0</td><td style = \"text-align: right;\">0.0</td><td style = \"text-align: right;\">0.0</td><td style = \"text-align: right;\">0.0</td><td style = \"text-align: right;\">0.7</td><td style = \"text-align: right;\">1.0</td><td style = \"text-align: right;\">0.0</td><td style = \"text-align: right;\">0.0</td><td style = \"text-align: right;\">4.5</td><td style = \"text-align: right;\">1.85528</td><td style = \"text-align: right;\">0.0</td><td style = \"text-align: right;\">0.0</td><td style = \"text-align: right;\">0.0</td><td style = \"text-align: right;\">0.0</td><td style = \"text-align: right;\">0.0</td><td style = \"text-align: right;\">0.0</td><td style = \"text-align: right;\">7.75</td><td style = \"text-align: right;\">0.0</td><td style = \"text-align: right;\">0.0</td><td style = \"text-align: right;\">0.0</td><td style = \"text-align: right;\">0.0</td><td style = \"text-align: right;\">4.5</td><td style = \"text-align: right;\">0.0</td></tr><tr><td style = \"text-align: right;\">&vellip;</td><td style = \"text-align: right;\">&vellip;</td><td style = \"text-align: right;\">&vellip;</td><td style = \"text-align: right;\">&vellip;</td><td style = \"text-align: right;\">&vellip;</td><td style = \"text-align: right;\">&vellip;</td><td style = \"text-align: right;\">&vellip;</td><td style = \"text-align: right;\">&vellip;</td><td style = \"text-align: right;\">&vellip;</td><td style = \"text-align: right;\">&vellip;</td><td style = \"text-align: right;\">&vellip;</td><td style = \"text-align: right;\">&vellip;</td><td style = \"text-align: right;\">&vellip;</td><td style = \"text-align: right;\">&vellip;</td><td style = \"text-align: right;\">&vellip;</td><td style = \"text-align: right;\">&vellip;</td><td style = \"text-align: right;\">&vellip;</td><td style = \"text-align: right;\">&vellip;</td><td style = \"text-align: right;\">&vellip;</td><td style = \"text-align: right;\">&vellip;</td><td style = \"text-align: right;\">&vellip;</td><td style = \"text-align: right;\">&vellip;</td><td style = \"text-align: right;\">&vellip;</td><td style = \"text-align: right;\">&vellip;</td><td style = \"text-align: right;\">&vellip;</td><td style = \"text-align: right;\">&vellip;</td><td style = \"text-align: right;\">&vellip;</td><td style = \"text-align: right;\">&vellip;</td><td style = \"text-align: right;\">&vellip;</td><td style = \"text-align: right;\">&vellip;</td><td style = \"text-align: right;\">&vellip;</td><td style = \"text-align: right;\">&vellip;</td><td style = \"text-align: right;\">&vellip;</td><td style = \"text-align: right;\">&vellip;</td><td style = \"text-align: right;\">&vellip;</td><td style = \"text-align: right;\">&vellip;</td><td style = \"text-align: right;\">&vellip;</td><td style = \"text-align: right;\">&vellip;</td><td style = \"text-align: right;\">&vellip;</td><td style = \"text-align: right;\">&vellip;</td><td style = \"text-align: right;\">&vellip;</td><td style = \"text-align: right;\">&vellip;</td><td style = \"text-align: right;\">&vellip;</td><td style = \"text-align: right;\">&vellip;</td><td style = \"text-align: right;\">&vellip;</td><td style = \"text-align: right;\">&vellip;</td><td style = \"text-align: right;\">&vellip;</td><td style = \"text-align: right;\">&vellip;</td><td style = \"text-align: right;\">&vellip;</td><td style = \"text-align: right;\">&vellip;</td><td style = \"text-align: right;\">&vellip;</td><td style = \"text-align: right;\">&vellip;</td><td style = \"text-align: right;\">&vellip;</td><td style = \"text-align: right;\">&vellip;</td><td style = \"text-align: right;\">&vellip;</td><td style = \"text-align: right;\">&vellip;</td><td style = \"text-align: right;\">&vellip;</td><td style = \"text-align: right;\">&vellip;</td><td style = \"text-align: right;\">&vellip;</td><td style = \"text-align: right;\">&vellip;</td><td style = \"text-align: right;\">&vellip;</td><td style = \"text-align: right;\">&vellip;</td><td style = \"text-align: right;\">&vellip;</td><td style = \"text-align: right;\">&vellip;</td><td style = \"text-align: right;\">&vellip;</td><td style = \"text-align: right;\">&vellip;</td><td style = \"text-align: right;\">&vellip;</td><td style = \"text-align: right;\">&vellip;</td><td style = \"text-align: right;\">&vellip;</td><td style = \"text-align: right;\">&vellip;</td><td style = \"text-align: right;\">&vellip;</td><td style = \"text-align: right;\">&vellip;</td><td style = \"text-align: right;\">&vellip;</td><td style = \"text-align: right;\">&vellip;</td><td style = \"text-align: right;\">&vellip;</td></tr><tr><td class = \"rowNumber\" style = \"font-weight: bold; text-align: right;\">36</td><td style = \"text-align: left;\">2023-12-02T12:00:00</td><td style = \"text-align: right;\">7.75</td><td style = \"text-align: right;\">0.0</td><td style = \"text-align: right;\">0.0</td><td style = \"text-align: right;\">0.0</td><td style = \"text-align: right;\">0.0</td><td style = \"text-align: right;\">0.0</td><td style = \"text-align: right;\">8.75</td><td style = \"text-align: right;\">0.0</td><td style = \"text-align: right;\">0.0</td><td style = \"text-align: right;\">0.0</td><td style = \"text-align: right;\">5.5</td><td style = \"text-align: right;\">5.5</td><td style = \"text-align: right;\">0.0</td><td style = \"text-align: right;\">0.0</td><td style = \"text-align: right;\">0.0</td><td style = \"text-align: right;\">0.0</td><td style = \"text-align: right;\">0.0</td><td style = \"text-align: right;\">0.75</td><td style = \"text-align: right;\">0.0</td><td style = \"text-align: right;\">4.5</td><td style = \"text-align: right;\">4.5</td><td style = \"text-align: right;\">0.0</td><td style = \"text-align: right;\">4.5</td><td style = \"text-align: right;\">0.0</td><td style = \"text-align: right;\">4.5</td><td style = \"text-align: right;\">15.0</td><td style = \"text-align: right;\">0.0</td><td style = \"text-align: right;\">4.5</td><td style = \"text-align: right;\">4.5</td><td style = \"text-align: right;\">0.0</td><td style = \"text-align: right;\">7.75</td><td style = \"text-align: right;\">5.5</td><td style = \"text-align: right;\">0.0</td><td style = \"text-align: right;\">0.0</td><td style = \"text-align: right;\">4.5</td><td style = \"text-align: right;\">0.0</td><td style = \"text-align: right;\">0.0</td><td style = \"text-align: right;\">0.0</td><td style = \"text-align: right;\">0.0</td><td style = \"text-align: right;\">5.5</td><td style = \"text-align: right;\">4.5</td><td style = \"text-align: right;\">0.0</td><td style = \"text-align: right;\">0.0</td><td style = \"text-align: right;\">0.0</td><td style = \"text-align: right;\">0.0</td><td style = \"text-align: right;\">4.5</td><td style = \"text-align: right;\">0.0</td><td style = \"text-align: right;\">0.0</td><td style = \"text-align: right;\">4.5</td><td style = \"text-align: right;\">7.75</td><td style = \"text-align: right;\">0.0</td><td style = \"text-align: right;\">0.0</td><td style = \"text-align: right;\">0.0</td><td style = \"text-align: right;\">0.0</td><td style = \"text-align: right;\">0.0</td><td style = \"text-align: right;\">0.0</td><td style = \"text-align: right;\">0.0</td><td style = \"text-align: right;\">0.0</td><td style = \"text-align: right;\">4.5</td><td style = \"text-align: right;\">5.5</td><td style = \"text-align: right;\">0.0</td><td style = \"text-align: right;\">0.0</td><td style = \"text-align: right;\">0.0</td><td style = \"text-align: right;\">0.0</td><td style = \"text-align: right;\">0.0</td><td style = \"text-align: right;\">0.0</td><td style = \"text-align: right;\">7.75</td><td style = \"text-align: right;\">0.0</td><td style = \"text-align: right;\">0.0</td><td style = \"text-align: right;\">0.0</td><td style = \"text-align: right;\">0.0</td><td style = \"text-align: right;\">4.5</td><td style = \"text-align: right;\">0.0</td></tr><tr><td class = \"rowNumber\" style = \"font-weight: bold; text-align: right;\">37</td><td style = \"text-align: left;\">2023-12-02T13:00:00</td><td style = \"text-align: right;\">7.75</td><td style = \"text-align: right;\">0.0</td><td style = \"text-align: right;\">0.0</td><td style = \"text-align: right;\">0.0</td><td style = \"text-align: right;\">0.0</td><td style = \"text-align: right;\">0.0</td><td style = \"text-align: right;\">7.75</td><td style = \"text-align: right;\">0.0</td><td style = \"text-align: right;\">0.0</td><td style = \"text-align: right;\">0.0</td><td style = \"text-align: right;\">5.5</td><td style = \"text-align: right;\">5.5</td><td style = \"text-align: right;\">0.0</td><td style = \"text-align: right;\">0.0</td><td style = \"text-align: right;\">0.0</td><td style = \"text-align: right;\">0.0</td><td style = \"text-align: right;\">0.0</td><td style = \"text-align: right;\">0.55496</td><td style = \"text-align: right;\">0.0</td><td style = \"text-align: right;\">4.5</td><td style = \"text-align: right;\">4.1</td><td style = \"text-align: right;\">0.0</td><td style = \"text-align: right;\">4.5</td><td style = \"text-align: right;\">7.75</td><td style = \"text-align: right;\">4.5</td><td style = \"text-align: right;\">0.0</td><td style = \"text-align: right;\">0.0</td><td style = \"text-align: right;\">4.5</td><td style = \"text-align: right;\">4.5</td><td style = \"text-align: right;\">0.0</td><td style = \"text-align: right;\">5.19504</td><td style = \"text-align: right;\">5.5</td><td style = \"text-align: right;\">0.0</td><td style = \"text-align: right;\">0.0</td><td style = \"text-align: right;\">4.5</td><td style = \"text-align: right;\">0.0</td><td style = \"text-align: right;\">0.0</td><td style = \"text-align: right;\">3.15</td><td style = \"text-align: right;\">0.0</td><td style = \"text-align: right;\">5.5</td><td style = \"text-align: right;\">4.5</td><td style = \"text-align: right;\">0.0</td><td style = \"text-align: right;\">0.0</td><td style = \"text-align: right;\">0.0</td><td style = \"text-align: right;\">0.0</td><td style = \"text-align: right;\">4.5</td><td style = \"text-align: right;\">0.0</td><td style = \"text-align: right;\">0.0</td><td style = \"text-align: right;\">4.5</td><td style = \"text-align: right;\">7.75</td><td style = \"text-align: right;\">0.0</td><td style = \"text-align: right;\">0.0</td><td style = \"text-align: right;\">0.0</td><td style = \"text-align: right;\">0.0</td><td style = \"text-align: right;\">9.25</td><td style = \"text-align: right;\">2.0</td><td style = \"text-align: right;\">0.0</td><td style = \"text-align: right;\">0.0</td><td style = \"text-align: right;\">4.5</td><td style = \"text-align: right;\">5.5</td><td style = \"text-align: right;\">0.0</td><td style = \"text-align: right;\">0.0</td><td style = \"text-align: right;\">0.0</td><td style = \"text-align: right;\">0.0</td><td style = \"text-align: right;\">0.0</td><td style = \"text-align: right;\">0.0</td><td style = \"text-align: right;\">7.75</td><td style = \"text-align: right;\">0.0</td><td style = \"text-align: right;\">0.0</td><td style = \"text-align: right;\">0.0</td><td style = \"text-align: right;\">0.0</td><td style = \"text-align: right;\">4.5</td><td style = \"text-align: right;\">0.0</td></tr><tr><td class = \"rowNumber\" style = \"font-weight: bold; text-align: right;\">38</td><td style = \"text-align: left;\">2023-12-02T14:00:00</td><td style = \"text-align: right;\">7.75</td><td style = \"text-align: right;\">0.0</td><td style = \"text-align: right;\">0.0</td><td style = \"text-align: right;\">0.0</td><td style = \"text-align: right;\">0.0</td><td style = \"text-align: right;\">0.0</td><td style = \"text-align: right;\">7.75</td><td style = \"text-align: right;\">0.0</td><td style = \"text-align: right;\">0.0</td><td style = \"text-align: right;\">0.0</td><td style = \"text-align: right;\">5.5</td><td style = \"text-align: right;\">5.5</td><td style = \"text-align: right;\">0.0</td><td style = \"text-align: right;\">0.0</td><td style = \"text-align: right;\">0.0</td><td style = \"text-align: right;\">0.0</td><td style = \"text-align: right;\">0.0</td><td style = \"text-align: right;\">0.0</td><td style = \"text-align: right;\">0.0</td><td style = \"text-align: right;\">4.5</td><td style = \"text-align: right;\">4.5</td><td style = \"text-align: right;\">0.0</td><td style = \"text-align: right;\">4.5</td><td style = \"text-align: right;\">7.75</td><td style = \"text-align: right;\">0.0</td><td style = \"text-align: right;\">15.0</td><td style = \"text-align: right;\">0.0</td><td style = \"text-align: right;\">0.0</td><td style = \"text-align: right;\">4.5</td><td style = \"text-align: right;\">0.0</td><td style = \"text-align: right;\">7.75</td><td style = \"text-align: right;\">2.5</td><td style = \"text-align: right;\">0.0</td><td style = \"text-align: right;\">0.0</td><td style = \"text-align: right;\">4.5</td><td style = \"text-align: right;\">0.0</td><td style = \"text-align: right;\">0.0</td><td style = \"text-align: right;\">3.15</td><td style = \"text-align: right;\">0.0</td><td style = \"text-align: right;\">5.5</td><td style = \"text-align: right;\">4.5</td><td style = \"text-align: right;\">0.0</td><td style = \"text-align: right;\">0.0</td><td style = \"text-align: right;\">0.0</td><td style = \"text-align: right;\">0.0</td><td style = \"text-align: right;\">4.5</td><td style = \"text-align: right;\">0.0</td><td style = \"text-align: right;\">0.0</td><td style = \"text-align: right;\">4.5</td><td style = \"text-align: right;\">7.75</td><td style = \"text-align: right;\">0.0</td><td style = \"text-align: right;\">0.0</td><td style = \"text-align: right;\">0.0</td><td style = \"text-align: right;\">0.0</td><td style = \"text-align: right;\">9.25</td><td style = \"text-align: right;\">2.0</td><td style = \"text-align: right;\">0.0</td><td style = \"text-align: right;\">0.0</td><td style = \"text-align: right;\">4.5</td><td style = \"text-align: right;\">0.1</td><td style = \"text-align: right;\">0.0</td><td style = \"text-align: right;\">0.0</td><td style = \"text-align: right;\">0.0</td><td style = \"text-align: right;\">0.0</td><td style = \"text-align: right;\">0.0</td><td style = \"text-align: right;\">0.0</td><td style = \"text-align: right;\">7.75</td><td style = \"text-align: right;\">0.0</td><td style = \"text-align: right;\">0.0</td><td style = \"text-align: right;\">0.0</td><td style = \"text-align: right;\">0.0</td><td style = \"text-align: right;\">4.5</td><td style = \"text-align: right;\">0.0</td></tr><tr><td class = \"rowNumber\" style = \"font-weight: bold; text-align: right;\">39</td><td style = \"text-align: left;\">2023-12-02T15:00:00</td><td style = \"text-align: right;\">7.75</td><td style = \"text-align: right;\">0.0</td><td style = \"text-align: right;\">0.0</td><td style = \"text-align: right;\">0.0</td><td style = \"text-align: right;\">0.0</td><td style = \"text-align: right;\">0.0</td><td style = \"text-align: right;\">7.75</td><td style = \"text-align: right;\">0.0</td><td style = \"text-align: right;\">0.0</td><td style = \"text-align: right;\">0.0</td><td style = \"text-align: right;\">5.5</td><td style = \"text-align: right;\">5.5</td><td style = \"text-align: right;\">0.0</td><td style = \"text-align: right;\">0.0</td><td style = \"text-align: right;\">0.0</td><td style = \"text-align: right;\">0.0</td><td style = \"text-align: right;\">0.0</td><td style = \"text-align: right;\">2.0</td><td style = \"text-align: right;\">0.0</td><td style = \"text-align: right;\">4.5</td><td style = \"text-align: right;\">4.5</td><td style = \"text-align: right;\">0.0</td><td style = \"text-align: right;\">4.5</td><td style = \"text-align: right;\">0.0</td><td style = \"text-align: right;\">4.5</td><td style = \"text-align: right;\">5.25</td><td style = \"text-align: right;\">0.0</td><td style = \"text-align: right;\">4.5</td><td style = \"text-align: right;\">4.5</td><td style = \"text-align: right;\">0.0</td><td style = \"text-align: right;\">7.75</td><td style = \"text-align: right;\">5.5</td><td style = \"text-align: right;\">0.0</td><td style = \"text-align: right;\">0.0</td><td style = \"text-align: right;\">4.5</td><td style = \"text-align: right;\">0.0</td><td style = \"text-align: right;\">0.0</td><td style = \"text-align: right;\">0.0</td><td style = \"text-align: right;\">0.0</td><td style = \"text-align: right;\">5.5</td><td style = \"text-align: right;\">4.5</td><td style = \"text-align: right;\">0.0</td><td style = \"text-align: right;\">0.0</td><td style = \"text-align: right;\">0.0</td><td style = \"text-align: right;\">0.0</td><td style = \"text-align: right;\">4.5</td><td style = \"text-align: right;\">0.0</td><td style = \"text-align: right;\">0.0</td><td style = \"text-align: right;\">4.5</td><td style = \"text-align: right;\">7.75</td><td style = \"text-align: right;\">0.0</td><td style = \"text-align: right;\">0.0</td><td style = \"text-align: right;\">0.0</td><td style = \"text-align: right;\">0.0</td><td style = \"text-align: right;\">2.25</td><td style = \"text-align: right;\">2.0</td><td style = \"text-align: right;\">0.0</td><td style = \"text-align: right;\">0.0</td><td style = \"text-align: right;\">4.5</td><td style = \"text-align: right;\">5.5</td><td style = \"text-align: right;\">0.0</td><td style = \"text-align: right;\">0.0</td><td style = \"text-align: right;\">0.0</td><td style = \"text-align: right;\">0.0</td><td style = \"text-align: right;\">0.0</td><td style = \"text-align: right;\">0.0</td><td style = \"text-align: right;\">9.25</td><td style = \"text-align: right;\">0.0</td><td style = \"text-align: right;\">6.75</td><td style = \"text-align: right;\">0.0</td><td style = \"text-align: right;\">0.0</td><td style = \"text-align: right;\">4.5</td><td style = \"text-align: right;\">0.0</td></tr><tr><td class = \"rowNumber\" style = \"font-weight: bold; text-align: right;\">40</td><td style = \"text-align: left;\">2023-12-02T16:00:00</td><td style = \"text-align: right;\">7.75</td><td style = \"text-align: right;\">0.0</td><td style = \"text-align: right;\">0.0</td><td style = \"text-align: right;\">0.0</td><td style = \"text-align: right;\">0.0</td><td style = \"text-align: right;\">0.0</td><td style = \"text-align: right;\">7.75</td><td style = \"text-align: right;\">0.0</td><td style = \"text-align: right;\">0.0</td><td style = \"text-align: right;\">0.0</td><td style = \"text-align: right;\">5.75</td><td style = \"text-align: right;\">5.5</td><td style = \"text-align: right;\">0.0</td><td style = \"text-align: right;\">0.0</td><td style = \"text-align: right;\">0.0</td><td style = \"text-align: right;\">0.0</td><td style = \"text-align: right;\">0.0</td><td style = \"text-align: right;\">2.0</td><td style = \"text-align: right;\">0.0</td><td style = \"text-align: right;\">4.5</td><td style = \"text-align: right;\">4.5</td><td style = \"text-align: right;\">0.0</td><td style = \"text-align: right;\">4.5</td><td style = \"text-align: right;\">7.75</td><td style = \"text-align: right;\">4.5</td><td style = \"text-align: right;\">0.0</td><td style = \"text-align: right;\">0.0</td><td style = \"text-align: right;\">0.0</td><td style = \"text-align: right;\">4.5</td><td style = \"text-align: right;\">0.0</td><td style = \"text-align: right;\">7.75</td><td style = \"text-align: right;\">5.5</td><td style = \"text-align: right;\">6.75</td><td style = \"text-align: right;\">0.0</td><td style = \"text-align: right;\">4.5</td><td style = \"text-align: right;\">0.0</td><td style = \"text-align: right;\">0.0</td><td style = \"text-align: right;\">8.0</td><td style = \"text-align: right;\">0.0</td><td style = \"text-align: right;\">0.0</td><td style = \"text-align: right;\">4.5</td><td style = \"text-align: right;\">0.0</td><td style = \"text-align: right;\">0.0</td><td style = \"text-align: right;\">0.0</td><td style = \"text-align: right;\">0.0</td><td style = \"text-align: right;\">4.5</td><td style = \"text-align: right;\">0.0</td><td style = \"text-align: right;\">0.0</td><td style = \"text-align: right;\">4.5</td><td style = \"text-align: right;\">2.5</td><td style = \"text-align: right;\">0.0</td><td style = \"text-align: right;\">0.0</td><td style = \"text-align: right;\">0.0</td><td style = \"text-align: right;\">0.0</td><td style = \"text-align: right;\">9.25</td><td style = \"text-align: right;\">2.0</td><td style = \"text-align: right;\">0.0</td><td style = \"text-align: right;\">0.0</td><td style = \"text-align: right;\">4.5</td><td style = \"text-align: right;\">5.5</td><td style = \"text-align: right;\">0.0</td><td style = \"text-align: right;\">0.0</td><td style = \"text-align: right;\">0.0</td><td style = \"text-align: right;\">0.0</td><td style = \"text-align: right;\">0.0</td><td style = \"text-align: right;\">0.0</td><td style = \"text-align: right;\">0.0</td><td style = \"text-align: right;\">0.0</td><td style = \"text-align: right;\">6.75</td><td style = \"text-align: right;\">0.0</td><td style = \"text-align: right;\">0.0</td><td style = \"text-align: right;\">4.5</td><td style = \"text-align: right;\">0.0</td></tr><tr><td class = \"rowNumber\" style = \"font-weight: bold; text-align: right;\">41</td><td style = \"text-align: left;\">2023-12-02T17:00:00</td><td style = \"text-align: right;\">0.0</td><td style = \"text-align: right;\">0.0</td><td style = \"text-align: right;\">0.0</td><td style = \"text-align: right;\">6.75</td><td style = \"text-align: right;\">0.0</td><td style = \"text-align: right;\">0.0</td><td style = \"text-align: right;\">7.75</td><td style = \"text-align: right;\">0.0</td><td style = \"text-align: right;\">0.0</td><td style = \"text-align: right;\">0.0</td><td style = \"text-align: right;\">5.5</td><td style = \"text-align: right;\">0.0</td><td style = \"text-align: right;\">8.0</td><td style = \"text-align: right;\">5.25</td><td style = \"text-align: right;\">6.75</td><td style = \"text-align: right;\">0.0</td><td style = \"text-align: right;\">0.0</td><td style = \"text-align: right;\">2.0</td><td style = \"text-align: right;\">0.0</td><td style = \"text-align: right;\">4.5</td><td style = \"text-align: right;\">0.0</td><td style = \"text-align: right;\">0.0</td><td style = \"text-align: right;\">4.5</td><td style = \"text-align: right;\">2.24576</td><td style = \"text-align: right;\">0.0</td><td style = \"text-align: right;\">0.0</td><td style = \"text-align: right;\">0.0</td><td style = \"text-align: right;\">0.0</td><td style = \"text-align: right;\">4.5</td><td style = \"text-align: right;\">0.0</td><td style = \"text-align: right;\">9.25</td><td style = \"text-align: right;\">0.0</td><td style = \"text-align: right;\">8.0</td><td style = \"text-align: right;\">0.0</td><td style = \"text-align: right;\">4.5</td><td style = \"text-align: right;\">0.0</td><td style = \"text-align: right;\">0.0</td><td style = \"text-align: right;\">0.0</td><td style = \"text-align: right;\">0.0</td><td style = \"text-align: right;\">5.5</td><td style = \"text-align: right;\">4.5</td><td style = \"text-align: right;\">0.0</td><td style = \"text-align: right;\">0.0</td><td style = \"text-align: right;\">0.0</td><td style = \"text-align: right;\">0.0</td><td style = \"text-align: right;\">4.5</td><td style = \"text-align: right;\">0.0</td><td style = \"text-align: right;\">0.0</td><td style = \"text-align: right;\">4.5</td><td style = \"text-align: right;\">7.75</td><td style = \"text-align: right;\">0.0</td><td style = \"text-align: right;\">0.0</td><td style = \"text-align: right;\">0.0</td><td style = \"text-align: right;\">0.0</td><td style = \"text-align: right;\">9.25</td><td style = \"text-align: right;\">0.0</td><td style = \"text-align: right;\">0.0</td><td style = \"text-align: right;\">0.0</td><td style = \"text-align: right;\">4.5</td><td style = \"text-align: right;\">0.0</td><td style = \"text-align: right;\">0.0</td><td style = \"text-align: right;\">0.0</td><td style = \"text-align: right;\">0.0</td><td style = \"text-align: right;\">0.0</td><td style = \"text-align: right;\">0.0</td><td style = \"text-align: right;\">0.0</td><td style = \"text-align: right;\">7.50424</td><td style = \"text-align: right;\">0.0</td><td style = \"text-align: right;\">8.0</td><td style = \"text-align: right;\">0.0</td><td style = \"text-align: right;\">0.0</td><td style = \"text-align: right;\">4.5</td><td style = \"text-align: right;\">0.0</td></tr><tr><td class = \"rowNumber\" style = \"font-weight: bold; text-align: right;\">42</td><td style = \"text-align: left;\">2023-12-02T18:00:00</td><td style = \"text-align: right;\">8.75</td><td style = \"text-align: right;\">0.0</td><td style = \"text-align: right;\">0.0</td><td style = \"text-align: right;\">6.75</td><td style = \"text-align: right;\">0.0</td><td style = \"text-align: right;\">0.0</td><td style = \"text-align: right;\">9.25</td><td style = \"text-align: right;\">0.0</td><td style = \"text-align: right;\">0.0</td><td style = \"text-align: right;\">0.0</td><td style = \"text-align: right;\">5.5</td><td style = \"text-align: right;\">0.0</td><td style = \"text-align: right;\">1.5</td><td style = \"text-align: right;\">0.0</td><td style = \"text-align: right;\">6.75</td><td style = \"text-align: right;\">0.0</td><td style = \"text-align: right;\">0.0</td><td style = \"text-align: right;\">0.0</td><td style = \"text-align: right;\">0.0</td><td style = \"text-align: right;\">4.5</td><td style = \"text-align: right;\">0.0</td><td style = \"text-align: right;\">0.0</td><td style = \"text-align: right;\">4.5</td><td style = \"text-align: right;\">0.0</td><td style = \"text-align: right;\">4.5</td><td style = \"text-align: right;\">0.0</td><td style = \"text-align: right;\">5.25</td><td style = \"text-align: right;\">4.5</td><td style = \"text-align: right;\">4.5</td><td style = \"text-align: right;\">0.0</td><td style = \"text-align: right;\">7.75</td><td style = \"text-align: right;\">0.0</td><td style = \"text-align: right;\">0.0</td><td style = \"text-align: right;\">0.0</td><td style = \"text-align: right;\">0.0</td><td style = \"text-align: right;\">0.0</td><td style = \"text-align: right;\">0.0</td><td style = \"text-align: right;\">6.75</td><td style = \"text-align: right;\">0.0</td><td style = \"text-align: right;\">0.0</td><td style = \"text-align: right;\">0.0</td><td style = \"text-align: right;\">0.0</td><td style = \"text-align: right;\">0.0</td><td style = \"text-align: right;\">0.0</td><td style = \"text-align: right;\">0.0</td><td style = \"text-align: right;\">4.5</td><td style = \"text-align: right;\">0.0</td><td style = \"text-align: right;\">0.0</td><td style = \"text-align: right;\">4.5</td><td style = \"text-align: right;\">0.0</td><td style = \"text-align: right;\">0.0</td><td style = \"text-align: right;\">0.0</td><td style = \"text-align: right;\">0.0</td><td style = \"text-align: right;\">0.0</td><td style = \"text-align: right;\">9.25</td><td style = \"text-align: right;\">0.0</td><td style = \"text-align: right;\">0.0</td><td style = \"text-align: right;\">5.25</td><td style = \"text-align: right;\">4.5</td><td style = \"text-align: right;\">5.5</td><td style = \"text-align: right;\">0.0</td><td style = \"text-align: right;\">0.0</td><td style = \"text-align: right;\">0.0</td><td style = \"text-align: right;\">0.0</td><td style = \"text-align: right;\">0.0</td><td style = \"text-align: right;\">0.0</td><td style = \"text-align: right;\">9.25</td><td style = \"text-align: right;\">0.0</td><td style = \"text-align: right;\">6.75</td><td style = \"text-align: right;\">0.0</td><td style = \"text-align: right;\">5.25</td><td style = \"text-align: right;\">4.5</td><td style = \"text-align: right;\">0.0</td></tr><tr><td class = \"rowNumber\" style = \"font-weight: bold; text-align: right;\">43</td><td style = \"text-align: left;\">2023-12-02T19:00:00</td><td style = \"text-align: right;\">7.75</td><td style = \"text-align: right;\">0.0</td><td style = \"text-align: right;\">0.0</td><td style = \"text-align: right;\">0.0</td><td style = \"text-align: right;\">0.0</td><td style = \"text-align: right;\">0.0</td><td style = \"text-align: right;\">7.75</td><td style = \"text-align: right;\">0.0</td><td style = \"text-align: right;\">0.0</td><td style = \"text-align: right;\">0.0</td><td style = \"text-align: right;\">0.0</td><td style = \"text-align: right;\">5.5</td><td style = \"text-align: right;\">0.0</td><td style = \"text-align: right;\">0.0</td><td style = \"text-align: right;\">0.0</td><td style = \"text-align: right;\">0.0</td><td style = \"text-align: right;\">0.0</td><td style = \"text-align: right;\">0.0</td><td style = \"text-align: right;\">5.25</td><td style = \"text-align: right;\">4.5</td><td style = \"text-align: right;\">0.0</td><td style = \"text-align: right;\">0.0</td><td style = \"text-align: right;\">4.5</td><td style = \"text-align: right;\">7.75</td><td style = \"text-align: right;\">4.5</td><td style = \"text-align: right;\">0.0</td><td style = \"text-align: right;\">5.25</td><td style = \"text-align: right;\">4.5</td><td style = \"text-align: right;\">4.5</td><td style = \"text-align: right;\">0.0</td><td style = \"text-align: right;\">7.75</td><td style = \"text-align: right;\">5.5</td><td style = \"text-align: right;\">0.0</td><td style = \"text-align: right;\">5.25</td><td style = \"text-align: right;\">0.0</td><td style = \"text-align: right;\">0.0</td><td style = \"text-align: right;\">0.0</td><td style = \"text-align: right;\">6.75</td><td style = \"text-align: right;\">0.0</td><td style = \"text-align: right;\">0.0</td><td style = \"text-align: right;\">0.0</td><td style = \"text-align: right;\">0.0</td><td style = \"text-align: right;\">5.25</td><td style = \"text-align: right;\">0.0</td><td style = \"text-align: right;\">0.0</td><td style = \"text-align: right;\">4.5</td><td style = \"text-align: right;\">0.0</td><td style = \"text-align: right;\">0.0</td><td style = \"text-align: right;\">4.5</td><td style = \"text-align: right;\">0.0</td><td style = \"text-align: right;\">5.25</td><td style = \"text-align: right;\">0.0</td><td style = \"text-align: right;\">0.0</td><td style = \"text-align: right;\">0.0</td><td style = \"text-align: right;\">9.25</td><td style = \"text-align: right;\">0.0</td><td style = \"text-align: right;\">0.0</td><td style = \"text-align: right;\">5.25</td><td style = \"text-align: right;\">4.5</td><td style = \"text-align: right;\">0.0</td><td style = \"text-align: right;\">0.0</td><td style = \"text-align: right;\">0.0</td><td style = \"text-align: right;\">0.358021</td><td style = \"text-align: right;\">0.0</td><td style = \"text-align: right;\">0.0</td><td style = \"text-align: right;\">0.0</td><td style = \"text-align: right;\">8.0</td><td style = \"text-align: right;\">0.0</td><td style = \"text-align: right;\">0.0</td><td style = \"text-align: right;\">0.0</td><td style = \"text-align: right;\">1.64198</td><td style = \"text-align: right;\">4.5</td><td style = \"text-align: right;\">0.0</td></tr><tr><td class = \"rowNumber\" style = \"font-weight: bold; text-align: right;\">44</td><td style = \"text-align: left;\">2023-12-02T20:00:00</td><td style = \"text-align: right;\">7.75</td><td style = \"text-align: right;\">0.0</td><td style = \"text-align: right;\">0.0</td><td style = \"text-align: right;\">0.0</td><td style = \"text-align: right;\">0.0</td><td style = \"text-align: right;\">0.0</td><td style = \"text-align: right;\">7.75</td><td style = \"text-align: right;\">0.0</td><td style = \"text-align: right;\">0.0</td><td style = \"text-align: right;\">0.0</td><td style = \"text-align: right;\">5.5</td><td style = \"text-align: right;\">1.5</td><td style = \"text-align: right;\">0.0</td><td style = \"text-align: right;\">5.25</td><td style = \"text-align: right;\">0.0</td><td style = \"text-align: right;\">0.0</td><td style = \"text-align: right;\">0.0</td><td style = \"text-align: right;\">0.0</td><td style = \"text-align: right;\">5.25</td><td style = \"text-align: right;\">4.5</td><td style = \"text-align: right;\">4.5</td><td style = \"text-align: right;\">0.0</td><td style = \"text-align: right;\">4.5</td><td style = \"text-align: right;\">0.0</td><td style = \"text-align: right;\">4.5</td><td style = \"text-align: right;\">0.0</td><td style = \"text-align: right;\">5.25</td><td style = \"text-align: right;\">4.5</td><td style = \"text-align: right;\">4.5</td><td style = \"text-align: right;\">0.0</td><td style = \"text-align: right;\">7.75</td><td style = \"text-align: right;\">5.5</td><td style = \"text-align: right;\">0.0</td><td style = \"text-align: right;\">5.25</td><td style = \"text-align: right;\">2.22051</td><td style = \"text-align: right;\">0.0</td><td style = \"text-align: right;\">0.0</td><td style = \"text-align: right;\">6.75</td><td style = \"text-align: right;\">0.0</td><td style = \"text-align: right;\">0.0</td><td style = \"text-align: right;\">4.5</td><td style = \"text-align: right;\">0.0</td><td style = \"text-align: right;\">5.25</td><td style = \"text-align: right;\">0.0</td><td style = \"text-align: right;\">0.0</td><td style = \"text-align: right;\">4.5</td><td style = \"text-align: right;\">0.0</td><td style = \"text-align: right;\">0.0</td><td style = \"text-align: right;\">4.5</td><td style = \"text-align: right;\">7.75</td><td style = \"text-align: right;\">0.0</td><td style = \"text-align: right;\">0.0</td><td style = \"text-align: right;\">0.0</td><td style = \"text-align: right;\">0.0</td><td style = \"text-align: right;\">0.0</td><td style = \"text-align: right;\">0.0</td><td style = \"text-align: right;\">0.0</td><td style = \"text-align: right;\">5.25</td><td style = \"text-align: right;\">4.5</td><td style = \"text-align: right;\">0.0</td><td style = \"text-align: right;\">0.0</td><td style = \"text-align: right;\">0.0</td><td style = \"text-align: right;\">5.25</td><td style = \"text-align: right;\">0.0</td><td style = \"text-align: right;\">0.0</td><td style = \"text-align: right;\">0.0</td><td style = \"text-align: right;\">0.0</td><td style = \"text-align: right;\">0.0</td><td style = \"text-align: right;\">0.0</td><td style = \"text-align: right;\">0.0</td><td style = \"text-align: right;\">0.0</td><td style = \"text-align: right;\">4.5</td><td style = \"text-align: right;\">0.0</td></tr><tr><td class = \"rowNumber\" style = \"font-weight: bold; text-align: right;\">45</td><td style = \"text-align: left;\">2023-12-02T21:00:00</td><td style = \"text-align: right;\">7.75</td><td style = \"text-align: right;\">0.0</td><td style = \"text-align: right;\">0.0</td><td style = \"text-align: right;\">7.0</td><td style = \"text-align: right;\">0.0</td><td style = \"text-align: right;\">0.0</td><td style = \"text-align: right;\">3.75</td><td style = \"text-align: right;\">0.0</td><td style = \"text-align: right;\">5.25</td><td style = \"text-align: right;\">0.0</td><td style = \"text-align: right;\">5.00114</td><td style = \"text-align: right;\">0.0</td><td style = \"text-align: right;\">0.0</td><td style = \"text-align: right;\">5.25</td><td style = \"text-align: right;\">6.75</td><td style = \"text-align: right;\">0.0</td><td style = \"text-align: right;\">0.0</td><td style = \"text-align: right;\">2.0</td><td style = \"text-align: right;\">5.25</td><td style = \"text-align: right;\">4.5</td><td style = \"text-align: right;\">0.0</td><td style = \"text-align: right;\">0.0</td><td style = \"text-align: right;\">4.5</td><td style = \"text-align: right;\">0.0</td><td style = \"text-align: right;\">0.0</td><td style = \"text-align: right;\">0.0</td><td style = \"text-align: right;\">5.25</td><td style = \"text-align: right;\">0.0</td><td style = \"text-align: right;\">4.5</td><td style = \"text-align: right;\">5.25</td><td style = \"text-align: right;\">7.75</td><td style = \"text-align: right;\">0.0</td><td style = \"text-align: right;\">0.0</td><td style = \"text-align: right;\">5.25</td><td style = \"text-align: right;\">0.0</td><td style = \"text-align: right;\">0.0</td><td style = \"text-align: right;\">0.0</td><td style = \"text-align: right;\">6.75</td><td style = \"text-align: right;\">5.25</td><td style = \"text-align: right;\">0.0</td><td style = \"text-align: right;\">0.0</td><td style = \"text-align: right;\">0.0</td><td style = \"text-align: right;\">0.0</td><td style = \"text-align: right;\">0.0</td><td style = \"text-align: right;\">0.0</td><td style = \"text-align: right;\">4.5</td><td style = \"text-align: right;\">0.0</td><td style = \"text-align: right;\">0.0</td><td style = \"text-align: right;\">1.24886</td><td style = \"text-align: right;\">0.0</td><td style = \"text-align: right;\">5.25</td><td style = \"text-align: right;\">0.0</td><td style = \"text-align: right;\">0.0</td><td style = \"text-align: right;\">0.0</td><td style = \"text-align: right;\">9.25</td><td style = \"text-align: right;\">0.0</td><td style = \"text-align: right;\">0.0</td><td style = \"text-align: right;\">5.25</td><td style = \"text-align: right;\">0.0</td><td style = \"text-align: right;\">0.0</td><td style = \"text-align: right;\">0.0</td><td style = \"text-align: right;\">0.0</td><td style = \"text-align: right;\">5.25</td><td style = \"text-align: right;\">0.0</td><td style = \"text-align: right;\">0.0</td><td style = \"text-align: right;\">0.0</td><td style = \"text-align: right;\">7.75</td><td style = \"text-align: right;\">0.0</td><td style = \"text-align: right;\">0.0</td><td style = \"text-align: right;\">0.0</td><td style = \"text-align: right;\">0.0</td><td style = \"text-align: right;\">4.5</td><td style = \"text-align: right;\">0.0</td></tr><tr><td class = \"rowNumber\" style = \"font-weight: bold; text-align: right;\">46</td><td style = \"text-align: left;\">2023-12-02T22:00:00</td><td style = \"text-align: right;\">7.75</td><td style = \"text-align: right;\">0.0</td><td style = \"text-align: right;\">0.0</td><td style = \"text-align: right;\">6.75</td><td style = \"text-align: right;\">0.0</td><td style = \"text-align: right;\">0.0</td><td style = \"text-align: right;\">7.75</td><td style = \"text-align: right;\">0.0</td><td style = \"text-align: right;\">5.25</td><td style = \"text-align: right;\">0.0</td><td style = \"text-align: right;\">0.0</td><td style = \"text-align: right;\">5.5</td><td style = \"text-align: right;\">0.0</td><td style = \"text-align: right;\">5.25</td><td style = \"text-align: right;\">7.0</td><td style = \"text-align: right;\">0.0</td><td style = \"text-align: right;\">0.0</td><td style = \"text-align: right;\">0.0</td><td style = \"text-align: right;\">5.25</td><td style = \"text-align: right;\">4.5</td><td style = \"text-align: right;\">0.0</td><td style = \"text-align: right;\">0.0</td><td style = \"text-align: right;\">4.5</td><td style = \"text-align: right;\">0.0</td><td style = \"text-align: right;\">0.0</td><td style = \"text-align: right;\">0.0</td><td style = \"text-align: right;\">5.25</td><td style = \"text-align: right;\">0.0</td><td style = \"text-align: right;\">0.0</td><td style = \"text-align: right;\">5.25</td><td style = \"text-align: right;\">9.25</td><td style = \"text-align: right;\">0.0</td><td style = \"text-align: right;\">0.0</td><td style = \"text-align: right;\">0.0</td><td style = \"text-align: right;\">0.0</td><td style = \"text-align: right;\">0.0</td><td style = \"text-align: right;\">0.0</td><td style = \"text-align: right;\">0.0</td><td style = \"text-align: right;\">1.5</td><td style = \"text-align: right;\">0.0</td><td style = \"text-align: right;\">0.0</td><td style = \"text-align: right;\">0.0</td><td style = \"text-align: right;\">4.44154</td><td style = \"text-align: right;\">0.0</td><td style = \"text-align: right;\">0.0</td><td style = \"text-align: right;\">4.5</td><td style = \"text-align: right;\">0.0</td><td style = \"text-align: right;\">0.0</td><td style = \"text-align: right;\">4.5</td><td style = \"text-align: right;\">7.75</td><td style = \"text-align: right;\">5.25</td><td style = \"text-align: right;\">0.0</td><td style = \"text-align: right;\">0.0</td><td style = \"text-align: right;\">0.0</td><td style = \"text-align: right;\">5.30846</td><td style = \"text-align: right;\">0.0</td><td style = \"text-align: right;\">0.0</td><td style = \"text-align: right;\">5.25</td><td style = \"text-align: right;\">4.5</td><td style = \"text-align: right;\">5.5</td><td style = \"text-align: right;\">0.0</td><td style = \"text-align: right;\">0.0</td><td style = \"text-align: right;\">0.0</td><td style = \"text-align: right;\">0.0</td><td style = \"text-align: right;\">0.0</td><td style = \"text-align: right;\">0.0</td><td style = \"text-align: right;\">7.75</td><td style = \"text-align: right;\">0.0</td><td style = \"text-align: right;\">0.0</td><td style = \"text-align: right;\">0.0</td><td style = \"text-align: right;\">0.0</td><td style = \"text-align: right;\">4.5</td><td style = \"text-align: right;\">0.0</td></tr><tr><td class = \"rowNumber\" style = \"font-weight: bold; text-align: right;\">47</td><td style = \"text-align: left;\">2023-12-02T23:00:00</td><td style = \"text-align: right;\">7.75</td><td style = \"text-align: right;\">0.0</td><td style = \"text-align: right;\">0.0</td><td style = \"text-align: right;\">4.99526</td><td style = \"text-align: right;\">0.0</td><td style = \"text-align: right;\">0.0</td><td style = \"text-align: right;\">7.75</td><td style = \"text-align: right;\">0.0</td><td style = \"text-align: right;\">5.25</td><td style = \"text-align: right;\">0.0</td><td style = \"text-align: right;\">0.0</td><td style = \"text-align: right;\">0.0</td><td style = \"text-align: right;\">0.0</td><td style = \"text-align: right;\">5.25</td><td style = \"text-align: right;\">6.75</td><td style = \"text-align: right;\">0.0</td><td style = \"text-align: right;\">0.0</td><td style = \"text-align: right;\">0.0</td><td style = \"text-align: right;\">5.25</td><td style = \"text-align: right;\">0.0</td><td style = \"text-align: right;\">4.5</td><td style = \"text-align: right;\">0.0</td><td style = \"text-align: right;\">0.0</td><td style = \"text-align: right;\">7.75</td><td style = \"text-align: right;\">0.0</td><td style = \"text-align: right;\">0.0</td><td style = \"text-align: right;\">5.25</td><td style = \"text-align: right;\">0.0</td><td style = \"text-align: right;\">0.0</td><td style = \"text-align: right;\">5.25</td><td style = \"text-align: right;\">5.25474</td><td style = \"text-align: right;\">5.5</td><td style = \"text-align: right;\">0.0</td><td style = \"text-align: right;\">5.25</td><td style = \"text-align: right;\">0.0</td><td style = \"text-align: right;\">0.0</td><td style = \"text-align: right;\">0.0</td><td style = \"text-align: right;\">6.75</td><td style = \"text-align: right;\">5.25</td><td style = \"text-align: right;\">5.5</td><td style = \"text-align: right;\">0.0</td><td style = \"text-align: right;\">0.0</td><td style = \"text-align: right;\">5.25</td><td style = \"text-align: right;\">0.0</td><td style = \"text-align: right;\">0.0</td><td style = \"text-align: right;\">0.0</td><td style = \"text-align: right;\">0.0</td><td style = \"text-align: right;\">0.0</td><td style = \"text-align: right;\">0.0</td><td style = \"text-align: right;\">8.0</td><td style = \"text-align: right;\">5.25</td><td style = \"text-align: right;\">0.0</td><td style = \"text-align: right;\">0.0</td><td style = \"text-align: right;\">0.0</td><td style = \"text-align: right;\">9.25</td><td style = \"text-align: right;\">0.0</td><td style = \"text-align: right;\">0.0</td><td style = \"text-align: right;\">5.25</td><td style = \"text-align: right;\">0.0</td><td style = \"text-align: right;\">0.0</td><td style = \"text-align: right;\">0.0</td><td style = \"text-align: right;\">0.0</td><td style = \"text-align: right;\">0.0</td><td style = \"text-align: right;\">0.0</td><td style = \"text-align: right;\">0.0</td><td style = \"text-align: right;\">0.0</td><td style = \"text-align: right;\">7.75</td><td style = \"text-align: right;\">0.0</td><td style = \"text-align: right;\">0.0</td><td style = \"text-align: right;\">0.0</td><td style = \"text-align: right;\">0.0</td><td style = \"text-align: right;\">0.0</td><td style = \"text-align: right;\">0.0</td></tr></tbody></table></div>"
      ],
      "text/latex": [
       "\\begin{tabular}{r|ccccccc}\n",
       "\t& datetime & Malicounda\\_4 & C3\\_2 & Gouina & IPP Tobene Power\\_2 & Kahone C1\\_2 & \\\\\n",
       "\t\\hline\n",
       "\t& DateTime & Float64 & Float64 & Float64 & Float64 & Float64 & \\\\\n",
       "\t\\hline\n",
       "\t1 & 2023-12-01T01:00:00 & 7.75 & 0.0 & 0.0 & 6.75 & 0.0 & $\\dots$ \\\\\n",
       "\t2 & 2023-12-01T02:00:00 & 7.75 & 0.0 & 0.0 & 0.0 & 0.0 & $\\dots$ \\\\\n",
       "\t3 & 2023-12-01T03:00:00 & 0.0 & 0.0 & 0.0 & 0.0 & 0.0 & $\\dots$ \\\\\n",
       "\t4 & 2023-12-01T04:00:00 & 7.75 & 0.0 & 0.0 & 0.0 & 0.0 & $\\dots$ \\\\\n",
       "\t5 & 2023-12-01T05:00:00 & 7.75 & 0.0 & 0.0 & 6.75 & 0.0 & $\\dots$ \\\\\n",
       "\t6 & 2023-12-01T06:00:00 & 7.75 & 0.0 & 0.0 & 6.75 & 0.0 & $\\dots$ \\\\\n",
       "\t7 & 2023-12-01T07:00:00 & 7.75 & 0.0 & 0.0 & 6.0 & 0.0 & $\\dots$ \\\\\n",
       "\t8 & 2023-12-01T08:00:00 & 7.75 & 0.0 & 0.0 & 6.75 & 0.0 & $\\dots$ \\\\\n",
       "\t9 & 2023-12-01T09:00:00 & 7.75 & 0.0 & 0.0 & 8.0 & 0.0 & $\\dots$ \\\\\n",
       "\t10 & 2023-12-01T10:00:00 & 0.0 & 0.0 & 0.0 & 6.75 & 0.0 & $\\dots$ \\\\\n",
       "\t11 & 2023-12-01T11:00:00 & 7.75 & 0.0 & 0.0 & 8.0 & 0.0 & $\\dots$ \\\\\n",
       "\t12 & 2023-12-01T12:00:00 & 7.75 & 0.0 & 0.0 & 0.0 & 0.0 & $\\dots$ \\\\\n",
       "\t13 & 2023-12-01T13:00:00 & 7.75 & 0.0 & 0.0 & 8.0 & 0.0 & $\\dots$ \\\\\n",
       "\t14 & 2023-12-01T14:00:00 & 7.75 & 0.0 & 0.0 & 0.0 & 0.0 & $\\dots$ \\\\\n",
       "\t15 & 2023-12-01T15:00:00 & 7.75 & 0.0 & 0.0 & 6.75 & 0.0 & $\\dots$ \\\\\n",
       "\t16 & 2023-12-01T16:00:00 & 7.75 & 0.0 & 0.0 & 6.75 & 0.0 & $\\dots$ \\\\\n",
       "\t17 & 2023-12-01T17:00:00 & 7.75 & 0.0 & 0.0 & 6.75 & 0.0 & $\\dots$ \\\\\n",
       "\t18 & 2023-12-01T18:00:00 & 0.0 & 0.0 & 0.0 & 8.0 & 0.0 & $\\dots$ \\\\\n",
       "\t19 & 2023-12-01T19:00:00 & 0.0 & 0.0 & 0.0 & 0.0 & 0.0 & $\\dots$ \\\\\n",
       "\t20 & 2023-12-01T20:00:00 & 7.75 & 0.0 & 0.0 & 6.75 & 0.0 & $\\dots$ \\\\\n",
       "\t21 & 2023-12-01T21:00:00 & 7.75 & 0.0 & 0.0 & 7.0 & 0.0 & $\\dots$ \\\\\n",
       "\t22 & 2023-12-01T22:00:00 & 0.0 & 0.0 & 0.0 & 5.7899 & 0.0 & $\\dots$ \\\\\n",
       "\t23 & 2023-12-01T23:00:00 & 7.75 & 0.0 & 0.0 & 7.0 & 0.0 & $\\dots$ \\\\\n",
       "\t24 & 2023-12-02T00:00:00 & 2.25 & 0.0 & 0.0 & 5.5 & 0.0 & $\\dots$ \\\\\n",
       "\t25 & 2023-12-02T01:00:00 & 7.75 & 0.0 & 0.0 & 5.25 & 0.0 & $\\dots$ \\\\\n",
       "\t26 & 2023-12-02T02:00:00 & 7.75 & 0.0 & 0.0 & 6.75 & 0.0 & $\\dots$ \\\\\n",
       "\t27 & 2023-12-02T03:00:00 & 7.75 & 0.0 & 0.0 & 8.0 & 0.0 & $\\dots$ \\\\\n",
       "\t28 & 2023-12-02T04:00:00 & 7.75 & 0.0 & 0.0 & 8.0 & 0.0 & $\\dots$ \\\\\n",
       "\t29 & 2023-12-02T05:00:00 & 7.75 & 0.0 & 0.0 & 7.0 & 0.0 & $\\dots$ \\\\\n",
       "\t30 & 2023-12-02T06:00:00 & 7.75 & 0.0 & 0.0 & 7.25 & 0.0 & $\\dots$ \\\\\n",
       "\t$\\dots$ & $\\dots$ & $\\dots$ & $\\dots$ & $\\dots$ & $\\dots$ & $\\dots$ &  \\\\\n",
       "\\end{tabular}\n"
      ],
      "text/plain": [
       "\u001b[1m47×74 DataFrame\u001b[0m\n",
       "\u001b[1m Row \u001b[0m│\u001b[1m datetime            \u001b[0m\u001b[1m Malicounda_4 \u001b[0m\u001b[1m C3_2    \u001b[0m\u001b[1m Gouina  \u001b[0m\u001b[1m IPP Tobene Power_2\u001b[0m ⋯\n",
       "     │\u001b[90m DateTime            \u001b[0m\u001b[90m Float64      \u001b[0m\u001b[90m Float64 \u001b[0m\u001b[90m Float64 \u001b[0m\u001b[90m Float64           \u001b[0m ⋯\n",
       "─────┼──────────────────────────────────────────────────────────────────────────\n",
       "   1 │ 2023-12-01T01:00:00          7.75      0.0      0.0             6.75    ⋯\n",
       "   2 │ 2023-12-01T02:00:00          7.75      0.0      0.0             0.0\n",
       "   3 │ 2023-12-01T03:00:00          0.0       0.0      0.0             0.0\n",
       "   4 │ 2023-12-01T04:00:00          7.75      0.0      0.0             0.0\n",
       "   5 │ 2023-12-01T05:00:00          7.75      0.0      0.0             6.75    ⋯\n",
       "   6 │ 2023-12-01T06:00:00          7.75      0.0      0.0             6.75\n",
       "   7 │ 2023-12-01T07:00:00          7.75      0.0      0.0             6.0\n",
       "   8 │ 2023-12-01T08:00:00          7.75      0.0      0.0             6.75\n",
       "   9 │ 2023-12-01T09:00:00          7.75      0.0      0.0             8.0     ⋯\n",
       "  10 │ 2023-12-01T10:00:00          0.0       0.0      0.0             6.75\n",
       "  11 │ 2023-12-01T11:00:00          7.75      0.0      0.0             8.0\n",
       "  ⋮  │          ⋮                ⋮           ⋮        ⋮             ⋮          ⋱\n",
       "  38 │ 2023-12-02T14:00:00          7.75      0.0      0.0             0.0\n",
       "  39 │ 2023-12-02T15:00:00          7.75      0.0      0.0             0.0     ⋯\n",
       "  40 │ 2023-12-02T16:00:00          7.75      0.0      0.0             0.0\n",
       "  41 │ 2023-12-02T17:00:00          0.0       0.0      0.0             6.75\n",
       "  42 │ 2023-12-02T18:00:00          8.75      0.0      0.0             6.75\n",
       "  43 │ 2023-12-02T19:00:00          7.75      0.0      0.0             0.0     ⋯\n",
       "  44 │ 2023-12-02T20:00:00          7.75      0.0      0.0             0.0\n",
       "  45 │ 2023-12-02T21:00:00          7.75      0.0      0.0             7.0\n",
       "  46 │ 2023-12-02T22:00:00          7.75      0.0      0.0             6.75\n",
       "  47 │ 2023-12-02T23:00:00          7.75      0.0      0.0             4.99526 ⋯\n",
       "\u001b[36m                                                  69 columns and 26 rows omitted\u001b[0m"
      ]
     },
     "execution_count": 69,
     "metadata": {},
     "output_type": "execute_result"
    }
   ],
   "source": [
    "r2_df"
   ]
  },
  {
   "cell_type": "code",
   "execution_count": 70,
   "id": "0c080361-cc66-43f0-85de-5588a823972d",
   "metadata": {},
   "outputs": [
    {
     "data": {
      "text/plain": [
       "100.0"
      ]
     },
     "execution_count": 70,
     "metadata": {},
     "output_type": "execute_result"
    }
   ],
   "source": [
    "sum(r3s_df[1, 2:end])"
   ]
  },
  {
   "cell_type": "code",
   "execution_count": 71,
   "id": "9070ae71-2ed4-4014-a32d-5cdcab9feadd",
   "metadata": {},
   "outputs": [
    {
     "data": {
      "text/html": [
       "<div><div style = \"float: left;\"><span>47×74 DataFrame</span></div><div style = \"float: right;\"><span style = \"font-style: italic;\">22 rows omitted</span></div><div style = \"clear: both;\"></div></div><div class = \"data-frame\" style = \"overflow-x: scroll;\"><table class = \"data-frame\" style = \"margin-bottom: 6px;\"><thead><tr class = \"header\"><th class = \"rowNumber\" style = \"font-weight: bold; text-align: right;\">Row</th><th style = \"text-align: left;\">datetime</th><th style = \"text-align: left;\">Malicounda_4</th><th style = \"text-align: left;\">C3_2</th><th style = \"text-align: left;\">Gouina</th><th style = \"text-align: left;\">IPP Tobene Power_2</th><th style = \"text-align: left;\">Kahone C1_2</th><th style = \"text-align: left;\">BEL-AIR TAG4</th><th style = \"text-align: left;\">Malicounda_7</th><th style = \"text-align: left;\">Cap des Biches C4_1</th><th style = \"text-align: left;\">KARPOWERSHIP_6</th><th style = \"text-align: left;\">Kahone C1_1</th><th style = \"text-align: left;\">IPP Contour Global_2</th><th style = \"text-align: left;\">IPP Contour Global_3</th><th style = \"text-align: left;\">IPP Tobene Power_6</th><th style = \"text-align: left;\">KARPOWERSHIP_7</th><th style = \"text-align: left;\">IPP Tobene Power_3</th><th style = \"text-align: left;\">IPP Tobene Power TAV_2</th><th style = \"text-align: left;\">IPP Kounoune Power_3</th><th style = \"text-align: left;\">Cap des Biches C4_4</th><th style = \"text-align: left;\">KARPOWERSHIP_1</th><th style = \"text-align: left;\">Kahone C7_5</th><th style = \"text-align: left;\">Bel-Air C6_3</th><th style = \"text-align: left;\">Kahone C1_4</th><th style = \"text-align: left;\">Kahone C7_4</th><th style = \"text-align: left;\">Malicounda_5</th><th style = \"text-align: left;\">Bel-Air C6_6</th><th style = \"text-align: left;\">Felou</th><th style = \"text-align: left;\">KARPOWERSHIP_12</th><th style = \"text-align: left;\">Bel-Air C6_1</th><th style = \"text-align: left;\">Kahone C7_3</th><th style = \"text-align: left;\">KARPOWERSHIP_9</th><th style = \"text-align: left;\">Malicounda_6</th><th style = \"text-align: left;\">IPP Contour Global_1</th><th style = \"text-align: left;\">IPP Tobene Power_5</th><th style = \"text-align: left;\">KARPOWERSHIP_3</th><th style = \"text-align: left;\">Bel-Air C6_4</th><th style = \"text-align: left;\">Cap des Biches C4_3</th><th style = \"text-align: left;\">IPP Malicounda Power TAV</th><th style = \"text-align: left;\">IPP Tobene Power_1</th><th style = \"text-align: left;\">KARPOWERSHIP_2</th><th style = \"text-align: left;\">IPP Contour Global_4</th><th style = \"text-align: left;\">Bel-Air C6_2</th><th style = \"text-align: left;\">IPP Kounoune Power_8</th><th style = \"text-align: left;\">KARPOWERSHIP_5</th><th style = \"text-align: left;\">IPP Kounoune Power_9</th><th style = \"text-align: left;\">C3_1</th><th style = \"text-align: left;\">Kahone C7_2</th><th style = \"text-align: left;\">IPP Kounoune Power_1</th><th style = \"text-align: left;\">IPP Kounoune Power_2</th><th style = \"text-align: left;\">Kahone C7_1</th><th style = \"text-align: left;\">Malicounda_1</th><th style = \"text-align: left;\">KARPOWERSHIP_10</th><th style = \"text-align: left;\">SLACK</th><th style = \"text-align: left;\">Kahone C1_3</th><th style = \"text-align: left;\">Manantali</th><th style = \"text-align: left;\">Malicounda_2</th><th style = \"text-align: left;\">Cap des Biches C4_5</th><th style = \"text-align: left;\">Kaleta</th><th style = \"text-align: left;\">KARPOWERSHIP_4</th><th style = \"text-align: left;\">Bel-Air C6_5</th><th style = \"text-align: left;\">IPP Contour Global_5</th><th style = \"text-align: left;\">IPP Kounoune Power_7</th><th style = \"text-align: left;\">IPP Kounoune Power_6</th><th style = \"text-align: left;\">KARPOWERSHIP_11</th><th style = \"text-align: left;\">IPP Kounoune Power_5</th><th style = \"text-align: left;\">Cap des Biches C4_2</th><th style = \"text-align: left;\">IPP Kounoune Power_4</th><th style = \"text-align: left;\">Malicounda_3</th><th style = \"text-align: left;\">Sendou</th><th style = \"text-align: left;\">IPP Tobene Power_4</th><th style = \"text-align: left;\">CDB TAG2</th><th style = \"text-align: left;\">KARPOWERSHIP_8</th><th style = \"text-align: left;\">Kahone C7_6</th><th style = \"text-align: left;\">IPP Contour Global TAV_1</th></tr><tr class = \"subheader headerLastRow\"><th class = \"rowNumber\" style = \"font-weight: bold; text-align: right;\"></th><th title = \"DateTime\" style = \"text-align: left;\">DateTime</th><th title = \"Float64\" style = \"text-align: left;\">Float64</th><th title = \"Float64\" style = \"text-align: left;\">Float64</th><th title = \"Float64\" style = \"text-align: left;\">Float64</th><th title = \"Float64\" style = \"text-align: left;\">Float64</th><th title = \"Float64\" style = \"text-align: left;\">Float64</th><th title = \"Float64\" style = \"text-align: left;\">Float64</th><th title = \"Float64\" style = \"text-align: left;\">Float64</th><th title = \"Float64\" style = \"text-align: left;\">Float64</th><th title = \"Float64\" style = \"text-align: left;\">Float64</th><th title = \"Float64\" style = \"text-align: left;\">Float64</th><th title = \"Float64\" style = \"text-align: left;\">Float64</th><th title = \"Float64\" style = \"text-align: left;\">Float64</th><th title = \"Float64\" style = \"text-align: left;\">Float64</th><th title = \"Float64\" style = \"text-align: left;\">Float64</th><th title = \"Float64\" style = \"text-align: left;\">Float64</th><th title = \"Float64\" style = \"text-align: left;\">Float64</th><th title = \"Float64\" style = \"text-align: left;\">Float64</th><th title = \"Float64\" style = \"text-align: left;\">Float64</th><th title = \"Float64\" style = \"text-align: left;\">Float64</th><th title = \"Float64\" style = \"text-align: left;\">Float64</th><th title = \"Float64\" style = \"text-align: left;\">Float64</th><th title = \"Float64\" style = \"text-align: left;\">Float64</th><th title = \"Float64\" style = \"text-align: left;\">Float64</th><th title = \"Float64\" style = \"text-align: left;\">Float64</th><th title = \"Float64\" style = \"text-align: left;\">Float64</th><th title = \"Float64\" style = \"text-align: left;\">Float64</th><th title = \"Float64\" style = \"text-align: left;\">Float64</th><th title = \"Float64\" style = \"text-align: left;\">Float64</th><th title = \"Float64\" style = \"text-align: left;\">Float64</th><th title = \"Float64\" style = \"text-align: left;\">Float64</th><th title = \"Float64\" style = \"text-align: left;\">Float64</th><th title = \"Float64\" style = \"text-align: left;\">Float64</th><th title = \"Float64\" style = \"text-align: left;\">Float64</th><th title = \"Float64\" style = \"text-align: left;\">Float64</th><th title = \"Float64\" style = \"text-align: left;\">Float64</th><th title = \"Float64\" style = \"text-align: left;\">Float64</th><th title = \"Float64\" style = \"text-align: left;\">Float64</th><th title = \"Float64\" style = \"text-align: left;\">Float64</th><th title = \"Float64\" style = \"text-align: left;\">Float64</th><th title = \"Float64\" style = \"text-align: left;\">Float64</th><th title = \"Float64\" style = \"text-align: left;\">Float64</th><th title = \"Float64\" style = \"text-align: left;\">Float64</th><th title = \"Float64\" style = \"text-align: left;\">Float64</th><th title = \"Float64\" style = \"text-align: left;\">Float64</th><th title = \"Float64\" style = \"text-align: left;\">Float64</th><th title = \"Float64\" style = \"text-align: left;\">Float64</th><th title = \"Float64\" style = \"text-align: left;\">Float64</th><th title = \"Float64\" style = \"text-align: left;\">Float64</th><th title = \"Float64\" style = \"text-align: left;\">Float64</th><th title = \"Float64\" style = \"text-align: left;\">Float64</th><th title = \"Float64\" style = \"text-align: left;\">Float64</th><th title = \"Float64\" style = \"text-align: left;\">Float64</th><th title = \"Float64\" style = \"text-align: left;\">Float64</th><th title = \"Float64\" style = \"text-align: left;\">Float64</th><th title = \"Float64\" style = \"text-align: left;\">Float64</th><th title = \"Float64\" style = \"text-align: left;\">Float64</th><th title = \"Float64\" style = \"text-align: left;\">Float64</th><th title = \"Float64\" style = \"text-align: left;\">Float64</th><th title = \"Float64\" style = \"text-align: left;\">Float64</th><th title = \"Float64\" style = \"text-align: left;\">Float64</th><th title = \"Float64\" style = \"text-align: left;\">Float64</th><th title = \"Float64\" style = \"text-align: left;\">Float64</th><th title = \"Float64\" style = \"text-align: left;\">Float64</th><th title = \"Float64\" style = \"text-align: left;\">Float64</th><th title = \"Float64\" style = \"text-align: left;\">Float64</th><th title = \"Float64\" style = \"text-align: left;\">Float64</th><th title = \"Float64\" style = \"text-align: left;\">Float64</th><th title = \"Float64\" style = \"text-align: left;\">Float64</th><th title = \"Float64\" style = \"text-align: left;\">Float64</th><th title = \"Float64\" style = \"text-align: left;\">Float64</th><th title = \"Float64\" style = \"text-align: left;\">Float64</th><th title = \"Float64\" style = \"text-align: left;\">Float64</th><th title = \"Float64\" style = \"text-align: left;\">Float64</th></tr></thead><tbody><tr><td class = \"rowNumber\" style = \"font-weight: bold; text-align: right;\">1</td><td style = \"text-align: left;\">2023-12-01T01:00:00</td><td style = \"text-align: right;\">0.0</td><td style = \"text-align: right;\">0.0</td><td style = \"text-align: right;\">0.0</td><td style = \"text-align: right;\">0.0</td><td style = \"text-align: right;\">0.0</td><td style = \"text-align: right;\">0.0</td><td style = \"text-align: right;\">0.0</td><td style = \"text-align: right;\">0.0</td><td style = \"text-align: right;\">0.0</td><td style = \"text-align: right;\">0.0</td><td style = \"text-align: right;\">0.0</td><td style = \"text-align: right;\">0.0</td><td style = \"text-align: right;\">0.0</td><td style = \"text-align: right;\">0.0</td><td style = \"text-align: right;\">0.0</td><td style = \"text-align: right;\">0.0</td><td style = \"text-align: right;\">0.0</td><td style = \"text-align: right;\">0.0</td><td style = \"text-align: right;\">0.0</td><td style = \"text-align: right;\">0.0</td><td style = \"text-align: right;\">0.0</td><td style = \"text-align: right;\">0.0</td><td style = \"text-align: right;\">0.0</td><td style = \"text-align: right;\">0.0</td><td style = \"text-align: right;\">0.0</td><td style = \"text-align: right;\">0.0</td><td style = \"text-align: right;\">0.0</td><td style = \"text-align: right;\">0.0</td><td style = \"text-align: right;\">0.0</td><td style = \"text-align: right;\">0.0</td><td style = \"text-align: right;\">0.0</td><td style = \"text-align: right;\">0.0</td><td style = \"text-align: right;\">0.0</td><td style = \"text-align: right;\">0.0</td><td style = \"text-align: right;\">0.0</td><td style = \"text-align: right;\">0.0</td><td style = \"text-align: right;\">0.0</td><td style = \"text-align: right;\">0.0</td><td style = \"text-align: right;\">0.0</td><td style = \"text-align: right;\">0.0</td><td style = \"text-align: right;\">0.0</td><td style = \"text-align: right;\">0.0</td><td style = \"text-align: right;\">0.0</td><td style = \"text-align: right;\">0.0</td><td style = \"text-align: right;\">0.0</td><td style = \"text-align: right;\">0.0</td><td style = \"text-align: right;\">0.0</td><td style = \"text-align: right;\">0.0</td><td style = \"text-align: right;\">0.0</td><td style = \"text-align: right;\">0.0</td><td style = \"text-align: right;\">0.0</td><td style = \"text-align: right;\">0.0</td><td style = \"text-align: right;\">0.0</td><td style = \"text-align: right;\">0.0</td><td style = \"text-align: right;\">0.0</td><td style = \"text-align: right;\">0.0</td><td style = \"text-align: right;\">0.0</td><td style = \"text-align: right;\">0.0</td><td style = \"text-align: right;\">0.0</td><td style = \"text-align: right;\">0.0</td><td style = \"text-align: right;\">0.0</td><td style = \"text-align: right;\">0.0</td><td style = \"text-align: right;\">0.0</td><td style = \"text-align: right;\">0.0</td><td style = \"text-align: right;\">0.0</td><td style = \"text-align: right;\">0.0</td><td style = \"text-align: right;\">0.0</td><td style = \"text-align: right;\">0.0</td><td style = \"text-align: right;\">0.0</td><td style = \"text-align: right;\">0.0</td><td style = \"text-align: right;\">0.0</td><td style = \"text-align: right;\">0.0</td><td style = \"text-align: right;\">0.0</td></tr><tr><td class = \"rowNumber\" style = \"font-weight: bold; text-align: right;\">2</td><td style = \"text-align: left;\">2023-12-01T02:00:00</td><td style = \"text-align: right;\">0.0</td><td style = \"text-align: right;\">0.0</td><td style = \"text-align: right;\">0.0</td><td style = \"text-align: right;\">0.0</td><td style = \"text-align: right;\">0.0</td><td style = \"text-align: right;\">0.0</td><td style = \"text-align: right;\">0.0</td><td style = \"text-align: right;\">0.0</td><td style = \"text-align: right;\">0.0</td><td style = \"text-align: right;\">0.0</td><td style = \"text-align: right;\">0.0</td><td style = \"text-align: right;\">0.0</td><td style = \"text-align: right;\">0.0</td><td style = \"text-align: right;\">0.0</td><td style = \"text-align: right;\">0.0</td><td style = \"text-align: right;\">0.0</td><td style = \"text-align: right;\">0.0</td><td style = \"text-align: right;\">0.0</td><td style = \"text-align: right;\">0.0</td><td style = \"text-align: right;\">0.0</td><td style = \"text-align: right;\">0.0</td><td style = \"text-align: right;\">0.0</td><td style = \"text-align: right;\">0.0</td><td style = \"text-align: right;\">0.0</td><td style = \"text-align: right;\">0.0</td><td style = \"text-align: right;\">0.0</td><td style = \"text-align: right;\">0.0</td><td style = \"text-align: right;\">0.0</td><td style = \"text-align: right;\">0.0</td><td style = \"text-align: right;\">0.0</td><td style = \"text-align: right;\">0.0</td><td style = \"text-align: right;\">0.0</td><td style = \"text-align: right;\">0.0</td><td style = \"text-align: right;\">0.0</td><td style = \"text-align: right;\">0.0</td><td style = \"text-align: right;\">0.0</td><td style = \"text-align: right;\">0.0</td><td style = \"text-align: right;\">0.0</td><td style = \"text-align: right;\">0.0</td><td style = \"text-align: right;\">0.0</td><td style = \"text-align: right;\">0.0</td><td style = \"text-align: right;\">0.0</td><td style = \"text-align: right;\">0.0</td><td style = \"text-align: right;\">0.0</td><td style = \"text-align: right;\">0.0</td><td style = \"text-align: right;\">0.0</td><td style = \"text-align: right;\">0.0</td><td style = \"text-align: right;\">0.0</td><td style = \"text-align: right;\">0.0</td><td style = \"text-align: right;\">0.0</td><td style = \"text-align: right;\">0.0</td><td style = \"text-align: right;\">0.0</td><td style = \"text-align: right;\">0.0</td><td style = \"text-align: right;\">0.0</td><td style = \"text-align: right;\">0.0</td><td style = \"text-align: right;\">0.0</td><td style = \"text-align: right;\">0.0</td><td style = \"text-align: right;\">0.0</td><td style = \"text-align: right;\">0.0</td><td style = \"text-align: right;\">0.0</td><td style = \"text-align: right;\">0.0</td><td style = \"text-align: right;\">0.0</td><td style = \"text-align: right;\">0.0</td><td style = \"text-align: right;\">0.0</td><td style = \"text-align: right;\">0.0</td><td style = \"text-align: right;\">0.0</td><td style = \"text-align: right;\">0.0</td><td style = \"text-align: right;\">0.0</td><td style = \"text-align: right;\">0.0</td><td style = \"text-align: right;\">0.0</td><td style = \"text-align: right;\">0.0</td><td style = \"text-align: right;\">0.0</td><td style = \"text-align: right;\">0.0</td></tr><tr><td class = \"rowNumber\" style = \"font-weight: bold; text-align: right;\">3</td><td style = \"text-align: left;\">2023-12-01T03:00:00</td><td style = \"text-align: right;\">0.0</td><td style = \"text-align: right;\">0.0</td><td style = \"text-align: right;\">0.0</td><td style = \"text-align: right;\">0.0</td><td style = \"text-align: right;\">0.0</td><td style = \"text-align: right;\">0.0</td><td style = \"text-align: right;\">0.0</td><td style = \"text-align: right;\">0.0</td><td style = \"text-align: right;\">0.0</td><td style = \"text-align: right;\">0.0</td><td style = \"text-align: right;\">0.0</td><td style = \"text-align: right;\">0.0</td><td style = \"text-align: right;\">0.0</td><td style = \"text-align: right;\">0.0</td><td style = \"text-align: right;\">0.0</td><td style = \"text-align: right;\">0.0</td><td style = \"text-align: right;\">0.0</td><td style = \"text-align: right;\">0.0</td><td style = \"text-align: right;\">0.0</td><td style = \"text-align: right;\">0.0</td><td style = \"text-align: right;\">0.0</td><td style = \"text-align: right;\">0.0</td><td style = \"text-align: right;\">0.0</td><td style = \"text-align: right;\">0.0</td><td style = \"text-align: right;\">0.0</td><td style = \"text-align: right;\">0.0</td><td style = \"text-align: right;\">0.0</td><td style = \"text-align: right;\">0.0</td><td style = \"text-align: right;\">0.0</td><td style = \"text-align: right;\">0.0</td><td style = \"text-align: right;\">0.0</td><td style = \"text-align: right;\">0.0</td><td style = \"text-align: right;\">0.0</td><td style = \"text-align: right;\">0.0</td><td style = \"text-align: right;\">0.0</td><td style = \"text-align: right;\">0.0</td><td style = \"text-align: right;\">0.0</td><td style = \"text-align: right;\">0.0</td><td style = \"text-align: right;\">0.0</td><td style = \"text-align: right;\">0.0</td><td style = \"text-align: right;\">0.0</td><td style = \"text-align: right;\">0.0</td><td style = \"text-align: right;\">0.0</td><td style = \"text-align: right;\">0.0</td><td style = \"text-align: right;\">0.0</td><td style = \"text-align: right;\">0.0</td><td style = \"text-align: right;\">0.0</td><td style = \"text-align: right;\">0.0</td><td style = \"text-align: right;\">0.0</td><td style = \"text-align: right;\">0.0</td><td style = \"text-align: right;\">0.0</td><td style = \"text-align: right;\">0.0</td><td style = \"text-align: right;\">0.0</td><td style = \"text-align: right;\">0.0</td><td style = \"text-align: right;\">0.0</td><td style = \"text-align: right;\">0.0</td><td style = \"text-align: right;\">0.0</td><td style = \"text-align: right;\">0.0</td><td style = \"text-align: right;\">0.0</td><td style = \"text-align: right;\">0.0</td><td style = \"text-align: right;\">0.0</td><td style = \"text-align: right;\">0.0</td><td style = \"text-align: right;\">0.0</td><td style = \"text-align: right;\">0.0</td><td style = \"text-align: right;\">0.0</td><td style = \"text-align: right;\">0.0</td><td style = \"text-align: right;\">0.0</td><td style = \"text-align: right;\">0.0</td><td style = \"text-align: right;\">0.0</td><td style = \"text-align: right;\">0.0</td><td style = \"text-align: right;\">0.0</td><td style = \"text-align: right;\">0.0</td><td style = \"text-align: right;\">0.0</td></tr><tr><td class = \"rowNumber\" style = \"font-weight: bold; text-align: right;\">4</td><td style = \"text-align: left;\">2023-12-01T04:00:00</td><td style = \"text-align: right;\">0.0</td><td style = \"text-align: right;\">0.0</td><td style = \"text-align: right;\">0.0</td><td style = \"text-align: right;\">0.0</td><td style = \"text-align: right;\">0.0</td><td style = \"text-align: right;\">0.0</td><td style = \"text-align: right;\">0.0</td><td style = \"text-align: right;\">0.0</td><td style = \"text-align: right;\">0.0</td><td style = \"text-align: right;\">0.0</td><td style = \"text-align: right;\">0.0</td><td style = \"text-align: right;\">0.0</td><td style = \"text-align: right;\">0.0</td><td style = \"text-align: right;\">0.0</td><td style = \"text-align: right;\">0.0</td><td style = \"text-align: right;\">0.0</td><td style = \"text-align: right;\">0.0</td><td style = \"text-align: right;\">0.0</td><td style = \"text-align: right;\">0.0</td><td style = \"text-align: right;\">0.0</td><td style = \"text-align: right;\">0.0</td><td style = \"text-align: right;\">0.0</td><td style = \"text-align: right;\">0.0</td><td style = \"text-align: right;\">0.0</td><td style = \"text-align: right;\">0.0</td><td style = \"text-align: right;\">0.0</td><td style = \"text-align: right;\">0.0</td><td style = \"text-align: right;\">0.0</td><td style = \"text-align: right;\">0.0</td><td style = \"text-align: right;\">0.0</td><td style = \"text-align: right;\">0.0</td><td style = \"text-align: right;\">0.0</td><td style = \"text-align: right;\">0.0</td><td style = \"text-align: right;\">0.0</td><td style = \"text-align: right;\">0.0</td><td style = \"text-align: right;\">0.0</td><td style = \"text-align: right;\">0.0</td><td style = \"text-align: right;\">0.0</td><td style = \"text-align: right;\">0.0</td><td style = \"text-align: right;\">0.0</td><td style = \"text-align: right;\">0.0</td><td style = \"text-align: right;\">0.0</td><td style = \"text-align: right;\">0.0</td><td style = \"text-align: right;\">0.0</td><td style = \"text-align: right;\">0.0</td><td style = \"text-align: right;\">0.0</td><td style = \"text-align: right;\">0.0</td><td style = \"text-align: right;\">0.0</td><td style = \"text-align: right;\">0.0</td><td style = \"text-align: right;\">0.0</td><td style = \"text-align: right;\">0.0</td><td style = \"text-align: right;\">0.0</td><td style = \"text-align: right;\">0.0</td><td style = \"text-align: right;\">0.0</td><td style = \"text-align: right;\">0.0</td><td style = \"text-align: right;\">0.0</td><td style = \"text-align: right;\">0.0</td><td style = \"text-align: right;\">0.0</td><td style = \"text-align: right;\">0.0</td><td style = \"text-align: right;\">0.0</td><td style = \"text-align: right;\">0.0</td><td style = \"text-align: right;\">0.0</td><td style = \"text-align: right;\">0.0</td><td style = \"text-align: right;\">0.0</td><td style = \"text-align: right;\">0.0</td><td style = \"text-align: right;\">0.0</td><td style = \"text-align: right;\">0.0</td><td style = \"text-align: right;\">0.0</td><td style = \"text-align: right;\">0.0</td><td style = \"text-align: right;\">0.0</td><td style = \"text-align: right;\">0.0</td><td style = \"text-align: right;\">0.0</td><td style = \"text-align: right;\">0.0</td></tr><tr><td class = \"rowNumber\" style = \"font-weight: bold; text-align: right;\">5</td><td style = \"text-align: left;\">2023-12-01T05:00:00</td><td style = \"text-align: right;\">0.0</td><td style = \"text-align: right;\">0.0</td><td style = \"text-align: right;\">0.0</td><td style = \"text-align: right;\">0.0</td><td style = \"text-align: right;\">0.0</td><td style = \"text-align: right;\">0.0</td><td style = \"text-align: right;\">0.0</td><td style = \"text-align: right;\">0.0</td><td style = \"text-align: right;\">0.0</td><td style = \"text-align: right;\">0.0</td><td style = \"text-align: right;\">0.0</td><td style = \"text-align: right;\">0.0</td><td style = \"text-align: right;\">0.0</td><td style = \"text-align: right;\">0.0</td><td style = \"text-align: right;\">0.0</td><td style = \"text-align: right;\">0.0</td><td style = \"text-align: right;\">0.0</td><td style = \"text-align: right;\">0.0</td><td style = \"text-align: right;\">0.0</td><td style = \"text-align: right;\">0.0</td><td style = \"text-align: right;\">0.0</td><td style = \"text-align: right;\">0.0</td><td style = \"text-align: right;\">0.0</td><td style = \"text-align: right;\">0.0</td><td style = \"text-align: right;\">0.0</td><td style = \"text-align: right;\">0.0</td><td style = \"text-align: right;\">0.0</td><td style = \"text-align: right;\">0.0</td><td style = \"text-align: right;\">0.0</td><td style = \"text-align: right;\">0.0</td><td style = \"text-align: right;\">0.0</td><td style = \"text-align: right;\">0.0</td><td style = \"text-align: right;\">0.0</td><td style = \"text-align: right;\">0.0</td><td style = \"text-align: right;\">0.0</td><td style = \"text-align: right;\">0.0</td><td style = \"text-align: right;\">0.0</td><td style = \"text-align: right;\">0.0</td><td style = \"text-align: right;\">0.0</td><td style = \"text-align: right;\">0.0</td><td style = \"text-align: right;\">0.0</td><td style = \"text-align: right;\">0.0</td><td style = \"text-align: right;\">0.0</td><td style = \"text-align: right;\">0.0</td><td style = \"text-align: right;\">0.0</td><td style = \"text-align: right;\">0.0</td><td style = \"text-align: right;\">0.0</td><td style = \"text-align: right;\">0.0</td><td style = \"text-align: right;\">0.0</td><td style = \"text-align: right;\">0.0</td><td style = \"text-align: right;\">0.0</td><td style = \"text-align: right;\">0.0</td><td style = \"text-align: right;\">0.0</td><td style = \"text-align: right;\">0.0</td><td style = \"text-align: right;\">0.0</td><td style = \"text-align: right;\">0.0</td><td style = \"text-align: right;\">0.0</td><td style = \"text-align: right;\">0.0</td><td style = \"text-align: right;\">0.0</td><td style = \"text-align: right;\">0.0</td><td style = \"text-align: right;\">0.0</td><td style = \"text-align: right;\">0.0</td><td style = \"text-align: right;\">0.0</td><td style = \"text-align: right;\">0.0</td><td style = \"text-align: right;\">0.0</td><td style = \"text-align: right;\">0.0</td><td style = \"text-align: right;\">0.0</td><td style = \"text-align: right;\">0.0</td><td style = \"text-align: right;\">0.0</td><td style = \"text-align: right;\">0.0</td><td style = \"text-align: right;\">0.0</td><td style = \"text-align: right;\">0.0</td><td style = \"text-align: right;\">0.0</td></tr><tr><td class = \"rowNumber\" style = \"font-weight: bold; text-align: right;\">6</td><td style = \"text-align: left;\">2023-12-01T06:00:00</td><td style = \"text-align: right;\">0.0</td><td style = \"text-align: right;\">0.0</td><td style = \"text-align: right;\">0.0</td><td style = \"text-align: right;\">0.0</td><td style = \"text-align: right;\">0.0</td><td style = \"text-align: right;\">0.0</td><td style = \"text-align: right;\">0.0</td><td style = \"text-align: right;\">0.0</td><td style = \"text-align: right;\">0.0</td><td style = \"text-align: right;\">0.0</td><td style = \"text-align: right;\">0.0</td><td style = \"text-align: right;\">0.0</td><td style = \"text-align: right;\">0.0</td><td style = \"text-align: right;\">0.0</td><td style = \"text-align: right;\">0.0</td><td style = \"text-align: right;\">0.0</td><td style = \"text-align: right;\">0.0</td><td style = \"text-align: right;\">0.0</td><td style = \"text-align: right;\">0.0</td><td style = \"text-align: right;\">0.0</td><td style = \"text-align: right;\">0.0</td><td style = \"text-align: right;\">0.0</td><td style = \"text-align: right;\">0.0</td><td style = \"text-align: right;\">0.0</td><td style = \"text-align: right;\">0.0</td><td style = \"text-align: right;\">0.0</td><td style = \"text-align: right;\">0.0</td><td style = \"text-align: right;\">0.0</td><td style = \"text-align: right;\">0.0</td><td style = \"text-align: right;\">0.0</td><td style = \"text-align: right;\">0.0</td><td style = \"text-align: right;\">0.0</td><td style = \"text-align: right;\">0.0</td><td style = \"text-align: right;\">0.0</td><td style = \"text-align: right;\">0.0</td><td style = \"text-align: right;\">0.0</td><td style = \"text-align: right;\">0.0</td><td style = \"text-align: right;\">0.0</td><td style = \"text-align: right;\">0.0</td><td style = \"text-align: right;\">0.0</td><td style = \"text-align: right;\">0.0</td><td style = \"text-align: right;\">0.0</td><td style = \"text-align: right;\">0.0</td><td style = \"text-align: right;\">0.0</td><td style = \"text-align: right;\">0.0</td><td style = \"text-align: right;\">0.0</td><td style = \"text-align: right;\">0.0</td><td style = \"text-align: right;\">0.0</td><td style = \"text-align: right;\">0.0</td><td style = \"text-align: right;\">0.0</td><td style = \"text-align: right;\">0.0</td><td style = \"text-align: right;\">0.0</td><td style = \"text-align: right;\">0.0</td><td style = \"text-align: right;\">0.0</td><td style = \"text-align: right;\">0.0</td><td style = \"text-align: right;\">0.0</td><td style = \"text-align: right;\">0.0</td><td style = \"text-align: right;\">0.0</td><td style = \"text-align: right;\">0.0</td><td style = \"text-align: right;\">0.0</td><td style = \"text-align: right;\">0.0</td><td style = \"text-align: right;\">0.0</td><td style = \"text-align: right;\">0.0</td><td style = \"text-align: right;\">0.0</td><td style = \"text-align: right;\">0.0</td><td style = \"text-align: right;\">0.0</td><td style = \"text-align: right;\">0.0</td><td style = \"text-align: right;\">0.0</td><td style = \"text-align: right;\">0.0</td><td style = \"text-align: right;\">0.0</td><td style = \"text-align: right;\">0.0</td><td style = \"text-align: right;\">0.0</td><td style = \"text-align: right;\">0.0</td></tr><tr><td class = \"rowNumber\" style = \"font-weight: bold; text-align: right;\">7</td><td style = \"text-align: left;\">2023-12-01T07:00:00</td><td style = \"text-align: right;\">0.0</td><td style = \"text-align: right;\">0.0</td><td style = \"text-align: right;\">0.0</td><td style = \"text-align: right;\">0.0</td><td style = \"text-align: right;\">0.0</td><td style = \"text-align: right;\">0.0</td><td style = \"text-align: right;\">0.0</td><td style = \"text-align: right;\">0.0</td><td style = \"text-align: right;\">0.0</td><td style = \"text-align: right;\">0.0</td><td style = \"text-align: right;\">0.0</td><td style = \"text-align: right;\">0.0</td><td style = \"text-align: right;\">0.0</td><td style = \"text-align: right;\">0.0</td><td style = \"text-align: right;\">0.0</td><td style = \"text-align: right;\">0.0</td><td style = \"text-align: right;\">0.0</td><td style = \"text-align: right;\">0.0</td><td style = \"text-align: right;\">0.0</td><td style = \"text-align: right;\">0.0</td><td style = \"text-align: right;\">0.0</td><td style = \"text-align: right;\">0.0</td><td style = \"text-align: right;\">0.0</td><td style = \"text-align: right;\">0.0</td><td style = \"text-align: right;\">0.0</td><td style = \"text-align: right;\">0.0</td><td style = \"text-align: right;\">0.0</td><td style = \"text-align: right;\">0.0</td><td style = \"text-align: right;\">0.0</td><td style = \"text-align: right;\">0.0</td><td style = \"text-align: right;\">0.0</td><td style = \"text-align: right;\">0.0</td><td style = \"text-align: right;\">0.0</td><td style = \"text-align: right;\">0.0</td><td style = \"text-align: right;\">0.0</td><td style = \"text-align: right;\">0.0</td><td style = \"text-align: right;\">0.0</td><td style = \"text-align: right;\">0.0</td><td style = \"text-align: right;\">0.0</td><td style = \"text-align: right;\">0.0</td><td style = \"text-align: right;\">0.0</td><td style = \"text-align: right;\">0.0</td><td style = \"text-align: right;\">0.0</td><td style = \"text-align: right;\">0.0</td><td style = \"text-align: right;\">0.0</td><td style = \"text-align: right;\">0.0</td><td style = \"text-align: right;\">0.0</td><td style = \"text-align: right;\">0.0</td><td style = \"text-align: right;\">0.0</td><td style = \"text-align: right;\">0.0</td><td style = \"text-align: right;\">0.0</td><td style = \"text-align: right;\">0.0</td><td style = \"text-align: right;\">0.0</td><td style = \"text-align: right;\">0.0</td><td style = \"text-align: right;\">0.0</td><td style = \"text-align: right;\">0.0</td><td style = \"text-align: right;\">0.0</td><td style = \"text-align: right;\">0.0</td><td style = \"text-align: right;\">0.0</td><td style = \"text-align: right;\">0.0</td><td style = \"text-align: right;\">0.0</td><td style = \"text-align: right;\">0.0</td><td style = \"text-align: right;\">0.0</td><td style = \"text-align: right;\">0.0</td><td style = \"text-align: right;\">0.0</td><td style = \"text-align: right;\">0.0</td><td style = \"text-align: right;\">0.0</td><td style = \"text-align: right;\">0.0</td><td style = \"text-align: right;\">0.0</td><td style = \"text-align: right;\">0.0</td><td style = \"text-align: right;\">0.0</td><td style = \"text-align: right;\">0.0</td><td style = \"text-align: right;\">0.0</td></tr><tr><td class = \"rowNumber\" style = \"font-weight: bold; text-align: right;\">8</td><td style = \"text-align: left;\">2023-12-01T08:00:00</td><td style = \"text-align: right;\">0.0</td><td style = \"text-align: right;\">0.0</td><td style = \"text-align: right;\">0.0</td><td style = \"text-align: right;\">0.0</td><td style = \"text-align: right;\">0.0</td><td style = \"text-align: right;\">0.0</td><td style = \"text-align: right;\">0.0</td><td style = \"text-align: right;\">0.0</td><td style = \"text-align: right;\">0.0</td><td style = \"text-align: right;\">0.0</td><td style = \"text-align: right;\">0.0</td><td style = \"text-align: right;\">0.0</td><td style = \"text-align: right;\">0.0</td><td style = \"text-align: right;\">0.0</td><td style = \"text-align: right;\">0.0</td><td style = \"text-align: right;\">0.0</td><td style = \"text-align: right;\">0.0</td><td style = \"text-align: right;\">0.0</td><td style = \"text-align: right;\">0.0</td><td style = \"text-align: right;\">0.0</td><td style = \"text-align: right;\">0.0</td><td style = \"text-align: right;\">0.0</td><td style = \"text-align: right;\">0.0</td><td style = \"text-align: right;\">0.0</td><td style = \"text-align: right;\">0.0</td><td style = \"text-align: right;\">0.0</td><td style = \"text-align: right;\">0.0</td><td style = \"text-align: right;\">0.0</td><td style = \"text-align: right;\">0.0</td><td style = \"text-align: right;\">0.0</td><td style = \"text-align: right;\">0.0</td><td style = \"text-align: right;\">0.0</td><td style = \"text-align: right;\">0.0</td><td style = \"text-align: right;\">0.0</td><td style = \"text-align: right;\">0.0</td><td style = \"text-align: right;\">0.0</td><td style = \"text-align: right;\">0.0</td><td style = \"text-align: right;\">0.0</td><td style = \"text-align: right;\">0.0</td><td style = \"text-align: right;\">0.0</td><td style = \"text-align: right;\">0.0</td><td style = \"text-align: right;\">0.0</td><td style = \"text-align: right;\">0.0</td><td style = \"text-align: right;\">0.0</td><td style = \"text-align: right;\">0.0</td><td style = \"text-align: right;\">0.0</td><td style = \"text-align: right;\">0.0</td><td style = \"text-align: right;\">0.0</td><td style = \"text-align: right;\">0.0</td><td style = \"text-align: right;\">0.0</td><td style = \"text-align: right;\">0.0</td><td style = \"text-align: right;\">0.0</td><td style = \"text-align: right;\">0.0</td><td style = \"text-align: right;\">0.0</td><td style = \"text-align: right;\">0.0</td><td style = \"text-align: right;\">0.0</td><td style = \"text-align: right;\">0.0</td><td style = \"text-align: right;\">0.0</td><td style = \"text-align: right;\">0.0</td><td style = \"text-align: right;\">0.0</td><td style = \"text-align: right;\">0.0</td><td style = \"text-align: right;\">0.0</td><td style = \"text-align: right;\">0.0</td><td style = \"text-align: right;\">0.0</td><td style = \"text-align: right;\">0.0</td><td style = \"text-align: right;\">0.0</td><td style = \"text-align: right;\">0.0</td><td style = \"text-align: right;\">0.0</td><td style = \"text-align: right;\">0.0</td><td style = \"text-align: right;\">0.0</td><td style = \"text-align: right;\">0.0</td><td style = \"text-align: right;\">0.0</td><td style = \"text-align: right;\">0.0</td></tr><tr><td class = \"rowNumber\" style = \"font-weight: bold; text-align: right;\">9</td><td style = \"text-align: left;\">2023-12-01T09:00:00</td><td style = \"text-align: right;\">0.0</td><td style = \"text-align: right;\">0.0</td><td style = \"text-align: right;\">0.0</td><td style = \"text-align: right;\">0.0</td><td style = \"text-align: right;\">0.0</td><td style = \"text-align: right;\">0.0</td><td style = \"text-align: right;\">0.0</td><td style = \"text-align: right;\">0.0</td><td style = \"text-align: right;\">0.0</td><td style = \"text-align: right;\">0.0</td><td style = \"text-align: right;\">0.0</td><td style = \"text-align: right;\">0.0</td><td style = \"text-align: right;\">0.0</td><td style = \"text-align: right;\">0.0</td><td style = \"text-align: right;\">0.0</td><td style = \"text-align: right;\">0.0</td><td style = \"text-align: right;\">0.0</td><td style = \"text-align: right;\">0.0</td><td style = \"text-align: right;\">0.0</td><td style = \"text-align: right;\">0.0</td><td style = \"text-align: right;\">0.0</td><td style = \"text-align: right;\">0.0</td><td style = \"text-align: right;\">0.0</td><td style = \"text-align: right;\">0.0</td><td style = \"text-align: right;\">0.0</td><td style = \"text-align: right;\">0.0</td><td style = \"text-align: right;\">0.0</td><td style = \"text-align: right;\">0.0</td><td style = \"text-align: right;\">0.0</td><td style = \"text-align: right;\">0.0</td><td style = \"text-align: right;\">0.0</td><td style = \"text-align: right;\">0.0</td><td style = \"text-align: right;\">0.0</td><td style = \"text-align: right;\">0.0</td><td style = \"text-align: right;\">0.0</td><td style = \"text-align: right;\">0.0</td><td style = \"text-align: right;\">0.0</td><td style = \"text-align: right;\">0.0</td><td style = \"text-align: right;\">0.0</td><td style = \"text-align: right;\">0.0</td><td style = \"text-align: right;\">0.0</td><td style = \"text-align: right;\">0.0</td><td style = \"text-align: right;\">0.0</td><td style = \"text-align: right;\">0.0</td><td style = \"text-align: right;\">0.0</td><td style = \"text-align: right;\">0.0</td><td style = \"text-align: right;\">0.0</td><td style = \"text-align: right;\">0.0</td><td style = \"text-align: right;\">0.0</td><td style = \"text-align: right;\">0.0</td><td style = \"text-align: right;\">0.0</td><td style = \"text-align: right;\">0.0</td><td style = \"text-align: right;\">0.0</td><td style = \"text-align: right;\">0.0</td><td style = \"text-align: right;\">0.0</td><td style = \"text-align: right;\">0.0</td><td style = \"text-align: right;\">0.0</td><td style = \"text-align: right;\">0.0</td><td style = \"text-align: right;\">0.0</td><td style = \"text-align: right;\">0.0</td><td style = \"text-align: right;\">0.0</td><td style = \"text-align: right;\">0.0</td><td style = \"text-align: right;\">0.0</td><td style = \"text-align: right;\">0.0</td><td style = \"text-align: right;\">0.0</td><td style = \"text-align: right;\">0.0</td><td style = \"text-align: right;\">0.0</td><td style = \"text-align: right;\">0.0</td><td style = \"text-align: right;\">0.0</td><td style = \"text-align: right;\">0.0</td><td style = \"text-align: right;\">0.0</td><td style = \"text-align: right;\">0.0</td><td style = \"text-align: right;\">0.0</td></tr><tr><td class = \"rowNumber\" style = \"font-weight: bold; text-align: right;\">10</td><td style = \"text-align: left;\">2023-12-01T10:00:00</td><td style = \"text-align: right;\">0.0</td><td style = \"text-align: right;\">0.0</td><td style = \"text-align: right;\">0.0</td><td style = \"text-align: right;\">0.0</td><td style = \"text-align: right;\">0.0</td><td style = \"text-align: right;\">0.0</td><td style = \"text-align: right;\">0.0</td><td style = \"text-align: right;\">0.0</td><td style = \"text-align: right;\">0.0</td><td style = \"text-align: right;\">0.0</td><td style = \"text-align: right;\">0.0</td><td style = \"text-align: right;\">0.0</td><td style = \"text-align: right;\">0.0</td><td style = \"text-align: right;\">0.0</td><td style = \"text-align: right;\">0.0</td><td style = \"text-align: right;\">0.0</td><td style = \"text-align: right;\">0.0</td><td style = \"text-align: right;\">0.0</td><td style = \"text-align: right;\">0.0</td><td style = \"text-align: right;\">0.0</td><td style = \"text-align: right;\">0.0</td><td style = \"text-align: right;\">0.0</td><td style = \"text-align: right;\">0.0</td><td style = \"text-align: right;\">0.0</td><td style = \"text-align: right;\">0.0</td><td style = \"text-align: right;\">0.0</td><td style = \"text-align: right;\">0.0</td><td style = \"text-align: right;\">0.0</td><td style = \"text-align: right;\">0.0</td><td style = \"text-align: right;\">0.0</td><td style = \"text-align: right;\">0.0</td><td style = \"text-align: right;\">0.0</td><td style = \"text-align: right;\">0.0</td><td style = \"text-align: right;\">0.0</td><td style = \"text-align: right;\">0.0</td><td style = \"text-align: right;\">0.0</td><td style = \"text-align: right;\">0.0</td><td style = \"text-align: right;\">0.0</td><td style = \"text-align: right;\">0.0</td><td style = \"text-align: right;\">0.0</td><td style = \"text-align: right;\">0.0</td><td style = \"text-align: right;\">0.0</td><td style = \"text-align: right;\">0.0</td><td style = \"text-align: right;\">0.0</td><td style = \"text-align: right;\">0.0</td><td style = \"text-align: right;\">0.0</td><td style = \"text-align: right;\">0.0</td><td style = \"text-align: right;\">0.0</td><td style = \"text-align: right;\">0.0</td><td style = \"text-align: right;\">0.0</td><td style = \"text-align: right;\">0.0</td><td style = \"text-align: right;\">0.0</td><td style = \"text-align: right;\">0.0</td><td style = \"text-align: right;\">0.0</td><td style = \"text-align: right;\">0.0</td><td style = \"text-align: right;\">0.0</td><td style = \"text-align: right;\">0.0</td><td style = \"text-align: right;\">0.0</td><td style = \"text-align: right;\">0.0</td><td style = \"text-align: right;\">0.0</td><td style = \"text-align: right;\">0.0</td><td style = \"text-align: right;\">0.0</td><td style = \"text-align: right;\">0.0</td><td style = \"text-align: right;\">0.0</td><td style = \"text-align: right;\">0.0</td><td style = \"text-align: right;\">0.0</td><td style = \"text-align: right;\">0.0</td><td style = \"text-align: right;\">0.0</td><td style = \"text-align: right;\">0.0</td><td style = \"text-align: right;\">0.0</td><td style = \"text-align: right;\">0.0</td><td style = \"text-align: right;\">0.0</td><td style = \"text-align: right;\">0.0</td></tr><tr><td class = \"rowNumber\" style = \"font-weight: bold; text-align: right;\">11</td><td style = \"text-align: left;\">2023-12-01T11:00:00</td><td style = \"text-align: right;\">0.0</td><td style = \"text-align: right;\">0.0</td><td style = \"text-align: right;\">0.0</td><td style = \"text-align: right;\">0.0</td><td style = \"text-align: right;\">0.0</td><td style = \"text-align: right;\">0.0</td><td style = \"text-align: right;\">0.0</td><td style = \"text-align: right;\">0.0</td><td style = \"text-align: right;\">0.0</td><td style = \"text-align: right;\">0.0</td><td style = \"text-align: right;\">0.0</td><td style = \"text-align: right;\">0.0</td><td style = \"text-align: right;\">0.0</td><td style = \"text-align: right;\">0.0</td><td style = \"text-align: right;\">0.0</td><td style = \"text-align: right;\">0.0</td><td style = \"text-align: right;\">0.0</td><td style = \"text-align: right;\">0.0</td><td style = \"text-align: right;\">0.0</td><td style = \"text-align: right;\">0.0</td><td style = \"text-align: right;\">0.0</td><td style = \"text-align: right;\">0.0</td><td style = \"text-align: right;\">0.0</td><td style = \"text-align: right;\">0.0</td><td style = \"text-align: right;\">0.0</td><td style = \"text-align: right;\">0.0</td><td style = \"text-align: right;\">0.0</td><td style = \"text-align: right;\">0.0</td><td style = \"text-align: right;\">0.0</td><td style = \"text-align: right;\">0.0</td><td style = \"text-align: right;\">0.0</td><td style = \"text-align: right;\">0.0</td><td style = \"text-align: right;\">0.0</td><td style = \"text-align: right;\">0.0</td><td style = \"text-align: right;\">0.0</td><td style = \"text-align: right;\">0.0</td><td style = \"text-align: right;\">0.0</td><td style = \"text-align: right;\">0.0</td><td style = \"text-align: right;\">0.0</td><td style = \"text-align: right;\">0.0</td><td style = \"text-align: right;\">0.0</td><td style = \"text-align: right;\">0.0</td><td style = \"text-align: right;\">0.0</td><td style = \"text-align: right;\">0.0</td><td style = \"text-align: right;\">0.0</td><td style = \"text-align: right;\">0.0</td><td style = \"text-align: right;\">0.0</td><td style = \"text-align: right;\">0.0</td><td style = \"text-align: right;\">0.0</td><td style = \"text-align: right;\">0.0</td><td style = \"text-align: right;\">0.0</td><td style = \"text-align: right;\">0.0</td><td style = \"text-align: right;\">0.0</td><td style = \"text-align: right;\">0.0</td><td style = \"text-align: right;\">0.0</td><td style = \"text-align: right;\">0.0</td><td style = \"text-align: right;\">0.0</td><td style = \"text-align: right;\">0.0</td><td style = \"text-align: right;\">0.0</td><td style = \"text-align: right;\">0.0</td><td style = \"text-align: right;\">0.0</td><td style = \"text-align: right;\">0.0</td><td style = \"text-align: right;\">0.0</td><td style = \"text-align: right;\">0.0</td><td style = \"text-align: right;\">0.0</td><td style = \"text-align: right;\">0.0</td><td style = \"text-align: right;\">0.0</td><td style = \"text-align: right;\">0.0</td><td style = \"text-align: right;\">0.0</td><td style = \"text-align: right;\">0.0</td><td style = \"text-align: right;\">0.0</td><td style = \"text-align: right;\">0.0</td><td style = \"text-align: right;\">0.0</td></tr><tr><td class = \"rowNumber\" style = \"font-weight: bold; text-align: right;\">12</td><td style = \"text-align: left;\">2023-12-01T12:00:00</td><td style = \"text-align: right;\">0.0</td><td style = \"text-align: right;\">0.0</td><td style = \"text-align: right;\">0.0</td><td style = \"text-align: right;\">0.0</td><td style = \"text-align: right;\">0.0</td><td style = \"text-align: right;\">0.0</td><td style = \"text-align: right;\">0.0</td><td style = \"text-align: right;\">0.0</td><td style = \"text-align: right;\">0.0</td><td style = \"text-align: right;\">0.0</td><td style = \"text-align: right;\">0.0</td><td style = \"text-align: right;\">0.0</td><td style = \"text-align: right;\">0.0</td><td style = \"text-align: right;\">0.0</td><td style = \"text-align: right;\">0.0</td><td style = \"text-align: right;\">0.0</td><td style = \"text-align: right;\">0.0</td><td style = \"text-align: right;\">0.0</td><td style = \"text-align: right;\">0.0</td><td style = \"text-align: right;\">0.0</td><td style = \"text-align: right;\">0.0</td><td style = \"text-align: right;\">0.0</td><td style = \"text-align: right;\">0.0</td><td style = \"text-align: right;\">0.0</td><td style = \"text-align: right;\">0.0</td><td style = \"text-align: right;\">0.0</td><td style = \"text-align: right;\">0.0</td><td style = \"text-align: right;\">0.0</td><td style = \"text-align: right;\">0.0</td><td style = \"text-align: right;\">0.0</td><td style = \"text-align: right;\">0.0</td><td style = \"text-align: right;\">0.0</td><td style = \"text-align: right;\">0.0</td><td style = \"text-align: right;\">0.0</td><td style = \"text-align: right;\">0.0</td><td style = \"text-align: right;\">0.0</td><td style = \"text-align: right;\">0.0</td><td style = \"text-align: right;\">0.0</td><td style = \"text-align: right;\">0.0</td><td style = \"text-align: right;\">0.0</td><td style = \"text-align: right;\">0.0</td><td style = \"text-align: right;\">0.0</td><td style = \"text-align: right;\">0.0</td><td style = \"text-align: right;\">0.0</td><td style = \"text-align: right;\">0.0</td><td style = \"text-align: right;\">0.0</td><td style = \"text-align: right;\">0.0</td><td style = \"text-align: right;\">0.0</td><td style = \"text-align: right;\">0.0</td><td style = \"text-align: right;\">0.0</td><td style = \"text-align: right;\">0.0</td><td style = \"text-align: right;\">0.0</td><td style = \"text-align: right;\">0.0</td><td style = \"text-align: right;\">0.0</td><td style = \"text-align: right;\">0.0</td><td style = \"text-align: right;\">0.0</td><td style = \"text-align: right;\">0.0</td><td style = \"text-align: right;\">0.0</td><td style = \"text-align: right;\">0.0</td><td style = \"text-align: right;\">0.0</td><td style = \"text-align: right;\">0.0</td><td style = \"text-align: right;\">0.0</td><td style = \"text-align: right;\">0.0</td><td style = \"text-align: right;\">0.0</td><td style = \"text-align: right;\">0.0</td><td style = \"text-align: right;\">0.0</td><td style = \"text-align: right;\">0.0</td><td style = \"text-align: right;\">0.0</td><td style = \"text-align: right;\">0.0</td><td style = \"text-align: right;\">0.0</td><td style = \"text-align: right;\">0.0</td><td style = \"text-align: right;\">0.0</td><td style = \"text-align: right;\">0.0</td></tr><tr><td class = \"rowNumber\" style = \"font-weight: bold; text-align: right;\">13</td><td style = \"text-align: left;\">2023-12-01T13:00:00</td><td style = \"text-align: right;\">0.0</td><td style = \"text-align: right;\">0.0</td><td style = \"text-align: right;\">0.0</td><td style = \"text-align: right;\">0.0</td><td style = \"text-align: right;\">0.0</td><td style = \"text-align: right;\">0.0</td><td style = \"text-align: right;\">0.0</td><td style = \"text-align: right;\">0.0</td><td style = \"text-align: right;\">0.0</td><td style = \"text-align: right;\">0.0</td><td style = \"text-align: right;\">0.0</td><td style = \"text-align: right;\">0.0</td><td style = \"text-align: right;\">0.0</td><td style = \"text-align: right;\">0.0</td><td style = \"text-align: right;\">0.0</td><td style = \"text-align: right;\">0.0</td><td style = \"text-align: right;\">0.0</td><td style = \"text-align: right;\">0.0</td><td style = \"text-align: right;\">0.0</td><td style = \"text-align: right;\">0.0</td><td style = \"text-align: right;\">0.0</td><td style = \"text-align: right;\">0.0</td><td style = \"text-align: right;\">0.0</td><td style = \"text-align: right;\">0.0</td><td style = \"text-align: right;\">0.0</td><td style = \"text-align: right;\">0.0</td><td style = \"text-align: right;\">0.0</td><td style = \"text-align: right;\">0.0</td><td style = \"text-align: right;\">0.0</td><td style = \"text-align: right;\">0.0</td><td style = \"text-align: right;\">0.0</td><td style = \"text-align: right;\">0.0</td><td style = \"text-align: right;\">0.0</td><td style = \"text-align: right;\">0.0</td><td style = \"text-align: right;\">0.0</td><td style = \"text-align: right;\">0.0</td><td style = \"text-align: right;\">0.0</td><td style = \"text-align: right;\">0.0</td><td style = \"text-align: right;\">0.0</td><td style = \"text-align: right;\">0.0</td><td style = \"text-align: right;\">0.0</td><td style = \"text-align: right;\">0.0</td><td style = \"text-align: right;\">0.0</td><td style = \"text-align: right;\">0.0</td><td style = \"text-align: right;\">0.0</td><td style = \"text-align: right;\">0.0</td><td style = \"text-align: right;\">0.0</td><td style = \"text-align: right;\">0.0</td><td style = \"text-align: right;\">0.0</td><td style = \"text-align: right;\">0.0</td><td style = \"text-align: right;\">0.0</td><td style = \"text-align: right;\">0.0</td><td style = \"text-align: right;\">0.0</td><td style = \"text-align: right;\">0.0</td><td style = \"text-align: right;\">0.0</td><td style = \"text-align: right;\">0.0</td><td style = \"text-align: right;\">0.0</td><td style = \"text-align: right;\">0.0</td><td style = \"text-align: right;\">0.0</td><td style = \"text-align: right;\">0.0</td><td style = \"text-align: right;\">0.0</td><td style = \"text-align: right;\">0.0</td><td style = \"text-align: right;\">0.0</td><td style = \"text-align: right;\">0.0</td><td style = \"text-align: right;\">0.0</td><td style = \"text-align: right;\">0.0</td><td style = \"text-align: right;\">0.0</td><td style = \"text-align: right;\">0.0</td><td style = \"text-align: right;\">0.0</td><td style = \"text-align: right;\">0.0</td><td style = \"text-align: right;\">0.0</td><td style = \"text-align: right;\">0.0</td><td style = \"text-align: right;\">0.0</td></tr><tr><td style = \"text-align: right;\">&vellip;</td><td style = \"text-align: right;\">&vellip;</td><td style = \"text-align: right;\">&vellip;</td><td style = \"text-align: right;\">&vellip;</td><td style = \"text-align: right;\">&vellip;</td><td style = \"text-align: right;\">&vellip;</td><td style = \"text-align: right;\">&vellip;</td><td style = \"text-align: right;\">&vellip;</td><td style = \"text-align: right;\">&vellip;</td><td style = \"text-align: right;\">&vellip;</td><td style = \"text-align: right;\">&vellip;</td><td style = \"text-align: right;\">&vellip;</td><td style = \"text-align: right;\">&vellip;</td><td style = \"text-align: right;\">&vellip;</td><td style = \"text-align: right;\">&vellip;</td><td style = \"text-align: right;\">&vellip;</td><td style = \"text-align: right;\">&vellip;</td><td style = \"text-align: right;\">&vellip;</td><td style = \"text-align: right;\">&vellip;</td><td style = \"text-align: right;\">&vellip;</td><td style = \"text-align: right;\">&vellip;</td><td style = \"text-align: right;\">&vellip;</td><td style = \"text-align: right;\">&vellip;</td><td style = \"text-align: right;\">&vellip;</td><td style = \"text-align: right;\">&vellip;</td><td style = \"text-align: right;\">&vellip;</td><td style = \"text-align: right;\">&vellip;</td><td style = \"text-align: right;\">&vellip;</td><td style = \"text-align: right;\">&vellip;</td><td style = \"text-align: right;\">&vellip;</td><td style = \"text-align: right;\">&vellip;</td><td style = \"text-align: right;\">&vellip;</td><td style = \"text-align: right;\">&vellip;</td><td style = \"text-align: right;\">&vellip;</td><td style = \"text-align: right;\">&vellip;</td><td style = \"text-align: right;\">&vellip;</td><td style = \"text-align: right;\">&vellip;</td><td style = \"text-align: right;\">&vellip;</td><td style = \"text-align: right;\">&vellip;</td><td style = \"text-align: right;\">&vellip;</td><td style = \"text-align: right;\">&vellip;</td><td style = \"text-align: right;\">&vellip;</td><td style = \"text-align: right;\">&vellip;</td><td style = \"text-align: right;\">&vellip;</td><td style = \"text-align: right;\">&vellip;</td><td style = \"text-align: right;\">&vellip;</td><td style = \"text-align: right;\">&vellip;</td><td style = \"text-align: right;\">&vellip;</td><td style = \"text-align: right;\">&vellip;</td><td style = \"text-align: right;\">&vellip;</td><td style = \"text-align: right;\">&vellip;</td><td style = \"text-align: right;\">&vellip;</td><td style = \"text-align: right;\">&vellip;</td><td style = \"text-align: right;\">&vellip;</td><td style = \"text-align: right;\">&vellip;</td><td style = \"text-align: right;\">&vellip;</td><td style = \"text-align: right;\">&vellip;</td><td style = \"text-align: right;\">&vellip;</td><td style = \"text-align: right;\">&vellip;</td><td style = \"text-align: right;\">&vellip;</td><td style = \"text-align: right;\">&vellip;</td><td style = \"text-align: right;\">&vellip;</td><td style = \"text-align: right;\">&vellip;</td><td style = \"text-align: right;\">&vellip;</td><td style = \"text-align: right;\">&vellip;</td><td style = \"text-align: right;\">&vellip;</td><td style = \"text-align: right;\">&vellip;</td><td style = \"text-align: right;\">&vellip;</td><td style = \"text-align: right;\">&vellip;</td><td style = \"text-align: right;\">&vellip;</td><td style = \"text-align: right;\">&vellip;</td><td style = \"text-align: right;\">&vellip;</td><td style = \"text-align: right;\">&vellip;</td><td style = \"text-align: right;\">&vellip;</td><td style = \"text-align: right;\">&vellip;</td></tr><tr><td class = \"rowNumber\" style = \"font-weight: bold; text-align: right;\">36</td><td style = \"text-align: left;\">2023-12-02T12:00:00</td><td style = \"text-align: right;\">0.0</td><td style = \"text-align: right;\">0.0</td><td style = \"text-align: right;\">0.0</td><td style = \"text-align: right;\">0.0</td><td style = \"text-align: right;\">0.0</td><td style = \"text-align: right;\">0.0</td><td style = \"text-align: right;\">0.0</td><td style = \"text-align: right;\">0.0</td><td style = \"text-align: right;\">0.0</td><td style = \"text-align: right;\">0.0</td><td style = \"text-align: right;\">0.0</td><td style = \"text-align: right;\">0.0</td><td style = \"text-align: right;\">0.0</td><td style = \"text-align: right;\">0.0</td><td style = \"text-align: right;\">0.0</td><td style = \"text-align: right;\">0.0</td><td style = \"text-align: right;\">0.0</td><td style = \"text-align: right;\">0.0</td><td style = \"text-align: right;\">0.0</td><td style = \"text-align: right;\">0.0</td><td style = \"text-align: right;\">0.0</td><td style = \"text-align: right;\">0.0</td><td style = \"text-align: right;\">0.0</td><td style = \"text-align: right;\">0.0</td><td style = \"text-align: right;\">0.0</td><td style = \"text-align: right;\">0.0</td><td style = \"text-align: right;\">0.0</td><td style = \"text-align: right;\">0.0</td><td style = \"text-align: right;\">0.0</td><td style = \"text-align: right;\">0.0</td><td style = \"text-align: right;\">0.0</td><td style = \"text-align: right;\">0.0</td><td style = \"text-align: right;\">0.0</td><td style = \"text-align: right;\">0.0</td><td style = \"text-align: right;\">0.0</td><td style = \"text-align: right;\">0.0</td><td style = \"text-align: right;\">0.0</td><td style = \"text-align: right;\">0.0</td><td style = \"text-align: right;\">0.0</td><td style = \"text-align: right;\">0.0</td><td style = \"text-align: right;\">0.0</td><td style = \"text-align: right;\">0.0</td><td style = \"text-align: right;\">0.0</td><td style = \"text-align: right;\">0.0</td><td style = \"text-align: right;\">0.0</td><td style = \"text-align: right;\">0.0</td><td style = \"text-align: right;\">0.0</td><td style = \"text-align: right;\">0.0</td><td style = \"text-align: right;\">0.0</td><td style = \"text-align: right;\">0.0</td><td style = \"text-align: right;\">0.0</td><td style = \"text-align: right;\">0.0</td><td style = \"text-align: right;\">0.0</td><td style = \"text-align: right;\">0.0</td><td style = \"text-align: right;\">0.0</td><td style = \"text-align: right;\">0.0</td><td style = \"text-align: right;\">0.0</td><td style = \"text-align: right;\">0.0</td><td style = \"text-align: right;\">0.0</td><td style = \"text-align: right;\">0.0</td><td style = \"text-align: right;\">0.0</td><td style = \"text-align: right;\">0.0</td><td style = \"text-align: right;\">0.0</td><td style = \"text-align: right;\">0.0</td><td style = \"text-align: right;\">0.0</td><td style = \"text-align: right;\">0.0</td><td style = \"text-align: right;\">0.0</td><td style = \"text-align: right;\">0.0</td><td style = \"text-align: right;\">0.0</td><td style = \"text-align: right;\">0.0</td><td style = \"text-align: right;\">0.0</td><td style = \"text-align: right;\">0.0</td><td style = \"text-align: right;\">0.0</td></tr><tr><td class = \"rowNumber\" style = \"font-weight: bold; text-align: right;\">37</td><td style = \"text-align: left;\">2023-12-02T13:00:00</td><td style = \"text-align: right;\">0.0</td><td style = \"text-align: right;\">0.0</td><td style = \"text-align: right;\">0.0</td><td style = \"text-align: right;\">0.0</td><td style = \"text-align: right;\">0.0</td><td style = \"text-align: right;\">0.0</td><td style = \"text-align: right;\">0.0</td><td style = \"text-align: right;\">0.0</td><td style = \"text-align: right;\">0.0</td><td style = \"text-align: right;\">0.0</td><td style = \"text-align: right;\">0.0</td><td style = \"text-align: right;\">0.0</td><td style = \"text-align: right;\">0.0</td><td style = \"text-align: right;\">0.0</td><td style = \"text-align: right;\">0.0</td><td style = \"text-align: right;\">0.0</td><td style = \"text-align: right;\">0.0</td><td style = \"text-align: right;\">0.0</td><td style = \"text-align: right;\">0.0</td><td style = \"text-align: right;\">0.0</td><td style = \"text-align: right;\">0.0</td><td style = \"text-align: right;\">0.0</td><td style = \"text-align: right;\">0.0</td><td style = \"text-align: right;\">0.0</td><td style = \"text-align: right;\">0.0</td><td style = \"text-align: right;\">0.0</td><td style = \"text-align: right;\">0.0</td><td style = \"text-align: right;\">0.0</td><td style = \"text-align: right;\">0.0</td><td style = \"text-align: right;\">0.0</td><td style = \"text-align: right;\">0.0</td><td style = \"text-align: right;\">0.0</td><td style = \"text-align: right;\">0.0</td><td style = \"text-align: right;\">0.0</td><td style = \"text-align: right;\">0.0</td><td style = \"text-align: right;\">0.0</td><td style = \"text-align: right;\">0.0</td><td style = \"text-align: right;\">0.0</td><td style = \"text-align: right;\">0.0</td><td style = \"text-align: right;\">0.0</td><td style = \"text-align: right;\">0.0</td><td style = \"text-align: right;\">0.0</td><td style = \"text-align: right;\">0.0</td><td style = \"text-align: right;\">0.0</td><td style = \"text-align: right;\">0.0</td><td style = \"text-align: right;\">0.0</td><td style = \"text-align: right;\">0.0</td><td style = \"text-align: right;\">0.0</td><td style = \"text-align: right;\">0.0</td><td style = \"text-align: right;\">0.0</td><td style = \"text-align: right;\">0.0</td><td style = \"text-align: right;\">0.0</td><td style = \"text-align: right;\">0.0</td><td style = \"text-align: right;\">0.0</td><td style = \"text-align: right;\">0.0</td><td style = \"text-align: right;\">0.0</td><td style = \"text-align: right;\">0.0</td><td style = \"text-align: right;\">0.0</td><td style = \"text-align: right;\">0.0</td><td style = \"text-align: right;\">0.0</td><td style = \"text-align: right;\">0.0</td><td style = \"text-align: right;\">0.0</td><td style = \"text-align: right;\">0.0</td><td style = \"text-align: right;\">0.0</td><td style = \"text-align: right;\">0.0</td><td style = \"text-align: right;\">0.0</td><td style = \"text-align: right;\">0.0</td><td style = \"text-align: right;\">0.0</td><td style = \"text-align: right;\">0.0</td><td style = \"text-align: right;\">0.0</td><td style = \"text-align: right;\">0.0</td><td style = \"text-align: right;\">0.0</td><td style = \"text-align: right;\">0.0</td></tr><tr><td class = \"rowNumber\" style = \"font-weight: bold; text-align: right;\">38</td><td style = \"text-align: left;\">2023-12-02T14:00:00</td><td style = \"text-align: right;\">0.0</td><td style = \"text-align: right;\">0.0</td><td style = \"text-align: right;\">0.0</td><td style = \"text-align: right;\">0.0</td><td style = \"text-align: right;\">0.0</td><td style = \"text-align: right;\">0.0</td><td style = \"text-align: right;\">0.0</td><td style = \"text-align: right;\">0.0</td><td style = \"text-align: right;\">0.0</td><td style = \"text-align: right;\">0.0</td><td style = \"text-align: right;\">0.0</td><td style = \"text-align: right;\">0.0</td><td style = \"text-align: right;\">0.0</td><td style = \"text-align: right;\">0.0</td><td style = \"text-align: right;\">0.0</td><td style = \"text-align: right;\">0.0</td><td style = \"text-align: right;\">0.0</td><td style = \"text-align: right;\">0.0</td><td style = \"text-align: right;\">0.0</td><td style = \"text-align: right;\">0.0</td><td style = \"text-align: right;\">0.0</td><td style = \"text-align: right;\">0.0</td><td style = \"text-align: right;\">0.0</td><td style = \"text-align: right;\">0.0</td><td style = \"text-align: right;\">0.0</td><td style = \"text-align: right;\">0.0</td><td style = \"text-align: right;\">0.0</td><td style = \"text-align: right;\">0.0</td><td style = \"text-align: right;\">0.0</td><td style = \"text-align: right;\">0.0</td><td style = \"text-align: right;\">0.0</td><td style = \"text-align: right;\">0.0</td><td style = \"text-align: right;\">0.0</td><td style = \"text-align: right;\">0.0</td><td style = \"text-align: right;\">0.0</td><td style = \"text-align: right;\">0.0</td><td style = \"text-align: right;\">0.0</td><td style = \"text-align: right;\">0.0</td><td style = \"text-align: right;\">0.0</td><td style = \"text-align: right;\">0.0</td><td style = \"text-align: right;\">0.0</td><td style = \"text-align: right;\">0.0</td><td style = \"text-align: right;\">0.0</td><td style = \"text-align: right;\">0.0</td><td style = \"text-align: right;\">0.0</td><td style = \"text-align: right;\">0.0</td><td style = \"text-align: right;\">0.0</td><td style = \"text-align: right;\">0.0</td><td style = \"text-align: right;\">0.0</td><td style = \"text-align: right;\">0.0</td><td style = \"text-align: right;\">0.0</td><td style = \"text-align: right;\">0.0</td><td style = \"text-align: right;\">0.0</td><td style = \"text-align: right;\">0.0</td><td style = \"text-align: right;\">0.0</td><td style = \"text-align: right;\">0.0</td><td style = \"text-align: right;\">0.0</td><td style = \"text-align: right;\">0.0</td><td style = \"text-align: right;\">0.0</td><td style = \"text-align: right;\">0.0</td><td style = \"text-align: right;\">0.0</td><td style = \"text-align: right;\">0.0</td><td style = \"text-align: right;\">0.0</td><td style = \"text-align: right;\">0.0</td><td style = \"text-align: right;\">0.0</td><td style = \"text-align: right;\">0.0</td><td style = \"text-align: right;\">0.0</td><td style = \"text-align: right;\">0.0</td><td style = \"text-align: right;\">0.0</td><td style = \"text-align: right;\">0.0</td><td style = \"text-align: right;\">0.0</td><td style = \"text-align: right;\">0.0</td><td style = \"text-align: right;\">0.0</td></tr><tr><td class = \"rowNumber\" style = \"font-weight: bold; text-align: right;\">39</td><td style = \"text-align: left;\">2023-12-02T15:00:00</td><td style = \"text-align: right;\">0.0</td><td style = \"text-align: right;\">0.0</td><td style = \"text-align: right;\">0.0</td><td style = \"text-align: right;\">0.0</td><td style = \"text-align: right;\">0.0</td><td style = \"text-align: right;\">0.0</td><td style = \"text-align: right;\">0.0</td><td style = \"text-align: right;\">0.0</td><td style = \"text-align: right;\">0.0</td><td style = \"text-align: right;\">0.0</td><td style = \"text-align: right;\">0.0</td><td style = \"text-align: right;\">0.0</td><td style = \"text-align: right;\">0.0</td><td style = \"text-align: right;\">0.0</td><td style = \"text-align: right;\">0.0</td><td style = \"text-align: right;\">0.0</td><td style = \"text-align: right;\">0.0</td><td style = \"text-align: right;\">0.0</td><td style = \"text-align: right;\">0.0</td><td style = \"text-align: right;\">0.0</td><td style = \"text-align: right;\">0.0</td><td style = \"text-align: right;\">0.0</td><td style = \"text-align: right;\">0.0</td><td style = \"text-align: right;\">0.0</td><td style = \"text-align: right;\">0.0</td><td style = \"text-align: right;\">0.0</td><td style = \"text-align: right;\">0.0</td><td style = \"text-align: right;\">0.0</td><td style = \"text-align: right;\">0.0</td><td style = \"text-align: right;\">0.0</td><td style = \"text-align: right;\">0.0</td><td style = \"text-align: right;\">0.0</td><td style = \"text-align: right;\">0.0</td><td style = \"text-align: right;\">0.0</td><td style = \"text-align: right;\">0.0</td><td style = \"text-align: right;\">0.0</td><td style = \"text-align: right;\">0.0</td><td style = \"text-align: right;\">0.0</td><td style = \"text-align: right;\">0.0</td><td style = \"text-align: right;\">0.0</td><td style = \"text-align: right;\">0.0</td><td style = \"text-align: right;\">0.0</td><td style = \"text-align: right;\">0.0</td><td style = \"text-align: right;\">0.0</td><td style = \"text-align: right;\">0.0</td><td style = \"text-align: right;\">0.0</td><td style = \"text-align: right;\">0.0</td><td style = \"text-align: right;\">0.0</td><td style = \"text-align: right;\">0.0</td><td style = \"text-align: right;\">0.0</td><td style = \"text-align: right;\">0.0</td><td style = \"text-align: right;\">0.0</td><td style = \"text-align: right;\">0.0</td><td style = \"text-align: right;\">0.0</td><td style = \"text-align: right;\">0.0</td><td style = \"text-align: right;\">0.0</td><td style = \"text-align: right;\">0.0</td><td style = \"text-align: right;\">0.0</td><td style = \"text-align: right;\">0.0</td><td style = \"text-align: right;\">0.0</td><td style = \"text-align: right;\">0.0</td><td style = \"text-align: right;\">0.0</td><td style = \"text-align: right;\">0.0</td><td style = \"text-align: right;\">0.0</td><td style = \"text-align: right;\">0.0</td><td style = \"text-align: right;\">0.0</td><td style = \"text-align: right;\">0.0</td><td style = \"text-align: right;\">0.0</td><td style = \"text-align: right;\">0.0</td><td style = \"text-align: right;\">0.0</td><td style = \"text-align: right;\">0.0</td><td style = \"text-align: right;\">0.0</td><td style = \"text-align: right;\">0.0</td></tr><tr><td class = \"rowNumber\" style = \"font-weight: bold; text-align: right;\">40</td><td style = \"text-align: left;\">2023-12-02T16:00:00</td><td style = \"text-align: right;\">0.0</td><td style = \"text-align: right;\">0.0</td><td style = \"text-align: right;\">0.0</td><td style = \"text-align: right;\">0.0</td><td style = \"text-align: right;\">0.0</td><td style = \"text-align: right;\">0.0</td><td style = \"text-align: right;\">0.0</td><td style = \"text-align: right;\">0.0</td><td style = \"text-align: right;\">0.0</td><td style = \"text-align: right;\">0.0</td><td style = \"text-align: right;\">0.0</td><td style = \"text-align: right;\">0.0</td><td style = \"text-align: right;\">0.0</td><td style = \"text-align: right;\">0.0</td><td style = \"text-align: right;\">0.0</td><td style = \"text-align: right;\">0.0</td><td style = \"text-align: right;\">0.0</td><td style = \"text-align: right;\">0.0</td><td style = \"text-align: right;\">0.0</td><td style = \"text-align: right;\">0.0</td><td style = \"text-align: right;\">0.0</td><td style = \"text-align: right;\">0.0</td><td style = \"text-align: right;\">0.0</td><td style = \"text-align: right;\">0.0</td><td style = \"text-align: right;\">0.0</td><td style = \"text-align: right;\">0.0</td><td style = \"text-align: right;\">0.0</td><td style = \"text-align: right;\">0.0</td><td style = \"text-align: right;\">0.0</td><td style = \"text-align: right;\">0.0</td><td style = \"text-align: right;\">0.0</td><td style = \"text-align: right;\">0.0</td><td style = \"text-align: right;\">0.0</td><td style = \"text-align: right;\">0.0</td><td style = \"text-align: right;\">0.0</td><td style = \"text-align: right;\">0.0</td><td style = \"text-align: right;\">0.0</td><td style = \"text-align: right;\">0.0</td><td style = \"text-align: right;\">0.0</td><td style = \"text-align: right;\">0.0</td><td style = \"text-align: right;\">0.0</td><td style = \"text-align: right;\">0.0</td><td style = \"text-align: right;\">0.0</td><td style = \"text-align: right;\">0.0</td><td style = \"text-align: right;\">0.0</td><td style = \"text-align: right;\">0.0</td><td style = \"text-align: right;\">0.0</td><td style = \"text-align: right;\">0.0</td><td style = \"text-align: right;\">0.0</td><td style = \"text-align: right;\">0.0</td><td style = \"text-align: right;\">0.0</td><td style = \"text-align: right;\">0.0</td><td style = \"text-align: right;\">0.0</td><td style = \"text-align: right;\">0.0</td><td style = \"text-align: right;\">0.0</td><td style = \"text-align: right;\">0.0</td><td style = \"text-align: right;\">0.0</td><td style = \"text-align: right;\">0.0</td><td style = \"text-align: right;\">0.0</td><td style = \"text-align: right;\">0.0</td><td style = \"text-align: right;\">0.0</td><td style = \"text-align: right;\">0.0</td><td style = \"text-align: right;\">0.0</td><td style = \"text-align: right;\">0.0</td><td style = \"text-align: right;\">0.0</td><td style = \"text-align: right;\">0.0</td><td style = \"text-align: right;\">0.0</td><td style = \"text-align: right;\">0.0</td><td style = \"text-align: right;\">0.0</td><td style = \"text-align: right;\">0.0</td><td style = \"text-align: right;\">0.0</td><td style = \"text-align: right;\">0.0</td><td style = \"text-align: right;\">0.0</td></tr><tr><td class = \"rowNumber\" style = \"font-weight: bold; text-align: right;\">41</td><td style = \"text-align: left;\">2023-12-02T17:00:00</td><td style = \"text-align: right;\">0.0</td><td style = \"text-align: right;\">0.0</td><td style = \"text-align: right;\">0.0</td><td style = \"text-align: right;\">0.0</td><td style = \"text-align: right;\">0.0</td><td style = \"text-align: right;\">0.0</td><td style = \"text-align: right;\">0.0</td><td style = \"text-align: right;\">0.0</td><td style = \"text-align: right;\">0.0</td><td style = \"text-align: right;\">0.0</td><td style = \"text-align: right;\">0.0</td><td style = \"text-align: right;\">0.0</td><td style = \"text-align: right;\">0.0</td><td style = \"text-align: right;\">0.0</td><td style = \"text-align: right;\">0.0</td><td style = \"text-align: right;\">0.0</td><td style = \"text-align: right;\">0.0</td><td style = \"text-align: right;\">0.0</td><td style = \"text-align: right;\">0.0</td><td style = \"text-align: right;\">0.0</td><td style = \"text-align: right;\">0.0</td><td style = \"text-align: right;\">0.0</td><td style = \"text-align: right;\">0.0</td><td style = \"text-align: right;\">0.0</td><td style = \"text-align: right;\">0.0</td><td style = \"text-align: right;\">0.0</td><td style = \"text-align: right;\">0.0</td><td style = \"text-align: right;\">0.0</td><td style = \"text-align: right;\">0.0</td><td style = \"text-align: right;\">0.0</td><td style = \"text-align: right;\">0.0</td><td style = \"text-align: right;\">0.0</td><td style = \"text-align: right;\">0.0</td><td style = \"text-align: right;\">0.0</td><td style = \"text-align: right;\">0.0</td><td style = \"text-align: right;\">0.0</td><td style = \"text-align: right;\">0.0</td><td style = \"text-align: right;\">0.0</td><td style = \"text-align: right;\">0.0</td><td style = \"text-align: right;\">0.0</td><td style = \"text-align: right;\">0.0</td><td style = \"text-align: right;\">0.0</td><td style = \"text-align: right;\">0.0</td><td style = \"text-align: right;\">0.0</td><td style = \"text-align: right;\">0.0</td><td style = \"text-align: right;\">0.0</td><td style = \"text-align: right;\">0.0</td><td style = \"text-align: right;\">0.0</td><td style = \"text-align: right;\">0.0</td><td style = \"text-align: right;\">0.0</td><td style = \"text-align: right;\">0.0</td><td style = \"text-align: right;\">0.0</td><td style = \"text-align: right;\">0.0</td><td style = \"text-align: right;\">0.0</td><td style = \"text-align: right;\">0.0</td><td style = \"text-align: right;\">0.0</td><td style = \"text-align: right;\">0.0</td><td style = \"text-align: right;\">0.0</td><td style = \"text-align: right;\">0.0</td><td style = \"text-align: right;\">0.0</td><td style = \"text-align: right;\">0.0</td><td style = \"text-align: right;\">0.0</td><td style = \"text-align: right;\">0.0</td><td style = \"text-align: right;\">0.0</td><td style = \"text-align: right;\">0.0</td><td style = \"text-align: right;\">0.0</td><td style = \"text-align: right;\">0.0</td><td style = \"text-align: right;\">0.0</td><td style = \"text-align: right;\">0.0</td><td style = \"text-align: right;\">0.0</td><td style = \"text-align: right;\">0.0</td><td style = \"text-align: right;\">0.0</td><td style = \"text-align: right;\">0.0</td></tr><tr><td class = \"rowNumber\" style = \"font-weight: bold; text-align: right;\">42</td><td style = \"text-align: left;\">2023-12-02T18:00:00</td><td style = \"text-align: right;\">0.0</td><td style = \"text-align: right;\">0.0</td><td style = \"text-align: right;\">0.0</td><td style = \"text-align: right;\">0.0</td><td style = \"text-align: right;\">0.0</td><td style = \"text-align: right;\">0.0</td><td style = \"text-align: right;\">0.0</td><td style = \"text-align: right;\">0.0</td><td style = \"text-align: right;\">0.0</td><td style = \"text-align: right;\">0.0</td><td style = \"text-align: right;\">0.0</td><td style = \"text-align: right;\">0.0</td><td style = \"text-align: right;\">0.0</td><td style = \"text-align: right;\">0.0</td><td style = \"text-align: right;\">0.0</td><td style = \"text-align: right;\">0.0</td><td style = \"text-align: right;\">0.0</td><td style = \"text-align: right;\">0.0</td><td style = \"text-align: right;\">0.0</td><td style = \"text-align: right;\">0.0</td><td style = \"text-align: right;\">0.0</td><td style = \"text-align: right;\">0.0</td><td style = \"text-align: right;\">0.0</td><td style = \"text-align: right;\">0.0</td><td style = \"text-align: right;\">0.0</td><td style = \"text-align: right;\">0.0</td><td style = \"text-align: right;\">0.0</td><td style = \"text-align: right;\">0.0</td><td style = \"text-align: right;\">0.0</td><td style = \"text-align: right;\">0.0</td><td style = \"text-align: right;\">0.0</td><td style = \"text-align: right;\">0.0</td><td style = \"text-align: right;\">0.0</td><td style = \"text-align: right;\">0.0</td><td style = \"text-align: right;\">0.0</td><td style = \"text-align: right;\">0.0</td><td style = \"text-align: right;\">0.0</td><td style = \"text-align: right;\">0.0</td><td style = \"text-align: right;\">0.0</td><td style = \"text-align: right;\">0.0</td><td style = \"text-align: right;\">0.0</td><td style = \"text-align: right;\">0.0</td><td style = \"text-align: right;\">0.0</td><td style = \"text-align: right;\">0.0</td><td style = \"text-align: right;\">0.0</td><td style = \"text-align: right;\">0.0</td><td style = \"text-align: right;\">0.0</td><td style = \"text-align: right;\">0.0</td><td style = \"text-align: right;\">0.0</td><td style = \"text-align: right;\">0.0</td><td style = \"text-align: right;\">0.0</td><td style = \"text-align: right;\">0.0</td><td style = \"text-align: right;\">0.0</td><td style = \"text-align: right;\">0.0</td><td style = \"text-align: right;\">0.0</td><td style = \"text-align: right;\">0.0</td><td style = \"text-align: right;\">0.0</td><td style = \"text-align: right;\">0.0</td><td style = \"text-align: right;\">0.0</td><td style = \"text-align: right;\">0.0</td><td style = \"text-align: right;\">0.0</td><td style = \"text-align: right;\">0.0</td><td style = \"text-align: right;\">0.0</td><td style = \"text-align: right;\">0.0</td><td style = \"text-align: right;\">0.0</td><td style = \"text-align: right;\">0.0</td><td style = \"text-align: right;\">0.0</td><td style = \"text-align: right;\">0.0</td><td style = \"text-align: right;\">0.0</td><td style = \"text-align: right;\">0.0</td><td style = \"text-align: right;\">0.0</td><td style = \"text-align: right;\">0.0</td><td style = \"text-align: right;\">0.0</td></tr><tr><td class = \"rowNumber\" style = \"font-weight: bold; text-align: right;\">43</td><td style = \"text-align: left;\">2023-12-02T19:00:00</td><td style = \"text-align: right;\">0.0</td><td style = \"text-align: right;\">0.0</td><td style = \"text-align: right;\">0.0</td><td style = \"text-align: right;\">0.0</td><td style = \"text-align: right;\">0.0</td><td style = \"text-align: right;\">0.0</td><td style = \"text-align: right;\">0.0</td><td style = \"text-align: right;\">0.0</td><td style = \"text-align: right;\">0.0</td><td style = \"text-align: right;\">0.0</td><td style = \"text-align: right;\">0.0</td><td style = \"text-align: right;\">0.0</td><td style = \"text-align: right;\">0.0</td><td style = \"text-align: right;\">0.0</td><td style = \"text-align: right;\">0.0</td><td style = \"text-align: right;\">0.0</td><td style = \"text-align: right;\">0.0</td><td style = \"text-align: right;\">0.0</td><td style = \"text-align: right;\">0.0</td><td style = \"text-align: right;\">0.0</td><td style = \"text-align: right;\">0.0</td><td style = \"text-align: right;\">0.0</td><td style = \"text-align: right;\">0.0</td><td style = \"text-align: right;\">0.0</td><td style = \"text-align: right;\">0.0</td><td style = \"text-align: right;\">0.0</td><td style = \"text-align: right;\">0.0</td><td style = \"text-align: right;\">0.0</td><td style = \"text-align: right;\">0.0</td><td style = \"text-align: right;\">0.0</td><td style = \"text-align: right;\">0.0</td><td style = \"text-align: right;\">0.0</td><td style = \"text-align: right;\">0.0</td><td style = \"text-align: right;\">0.0</td><td style = \"text-align: right;\">0.0</td><td style = \"text-align: right;\">0.0</td><td style = \"text-align: right;\">0.0</td><td style = \"text-align: right;\">0.0</td><td style = \"text-align: right;\">0.0</td><td style = \"text-align: right;\">0.0</td><td style = \"text-align: right;\">0.0</td><td style = \"text-align: right;\">0.0</td><td style = \"text-align: right;\">0.0</td><td style = \"text-align: right;\">0.0</td><td style = \"text-align: right;\">0.0</td><td style = \"text-align: right;\">0.0</td><td style = \"text-align: right;\">0.0</td><td style = \"text-align: right;\">0.0</td><td style = \"text-align: right;\">0.0</td><td style = \"text-align: right;\">0.0</td><td style = \"text-align: right;\">0.0</td><td style = \"text-align: right;\">0.0</td><td style = \"text-align: right;\">0.0</td><td style = \"text-align: right;\">0.0</td><td style = \"text-align: right;\">0.0</td><td style = \"text-align: right;\">0.0</td><td style = \"text-align: right;\">0.0</td><td style = \"text-align: right;\">0.0</td><td style = \"text-align: right;\">0.0</td><td style = \"text-align: right;\">0.0</td><td style = \"text-align: right;\">0.0</td><td style = \"text-align: right;\">0.0</td><td style = \"text-align: right;\">0.0</td><td style = \"text-align: right;\">0.0</td><td style = \"text-align: right;\">0.0</td><td style = \"text-align: right;\">0.0</td><td style = \"text-align: right;\">0.0</td><td style = \"text-align: right;\">0.0</td><td style = \"text-align: right;\">0.0</td><td style = \"text-align: right;\">0.0</td><td style = \"text-align: right;\">0.0</td><td style = \"text-align: right;\">0.0</td><td style = \"text-align: right;\">0.0</td></tr><tr><td class = \"rowNumber\" style = \"font-weight: bold; text-align: right;\">44</td><td style = \"text-align: left;\">2023-12-02T20:00:00</td><td style = \"text-align: right;\">0.0</td><td style = \"text-align: right;\">0.0</td><td style = \"text-align: right;\">0.0</td><td style = \"text-align: right;\">0.0</td><td style = \"text-align: right;\">0.0</td><td style = \"text-align: right;\">0.0</td><td style = \"text-align: right;\">0.0</td><td style = \"text-align: right;\">0.0</td><td style = \"text-align: right;\">0.0</td><td style = \"text-align: right;\">0.0</td><td style = \"text-align: right;\">0.0</td><td style = \"text-align: right;\">0.0</td><td style = \"text-align: right;\">0.0</td><td style = \"text-align: right;\">0.0</td><td style = \"text-align: right;\">0.0</td><td style = \"text-align: right;\">0.0</td><td style = \"text-align: right;\">0.0</td><td style = \"text-align: right;\">0.0</td><td style = \"text-align: right;\">0.0</td><td style = \"text-align: right;\">0.0</td><td style = \"text-align: right;\">0.0</td><td style = \"text-align: right;\">0.0</td><td style = \"text-align: right;\">0.0</td><td style = \"text-align: right;\">0.0</td><td style = \"text-align: right;\">0.0</td><td style = \"text-align: right;\">0.0</td><td style = \"text-align: right;\">0.0</td><td style = \"text-align: right;\">0.0</td><td style = \"text-align: right;\">0.0</td><td style = \"text-align: right;\">0.0</td><td style = \"text-align: right;\">0.0</td><td style = \"text-align: right;\">0.0</td><td style = \"text-align: right;\">0.0</td><td style = \"text-align: right;\">0.0</td><td style = \"text-align: right;\">0.0</td><td style = \"text-align: right;\">0.0</td><td style = \"text-align: right;\">0.0</td><td style = \"text-align: right;\">0.0</td><td style = \"text-align: right;\">0.0</td><td style = \"text-align: right;\">0.0</td><td style = \"text-align: right;\">0.0</td><td style = \"text-align: right;\">0.0</td><td style = \"text-align: right;\">0.0</td><td style = \"text-align: right;\">0.0</td><td style = \"text-align: right;\">0.0</td><td style = \"text-align: right;\">0.0</td><td style = \"text-align: right;\">0.0</td><td style = \"text-align: right;\">0.0</td><td style = \"text-align: right;\">0.0</td><td style = \"text-align: right;\">0.0</td><td style = \"text-align: right;\">0.0</td><td style = \"text-align: right;\">0.0</td><td style = \"text-align: right;\">0.0</td><td style = \"text-align: right;\">0.0</td><td style = \"text-align: right;\">0.0</td><td style = \"text-align: right;\">0.0</td><td style = \"text-align: right;\">0.0</td><td style = \"text-align: right;\">0.0</td><td style = \"text-align: right;\">0.0</td><td style = \"text-align: right;\">0.0</td><td style = \"text-align: right;\">0.0</td><td style = \"text-align: right;\">0.0</td><td style = \"text-align: right;\">0.0</td><td style = \"text-align: right;\">0.0</td><td style = \"text-align: right;\">0.0</td><td style = \"text-align: right;\">0.0</td><td style = \"text-align: right;\">0.0</td><td style = \"text-align: right;\">0.0</td><td style = \"text-align: right;\">0.0</td><td style = \"text-align: right;\">0.0</td><td style = \"text-align: right;\">0.0</td><td style = \"text-align: right;\">0.0</td><td style = \"text-align: right;\">0.0</td></tr><tr><td class = \"rowNumber\" style = \"font-weight: bold; text-align: right;\">45</td><td style = \"text-align: left;\">2023-12-02T21:00:00</td><td style = \"text-align: right;\">0.0</td><td style = \"text-align: right;\">0.0</td><td style = \"text-align: right;\">0.0</td><td style = \"text-align: right;\">0.0</td><td style = \"text-align: right;\">0.0</td><td style = \"text-align: right;\">0.0</td><td style = \"text-align: right;\">0.0</td><td style = \"text-align: right;\">0.0</td><td style = \"text-align: right;\">0.0</td><td style = \"text-align: right;\">0.0</td><td style = \"text-align: right;\">0.0</td><td style = \"text-align: right;\">0.0</td><td style = \"text-align: right;\">0.0</td><td style = \"text-align: right;\">0.0</td><td style = \"text-align: right;\">0.0</td><td style = \"text-align: right;\">0.0</td><td style = \"text-align: right;\">0.0</td><td style = \"text-align: right;\">0.0</td><td style = \"text-align: right;\">0.0</td><td style = \"text-align: right;\">0.0</td><td style = \"text-align: right;\">0.0</td><td style = \"text-align: right;\">0.0</td><td style = \"text-align: right;\">0.0</td><td style = \"text-align: right;\">0.0</td><td style = \"text-align: right;\">0.0</td><td style = \"text-align: right;\">0.0</td><td style = \"text-align: right;\">0.0</td><td style = \"text-align: right;\">0.0</td><td style = \"text-align: right;\">0.0</td><td style = \"text-align: right;\">0.0</td><td style = \"text-align: right;\">0.0</td><td style = \"text-align: right;\">0.0</td><td style = \"text-align: right;\">0.0</td><td style = \"text-align: right;\">0.0</td><td style = \"text-align: right;\">0.0</td><td style = \"text-align: right;\">0.0</td><td style = \"text-align: right;\">0.0</td><td style = \"text-align: right;\">0.0</td><td style = \"text-align: right;\">0.0</td><td style = \"text-align: right;\">0.0</td><td style = \"text-align: right;\">0.0</td><td style = \"text-align: right;\">0.0</td><td style = \"text-align: right;\">0.0</td><td style = \"text-align: right;\">0.0</td><td style = \"text-align: right;\">0.0</td><td style = \"text-align: right;\">0.0</td><td style = \"text-align: right;\">0.0</td><td style = \"text-align: right;\">0.0</td><td style = \"text-align: right;\">0.0</td><td style = \"text-align: right;\">0.0</td><td style = \"text-align: right;\">0.0</td><td style = \"text-align: right;\">0.0</td><td style = \"text-align: right;\">0.0</td><td style = \"text-align: right;\">0.0</td><td style = \"text-align: right;\">0.0</td><td style = \"text-align: right;\">0.0</td><td style = \"text-align: right;\">0.0</td><td style = \"text-align: right;\">0.0</td><td style = \"text-align: right;\">0.0</td><td style = \"text-align: right;\">0.0</td><td style = \"text-align: right;\">0.0</td><td style = \"text-align: right;\">0.0</td><td style = \"text-align: right;\">0.0</td><td style = \"text-align: right;\">0.0</td><td style = \"text-align: right;\">0.0</td><td style = \"text-align: right;\">0.0</td><td style = \"text-align: right;\">0.0</td><td style = \"text-align: right;\">0.0</td><td style = \"text-align: right;\">0.0</td><td style = \"text-align: right;\">0.0</td><td style = \"text-align: right;\">0.0</td><td style = \"text-align: right;\">0.0</td><td style = \"text-align: right;\">0.0</td></tr><tr><td class = \"rowNumber\" style = \"font-weight: bold; text-align: right;\">46</td><td style = \"text-align: left;\">2023-12-02T22:00:00</td><td style = \"text-align: right;\">0.0</td><td style = \"text-align: right;\">0.0</td><td style = \"text-align: right;\">0.0</td><td style = \"text-align: right;\">0.0</td><td style = \"text-align: right;\">0.0</td><td style = \"text-align: right;\">0.0</td><td style = \"text-align: right;\">0.0</td><td style = \"text-align: right;\">0.0</td><td style = \"text-align: right;\">0.0</td><td style = \"text-align: right;\">0.0</td><td style = \"text-align: right;\">0.0</td><td style = \"text-align: right;\">0.0</td><td style = \"text-align: right;\">0.0</td><td style = \"text-align: right;\">0.0</td><td style = \"text-align: right;\">0.0</td><td style = \"text-align: right;\">0.0</td><td style = \"text-align: right;\">0.0</td><td style = \"text-align: right;\">0.0</td><td style = \"text-align: right;\">0.0</td><td style = \"text-align: right;\">0.0</td><td style = \"text-align: right;\">0.0</td><td style = \"text-align: right;\">0.0</td><td style = \"text-align: right;\">0.0</td><td style = \"text-align: right;\">0.0</td><td style = \"text-align: right;\">0.0</td><td style = \"text-align: right;\">0.0</td><td style = \"text-align: right;\">0.0</td><td style = \"text-align: right;\">0.0</td><td style = \"text-align: right;\">0.0</td><td style = \"text-align: right;\">0.0</td><td style = \"text-align: right;\">0.0</td><td style = \"text-align: right;\">0.0</td><td style = \"text-align: right;\">0.0</td><td style = \"text-align: right;\">0.0</td><td style = \"text-align: right;\">0.0</td><td style = \"text-align: right;\">0.0</td><td style = \"text-align: right;\">0.0</td><td style = \"text-align: right;\">0.0</td><td style = \"text-align: right;\">0.0</td><td style = \"text-align: right;\">0.0</td><td style = \"text-align: right;\">0.0</td><td style = \"text-align: right;\">0.0</td><td style = \"text-align: right;\">0.0</td><td style = \"text-align: right;\">0.0</td><td style = \"text-align: right;\">0.0</td><td style = \"text-align: right;\">0.0</td><td style = \"text-align: right;\">0.0</td><td style = \"text-align: right;\">0.0</td><td style = \"text-align: right;\">0.0</td><td style = \"text-align: right;\">0.0</td><td style = \"text-align: right;\">0.0</td><td style = \"text-align: right;\">0.0</td><td style = \"text-align: right;\">0.0</td><td style = \"text-align: right;\">0.0</td><td style = \"text-align: right;\">0.0</td><td style = \"text-align: right;\">0.0</td><td style = \"text-align: right;\">0.0</td><td style = \"text-align: right;\">0.0</td><td style = \"text-align: right;\">0.0</td><td style = \"text-align: right;\">0.0</td><td style = \"text-align: right;\">0.0</td><td style = \"text-align: right;\">0.0</td><td style = \"text-align: right;\">0.0</td><td style = \"text-align: right;\">0.0</td><td style = \"text-align: right;\">0.0</td><td style = \"text-align: right;\">0.0</td><td style = \"text-align: right;\">0.0</td><td style = \"text-align: right;\">0.0</td><td style = \"text-align: right;\">0.0</td><td style = \"text-align: right;\">0.0</td><td style = \"text-align: right;\">0.0</td><td style = \"text-align: right;\">0.0</td><td style = \"text-align: right;\">0.0</td></tr><tr><td class = \"rowNumber\" style = \"font-weight: bold; text-align: right;\">47</td><td style = \"text-align: left;\">2023-12-02T23:00:00</td><td style = \"text-align: right;\">0.0</td><td style = \"text-align: right;\">0.0</td><td style = \"text-align: right;\">0.0</td><td style = \"text-align: right;\">0.0</td><td style = \"text-align: right;\">0.0</td><td style = \"text-align: right;\">0.0</td><td style = \"text-align: right;\">0.0</td><td style = \"text-align: right;\">0.0</td><td style = \"text-align: right;\">0.0</td><td style = \"text-align: right;\">0.0</td><td style = \"text-align: right;\">0.0</td><td style = \"text-align: right;\">0.0</td><td style = \"text-align: right;\">0.0</td><td style = \"text-align: right;\">0.0</td><td style = \"text-align: right;\">0.0</td><td style = \"text-align: right;\">0.0</td><td style = \"text-align: right;\">0.0</td><td style = \"text-align: right;\">0.0</td><td style = \"text-align: right;\">0.0</td><td style = \"text-align: right;\">0.0</td><td style = \"text-align: right;\">0.0</td><td style = \"text-align: right;\">0.0</td><td style = \"text-align: right;\">0.0</td><td style = \"text-align: right;\">0.0</td><td style = \"text-align: right;\">0.0</td><td style = \"text-align: right;\">0.0</td><td style = \"text-align: right;\">0.0</td><td style = \"text-align: right;\">0.0</td><td style = \"text-align: right;\">0.0</td><td style = \"text-align: right;\">0.0</td><td style = \"text-align: right;\">0.0</td><td style = \"text-align: right;\">0.0</td><td style = \"text-align: right;\">0.0</td><td style = \"text-align: right;\">0.0</td><td style = \"text-align: right;\">0.0</td><td style = \"text-align: right;\">0.0</td><td style = \"text-align: right;\">0.0</td><td style = \"text-align: right;\">0.0</td><td style = \"text-align: right;\">0.0</td><td style = \"text-align: right;\">0.0</td><td style = \"text-align: right;\">0.0</td><td style = \"text-align: right;\">0.0</td><td style = \"text-align: right;\">0.0</td><td style = \"text-align: right;\">0.0</td><td style = \"text-align: right;\">0.0</td><td style = \"text-align: right;\">0.0</td><td style = \"text-align: right;\">0.0</td><td style = \"text-align: right;\">0.0</td><td style = \"text-align: right;\">0.0</td><td style = \"text-align: right;\">0.0</td><td style = \"text-align: right;\">0.0</td><td style = \"text-align: right;\">0.0</td><td style = \"text-align: right;\">0.0</td><td style = \"text-align: right;\">0.0</td><td style = \"text-align: right;\">0.0</td><td style = \"text-align: right;\">0.0</td><td style = \"text-align: right;\">0.0</td><td style = \"text-align: right;\">0.0</td><td style = \"text-align: right;\">0.0</td><td style = \"text-align: right;\">0.0</td><td style = \"text-align: right;\">0.0</td><td style = \"text-align: right;\">0.0</td><td style = \"text-align: right;\">0.0</td><td style = \"text-align: right;\">0.0</td><td style = \"text-align: right;\">0.0</td><td style = \"text-align: right;\">0.0</td><td style = \"text-align: right;\">0.0</td><td style = \"text-align: right;\">0.0</td><td style = \"text-align: right;\">0.0</td><td style = \"text-align: right;\">0.0</td><td style = \"text-align: right;\">0.0</td><td style = \"text-align: right;\">0.0</td><td style = \"text-align: right;\">0.0</td></tr></tbody></table></div>"
      ],
      "text/latex": [
       "\\begin{tabular}{r|ccccccc}\n",
       "\t& datetime & Malicounda\\_4 & C3\\_2 & Gouina & IPP Tobene Power\\_2 & Kahone C1\\_2 & \\\\\n",
       "\t\\hline\n",
       "\t& DateTime & Float64 & Float64 & Float64 & Float64 & Float64 & \\\\\n",
       "\t\\hline\n",
       "\t1 & 2023-12-01T01:00:00 & 0.0 & 0.0 & 0.0 & 0.0 & 0.0 & $\\dots$ \\\\\n",
       "\t2 & 2023-12-01T02:00:00 & 0.0 & 0.0 & 0.0 & 0.0 & 0.0 & $\\dots$ \\\\\n",
       "\t3 & 2023-12-01T03:00:00 & 0.0 & 0.0 & 0.0 & 0.0 & 0.0 & $\\dots$ \\\\\n",
       "\t4 & 2023-12-01T04:00:00 & 0.0 & 0.0 & 0.0 & 0.0 & 0.0 & $\\dots$ \\\\\n",
       "\t5 & 2023-12-01T05:00:00 & 0.0 & 0.0 & 0.0 & 0.0 & 0.0 & $\\dots$ \\\\\n",
       "\t6 & 2023-12-01T06:00:00 & 0.0 & 0.0 & 0.0 & 0.0 & 0.0 & $\\dots$ \\\\\n",
       "\t7 & 2023-12-01T07:00:00 & 0.0 & 0.0 & 0.0 & 0.0 & 0.0 & $\\dots$ \\\\\n",
       "\t8 & 2023-12-01T08:00:00 & 0.0 & 0.0 & 0.0 & 0.0 & 0.0 & $\\dots$ \\\\\n",
       "\t9 & 2023-12-01T09:00:00 & 0.0 & 0.0 & 0.0 & 0.0 & 0.0 & $\\dots$ \\\\\n",
       "\t10 & 2023-12-01T10:00:00 & 0.0 & 0.0 & 0.0 & 0.0 & 0.0 & $\\dots$ \\\\\n",
       "\t11 & 2023-12-01T11:00:00 & 0.0 & 0.0 & 0.0 & 0.0 & 0.0 & $\\dots$ \\\\\n",
       "\t12 & 2023-12-01T12:00:00 & 0.0 & 0.0 & 0.0 & 0.0 & 0.0 & $\\dots$ \\\\\n",
       "\t13 & 2023-12-01T13:00:00 & 0.0 & 0.0 & 0.0 & 0.0 & 0.0 & $\\dots$ \\\\\n",
       "\t14 & 2023-12-01T14:00:00 & 0.0 & 0.0 & 0.0 & 0.0 & 0.0 & $\\dots$ \\\\\n",
       "\t15 & 2023-12-01T15:00:00 & 0.0 & 0.0 & 0.0 & 0.0 & 0.0 & $\\dots$ \\\\\n",
       "\t16 & 2023-12-01T16:00:00 & 0.0 & 0.0 & 0.0 & 0.0 & 0.0 & $\\dots$ \\\\\n",
       "\t17 & 2023-12-01T17:00:00 & 0.0 & 0.0 & 0.0 & 0.0 & 0.0 & $\\dots$ \\\\\n",
       "\t18 & 2023-12-01T18:00:00 & 0.0 & 0.0 & 0.0 & 0.0 & 0.0 & $\\dots$ \\\\\n",
       "\t19 & 2023-12-01T19:00:00 & 0.0 & 0.0 & 0.0 & 0.0 & 0.0 & $\\dots$ \\\\\n",
       "\t20 & 2023-12-01T20:00:00 & 0.0 & 0.0 & 0.0 & 0.0 & 0.0 & $\\dots$ \\\\\n",
       "\t21 & 2023-12-01T21:00:00 & 0.0 & 0.0 & 0.0 & 0.0 & 0.0 & $\\dots$ \\\\\n",
       "\t22 & 2023-12-01T22:00:00 & 0.0 & 0.0 & 0.0 & 0.0 & 0.0 & $\\dots$ \\\\\n",
       "\t23 & 2023-12-01T23:00:00 & 0.0 & 0.0 & 0.0 & 0.0 & 0.0 & $\\dots$ \\\\\n",
       "\t24 & 2023-12-02T00:00:00 & 0.0 & 0.0 & 0.0 & 0.0 & 0.0 & $\\dots$ \\\\\n",
       "\t25 & 2023-12-02T01:00:00 & 0.0 & 0.0 & 0.0 & 0.0 & 0.0 & $\\dots$ \\\\\n",
       "\t26 & 2023-12-02T02:00:00 & 0.0 & 0.0 & 0.0 & 0.0 & 0.0 & $\\dots$ \\\\\n",
       "\t27 & 2023-12-02T03:00:00 & 0.0 & 0.0 & 0.0 & 0.0 & 0.0 & $\\dots$ \\\\\n",
       "\t28 & 2023-12-02T04:00:00 & 0.0 & 0.0 & 0.0 & 0.0 & 0.0 & $\\dots$ \\\\\n",
       "\t29 & 2023-12-02T05:00:00 & 0.0 & 0.0 & 0.0 & 0.0 & 0.0 & $\\dots$ \\\\\n",
       "\t30 & 2023-12-02T06:00:00 & 0.0 & 0.0 & 0.0 & 0.0 & 0.0 & $\\dots$ \\\\\n",
       "\t$\\dots$ & $\\dots$ & $\\dots$ & $\\dots$ & $\\dots$ & $\\dots$ & $\\dots$ &  \\\\\n",
       "\\end{tabular}\n"
      ],
      "text/plain": [
       "\u001b[1m47×74 DataFrame\u001b[0m\n",
       "\u001b[1m Row \u001b[0m│\u001b[1m datetime            \u001b[0m\u001b[1m Malicounda_4 \u001b[0m\u001b[1m C3_2    \u001b[0m\u001b[1m Gouina  \u001b[0m\u001b[1m IPP Tobene Power_2\u001b[0m ⋯\n",
       "     │\u001b[90m DateTime            \u001b[0m\u001b[90m Float64      \u001b[0m\u001b[90m Float64 \u001b[0m\u001b[90m Float64 \u001b[0m\u001b[90m Float64           \u001b[0m ⋯\n",
       "─────┼──────────────────────────────────────────────────────────────────────────\n",
       "   1 │ 2023-12-01T01:00:00           0.0      0.0      0.0                 0.0 ⋯\n",
       "   2 │ 2023-12-01T02:00:00           0.0      0.0      0.0                 0.0\n",
       "   3 │ 2023-12-01T03:00:00           0.0      0.0      0.0                 0.0\n",
       "   4 │ 2023-12-01T04:00:00           0.0      0.0      0.0                 0.0\n",
       "   5 │ 2023-12-01T05:00:00           0.0      0.0      0.0                 0.0 ⋯\n",
       "   6 │ 2023-12-01T06:00:00           0.0      0.0      0.0                 0.0\n",
       "   7 │ 2023-12-01T07:00:00           0.0      0.0      0.0                 0.0\n",
       "   8 │ 2023-12-01T08:00:00           0.0      0.0      0.0                 0.0\n",
       "   9 │ 2023-12-01T09:00:00           0.0      0.0      0.0                 0.0 ⋯\n",
       "  10 │ 2023-12-01T10:00:00           0.0      0.0      0.0                 0.0\n",
       "  11 │ 2023-12-01T11:00:00           0.0      0.0      0.0                 0.0\n",
       "  ⋮  │          ⋮                ⋮           ⋮        ⋮             ⋮          ⋱\n",
       "  38 │ 2023-12-02T14:00:00           0.0      0.0      0.0                 0.0\n",
       "  39 │ 2023-12-02T15:00:00           0.0      0.0      0.0                 0.0 ⋯\n",
       "  40 │ 2023-12-02T16:00:00           0.0      0.0      0.0                 0.0\n",
       "  41 │ 2023-12-02T17:00:00           0.0      0.0      0.0                 0.0\n",
       "  42 │ 2023-12-02T18:00:00           0.0      0.0      0.0                 0.0\n",
       "  43 │ 2023-12-02T19:00:00           0.0      0.0      0.0                 0.0 ⋯\n",
       "  44 │ 2023-12-02T20:00:00           0.0      0.0      0.0                 0.0\n",
       "  45 │ 2023-12-02T21:00:00           0.0      0.0      0.0                 0.0\n",
       "  46 │ 2023-12-02T22:00:00           0.0      0.0      0.0                 0.0\n",
       "  47 │ 2023-12-02T23:00:00           0.0      0.0      0.0                 0.0 ⋯\n",
       "\u001b[36m                                                  69 columns and 26 rows omitted\u001b[0m"
      ]
     },
     "execution_count": 71,
     "metadata": {},
     "output_type": "execute_result"
    }
   ],
   "source": [
    "r3ns_df"
   ]
  },
  {
   "cell_type": "code",
   "execution_count": 72,
   "id": "01002531-3f94-407a-9b34-2729a0d2758c",
   "metadata": {},
   "outputs": [
    {
     "data": {
      "text/plain": [
       "768.027218536888"
      ]
     },
     "execution_count": 72,
     "metadata": {},
     "output_type": "execute_result"
    }
   ],
   "source": [
    "sum(pg_df[1, 2:end])"
   ]
  },
  {
   "cell_type": "code",
   "execution_count": 73,
   "id": "c22122aa-2980-41c5-909b-e98cd9b1d067",
   "metadata": {},
   "outputs": [
    {
     "data": {
      "text/html": [
       "<div><div style = \"float: left;\"><span>47×74 DataFrame</span></div><div style = \"float: right;\"><span style = \"font-style: italic;\">22 rows omitted</span></div><div style = \"clear: both;\"></div></div><div class = \"data-frame\" style = \"overflow-x: scroll;\"><table class = \"data-frame\" style = \"margin-bottom: 6px;\"><thead><tr class = \"header\"><th class = \"rowNumber\" style = \"font-weight: bold; text-align: right;\">Row</th><th style = \"text-align: left;\">datetime</th><th style = \"text-align: left;\">Malicounda_4</th><th style = \"text-align: left;\">C3_2</th><th style = \"text-align: left;\">Gouina</th><th style = \"text-align: left;\">IPP Tobene Power_2</th><th style = \"text-align: left;\">Kahone C1_2</th><th style = \"text-align: left;\">BEL-AIR TAG4</th><th style = \"text-align: left;\">Malicounda_7</th><th style = \"text-align: left;\">Cap des Biches C4_1</th><th style = \"text-align: left;\">KARPOWERSHIP_6</th><th style = \"text-align: left;\">Kahone C1_1</th><th style = \"text-align: left;\">IPP Contour Global_2</th><th style = \"text-align: left;\">IPP Contour Global_3</th><th style = \"text-align: left;\">IPP Tobene Power_6</th><th style = \"text-align: left;\">KARPOWERSHIP_7</th><th style = \"text-align: left;\">IPP Tobene Power_3</th><th style = \"text-align: left;\">IPP Tobene Power TAV_2</th><th style = \"text-align: left;\">IPP Kounoune Power_3</th><th style = \"text-align: left;\">Cap des Biches C4_4</th><th style = \"text-align: left;\">KARPOWERSHIP_1</th><th style = \"text-align: left;\">Kahone C7_5</th><th style = \"text-align: left;\">Bel-Air C6_3</th><th style = \"text-align: left;\">Kahone C1_4</th><th style = \"text-align: left;\">Kahone C7_4</th><th style = \"text-align: left;\">Malicounda_5</th><th style = \"text-align: left;\">Bel-Air C6_6</th><th style = \"text-align: left;\">Felou</th><th style = \"text-align: left;\">KARPOWERSHIP_12</th><th style = \"text-align: left;\">Bel-Air C6_1</th><th style = \"text-align: left;\">Kahone C7_3</th><th style = \"text-align: left;\">KARPOWERSHIP_9</th><th style = \"text-align: left;\">Malicounda_6</th><th style = \"text-align: left;\">IPP Contour Global_1</th><th style = \"text-align: left;\">IPP Tobene Power_5</th><th style = \"text-align: left;\">KARPOWERSHIP_3</th><th style = \"text-align: left;\">Bel-Air C6_4</th><th style = \"text-align: left;\">Cap des Biches C4_3</th><th style = \"text-align: left;\">IPP Malicounda Power TAV</th><th style = \"text-align: left;\">IPP Tobene Power_1</th><th style = \"text-align: left;\">KARPOWERSHIP_2</th><th style = \"text-align: left;\">IPP Contour Global_4</th><th style = \"text-align: left;\">Bel-Air C6_2</th><th style = \"text-align: left;\">IPP Kounoune Power_8</th><th style = \"text-align: left;\">KARPOWERSHIP_5</th><th style = \"text-align: left;\">IPP Kounoune Power_9</th><th style = \"text-align: left;\">C3_1</th><th style = \"text-align: left;\">Kahone C7_2</th><th style = \"text-align: left;\">IPP Kounoune Power_1</th><th style = \"text-align: left;\">IPP Kounoune Power_2</th><th style = \"text-align: left;\">Kahone C7_1</th><th style = \"text-align: left;\">Malicounda_1</th><th style = \"text-align: left;\">KARPOWERSHIP_10</th><th style = \"text-align: left;\">SLACK</th><th style = \"text-align: left;\">Kahone C1_3</th><th style = \"text-align: left;\">Manantali</th><th style = \"text-align: left;\">Malicounda_2</th><th style = \"text-align: left;\">Cap des Biches C4_5</th><th style = \"text-align: left;\">Kaleta</th><th style = \"text-align: left;\">KARPOWERSHIP_4</th><th style = \"text-align: left;\">Bel-Air C6_5</th><th style = \"text-align: left;\">IPP Contour Global_5</th><th style = \"text-align: left;\">IPP Kounoune Power_7</th><th style = \"text-align: left;\">IPP Kounoune Power_6</th><th style = \"text-align: left;\">KARPOWERSHIP_11</th><th style = \"text-align: left;\">IPP Kounoune Power_5</th><th style = \"text-align: left;\">Cap des Biches C4_2</th><th style = \"text-align: left;\">IPP Kounoune Power_4</th><th style = \"text-align: left;\">Malicounda_3</th><th style = \"text-align: left;\">Sendou</th><th style = \"text-align: left;\">IPP Tobene Power_4</th><th style = \"text-align: left;\">CDB TAG2</th><th style = \"text-align: left;\">KARPOWERSHIP_8</th><th style = \"text-align: left;\">Kahone C7_6</th><th style = \"text-align: left;\">IPP Contour Global TAV_1</th></tr><tr class = \"subheader headerLastRow\"><th class = \"rowNumber\" style = \"font-weight: bold; text-align: right;\"></th><th title = \"DateTime\" style = \"text-align: left;\">DateTime</th><th title = \"Float64\" style = \"text-align: left;\">Float64</th><th title = \"Float64\" style = \"text-align: left;\">Float64</th><th title = \"Float64\" style = \"text-align: left;\">Float64</th><th title = \"Float64\" style = \"text-align: left;\">Float64</th><th title = \"Float64\" style = \"text-align: left;\">Float64</th><th title = \"Float64\" style = \"text-align: left;\">Float64</th><th title = \"Float64\" style = \"text-align: left;\">Float64</th><th title = \"Float64\" style = \"text-align: left;\">Float64</th><th title = \"Float64\" style = \"text-align: left;\">Float64</th><th title = \"Float64\" style = \"text-align: left;\">Float64</th><th title = \"Float64\" style = \"text-align: left;\">Float64</th><th title = \"Float64\" style = \"text-align: left;\">Float64</th><th title = \"Float64\" style = \"text-align: left;\">Float64</th><th title = \"Float64\" style = \"text-align: left;\">Float64</th><th title = \"Float64\" style = \"text-align: left;\">Float64</th><th title = \"Float64\" style = \"text-align: left;\">Float64</th><th title = \"Float64\" style = \"text-align: left;\">Float64</th><th title = \"Float64\" style = \"text-align: left;\">Float64</th><th title = \"Float64\" style = \"text-align: left;\">Float64</th><th title = \"Float64\" style = \"text-align: left;\">Float64</th><th title = \"Float64\" style = \"text-align: left;\">Float64</th><th title = \"Float64\" style = \"text-align: left;\">Float64</th><th title = \"Float64\" style = \"text-align: left;\">Float64</th><th title = \"Float64\" style = \"text-align: left;\">Float64</th><th title = \"Float64\" style = \"text-align: left;\">Float64</th><th title = \"Float64\" style = \"text-align: left;\">Float64</th><th title = \"Float64\" style = \"text-align: left;\">Float64</th><th title = \"Float64\" style = \"text-align: left;\">Float64</th><th title = \"Float64\" style = \"text-align: left;\">Float64</th><th title = \"Float64\" style = \"text-align: left;\">Float64</th><th title = \"Float64\" style = \"text-align: left;\">Float64</th><th title = \"Float64\" style = \"text-align: left;\">Float64</th><th title = \"Float64\" style = \"text-align: left;\">Float64</th><th title = \"Float64\" style = \"text-align: left;\">Float64</th><th title = \"Float64\" style = \"text-align: left;\">Float64</th><th title = \"Float64\" style = \"text-align: left;\">Float64</th><th title = \"Float64\" style = \"text-align: left;\">Float64</th><th title = \"Float64\" style = \"text-align: left;\">Float64</th><th title = \"Float64\" style = \"text-align: left;\">Float64</th><th title = \"Float64\" style = \"text-align: left;\">Float64</th><th title = \"Float64\" style = \"text-align: left;\">Float64</th><th title = \"Float64\" style = \"text-align: left;\">Float64</th><th title = \"Float64\" style = \"text-align: left;\">Float64</th><th title = \"Float64\" style = \"text-align: left;\">Float64</th><th title = \"Float64\" style = \"text-align: left;\">Float64</th><th title = \"Float64\" style = \"text-align: left;\">Float64</th><th title = \"Float64\" style = \"text-align: left;\">Float64</th><th title = \"Float64\" style = \"text-align: left;\">Float64</th><th title = \"Float64\" style = \"text-align: left;\">Float64</th><th title = \"Float64\" style = \"text-align: left;\">Float64</th><th title = \"Float64\" style = \"text-align: left;\">Float64</th><th title = \"Float64\" style = \"text-align: left;\">Float64</th><th title = \"Float64\" style = \"text-align: left;\">Float64</th><th title = \"Float64\" style = \"text-align: left;\">Float64</th><th title = \"Float64\" style = \"text-align: left;\">Float64</th><th title = \"Float64\" style = \"text-align: left;\">Float64</th><th title = \"Float64\" style = \"text-align: left;\">Float64</th><th title = \"Float64\" style = \"text-align: left;\">Float64</th><th title = \"Float64\" style = \"text-align: left;\">Float64</th><th title = \"Float64\" style = \"text-align: left;\">Float64</th><th title = \"Float64\" style = \"text-align: left;\">Float64</th><th title = \"Float64\" style = \"text-align: left;\">Float64</th><th title = \"Float64\" style = \"text-align: left;\">Float64</th><th title = \"Float64\" style = \"text-align: left;\">Float64</th><th title = \"Float64\" style = \"text-align: left;\">Float64</th><th title = \"Float64\" style = \"text-align: left;\">Float64</th><th title = \"Float64\" style = \"text-align: left;\">Float64</th><th title = \"Float64\" style = \"text-align: left;\">Float64</th><th title = \"Float64\" style = \"text-align: left;\">Float64</th><th title = \"Float64\" style = \"text-align: left;\">Float64</th><th title = \"Float64\" style = \"text-align: left;\">Float64</th><th title = \"Float64\" style = \"text-align: left;\">Float64</th><th title = \"Float64\" style = \"text-align: left;\">Float64</th></tr></thead><tbody><tr><td class = \"rowNumber\" style = \"font-weight: bold; text-align: right;\">1</td><td style = \"text-align: left;\">2023-12-01T01:00:00</td><td style = \"text-align: right;\">13.75</td><td style = \"text-align: right;\">0.0</td><td style = \"text-align: right;\">46.7</td><td style = \"text-align: right;\">12.0</td><td style = \"text-align: right;\">0.0</td><td style = \"text-align: right;\">0.0</td><td style = \"text-align: right;\">13.75</td><td style = \"text-align: right;\">17.0</td><td style = \"text-align: right;\">13.75</td><td style = \"text-align: right;\">0.0</td><td style = \"text-align: right;\">11.0</td><td style = \"text-align: right;\">11.0</td><td style = \"text-align: right;\">0.0</td><td style = \"text-align: right;\">13.75</td><td style = \"text-align: right;\">12.0</td><td style = \"text-align: right;\">0.0</td><td style = \"text-align: right;\">0.0</td><td style = \"text-align: right;\">15.0</td><td style = \"text-align: right;\">13.75</td><td style = \"text-align: right;\">12.0</td><td style = \"text-align: right;\">13.5</td><td style = \"text-align: right;\">0.0</td><td style = \"text-align: right;\">12.0</td><td style = \"text-align: right;\">13.75</td><td style = \"text-align: right;\">13.5</td><td style = \"text-align: right;\">21.15</td><td style = \"text-align: right;\">13.75</td><td style = \"text-align: right;\">13.5</td><td style = \"text-align: right;\">12.0</td><td style = \"text-align: right;\">13.75</td><td style = \"text-align: right;\">13.75</td><td style = \"text-align: right;\">11.0</td><td style = \"text-align: right;\">0.0</td><td style = \"text-align: right;\">13.75</td><td style = \"text-align: right;\">16.4772</td><td style = \"text-align: right;\">17.0</td><td style = \"text-align: right;\">0.0</td><td style = \"text-align: right;\">12.0</td><td style = \"text-align: right;\">13.75</td><td style = \"text-align: right;\">11.0</td><td style = \"text-align: right;\">18.0</td><td style = \"text-align: right;\">0.0</td><td style = \"text-align: right;\">13.75</td><td style = \"text-align: right;\">0.0</td><td style = \"text-align: right;\">0.0</td><td style = \"text-align: right;\">12.0</td><td style = \"text-align: right;\">0.0</td><td style = \"text-align: right;\">0.0</td><td style = \"text-align: right;\">12.0</td><td style = \"text-align: right;\">13.75</td><td style = \"text-align: right;\">13.75</td><td style = \"text-align: right;\">0.0</td><td style = \"text-align: right;\">0.0</td><td style = \"text-align: right;\">39.95</td><td style = \"text-align: right;\">13.75</td><td style = \"text-align: right;\">15.0</td><td style = \"text-align: right;\">50.0</td><td style = \"text-align: right;\">13.75</td><td style = \"text-align: right;\">18.0</td><td style = \"text-align: right;\">11.0</td><td style = \"text-align: right;\">0.0</td><td style = \"text-align: right;\">0.0</td><td style = \"text-align: right;\">13.75</td><td style = \"text-align: right;\">0.0</td><td style = \"text-align: right;\">17.0</td><td style = \"text-align: right;\">0.0</td><td style = \"text-align: right;\">13.75</td><td style = \"text-align: right;\">0.0</td><td style = \"text-align: right;\">12.0</td><td style = \"text-align: right;\">0.0</td><td style = \"text-align: right;\">13.75</td><td style = \"text-align: right;\">12.0</td><td style = \"text-align: right;\">0.0</td></tr><tr><td class = \"rowNumber\" style = \"font-weight: bold; text-align: right;\">2</td><td style = \"text-align: left;\">2023-12-01T02:00:00</td><td style = \"text-align: right;\">13.75</td><td style = \"text-align: right;\">0.0</td><td style = \"text-align: right;\">46.7</td><td style = \"text-align: right;\">0.0</td><td style = \"text-align: right;\">0.0</td><td style = \"text-align: right;\">0.0</td><td style = \"text-align: right;\">13.75</td><td style = \"text-align: right;\">17.0</td><td style = \"text-align: right;\">13.75</td><td style = \"text-align: right;\">0.0</td><td style = \"text-align: right;\">11.0</td><td style = \"text-align: right;\">11.0</td><td style = \"text-align: right;\">0.0</td><td style = \"text-align: right;\">13.75</td><td style = \"text-align: right;\">12.0</td><td style = \"text-align: right;\">0.0</td><td style = \"text-align: right;\">0.0</td><td style = \"text-align: right;\">15.0</td><td style = \"text-align: right;\">13.75</td><td style = \"text-align: right;\">12.0</td><td style = \"text-align: right;\">12.4078</td><td style = \"text-align: right;\">0.0</td><td style = \"text-align: right;\">12.0</td><td style = \"text-align: right;\">13.75</td><td style = \"text-align: right;\">13.5</td><td style = \"text-align: right;\">21.15</td><td style = \"text-align: right;\">13.75</td><td style = \"text-align: right;\">12.0</td><td style = \"text-align: right;\">12.0</td><td style = \"text-align: right;\">13.75</td><td style = \"text-align: right;\">13.75</td><td style = \"text-align: right;\">11.0</td><td style = \"text-align: right;\">12.0</td><td style = \"text-align: right;\">13.75</td><td style = \"text-align: right;\">13.5</td><td style = \"text-align: right;\">17.0</td><td style = \"text-align: right;\">0.0</td><td style = \"text-align: right;\">0.0</td><td style = \"text-align: right;\">13.75</td><td style = \"text-align: right;\">11.0</td><td style = \"text-align: right;\">13.5</td><td style = \"text-align: right;\">0.0</td><td style = \"text-align: right;\">13.75</td><td style = \"text-align: right;\">0.0</td><td style = \"text-align: right;\">0.0</td><td style = \"text-align: right;\">12.0</td><td style = \"text-align: right;\">0.0</td><td style = \"text-align: right;\">0.0</td><td style = \"text-align: right;\">12.0</td><td style = \"text-align: right;\">13.75</td><td style = \"text-align: right;\">13.75</td><td style = \"text-align: right;\">0.0</td><td style = \"text-align: right;\">0.0</td><td style = \"text-align: right;\">39.95</td><td style = \"text-align: right;\">13.75</td><td style = \"text-align: right;\">15.0</td><td style = \"text-align: right;\">50.0</td><td style = \"text-align: right;\">13.75</td><td style = \"text-align: right;\">12.0</td><td style = \"text-align: right;\">11.0</td><td style = \"text-align: right;\">0.0</td><td style = \"text-align: right;\">0.0</td><td style = \"text-align: right;\">13.75</td><td style = \"text-align: right;\">0.0</td><td style = \"text-align: right;\">17.0</td><td style = \"text-align: right;\">0.0</td><td style = \"text-align: right;\">13.75</td><td style = \"text-align: right;\">0.0</td><td style = \"text-align: right;\">12.0</td><td style = \"text-align: right;\">0.0</td><td style = \"text-align: right;\">13.75</td><td style = \"text-align: right;\">12.0</td><td style = \"text-align: right;\">0.0</td></tr><tr><td class = \"rowNumber\" style = \"font-weight: bold; text-align: right;\">3</td><td style = \"text-align: left;\">2023-12-01T03:00:00</td><td style = \"text-align: right;\">13.75</td><td style = \"text-align: right;\">0.0</td><td style = \"text-align: right;\">46.7</td><td style = \"text-align: right;\">0.0</td><td style = \"text-align: right;\">0.0</td><td style = \"text-align: right;\">0.0</td><td style = \"text-align: right;\">13.75</td><td style = \"text-align: right;\">17.0</td><td style = \"text-align: right;\">13.75</td><td style = \"text-align: right;\">0.0</td><td style = \"text-align: right;\">11.0</td><td style = \"text-align: right;\">11.0</td><td style = \"text-align: right;\">0.0</td><td style = \"text-align: right;\">13.75</td><td style = \"text-align: right;\">12.0</td><td style = \"text-align: right;\">0.0</td><td style = \"text-align: right;\">0.0</td><td style = \"text-align: right;\">15.0</td><td style = \"text-align: right;\">13.75</td><td style = \"text-align: right;\">12.0</td><td style = \"text-align: right;\">13.5</td><td style = \"text-align: right;\">0.0</td><td style = \"text-align: right;\">12.0</td><td style = \"text-align: right;\">13.75</td><td style = \"text-align: right;\">12.0</td><td style = \"text-align: right;\">21.15</td><td style = \"text-align: right;\">13.75</td><td style = \"text-align: right;\">12.941</td><td style = \"text-align: right;\">12.0</td><td style = \"text-align: right;\">13.75</td><td style = \"text-align: right;\">13.75</td><td style = \"text-align: right;\">11.0</td><td style = \"text-align: right;\">12.0</td><td style = \"text-align: right;\">13.75</td><td style = \"text-align: right;\">12.0</td><td style = \"text-align: right;\">17.0</td><td style = \"text-align: right;\">0.0</td><td style = \"text-align: right;\">0.0</td><td style = \"text-align: right;\">13.75</td><td style = \"text-align: right;\">11.0</td><td style = \"text-align: right;\">13.5</td><td style = \"text-align: right;\">0.0</td><td style = \"text-align: right;\">13.75</td><td style = \"text-align: right;\">0.0</td><td style = \"text-align: right;\">0.0</td><td style = \"text-align: right;\">12.0</td><td style = \"text-align: right;\">0.0</td><td style = \"text-align: right;\">0.0</td><td style = \"text-align: right;\">12.0</td><td style = \"text-align: right;\">13.75</td><td style = \"text-align: right;\">13.75</td><td style = \"text-align: right;\">0.0</td><td style = \"text-align: right;\">0.0</td><td style = \"text-align: right;\">39.95</td><td style = \"text-align: right;\">13.75</td><td style = \"text-align: right;\">15.0</td><td style = \"text-align: right;\">50.0</td><td style = \"text-align: right;\">13.75</td><td style = \"text-align: right;\">13.5</td><td style = \"text-align: right;\">11.0</td><td style = \"text-align: right;\">0.0</td><td style = \"text-align: right;\">0.0</td><td style = \"text-align: right;\">13.75</td><td style = \"text-align: right;\">0.0</td><td style = \"text-align: right;\">17.0</td><td style = \"text-align: right;\">0.0</td><td style = \"text-align: right;\">13.75</td><td style = \"text-align: right;\">0.0</td><td style = \"text-align: right;\">12.0</td><td style = \"text-align: right;\">0.0</td><td style = \"text-align: right;\">13.75</td><td style = \"text-align: right;\">12.0</td><td style = \"text-align: right;\">0.0</td></tr><tr><td class = \"rowNumber\" style = \"font-weight: bold; text-align: right;\">4</td><td style = \"text-align: left;\">2023-12-01T04:00:00</td><td style = \"text-align: right;\">13.75</td><td style = \"text-align: right;\">0.0</td><td style = \"text-align: right;\">41.2939</td><td style = \"text-align: right;\">0.0</td><td style = \"text-align: right;\">0.0</td><td style = \"text-align: right;\">0.0</td><td style = \"text-align: right;\">13.75</td><td style = \"text-align: right;\">17.0</td><td style = \"text-align: right;\">13.75</td><td style = \"text-align: right;\">0.0</td><td style = \"text-align: right;\">11.0</td><td style = \"text-align: right;\">11.0</td><td style = \"text-align: right;\">0.0</td><td style = \"text-align: right;\">13.75</td><td style = \"text-align: right;\">12.0</td><td style = \"text-align: right;\">0.0</td><td style = \"text-align: right;\">0.0</td><td style = \"text-align: right;\">13.0</td><td style = \"text-align: right;\">0.0</td><td style = \"text-align: right;\">12.0</td><td style = \"text-align: right;\">12.0</td><td style = \"text-align: right;\">0.0</td><td style = \"text-align: right;\">12.0</td><td style = \"text-align: right;\">13.75</td><td style = \"text-align: right;\">12.0</td><td style = \"text-align: right;\">21.15</td><td style = \"text-align: right;\">0.0</td><td style = \"text-align: right;\">12.0</td><td style = \"text-align: right;\">12.0</td><td style = \"text-align: right;\">13.75</td><td style = \"text-align: right;\">13.75</td><td style = \"text-align: right;\">11.0</td><td style = \"text-align: right;\">12.0</td><td style = \"text-align: right;\">13.75</td><td style = \"text-align: right;\">12.0</td><td style = \"text-align: right;\">17.0</td><td style = \"text-align: right;\">0.0</td><td style = \"text-align: right;\">12.0</td><td style = \"text-align: right;\">13.75</td><td style = \"text-align: right;\">11.0</td><td style = \"text-align: right;\">12.0</td><td style = \"text-align: right;\">0.0</td><td style = \"text-align: right;\">0.0</td><td style = \"text-align: right;\">0.0</td><td style = \"text-align: right;\">0.0</td><td style = \"text-align: right;\">12.0</td><td style = \"text-align: right;\">0.0</td><td style = \"text-align: right;\">0.0</td><td style = \"text-align: right;\">12.0</td><td style = \"text-align: right;\">13.75</td><td style = \"text-align: right;\">13.75</td><td style = \"text-align: right;\">0.0</td><td style = \"text-align: right;\">0.0</td><td style = \"text-align: right;\">39.95</td><td style = \"text-align: right;\">13.75</td><td style = \"text-align: right;\">13.0</td><td style = \"text-align: right;\">50.0</td><td style = \"text-align: right;\">13.75</td><td style = \"text-align: right;\">12.0</td><td style = \"text-align: right;\">11.0</td><td style = \"text-align: right;\">0.0</td><td style = \"text-align: right;\">0.0</td><td style = \"text-align: right;\">0.0</td><td style = \"text-align: right;\">0.0</td><td style = \"text-align: right;\">17.0</td><td style = \"text-align: right;\">0.0</td><td style = \"text-align: right;\">13.75</td><td style = \"text-align: right;\">0.0</td><td style = \"text-align: right;\">12.0</td><td style = \"text-align: right;\">0.0</td><td style = \"text-align: right;\">13.75</td><td style = \"text-align: right;\">12.0</td><td style = \"text-align: right;\">0.0</td></tr><tr><td class = \"rowNumber\" style = \"font-weight: bold; text-align: right;\">5</td><td style = \"text-align: left;\">2023-12-01T05:00:00</td><td style = \"text-align: right;\">13.75</td><td style = \"text-align: right;\">0.0</td><td style = \"text-align: right;\">40.6691</td><td style = \"text-align: right;\">12.0</td><td style = \"text-align: right;\">0.0</td><td style = \"text-align: right;\">0.0</td><td style = \"text-align: right;\">13.75</td><td style = \"text-align: right;\">17.0</td><td style = \"text-align: right;\">13.75</td><td style = \"text-align: right;\">0.0</td><td style = \"text-align: right;\">11.0</td><td style = \"text-align: right;\">11.0</td><td style = \"text-align: right;\">12.0</td><td style = \"text-align: right;\">13.75</td><td style = \"text-align: right;\">0.0</td><td style = \"text-align: right;\">0.0</td><td style = \"text-align: right;\">0.0</td><td style = \"text-align: right;\">13.0</td><td style = \"text-align: right;\">0.0</td><td style = \"text-align: right;\">12.0</td><td style = \"text-align: right;\">12.0</td><td style = \"text-align: right;\">0.0</td><td style = \"text-align: right;\">12.0</td><td style = \"text-align: right;\">13.75</td><td style = \"text-align: right;\">12.0</td><td style = \"text-align: right;\">21.15</td><td style = \"text-align: right;\">0.0</td><td style = \"text-align: right;\">12.0</td><td style = \"text-align: right;\">12.0</td><td style = \"text-align: right;\">13.75</td><td style = \"text-align: right;\">13.75</td><td style = \"text-align: right;\">11.0</td><td style = \"text-align: right;\">12.0</td><td style = \"text-align: right;\">0.0</td><td style = \"text-align: right;\">12.0</td><td style = \"text-align: right;\">17.0</td><td style = \"text-align: right;\">9.44</td><td style = \"text-align: right;\">12.0</td><td style = \"text-align: right;\">13.75</td><td style = \"text-align: right;\">11.0</td><td style = \"text-align: right;\">12.0</td><td style = \"text-align: right;\">0.0</td><td style = \"text-align: right;\">0.0</td><td style = \"text-align: right;\">0.0</td><td style = \"text-align: right;\">0.0</td><td style = \"text-align: right;\">12.0</td><td style = \"text-align: right;\">0.0</td><td style = \"text-align: right;\">0.0</td><td style = \"text-align: right;\">12.0</td><td style = \"text-align: right;\">13.75</td><td style = \"text-align: right;\">13.75</td><td style = \"text-align: right;\">0.0</td><td style = \"text-align: right;\">0.0</td><td style = \"text-align: right;\">39.95</td><td style = \"text-align: right;\">13.75</td><td style = \"text-align: right;\">13.0</td><td style = \"text-align: right;\">50.0</td><td style = \"text-align: right;\">13.75</td><td style = \"text-align: right;\">12.0</td><td style = \"text-align: right;\">11.0</td><td style = \"text-align: right;\">0.0</td><td style = \"text-align: right;\">0.0</td><td style = \"text-align: right;\">0.0</td><td style = \"text-align: right;\">0.0</td><td style = \"text-align: right;\">17.0</td><td style = \"text-align: right;\">0.0</td><td style = \"text-align: right;\">13.75</td><td style = \"text-align: right;\">0.0</td><td style = \"text-align: right;\">12.0</td><td style = \"text-align: right;\">0.0</td><td style = \"text-align: right;\">0.0</td><td style = \"text-align: right;\">12.0</td><td style = \"text-align: right;\">0.0</td></tr><tr><td class = \"rowNumber\" style = \"font-weight: bold; text-align: right;\">6</td><td style = \"text-align: left;\">2023-12-01T06:00:00</td><td style = \"text-align: right;\">13.75</td><td style = \"text-align: right;\">0.0</td><td style = \"text-align: right;\">35.2281</td><td style = \"text-align: right;\">12.0</td><td style = \"text-align: right;\">0.0</td><td style = \"text-align: right;\">0.0</td><td style = \"text-align: right;\">13.75</td><td style = \"text-align: right;\">17.0</td><td style = \"text-align: right;\">0.0</td><td style = \"text-align: right;\">0.0</td><td style = \"text-align: right;\">11.0</td><td style = \"text-align: right;\">11.0</td><td style = \"text-align: right;\">12.0</td><td style = \"text-align: right;\">13.75</td><td style = \"text-align: right;\">12.0</td><td style = \"text-align: right;\">0.0</td><td style = \"text-align: right;\">0.0</td><td style = \"text-align: right;\">13.0</td><td style = \"text-align: right;\">0.0</td><td style = \"text-align: right;\">12.0</td><td style = \"text-align: right;\">12.0</td><td style = \"text-align: right;\">0.0</td><td style = \"text-align: right;\">12.0</td><td style = \"text-align: right;\">13.75</td><td style = \"text-align: right;\">12.0</td><td style = \"text-align: right;\">21.15</td><td style = \"text-align: right;\">0.0</td><td style = \"text-align: right;\">12.0</td><td style = \"text-align: right;\">12.0</td><td style = \"text-align: right;\">0.0</td><td style = \"text-align: right;\">13.75</td><td style = \"text-align: right;\">11.0</td><td style = \"text-align: right;\">12.0</td><td style = \"text-align: right;\">0.0</td><td style = \"text-align: right;\">12.0</td><td style = \"text-align: right;\">17.0</td><td style = \"text-align: right;\">9.44</td><td style = \"text-align: right;\">12.0</td><td style = \"text-align: right;\">13.75</td><td style = \"text-align: right;\">11.0</td><td style = \"text-align: right;\">12.0</td><td style = \"text-align: right;\">0.0</td><td style = \"text-align: right;\">0.0</td><td style = \"text-align: right;\">0.0</td><td style = \"text-align: right;\">0.0</td><td style = \"text-align: right;\">12.0</td><td style = \"text-align: right;\">0.0</td><td style = \"text-align: right;\">0.0</td><td style = \"text-align: right;\">12.0</td><td style = \"text-align: right;\">13.75</td><td style = \"text-align: right;\">13.75</td><td style = \"text-align: right;\">0.0</td><td style = \"text-align: right;\">0.0</td><td style = \"text-align: right;\">39.95</td><td style = \"text-align: right;\">13.75</td><td style = \"text-align: right;\">13.0</td><td style = \"text-align: right;\">50.0</td><td style = \"text-align: right;\">13.75</td><td style = \"text-align: right;\">12.0</td><td style = \"text-align: right;\">11.0</td><td style = \"text-align: right;\">0.0</td><td style = \"text-align: right;\">0.0</td><td style = \"text-align: right;\">0.0</td><td style = \"text-align: right;\">0.0</td><td style = \"text-align: right;\">17.0</td><td style = \"text-align: right;\">0.0</td><td style = \"text-align: right;\">13.75</td><td style = \"text-align: right;\">0.0</td><td style = \"text-align: right;\">12.0</td><td style = \"text-align: right;\">0.0</td><td style = \"text-align: right;\">0.0</td><td style = \"text-align: right;\">12.0</td><td style = \"text-align: right;\">0.0</td></tr><tr><td class = \"rowNumber\" style = \"font-weight: bold; text-align: right;\">7</td><td style = \"text-align: left;\">2023-12-01T07:00:00</td><td style = \"text-align: right;\">13.75</td><td style = \"text-align: right;\">0.0</td><td style = \"text-align: right;\">38.89</td><td style = \"text-align: right;\">12.0</td><td style = \"text-align: right;\">0.0</td><td style = \"text-align: right;\">0.0</td><td style = \"text-align: right;\">13.75</td><td style = \"text-align: right;\">17.0</td><td style = \"text-align: right;\">13.75</td><td style = \"text-align: right;\">0.0</td><td style = \"text-align: right;\">11.0</td><td style = \"text-align: right;\">11.0</td><td style = \"text-align: right;\">12.0</td><td style = \"text-align: right;\">13.75</td><td style = \"text-align: right;\">0.0</td><td style = \"text-align: right;\">0.0</td><td style = \"text-align: right;\">0.0</td><td style = \"text-align: right;\">13.0</td><td style = \"text-align: right;\">0.0</td><td style = \"text-align: right;\">12.0</td><td style = \"text-align: right;\">12.0</td><td style = \"text-align: right;\">0.0</td><td style = \"text-align: right;\">12.0</td><td style = \"text-align: right;\">13.75</td><td style = \"text-align: right;\">12.0</td><td style = \"text-align: right;\">21.15</td><td style = \"text-align: right;\">13.75</td><td style = \"text-align: right;\">12.0</td><td style = \"text-align: right;\">12.0</td><td style = \"text-align: right;\">13.75</td><td style = \"text-align: right;\">13.75</td><td style = \"text-align: right;\">11.0</td><td style = \"text-align: right;\">0.0</td><td style = \"text-align: right;\">13.75</td><td style = \"text-align: right;\">12.0</td><td style = \"text-align: right;\">17.0</td><td style = \"text-align: right;\">0.0</td><td style = \"text-align: right;\">0.0</td><td style = \"text-align: right;\">13.75</td><td style = \"text-align: right;\">11.0</td><td style = \"text-align: right;\">12.0</td><td style = \"text-align: right;\">0.0</td><td style = \"text-align: right;\">0.0</td><td style = \"text-align: right;\">0.0</td><td style = \"text-align: right;\">0.0</td><td style = \"text-align: right;\">12.0</td><td style = \"text-align: right;\">0.0</td><td style = \"text-align: right;\">0.0</td><td style = \"text-align: right;\">12.0</td><td style = \"text-align: right;\">13.75</td><td style = \"text-align: right;\">13.75</td><td style = \"text-align: right;\">0.0</td><td style = \"text-align: right;\">0.0</td><td style = \"text-align: right;\">39.95</td><td style = \"text-align: right;\">13.75</td><td style = \"text-align: right;\">13.0</td><td style = \"text-align: right;\">50.0</td><td style = \"text-align: right;\">13.75</td><td style = \"text-align: right;\">12.0</td><td style = \"text-align: right;\">11.0</td><td style = \"text-align: right;\">0.0</td><td style = \"text-align: right;\">0.0</td><td style = \"text-align: right;\">13.75</td><td style = \"text-align: right;\">0.0</td><td style = \"text-align: right;\">17.0</td><td style = \"text-align: right;\">0.0</td><td style = \"text-align: right;\">13.75</td><td style = \"text-align: right;\">0.0</td><td style = \"text-align: right;\">12.0</td><td style = \"text-align: right;\">0.0</td><td style = \"text-align: right;\">13.75</td><td style = \"text-align: right;\">12.0</td><td style = \"text-align: right;\">0.0</td></tr><tr><td class = \"rowNumber\" style = \"font-weight: bold; text-align: right;\">8</td><td style = \"text-align: left;\">2023-12-01T08:00:00</td><td style = \"text-align: right;\">13.75</td><td style = \"text-align: right;\">0.0</td><td style = \"text-align: right;\">21.5253</td><td style = \"text-align: right;\">12.0</td><td style = \"text-align: right;\">0.0</td><td style = \"text-align: right;\">0.0</td><td style = \"text-align: right;\">13.75</td><td style = \"text-align: right;\">17.0</td><td style = \"text-align: right;\">0.0</td><td style = \"text-align: right;\">0.0</td><td style = \"text-align: right;\">11.0</td><td style = \"text-align: right;\">11.0</td><td style = \"text-align: right;\">12.0</td><td style = \"text-align: right;\">0.0</td><td style = \"text-align: right;\">12.0</td><td style = \"text-align: right;\">0.0</td><td style = \"text-align: right;\">0.0</td><td style = \"text-align: right;\">13.0</td><td style = \"text-align: right;\">0.0</td><td style = \"text-align: right;\">12.0</td><td style = \"text-align: right;\">12.0</td><td style = \"text-align: right;\">0.0</td><td style = \"text-align: right;\">12.0</td><td style = \"text-align: right;\">13.75</td><td style = \"text-align: right;\">12.0</td><td style = \"text-align: right;\">21.15</td><td style = \"text-align: right;\">0.0</td><td style = \"text-align: right;\">12.0</td><td style = \"text-align: right;\">12.0</td><td style = \"text-align: right;\">0.0</td><td style = \"text-align: right;\">13.75</td><td style = \"text-align: right;\">11.0</td><td style = \"text-align: right;\">12.0</td><td style = \"text-align: right;\">0.0</td><td style = \"text-align: right;\">12.0</td><td style = \"text-align: right;\">17.0</td><td style = \"text-align: right;\">0.0</td><td style = \"text-align: right;\">12.0</td><td style = \"text-align: right;\">0.0</td><td style = \"text-align: right;\">11.0</td><td style = \"text-align: right;\">12.0</td><td style = \"text-align: right;\">0.0</td><td style = \"text-align: right;\">0.0</td><td style = \"text-align: right;\">0.0</td><td style = \"text-align: right;\">0.0</td><td style = \"text-align: right;\">12.0</td><td style = \"text-align: right;\">0.0</td><td style = \"text-align: right;\">0.0</td><td style = \"text-align: right;\">12.0</td><td style = \"text-align: right;\">13.75</td><td style = \"text-align: right;\">13.75</td><td style = \"text-align: right;\">0.0</td><td style = \"text-align: right;\">0.0</td><td style = \"text-align: right;\">39.95</td><td style = \"text-align: right;\">13.75</td><td style = \"text-align: right;\">13.0</td><td style = \"text-align: right;\">50.0</td><td style = \"text-align: right;\">13.75</td><td style = \"text-align: right;\">12.0</td><td style = \"text-align: right;\">11.0</td><td style = \"text-align: right;\">0.0</td><td style = \"text-align: right;\">0.0</td><td style = \"text-align: right;\">0.0</td><td style = \"text-align: right;\">0.0</td><td style = \"text-align: right;\">17.0</td><td style = \"text-align: right;\">0.0</td><td style = \"text-align: right;\">13.75</td><td style = \"text-align: right;\">0.0</td><td style = \"text-align: right;\">12.0</td><td style = \"text-align: right;\">0.0</td><td style = \"text-align: right;\">0.0</td><td style = \"text-align: right;\">12.0</td><td style = \"text-align: right;\">0.0</td></tr><tr><td class = \"rowNumber\" style = \"font-weight: bold; text-align: right;\">9</td><td style = \"text-align: left;\">2023-12-01T09:00:00</td><td style = \"text-align: right;\">13.75</td><td style = \"text-align: right;\">0.0</td><td style = \"text-align: right;\">26.5394</td><td style = \"text-align: right;\">12.0</td><td style = \"text-align: right;\">0.0</td><td style = \"text-align: right;\">0.0</td><td style = \"text-align: right;\">13.75</td><td style = \"text-align: right;\">17.0</td><td style = \"text-align: right;\">0.0</td><td style = \"text-align: right;\">0.0</td><td style = \"text-align: right;\">11.0</td><td style = \"text-align: right;\">11.0</td><td style = \"text-align: right;\">12.0</td><td style = \"text-align: right;\">0.0</td><td style = \"text-align: right;\">12.0</td><td style = \"text-align: right;\">7.12</td><td style = \"text-align: right;\">0.0</td><td style = \"text-align: right;\">13.0</td><td style = \"text-align: right;\">0.0</td><td style = \"text-align: right;\">12.0</td><td style = \"text-align: right;\">12.0</td><td style = \"text-align: right;\">0.0</td><td style = \"text-align: right;\">12.0</td><td style = \"text-align: right;\">13.75</td><td style = \"text-align: right;\">12.0</td><td style = \"text-align: right;\">21.15</td><td style = \"text-align: right;\">0.0</td><td style = \"text-align: right;\">12.0</td><td style = \"text-align: right;\">12.0</td><td style = \"text-align: right;\">0.0</td><td style = \"text-align: right;\">13.75</td><td style = \"text-align: right;\">11.0</td><td style = \"text-align: right;\">12.0</td><td style = \"text-align: right;\">0.0</td><td style = \"text-align: right;\">12.0</td><td style = \"text-align: right;\">17.0</td><td style = \"text-align: right;\">0.0</td><td style = \"text-align: right;\">12.0</td><td style = \"text-align: right;\">0.0</td><td style = \"text-align: right;\">11.0</td><td style = \"text-align: right;\">12.0</td><td style = \"text-align: right;\">0.0</td><td style = \"text-align: right;\">0.0</td><td style = \"text-align: right;\">0.0</td><td style = \"text-align: right;\">0.0</td><td style = \"text-align: right;\">12.0</td><td style = \"text-align: right;\">0.0</td><td style = \"text-align: right;\">0.0</td><td style = \"text-align: right;\">12.0</td><td style = \"text-align: right;\">13.75</td><td style = \"text-align: right;\">0.0</td><td style = \"text-align: right;\">0.0</td><td style = \"text-align: right;\">0.0</td><td style = \"text-align: right;\">39.95</td><td style = \"text-align: right;\">13.75</td><td style = \"text-align: right;\">13.0</td><td style = \"text-align: right;\">50.0</td><td style = \"text-align: right;\">13.75</td><td style = \"text-align: right;\">12.0</td><td style = \"text-align: right;\">11.0</td><td style = \"text-align: right;\">0.0</td><td style = \"text-align: right;\">0.0</td><td style = \"text-align: right;\">0.0</td><td style = \"text-align: right;\">0.0</td><td style = \"text-align: right;\">17.0</td><td style = \"text-align: right;\">0.0</td><td style = \"text-align: right;\">13.75</td><td style = \"text-align: right;\">0.0</td><td style = \"text-align: right;\">12.0</td><td style = \"text-align: right;\">0.0</td><td style = \"text-align: right;\">0.0</td><td style = \"text-align: right;\">12.0</td><td style = \"text-align: right;\">0.0</td></tr><tr><td class = \"rowNumber\" style = \"font-weight: bold; text-align: right;\">10</td><td style = \"text-align: left;\">2023-12-01T10:00:00</td><td style = \"text-align: right;\">13.75</td><td style = \"text-align: right;\">0.0</td><td style = \"text-align: right;\">14.8482</td><td style = \"text-align: right;\">12.0</td><td style = \"text-align: right;\">0.0</td><td style = \"text-align: right;\">0.0</td><td style = \"text-align: right;\">13.75</td><td style = \"text-align: right;\">17.0</td><td style = \"text-align: right;\">0.0</td><td style = \"text-align: right;\">0.0</td><td style = \"text-align: right;\">11.0</td><td style = \"text-align: right;\">11.0</td><td style = \"text-align: right;\">12.0</td><td style = \"text-align: right;\">0.0</td><td style = \"text-align: right;\">12.0</td><td style = \"text-align: right;\">0.0</td><td style = \"text-align: right;\">0.0</td><td style = \"text-align: right;\">13.0</td><td style = \"text-align: right;\">0.0</td><td style = \"text-align: right;\">12.0</td><td style = \"text-align: right;\">12.0</td><td style = \"text-align: right;\">0.0</td><td style = \"text-align: right;\">12.0</td><td style = \"text-align: right;\">13.75</td><td style = \"text-align: right;\">12.0</td><td style = \"text-align: right;\">21.15</td><td style = \"text-align: right;\">0.0</td><td style = \"text-align: right;\">12.0</td><td style = \"text-align: right;\">12.0</td><td style = \"text-align: right;\">0.0</td><td style = \"text-align: right;\">13.75</td><td style = \"text-align: right;\">11.0</td><td style = \"text-align: right;\">12.0</td><td style = \"text-align: right;\">0.0</td><td style = \"text-align: right;\">12.0</td><td style = \"text-align: right;\">17.0</td><td style = \"text-align: right;\">0.0</td><td style = \"text-align: right;\">12.0</td><td style = \"text-align: right;\">0.0</td><td style = \"text-align: right;\">11.0</td><td style = \"text-align: right;\">12.0</td><td style = \"text-align: right;\">0.0</td><td style = \"text-align: right;\">0.0</td><td style = \"text-align: right;\">0.0</td><td style = \"text-align: right;\">0.0</td><td style = \"text-align: right;\">12.0</td><td style = \"text-align: right;\">0.0</td><td style = \"text-align: right;\">0.0</td><td style = \"text-align: right;\">12.0</td><td style = \"text-align: right;\">13.75</td><td style = \"text-align: right;\">0.0</td><td style = \"text-align: right;\">0.0</td><td style = \"text-align: right;\">0.0</td><td style = \"text-align: right;\">39.95</td><td style = \"text-align: right;\">13.75</td><td style = \"text-align: right;\">13.0</td><td style = \"text-align: right;\">50.0</td><td style = \"text-align: right;\">0.0</td><td style = \"text-align: right;\">12.0</td><td style = \"text-align: right;\">11.0</td><td style = \"text-align: right;\">0.0</td><td style = \"text-align: right;\">0.0</td><td style = \"text-align: right;\">0.0</td><td style = \"text-align: right;\">0.0</td><td style = \"text-align: right;\">17.0</td><td style = \"text-align: right;\">0.0</td><td style = \"text-align: right;\">13.75</td><td style = \"text-align: right;\">0.0</td><td style = \"text-align: right;\">12.0</td><td style = \"text-align: right;\">0.0</td><td style = \"text-align: right;\">0.0</td><td style = \"text-align: right;\">12.0</td><td style = \"text-align: right;\">0.0</td></tr><tr><td class = \"rowNumber\" style = \"font-weight: bold; text-align: right;\">11</td><td style = \"text-align: left;\">2023-12-01T11:00:00</td><td style = \"text-align: right;\">13.75</td><td style = \"text-align: right;\">0.0</td><td style = \"text-align: right;\">11.4195</td><td style = \"text-align: right;\">12.0</td><td style = \"text-align: right;\">0.0</td><td style = \"text-align: right;\">0.0</td><td style = \"text-align: right;\">13.75</td><td style = \"text-align: right;\">17.0</td><td style = \"text-align: right;\">0.0</td><td style = \"text-align: right;\">0.0</td><td style = \"text-align: right;\">11.0</td><td style = \"text-align: right;\">11.0</td><td style = \"text-align: right;\">12.0</td><td style = \"text-align: right;\">0.0</td><td style = \"text-align: right;\">12.0</td><td style = \"text-align: right;\">0.0</td><td style = \"text-align: right;\">0.0</td><td style = \"text-align: right;\">13.0</td><td style = \"text-align: right;\">0.0</td><td style = \"text-align: right;\">12.0</td><td style = \"text-align: right;\">12.0</td><td style = \"text-align: right;\">0.0</td><td style = \"text-align: right;\">12.0</td><td style = \"text-align: right;\">13.75</td><td style = \"text-align: right;\">12.0</td><td style = \"text-align: right;\">21.15</td><td style = \"text-align: right;\">0.0</td><td style = \"text-align: right;\">12.0</td><td style = \"text-align: right;\">12.0</td><td style = \"text-align: right;\">0.0</td><td style = \"text-align: right;\">13.75</td><td style = \"text-align: right;\">11.0</td><td style = \"text-align: right;\">12.0</td><td style = \"text-align: right;\">0.0</td><td style = \"text-align: right;\">12.0</td><td style = \"text-align: right;\">17.0</td><td style = \"text-align: right;\">0.0</td><td style = \"text-align: right;\">0.0</td><td style = \"text-align: right;\">0.0</td><td style = \"text-align: right;\">11.0</td><td style = \"text-align: right;\">12.0</td><td style = \"text-align: right;\">0.0</td><td style = \"text-align: right;\">0.0</td><td style = \"text-align: right;\">0.0</td><td style = \"text-align: right;\">0.0</td><td style = \"text-align: right;\">12.0</td><td style = \"text-align: right;\">0.0</td><td style = \"text-align: right;\">0.0</td><td style = \"text-align: right;\">12.0</td><td style = \"text-align: right;\">13.75</td><td style = \"text-align: right;\">0.0</td><td style = \"text-align: right;\">0.0</td><td style = \"text-align: right;\">0.0</td><td style = \"text-align: right;\">39.95</td><td style = \"text-align: right;\">13.75</td><td style = \"text-align: right;\">13.0</td><td style = \"text-align: right;\">50.0</td><td style = \"text-align: right;\">0.0</td><td style = \"text-align: right;\">12.0</td><td style = \"text-align: right;\">11.0</td><td style = \"text-align: right;\">0.0</td><td style = \"text-align: right;\">0.0</td><td style = \"text-align: right;\">0.0</td><td style = \"text-align: right;\">0.0</td><td style = \"text-align: right;\">17.0</td><td style = \"text-align: right;\">0.0</td><td style = \"text-align: right;\">13.75</td><td style = \"text-align: right;\">0.0</td><td style = \"text-align: right;\">12.0</td><td style = \"text-align: right;\">0.0</td><td style = \"text-align: right;\">0.0</td><td style = \"text-align: right;\">12.0</td><td style = \"text-align: right;\">0.0</td></tr><tr><td class = \"rowNumber\" style = \"font-weight: bold; text-align: right;\">12</td><td style = \"text-align: left;\">2023-12-01T12:00:00</td><td style = \"text-align: right;\">13.75</td><td style = \"text-align: right;\">0.0</td><td style = \"text-align: right;\">0.0</td><td style = \"text-align: right;\">0.0</td><td style = \"text-align: right;\">0.0</td><td style = \"text-align: right;\">25.0</td><td style = \"text-align: right;\">13.75</td><td style = \"text-align: right;\">17.0</td><td style = \"text-align: right;\">0.0</td><td style = \"text-align: right;\">0.0</td><td style = \"text-align: right;\">11.0</td><td style = \"text-align: right;\">11.0</td><td style = \"text-align: right;\">12.0</td><td style = \"text-align: right;\">0.0</td><td style = \"text-align: right;\">12.0</td><td style = \"text-align: right;\">0.0</td><td style = \"text-align: right;\">0.0</td><td style = \"text-align: right;\">13.0</td><td style = \"text-align: right;\">0.0</td><td style = \"text-align: right;\">12.0</td><td style = \"text-align: right;\">12.0</td><td style = \"text-align: right;\">0.0</td><td style = \"text-align: right;\">12.0</td><td style = \"text-align: right;\">13.75</td><td style = \"text-align: right;\">12.0</td><td style = \"text-align: right;\">0.0</td><td style = \"text-align: right;\">0.0</td><td style = \"text-align: right;\">12.0</td><td style = \"text-align: right;\">12.0</td><td style = \"text-align: right;\">0.0</td><td style = \"text-align: right;\">13.75</td><td style = \"text-align: right;\">11.0</td><td style = \"text-align: right;\">0.0</td><td style = \"text-align: right;\">0.0</td><td style = \"text-align: right;\">12.0</td><td style = \"text-align: right;\">17.0</td><td style = \"text-align: right;\">0.0</td><td style = \"text-align: right;\">0.0</td><td style = \"text-align: right;\">0.0</td><td style = \"text-align: right;\">11.0</td><td style = \"text-align: right;\">12.0</td><td style = \"text-align: right;\">0.0</td><td style = \"text-align: right;\">0.0</td><td style = \"text-align: right;\">0.0</td><td style = \"text-align: right;\">0.0</td><td style = \"text-align: right;\">12.0</td><td style = \"text-align: right;\">0.0</td><td style = \"text-align: right;\">0.0</td><td style = \"text-align: right;\">12.0</td><td style = \"text-align: right;\">13.75</td><td style = \"text-align: right;\">0.0</td><td style = \"text-align: right;\">0.0</td><td style = \"text-align: right;\">0.0</td><td style = \"text-align: right;\">34.8047</td><td style = \"text-align: right;\">13.75</td><td style = \"text-align: right;\">13.0</td><td style = \"text-align: right;\">50.0</td><td style = \"text-align: right;\">0.0</td><td style = \"text-align: right;\">12.0</td><td style = \"text-align: right;\">11.0</td><td style = \"text-align: right;\">0.0</td><td style = \"text-align: right;\">0.0</td><td style = \"text-align: right;\">0.0</td><td style = \"text-align: right;\">0.0</td><td style = \"text-align: right;\">17.0</td><td style = \"text-align: right;\">0.0</td><td style = \"text-align: right;\">13.75</td><td style = \"text-align: right;\">0.0</td><td style = \"text-align: right;\">0.0</td><td style = \"text-align: right;\">0.0</td><td style = \"text-align: right;\">0.0</td><td style = \"text-align: right;\">12.0</td><td style = \"text-align: right;\">0.0</td></tr><tr><td class = \"rowNumber\" style = \"font-weight: bold; text-align: right;\">13</td><td style = \"text-align: left;\">2023-12-01T13:00:00</td><td style = \"text-align: right;\">13.75</td><td style = \"text-align: right;\">0.0</td><td style = \"text-align: right;\">0.0</td><td style = \"text-align: right;\">12.0</td><td style = \"text-align: right;\">0.0</td><td style = \"text-align: right;\">0.0</td><td style = \"text-align: right;\">13.75</td><td style = \"text-align: right;\">17.0</td><td style = \"text-align: right;\">0.0</td><td style = \"text-align: right;\">0.0</td><td style = \"text-align: right;\">11.0</td><td style = \"text-align: right;\">11.0</td><td style = \"text-align: right;\">12.0</td><td style = \"text-align: right;\">0.0</td><td style = \"text-align: right;\">12.0</td><td style = \"text-align: right;\">0.0</td><td style = \"text-align: right;\">0.0</td><td style = \"text-align: right;\">0.0</td><td style = \"text-align: right;\">0.0</td><td style = \"text-align: right;\">12.0</td><td style = \"text-align: right;\">12.0</td><td style = \"text-align: right;\">0.0</td><td style = \"text-align: right;\">12.0</td><td style = \"text-align: right;\">13.75</td><td style = \"text-align: right;\">12.0</td><td style = \"text-align: right;\">20.9553</td><td style = \"text-align: right;\">0.0</td><td style = \"text-align: right;\">12.0</td><td style = \"text-align: right;\">12.0</td><td style = \"text-align: right;\">0.0</td><td style = \"text-align: right;\">13.75</td><td style = \"text-align: right;\">11.0</td><td style = \"text-align: right;\">0.0</td><td style = \"text-align: right;\">0.0</td><td style = \"text-align: right;\">12.0</td><td style = \"text-align: right;\">17.0</td><td style = \"text-align: right;\">0.0</td><td style = \"text-align: right;\">12.0</td><td style = \"text-align: right;\">0.0</td><td style = \"text-align: right;\">11.0</td><td style = \"text-align: right;\">12.0</td><td style = \"text-align: right;\">0.0</td><td style = \"text-align: right;\">0.0</td><td style = \"text-align: right;\">0.0</td><td style = \"text-align: right;\">0.0</td><td style = \"text-align: right;\">12.0</td><td style = \"text-align: right;\">0.0</td><td style = \"text-align: right;\">0.0</td><td style = \"text-align: right;\">12.0</td><td style = \"text-align: right;\">13.75</td><td style = \"text-align: right;\">0.0</td><td style = \"text-align: right;\">0.0</td><td style = \"text-align: right;\">0.0</td><td style = \"text-align: right;\">39.95</td><td style = \"text-align: right;\">13.75</td><td style = \"text-align: right;\">14.0</td><td style = \"text-align: right;\">50.0</td><td style = \"text-align: right;\">0.0</td><td style = \"text-align: right;\">12.0</td><td style = \"text-align: right;\">11.0</td><td style = \"text-align: right;\">0.0</td><td style = \"text-align: right;\">0.0</td><td style = \"text-align: right;\">0.0</td><td style = \"text-align: right;\">0.0</td><td style = \"text-align: right;\">17.0</td><td style = \"text-align: right;\">0.0</td><td style = \"text-align: right;\">13.75</td><td style = \"text-align: right;\">0.0</td><td style = \"text-align: right;\">0.0</td><td style = \"text-align: right;\">0.0</td><td style = \"text-align: right;\">0.0</td><td style = \"text-align: right;\">12.0</td><td style = \"text-align: right;\">0.0</td></tr><tr><td style = \"text-align: right;\">&vellip;</td><td style = \"text-align: right;\">&vellip;</td><td style = \"text-align: right;\">&vellip;</td><td style = \"text-align: right;\">&vellip;</td><td style = \"text-align: right;\">&vellip;</td><td style = \"text-align: right;\">&vellip;</td><td style = \"text-align: right;\">&vellip;</td><td style = \"text-align: right;\">&vellip;</td><td style = \"text-align: right;\">&vellip;</td><td style = \"text-align: right;\">&vellip;</td><td style = \"text-align: right;\">&vellip;</td><td style = \"text-align: right;\">&vellip;</td><td style = \"text-align: right;\">&vellip;</td><td style = \"text-align: right;\">&vellip;</td><td style = \"text-align: right;\">&vellip;</td><td style = \"text-align: right;\">&vellip;</td><td style = \"text-align: right;\">&vellip;</td><td style = \"text-align: right;\">&vellip;</td><td style = \"text-align: right;\">&vellip;</td><td style = \"text-align: right;\">&vellip;</td><td style = \"text-align: right;\">&vellip;</td><td style = \"text-align: right;\">&vellip;</td><td style = \"text-align: right;\">&vellip;</td><td style = \"text-align: right;\">&vellip;</td><td style = \"text-align: right;\">&vellip;</td><td style = \"text-align: right;\">&vellip;</td><td style = \"text-align: right;\">&vellip;</td><td style = \"text-align: right;\">&vellip;</td><td style = \"text-align: right;\">&vellip;</td><td style = \"text-align: right;\">&vellip;</td><td style = \"text-align: right;\">&vellip;</td><td style = \"text-align: right;\">&vellip;</td><td style = \"text-align: right;\">&vellip;</td><td style = \"text-align: right;\">&vellip;</td><td style = \"text-align: right;\">&vellip;</td><td style = \"text-align: right;\">&vellip;</td><td style = \"text-align: right;\">&vellip;</td><td style = \"text-align: right;\">&vellip;</td><td style = \"text-align: right;\">&vellip;</td><td style = \"text-align: right;\">&vellip;</td><td style = \"text-align: right;\">&vellip;</td><td style = \"text-align: right;\">&vellip;</td><td style = \"text-align: right;\">&vellip;</td><td style = \"text-align: right;\">&vellip;</td><td style = \"text-align: right;\">&vellip;</td><td style = \"text-align: right;\">&vellip;</td><td style = \"text-align: right;\">&vellip;</td><td style = \"text-align: right;\">&vellip;</td><td style = \"text-align: right;\">&vellip;</td><td style = \"text-align: right;\">&vellip;</td><td style = \"text-align: right;\">&vellip;</td><td style = \"text-align: right;\">&vellip;</td><td style = \"text-align: right;\">&vellip;</td><td style = \"text-align: right;\">&vellip;</td><td style = \"text-align: right;\">&vellip;</td><td style = \"text-align: right;\">&vellip;</td><td style = \"text-align: right;\">&vellip;</td><td style = \"text-align: right;\">&vellip;</td><td style = \"text-align: right;\">&vellip;</td><td style = \"text-align: right;\">&vellip;</td><td style = \"text-align: right;\">&vellip;</td><td style = \"text-align: right;\">&vellip;</td><td style = \"text-align: right;\">&vellip;</td><td style = \"text-align: right;\">&vellip;</td><td style = \"text-align: right;\">&vellip;</td><td style = \"text-align: right;\">&vellip;</td><td style = \"text-align: right;\">&vellip;</td><td style = \"text-align: right;\">&vellip;</td><td style = \"text-align: right;\">&vellip;</td><td style = \"text-align: right;\">&vellip;</td><td style = \"text-align: right;\">&vellip;</td><td style = \"text-align: right;\">&vellip;</td><td style = \"text-align: right;\">&vellip;</td><td style = \"text-align: right;\">&vellip;</td><td style = \"text-align: right;\">&vellip;</td></tr><tr><td class = \"rowNumber\" style = \"font-weight: bold; text-align: right;\">36</td><td style = \"text-align: left;\">2023-12-02T12:00:00</td><td style = \"text-align: right;\">13.75</td><td style = \"text-align: right;\">0.0</td><td style = \"text-align: right;\">0.0</td><td style = \"text-align: right;\">0.0</td><td style = \"text-align: right;\">0.0</td><td style = \"text-align: right;\">0.0</td><td style = \"text-align: right;\">13.75</td><td style = \"text-align: right;\">0.0</td><td style = \"text-align: right;\">0.0</td><td style = \"text-align: right;\">0.0</td><td style = \"text-align: right;\">11.0</td><td style = \"text-align: right;\">11.0</td><td style = \"text-align: right;\">0.0</td><td style = \"text-align: right;\">0.0</td><td style = \"text-align: right;\">0.0</td><td style = \"text-align: right;\">0.0</td><td style = \"text-align: right;\">0.0</td><td style = \"text-align: right;\">14.25</td><td style = \"text-align: right;\">13.75</td><td style = \"text-align: right;\">12.0</td><td style = \"text-align: right;\">12.0</td><td style = \"text-align: right;\">0.0</td><td style = \"text-align: right;\">12.0</td><td style = \"text-align: right;\">0.0</td><td style = \"text-align: right;\">12.0</td><td style = \"text-align: right;\">0.0</td><td style = \"text-align: right;\">0.0</td><td style = \"text-align: right;\">12.0</td><td style = \"text-align: right;\">12.0</td><td style = \"text-align: right;\">0.0</td><td style = \"text-align: right;\">13.75</td><td style = \"text-align: right;\">11.0</td><td style = \"text-align: right;\">0.0</td><td style = \"text-align: right;\">0.0</td><td style = \"text-align: right;\">12.0</td><td style = \"text-align: right;\">17.0</td><td style = \"text-align: right;\">0.0</td><td style = \"text-align: right;\">0.0</td><td style = \"text-align: right;\">0.0</td><td style = \"text-align: right;\">11.0</td><td style = \"text-align: right;\">12.0</td><td style = \"text-align: right;\">0.0</td><td style = \"text-align: right;\">0.0</td><td style = \"text-align: right;\">0.0</td><td style = \"text-align: right;\">0.0</td><td style = \"text-align: right;\">12.0</td><td style = \"text-align: right;\">0.0</td><td style = \"text-align: right;\">0.0</td><td style = \"text-align: right;\">12.0</td><td style = \"text-align: right;\">13.75</td><td style = \"text-align: right;\">0.0</td><td style = \"text-align: right;\">0.0</td><td style = \"text-align: right;\">2.0</td><td style = \"text-align: right;\">38.45</td><td style = \"text-align: right;\">0.0</td><td style = \"text-align: right;\">13.0</td><td style = \"text-align: right;\">38.8794</td><td style = \"text-align: right;\">0.0</td><td style = \"text-align: right;\">12.0</td><td style = \"text-align: right;\">11.0</td><td style = \"text-align: right;\">0.0</td><td style = \"text-align: right;\">0.0</td><td style = \"text-align: right;\">0.0</td><td style = \"text-align: right;\">0.0</td><td style = \"text-align: right;\">17.0</td><td style = \"text-align: right;\">0.0</td><td style = \"text-align: right;\">13.75</td><td style = \"text-align: right;\">0.0</td><td style = \"text-align: right;\">0.0</td><td style = \"text-align: right;\">0.0</td><td style = \"text-align: right;\">0.0</td><td style = \"text-align: right;\">12.0</td><td style = \"text-align: right;\">0.0</td></tr><tr><td class = \"rowNumber\" style = \"font-weight: bold; text-align: right;\">37</td><td style = \"text-align: left;\">2023-12-02T13:00:00</td><td style = \"text-align: right;\">13.75</td><td style = \"text-align: right;\">0.0</td><td style = \"text-align: right;\">0.0</td><td style = \"text-align: right;\">0.0</td><td style = \"text-align: right;\">0.0</td><td style = \"text-align: right;\">0.0</td><td style = \"text-align: right;\">13.75</td><td style = \"text-align: right;\">17.0</td><td style = \"text-align: right;\">0.0</td><td style = \"text-align: right;\">0.0</td><td style = \"text-align: right;\">11.0</td><td style = \"text-align: right;\">11.0</td><td style = \"text-align: right;\">0.0</td><td style = \"text-align: right;\">0.0</td><td style = \"text-align: right;\">0.0</td><td style = \"text-align: right;\">0.0</td><td style = \"text-align: right;\">0.0</td><td style = \"text-align: right;\">13.0</td><td style = \"text-align: right;\">0.0</td><td style = \"text-align: right;\">12.0</td><td style = \"text-align: right;\">12.0</td><td style = \"text-align: right;\">0.0</td><td style = \"text-align: right;\">12.0</td><td style = \"text-align: right;\">13.75</td><td style = \"text-align: right;\">12.0</td><td style = \"text-align: right;\">0.0</td><td style = \"text-align: right;\">0.0</td><td style = \"text-align: right;\">12.0</td><td style = \"text-align: right;\">12.0</td><td style = \"text-align: right;\">0.0</td><td style = \"text-align: right;\">13.75</td><td style = \"text-align: right;\">11.0</td><td style = \"text-align: right;\">0.0</td><td style = \"text-align: right;\">0.0</td><td style = \"text-align: right;\">12.0</td><td style = \"text-align: right;\">17.0</td><td style = \"text-align: right;\">0.0</td><td style = \"text-align: right;\">12.0</td><td style = \"text-align: right;\">0.0</td><td style = \"text-align: right;\">11.0</td><td style = \"text-align: right;\">12.0</td><td style = \"text-align: right;\">0.0</td><td style = \"text-align: right;\">0.0</td><td style = \"text-align: right;\">0.0</td><td style = \"text-align: right;\">0.0</td><td style = \"text-align: right;\">12.0</td><td style = \"text-align: right;\">0.0</td><td style = \"text-align: right;\">0.0</td><td style = \"text-align: right;\">12.0</td><td style = \"text-align: right;\">13.75</td><td style = \"text-align: right;\">0.0</td><td style = \"text-align: right;\">0.0</td><td style = \"text-align: right;\">0.0</td><td style = \"text-align: right;\">39.95</td><td style = \"text-align: right;\">13.75</td><td style = \"text-align: right;\">13.0</td><td style = \"text-align: right;\">47.055</td><td style = \"text-align: right;\">0.0</td><td style = \"text-align: right;\">12.0</td><td style = \"text-align: right;\">11.0</td><td style = \"text-align: right;\">0.0</td><td style = \"text-align: right;\">0.0</td><td style = \"text-align: right;\">0.0</td><td style = \"text-align: right;\">0.0</td><td style = \"text-align: right;\">17.0</td><td style = \"text-align: right;\">0.0</td><td style = \"text-align: right;\">13.75</td><td style = \"text-align: right;\">0.0</td><td style = \"text-align: right;\">0.0</td><td style = \"text-align: right;\">0.0</td><td style = \"text-align: right;\">0.0</td><td style = \"text-align: right;\">12.0</td><td style = \"text-align: right;\">0.0</td></tr><tr><td class = \"rowNumber\" style = \"font-weight: bold; text-align: right;\">38</td><td style = \"text-align: left;\">2023-12-02T14:00:00</td><td style = \"text-align: right;\">13.75</td><td style = \"text-align: right;\">0.0</td><td style = \"text-align: right;\">0.0</td><td style = \"text-align: right;\">0.0</td><td style = \"text-align: right;\">0.0</td><td style = \"text-align: right;\">0.0</td><td style = \"text-align: right;\">13.75</td><td style = \"text-align: right;\">17.0</td><td style = \"text-align: right;\">0.0</td><td style = \"text-align: right;\">0.0</td><td style = \"text-align: right;\">11.0</td><td style = \"text-align: right;\">11.0</td><td style = \"text-align: right;\">0.0</td><td style = \"text-align: right;\">0.0</td><td style = \"text-align: right;\">0.0</td><td style = \"text-align: right;\">0.0</td><td style = \"text-align: right;\">0.0</td><td style = \"text-align: right;\">13.0</td><td style = \"text-align: right;\">0.0</td><td style = \"text-align: right;\">12.0</td><td style = \"text-align: right;\">12.0</td><td style = \"text-align: right;\">0.0</td><td style = \"text-align: right;\">12.0</td><td style = \"text-align: right;\">13.75</td><td style = \"text-align: right;\">12.0</td><td style = \"text-align: right;\">0.0</td><td style = \"text-align: right;\">0.0</td><td style = \"text-align: right;\">12.0</td><td style = \"text-align: right;\">12.0</td><td style = \"text-align: right;\">0.0</td><td style = \"text-align: right;\">13.75</td><td style = \"text-align: right;\">11.0</td><td style = \"text-align: right;\">0.0</td><td style = \"text-align: right;\">0.0</td><td style = \"text-align: right;\">12.0</td><td style = \"text-align: right;\">17.0</td><td style = \"text-align: right;\">0.0</td><td style = \"text-align: right;\">12.0</td><td style = \"text-align: right;\">0.0</td><td style = \"text-align: right;\">11.0</td><td style = \"text-align: right;\">12.0</td><td style = \"text-align: right;\">0.0</td><td style = \"text-align: right;\">0.0</td><td style = \"text-align: right;\">0.0</td><td style = \"text-align: right;\">0.0</td><td style = \"text-align: right;\">12.0</td><td style = \"text-align: right;\">0.0</td><td style = \"text-align: right;\">0.0</td><td style = \"text-align: right;\">12.0</td><td style = \"text-align: right;\">13.75</td><td style = \"text-align: right;\">0.0</td><td style = \"text-align: right;\">0.0</td><td style = \"text-align: right;\">0.0</td><td style = \"text-align: right;\">39.95</td><td style = \"text-align: right;\">13.75</td><td style = \"text-align: right;\">13.0</td><td style = \"text-align: right;\">45.5963</td><td style = \"text-align: right;\">0.0</td><td style = \"text-align: right;\">12.0</td><td style = \"text-align: right;\">11.0</td><td style = \"text-align: right;\">0.0</td><td style = \"text-align: right;\">0.0</td><td style = \"text-align: right;\">0.0</td><td style = \"text-align: right;\">0.0</td><td style = \"text-align: right;\">17.0</td><td style = \"text-align: right;\">0.0</td><td style = \"text-align: right;\">13.75</td><td style = \"text-align: right;\">0.0</td><td style = \"text-align: right;\">0.0</td><td style = \"text-align: right;\">0.0</td><td style = \"text-align: right;\">0.0</td><td style = \"text-align: right;\">12.0</td><td style = \"text-align: right;\">0.0</td></tr><tr><td class = \"rowNumber\" style = \"font-weight: bold; text-align: right;\">39</td><td style = \"text-align: left;\">2023-12-02T15:00:00</td><td style = \"text-align: right;\">13.75</td><td style = \"text-align: right;\">0.0</td><td style = \"text-align: right;\">0.0</td><td style = \"text-align: right;\">0.0</td><td style = \"text-align: right;\">0.0</td><td style = \"text-align: right;\">0.0</td><td style = \"text-align: right;\">13.75</td><td style = \"text-align: right;\">17.0</td><td style = \"text-align: right;\">0.0</td><td style = \"text-align: right;\">0.0</td><td style = \"text-align: right;\">11.0</td><td style = \"text-align: right;\">11.0</td><td style = \"text-align: right;\">0.0</td><td style = \"text-align: right;\">0.0</td><td style = \"text-align: right;\">0.0</td><td style = \"text-align: right;\">0.0</td><td style = \"text-align: right;\">0.0</td><td style = \"text-align: right;\">13.0</td><td style = \"text-align: right;\">0.0</td><td style = \"text-align: right;\">12.0</td><td style = \"text-align: right;\">12.0</td><td style = \"text-align: right;\">0.0</td><td style = \"text-align: right;\">12.0</td><td style = \"text-align: right;\">13.75</td><td style = \"text-align: right;\">12.0</td><td style = \"text-align: right;\">3.13255</td><td style = \"text-align: right;\">0.0</td><td style = \"text-align: right;\">12.0</td><td style = \"text-align: right;\">12.0</td><td style = \"text-align: right;\">0.0</td><td style = \"text-align: right;\">13.75</td><td style = \"text-align: right;\">11.0</td><td style = \"text-align: right;\">0.0</td><td style = \"text-align: right;\">0.0</td><td style = \"text-align: right;\">12.0</td><td style = \"text-align: right;\">17.0</td><td style = \"text-align: right;\">0.0</td><td style = \"text-align: right;\">12.0</td><td style = \"text-align: right;\">0.0</td><td style = \"text-align: right;\">11.0</td><td style = \"text-align: right;\">12.0</td><td style = \"text-align: right;\">0.0</td><td style = \"text-align: right;\">0.0</td><td style = \"text-align: right;\">0.0</td><td style = \"text-align: right;\">0.0</td><td style = \"text-align: right;\">12.0</td><td style = \"text-align: right;\">0.0</td><td style = \"text-align: right;\">0.0</td><td style = \"text-align: right;\">12.0</td><td style = \"text-align: right;\">13.75</td><td style = \"text-align: right;\">0.0</td><td style = \"text-align: right;\">0.0</td><td style = \"text-align: right;\">0.0</td><td style = \"text-align: right;\">39.95</td><td style = \"text-align: right;\">13.75</td><td style = \"text-align: right;\">13.0</td><td style = \"text-align: right;\">50.0</td><td style = \"text-align: right;\">0.0</td><td style = \"text-align: right;\">12.0</td><td style = \"text-align: right;\">11.0</td><td style = \"text-align: right;\">0.0</td><td style = \"text-align: right;\">0.0</td><td style = \"text-align: right;\">0.0</td><td style = \"text-align: right;\">0.0</td><td style = \"text-align: right;\">17.0</td><td style = \"text-align: right;\">0.0</td><td style = \"text-align: right;\">13.75</td><td style = \"text-align: right;\">0.0</td><td style = \"text-align: right;\">12.0</td><td style = \"text-align: right;\">0.0</td><td style = \"text-align: right;\">0.0</td><td style = \"text-align: right;\">12.0</td><td style = \"text-align: right;\">0.0</td></tr><tr><td class = \"rowNumber\" style = \"font-weight: bold; text-align: right;\">40</td><td style = \"text-align: left;\">2023-12-02T16:00:00</td><td style = \"text-align: right;\">13.75</td><td style = \"text-align: right;\">0.0</td><td style = \"text-align: right;\">0.563653</td><td style = \"text-align: right;\">0.0</td><td style = \"text-align: right;\">0.0</td><td style = \"text-align: right;\">0.0</td><td style = \"text-align: right;\">13.75</td><td style = \"text-align: right;\">17.0</td><td style = \"text-align: right;\">0.0</td><td style = \"text-align: right;\">0.0</td><td style = \"text-align: right;\">11.0</td><td style = \"text-align: right;\">11.0</td><td style = \"text-align: right;\">12.0</td><td style = \"text-align: right;\">0.0</td><td style = \"text-align: right;\">0.0</td><td style = \"text-align: right;\">0.0</td><td style = \"text-align: right;\">0.0</td><td style = \"text-align: right;\">13.0</td><td style = \"text-align: right;\">0.0</td><td style = \"text-align: right;\">12.0</td><td style = \"text-align: right;\">12.0</td><td style = \"text-align: right;\">0.0</td><td style = \"text-align: right;\">12.0</td><td style = \"text-align: right;\">13.75</td><td style = \"text-align: right;\">12.0</td><td style = \"text-align: right;\">21.15</td><td style = \"text-align: right;\">0.0</td><td style = \"text-align: right;\">12.0</td><td style = \"text-align: right;\">12.0</td><td style = \"text-align: right;\">0.0</td><td style = \"text-align: right;\">13.75</td><td style = \"text-align: right;\">11.0</td><td style = \"text-align: right;\">12.0</td><td style = \"text-align: right;\">0.0</td><td style = \"text-align: right;\">12.0</td><td style = \"text-align: right;\">17.0</td><td style = \"text-align: right;\">0.0</td><td style = \"text-align: right;\">12.0</td><td style = \"text-align: right;\">0.0</td><td style = \"text-align: right;\">11.0</td><td style = \"text-align: right;\">12.0</td><td style = \"text-align: right;\">0.0</td><td style = \"text-align: right;\">0.0</td><td style = \"text-align: right;\">0.0</td><td style = \"text-align: right;\">0.0</td><td style = \"text-align: right;\">12.0</td><td style = \"text-align: right;\">0.0</td><td style = \"text-align: right;\">0.0</td><td style = \"text-align: right;\">12.0</td><td style = \"text-align: right;\">13.75</td><td style = \"text-align: right;\">0.0</td><td style = \"text-align: right;\">0.0</td><td style = \"text-align: right;\">0.0</td><td style = \"text-align: right;\">39.95</td><td style = \"text-align: right;\">13.75</td><td style = \"text-align: right;\">13.0</td><td style = \"text-align: right;\">50.0</td><td style = \"text-align: right;\">0.0</td><td style = \"text-align: right;\">12.0</td><td style = \"text-align: right;\">11.0</td><td style = \"text-align: right;\">0.0</td><td style = \"text-align: right;\">0.0</td><td style = \"text-align: right;\">0.0</td><td style = \"text-align: right;\">0.0</td><td style = \"text-align: right;\">17.0</td><td style = \"text-align: right;\">0.0</td><td style = \"text-align: right;\">13.75</td><td style = \"text-align: right;\">0.0</td><td style = \"text-align: right;\">12.0</td><td style = \"text-align: right;\">0.0</td><td style = \"text-align: right;\">0.0</td><td style = \"text-align: right;\">12.0</td><td style = \"text-align: right;\">0.0</td></tr><tr><td class = \"rowNumber\" style = \"font-weight: bold; text-align: right;\">41</td><td style = \"text-align: left;\">2023-12-02T17:00:00</td><td style = \"text-align: right;\">13.75</td><td style = \"text-align: right;\">0.0</td><td style = \"text-align: right;\">14.1958</td><td style = \"text-align: right;\">12.0</td><td style = \"text-align: right;\">0.0</td><td style = \"text-align: right;\">0.0</td><td style = \"text-align: right;\">13.75</td><td style = \"text-align: right;\">17.0</td><td style = \"text-align: right;\">0.0</td><td style = \"text-align: right;\">0.0</td><td style = \"text-align: right;\">11.0</td><td style = \"text-align: right;\">11.0</td><td style = \"text-align: right;\">12.0</td><td style = \"text-align: right;\">13.75</td><td style = \"text-align: right;\">12.0</td><td style = \"text-align: right;\">0.0</td><td style = \"text-align: right;\">0.0</td><td style = \"text-align: right;\">13.0</td><td style = \"text-align: right;\">0.0</td><td style = \"text-align: right;\">12.0</td><td style = \"text-align: right;\">12.0</td><td style = \"text-align: right;\">0.0</td><td style = \"text-align: right;\">12.0</td><td style = \"text-align: right;\">13.75</td><td style = \"text-align: right;\">12.0</td><td style = \"text-align: right;\">21.15</td><td style = \"text-align: right;\">0.0</td><td style = \"text-align: right;\">12.0</td><td style = \"text-align: right;\">12.0</td><td style = \"text-align: right;\">0.0</td><td style = \"text-align: right;\">13.75</td><td style = \"text-align: right;\">11.0</td><td style = \"text-align: right;\">12.0</td><td style = \"text-align: right;\">0.0</td><td style = \"text-align: right;\">12.0</td><td style = \"text-align: right;\">17.0</td><td style = \"text-align: right;\">0.0</td><td style = \"text-align: right;\">12.0</td><td style = \"text-align: right;\">0.0</td><td style = \"text-align: right;\">11.0</td><td style = \"text-align: right;\">12.0</td><td style = \"text-align: right;\">0.0</td><td style = \"text-align: right;\">0.0</td><td style = \"text-align: right;\">0.0</td><td style = \"text-align: right;\">0.0</td><td style = \"text-align: right;\">12.0</td><td style = \"text-align: right;\">0.0</td><td style = \"text-align: right;\">0.0</td><td style = \"text-align: right;\">12.0</td><td style = \"text-align: right;\">13.75</td><td style = \"text-align: right;\">0.0</td><td style = \"text-align: right;\">0.0</td><td style = \"text-align: right;\">0.0</td><td style = \"text-align: right;\">39.95</td><td style = \"text-align: right;\">13.75</td><td style = \"text-align: right;\">13.0</td><td style = \"text-align: right;\">50.0</td><td style = \"text-align: right;\">0.0</td><td style = \"text-align: right;\">12.0</td><td style = \"text-align: right;\">11.0</td><td style = \"text-align: right;\">0.0</td><td style = \"text-align: right;\">0.0</td><td style = \"text-align: right;\">0.0</td><td style = \"text-align: right;\">0.0</td><td style = \"text-align: right;\">17.0</td><td style = \"text-align: right;\">0.0</td><td style = \"text-align: right;\">13.75</td><td style = \"text-align: right;\">0.0</td><td style = \"text-align: right;\">12.0</td><td style = \"text-align: right;\">0.0</td><td style = \"text-align: right;\">0.0</td><td style = \"text-align: right;\">12.0</td><td style = \"text-align: right;\">0.0</td></tr><tr><td class = \"rowNumber\" style = \"font-weight: bold; text-align: right;\">42</td><td style = \"text-align: left;\">2023-12-02T18:00:00</td><td style = \"text-align: right;\">13.75</td><td style = \"text-align: right;\">0.0</td><td style = \"text-align: right;\">33.0533</td><td style = \"text-align: right;\">12.0</td><td style = \"text-align: right;\">0.0</td><td style = \"text-align: right;\">0.0</td><td style = \"text-align: right;\">13.75</td><td style = \"text-align: right;\">17.0</td><td style = \"text-align: right;\">0.0</td><td style = \"text-align: right;\">0.0</td><td style = \"text-align: right;\">11.0</td><td style = \"text-align: right;\">11.0</td><td style = \"text-align: right;\">12.0</td><td style = \"text-align: right;\">0.0</td><td style = \"text-align: right;\">12.0</td><td style = \"text-align: right;\">0.0</td><td style = \"text-align: right;\">0.0</td><td style = \"text-align: right;\">13.0</td><td style = \"text-align: right;\">0.0</td><td style = \"text-align: right;\">12.0</td><td style = \"text-align: right;\">12.0</td><td style = \"text-align: right;\">0.0</td><td style = \"text-align: right;\">12.0</td><td style = \"text-align: right;\">13.75</td><td style = \"text-align: right;\">12.0</td><td style = \"text-align: right;\">21.15</td><td style = \"text-align: right;\">13.75</td><td style = \"text-align: right;\">12.0</td><td style = \"text-align: right;\">12.0</td><td style = \"text-align: right;\">0.0</td><td style = \"text-align: right;\">13.75</td><td style = \"text-align: right;\">11.0</td><td style = \"text-align: right;\">12.0</td><td style = \"text-align: right;\">0.0</td><td style = \"text-align: right;\">12.0</td><td style = \"text-align: right;\">17.0</td><td style = \"text-align: right;\">0.0</td><td style = \"text-align: right;\">12.0</td><td style = \"text-align: right;\">0.0</td><td style = \"text-align: right;\">11.0</td><td style = \"text-align: right;\">12.0</td><td style = \"text-align: right;\">0.0</td><td style = \"text-align: right;\">0.0</td><td style = \"text-align: right;\">0.0</td><td style = \"text-align: right;\">0.0</td><td style = \"text-align: right;\">12.0</td><td style = \"text-align: right;\">0.0</td><td style = \"text-align: right;\">0.0</td><td style = \"text-align: right;\">12.0</td><td style = \"text-align: right;\">13.75</td><td style = \"text-align: right;\">0.0</td><td style = \"text-align: right;\">0.0</td><td style = \"text-align: right;\">0.0</td><td style = \"text-align: right;\">39.95</td><td style = \"text-align: right;\">13.75</td><td style = \"text-align: right;\">13.0</td><td style = \"text-align: right;\">50.0</td><td style = \"text-align: right;\">13.75</td><td style = \"text-align: right;\">12.0</td><td style = \"text-align: right;\">11.0</td><td style = \"text-align: right;\">0.0</td><td style = \"text-align: right;\">0.0</td><td style = \"text-align: right;\">0.0</td><td style = \"text-align: right;\">0.0</td><td style = \"text-align: right;\">17.0</td><td style = \"text-align: right;\">0.0</td><td style = \"text-align: right;\">13.75</td><td style = \"text-align: right;\">0.0</td><td style = \"text-align: right;\">12.0</td><td style = \"text-align: right;\">0.0</td><td style = \"text-align: right;\">13.75</td><td style = \"text-align: right;\">12.0</td><td style = \"text-align: right;\">0.0</td></tr><tr><td class = \"rowNumber\" style = \"font-weight: bold; text-align: right;\">43</td><td style = \"text-align: left;\">2023-12-02T19:00:00</td><td style = \"text-align: right;\">13.75</td><td style = \"text-align: right;\">0.0</td><td style = \"text-align: right;\">31.95</td><td style = \"text-align: right;\">12.0</td><td style = \"text-align: right;\">0.0</td><td style = \"text-align: right;\">0.0</td><td style = \"text-align: right;\">13.75</td><td style = \"text-align: right;\">17.0</td><td style = \"text-align: right;\">13.75</td><td style = \"text-align: right;\">0.0</td><td style = \"text-align: right;\">0.0</td><td style = \"text-align: right;\">11.0</td><td style = \"text-align: right;\">0.0</td><td style = \"text-align: right;\">13.75</td><td style = \"text-align: right;\">12.0</td><td style = \"text-align: right;\">0.0</td><td style = \"text-align: right;\">0.0</td><td style = \"text-align: right;\">15.0</td><td style = \"text-align: right;\">13.75</td><td style = \"text-align: right;\">12.0</td><td style = \"text-align: right;\">13.5</td><td style = \"text-align: right;\">0.0</td><td style = \"text-align: right;\">12.0</td><td style = \"text-align: right;\">13.75</td><td style = \"text-align: right;\">12.0</td><td style = \"text-align: right;\">21.15</td><td style = \"text-align: right;\">13.75</td><td style = \"text-align: right;\">13.5</td><td style = \"text-align: right;\">12.0</td><td style = \"text-align: right;\">13.75</td><td style = \"text-align: right;\">13.75</td><td style = \"text-align: right;\">11.0</td><td style = \"text-align: right;\">0.0</td><td style = \"text-align: right;\">13.75</td><td style = \"text-align: right;\">12.0</td><td style = \"text-align: right;\">17.0</td><td style = \"text-align: right;\">0.0</td><td style = \"text-align: right;\">12.0</td><td style = \"text-align: right;\">13.75</td><td style = \"text-align: right;\">11.0</td><td style = \"text-align: right;\">12.0</td><td style = \"text-align: right;\">0.0</td><td style = \"text-align: right;\">13.75</td><td style = \"text-align: right;\">0.0</td><td style = \"text-align: right;\">0.0</td><td style = \"text-align: right;\">12.0</td><td style = \"text-align: right;\">0.0</td><td style = \"text-align: right;\">0.0</td><td style = \"text-align: right;\">12.0</td><td style = \"text-align: right;\">13.75</td><td style = \"text-align: right;\">13.75</td><td style = \"text-align: right;\">0.0</td><td style = \"text-align: right;\">0.0</td><td style = \"text-align: right;\">39.95</td><td style = \"text-align: right;\">13.75</td><td style = \"text-align: right;\">0.0</td><td style = \"text-align: right;\">50.0</td><td style = \"text-align: right;\">13.75</td><td style = \"text-align: right;\">12.642</td><td style = \"text-align: right;\">11.0</td><td style = \"text-align: right;\">0.0</td><td style = \"text-align: right;\">0.0</td><td style = \"text-align: right;\">13.75</td><td style = \"text-align: right;\">0.0</td><td style = \"text-align: right;\">17.0</td><td style = \"text-align: right;\">0.0</td><td style = \"text-align: right;\">13.75</td><td style = \"text-align: right;\">0.0</td><td style = \"text-align: right;\">0.0</td><td style = \"text-align: right;\">18.0</td><td style = \"text-align: right;\">13.75</td><td style = \"text-align: right;\">12.0</td><td style = \"text-align: right;\">0.0</td></tr><tr><td class = \"rowNumber\" style = \"font-weight: bold; text-align: right;\">44</td><td style = \"text-align: left;\">2023-12-02T20:00:00</td><td style = \"text-align: right;\">13.75</td><td style = \"text-align: right;\">0.0</td><td style = \"text-align: right;\">46.7</td><td style = \"text-align: right;\">12.0</td><td style = \"text-align: right;\">0.0</td><td style = \"text-align: right;\">0.0</td><td style = \"text-align: right;\">13.75</td><td style = \"text-align: right;\">17.0</td><td style = \"text-align: right;\">13.75</td><td style = \"text-align: right;\">0.0</td><td style = \"text-align: right;\">11.0</td><td style = \"text-align: right;\">11.0</td><td style = \"text-align: right;\">0.0</td><td style = \"text-align: right;\">13.75</td><td style = \"text-align: right;\">12.0</td><td style = \"text-align: right;\">0.0</td><td style = \"text-align: right;\">0.0</td><td style = \"text-align: right;\">15.0</td><td style = \"text-align: right;\">13.75</td><td style = \"text-align: right;\">12.0</td><td style = \"text-align: right;\">12.0</td><td style = \"text-align: right;\">0.0</td><td style = \"text-align: right;\">12.0</td><td style = \"text-align: right;\">13.75</td><td style = \"text-align: right;\">13.5</td><td style = \"text-align: right;\">21.15</td><td style = \"text-align: right;\">13.75</td><td style = \"text-align: right;\">12.2205</td><td style = \"text-align: right;\">12.0</td><td style = \"text-align: right;\">13.75</td><td style = \"text-align: right;\">13.75</td><td style = \"text-align: right;\">11.0</td><td style = \"text-align: right;\">0.0</td><td style = \"text-align: right;\">13.75</td><td style = \"text-align: right;\">15.7795</td><td style = \"text-align: right;\">17.0</td><td style = \"text-align: right;\">0.0</td><td style = \"text-align: right;\">12.0</td><td style = \"text-align: right;\">13.75</td><td style = \"text-align: right;\">11.0</td><td style = \"text-align: right;\">12.0</td><td style = \"text-align: right;\">0.0</td><td style = \"text-align: right;\">13.75</td><td style = \"text-align: right;\">0.0</td><td style = \"text-align: right;\">0.0</td><td style = \"text-align: right;\">12.0</td><td style = \"text-align: right;\">0.0</td><td style = \"text-align: right;\">0.0</td><td style = \"text-align: right;\">12.0</td><td style = \"text-align: right;\">13.75</td><td style = \"text-align: right;\">13.75</td><td style = \"text-align: right;\">0.0</td><td style = \"text-align: right;\">2.0</td><td style = \"text-align: right;\">39.95</td><td style = \"text-align: right;\">13.75</td><td style = \"text-align: right;\">15.0</td><td style = \"text-align: right;\">50.0</td><td style = \"text-align: right;\">13.75</td><td style = \"text-align: right;\">13.2795</td><td style = \"text-align: right;\">11.0</td><td style = \"text-align: right;\">0.0</td><td style = \"text-align: right;\">0.0</td><td style = \"text-align: right;\">13.75</td><td style = \"text-align: right;\">0.0</td><td style = \"text-align: right;\">17.0</td><td style = \"text-align: right;\">0.0</td><td style = \"text-align: right;\">13.75</td><td style = \"text-align: right;\">0.0</td><td style = \"text-align: right;\">0.0</td><td style = \"text-align: right;\">0.0</td><td style = \"text-align: right;\">0.0</td><td style = \"text-align: right;\">12.0</td><td style = \"text-align: right;\">0.0</td></tr><tr><td class = \"rowNumber\" style = \"font-weight: bold; text-align: right;\">45</td><td style = \"text-align: left;\">2023-12-02T21:00:00</td><td style = \"text-align: right;\">13.75</td><td style = \"text-align: right;\">0.0</td><td style = \"text-align: right;\">46.7</td><td style = \"text-align: right;\">12.0</td><td style = \"text-align: right;\">2.0</td><td style = \"text-align: right;\">0.0</td><td style = \"text-align: right;\">13.75</td><td style = \"text-align: right;\">17.0</td><td style = \"text-align: right;\">13.75</td><td style = \"text-align: right;\">0.0</td><td style = \"text-align: right;\">11.0</td><td style = \"text-align: right;\">11.0</td><td style = \"text-align: right;\">0.0</td><td style = \"text-align: right;\">13.75</td><td style = \"text-align: right;\">12.0</td><td style = \"text-align: right;\">0.0</td><td style = \"text-align: right;\">0.0</td><td style = \"text-align: right;\">13.0</td><td style = \"text-align: right;\">13.75</td><td style = \"text-align: right;\">12.0</td><td style = \"text-align: right;\">13.0011</td><td style = \"text-align: right;\">0.0</td><td style = \"text-align: right;\">12.0</td><td style = \"text-align: right;\">13.75</td><td style = \"text-align: right;\">12.0</td><td style = \"text-align: right;\">21.15</td><td style = \"text-align: right;\">13.75</td><td style = \"text-align: right;\">12.0</td><td style = \"text-align: right;\">12.0</td><td style = \"text-align: right;\">13.75</td><td style = \"text-align: right;\">13.75</td><td style = \"text-align: right;\">11.0</td><td style = \"text-align: right;\">0.0</td><td style = \"text-align: right;\">13.75</td><td style = \"text-align: right;\">18.0</td><td style = \"text-align: right;\">17.0</td><td style = \"text-align: right;\">0.0</td><td style = \"text-align: right;\">12.0</td><td style = \"text-align: right;\">13.75</td><td style = \"text-align: right;\">11.0</td><td style = \"text-align: right;\">12.0</td><td style = \"text-align: right;\">0.0</td><td style = \"text-align: right;\">13.75</td><td style = \"text-align: right;\">0.0</td><td style = \"text-align: right;\">0.0</td><td style = \"text-align: right;\">12.0</td><td style = \"text-align: right;\">0.0</td><td style = \"text-align: right;\">0.0</td><td style = \"text-align: right;\">12.0</td><td style = \"text-align: right;\">13.75</td><td style = \"text-align: right;\">13.75</td><td style = \"text-align: right;\">0.0</td><td style = \"text-align: right;\">0.0</td><td style = \"text-align: right;\">39.95</td><td style = \"text-align: right;\">13.75</td><td style = \"text-align: right;\">15.0</td><td style = \"text-align: right;\">50.0</td><td style = \"text-align: right;\">13.75</td><td style = \"text-align: right;\">12.0</td><td style = \"text-align: right;\">11.0</td><td style = \"text-align: right;\">0.0</td><td style = \"text-align: right;\">0.0</td><td style = \"text-align: right;\">13.75</td><td style = \"text-align: right;\">0.0</td><td style = \"text-align: right;\">17.0</td><td style = \"text-align: right;\">0.0</td><td style = \"text-align: right;\">13.75</td><td style = \"text-align: right;\">0.0</td><td style = \"text-align: right;\">0.0</td><td style = \"text-align: right;\">0.0</td><td style = \"text-align: right;\">0.0</td><td style = \"text-align: right;\">12.0</td><td style = \"text-align: right;\">0.0</td></tr><tr><td class = \"rowNumber\" style = \"font-weight: bold; text-align: right;\">46</td><td style = \"text-align: left;\">2023-12-02T22:00:00</td><td style = \"text-align: right;\">13.75</td><td style = \"text-align: right;\">0.0</td><td style = \"text-align: right;\">44.7</td><td style = \"text-align: right;\">12.0</td><td style = \"text-align: right;\">0.0</td><td style = \"text-align: right;\">0.0</td><td style = \"text-align: right;\">13.75</td><td style = \"text-align: right;\">17.0</td><td style = \"text-align: right;\">13.75</td><td style = \"text-align: right;\">0.0</td><td style = \"text-align: right;\">11.0</td><td style = \"text-align: right;\">11.0</td><td style = \"text-align: right;\">0.0</td><td style = \"text-align: right;\">13.75</td><td style = \"text-align: right;\">12.0</td><td style = \"text-align: right;\">0.0</td><td style = \"text-align: right;\">0.0</td><td style = \"text-align: right;\">15.0</td><td style = \"text-align: right;\">13.75</td><td style = \"text-align: right;\">12.0</td><td style = \"text-align: right;\">12.0</td><td style = \"text-align: right;\">0.0</td><td style = \"text-align: right;\">12.0</td><td style = \"text-align: right;\">13.75</td><td style = \"text-align: right;\">12.0</td><td style = \"text-align: right;\">21.15</td><td style = \"text-align: right;\">13.75</td><td style = \"text-align: right;\">12.0</td><td style = \"text-align: right;\">12.0</td><td style = \"text-align: right;\">13.75</td><td style = \"text-align: right;\">13.75</td><td style = \"text-align: right;\">11.0</td><td style = \"text-align: right;\">0.0</td><td style = \"text-align: right;\">13.75</td><td style = \"text-align: right;\">15.0585</td><td style = \"text-align: right;\">17.0</td><td style = \"text-align: right;\">0.0</td><td style = \"text-align: right;\">12.0</td><td style = \"text-align: right;\">13.75</td><td style = \"text-align: right;\">11.0</td><td style = \"text-align: right;\">12.0</td><td style = \"text-align: right;\">0.0</td><td style = \"text-align: right;\">13.75</td><td style = \"text-align: right;\">0.0</td><td style = \"text-align: right;\">0.0</td><td style = \"text-align: right;\">12.0</td><td style = \"text-align: right;\">0.0</td><td style = \"text-align: right;\">0.0</td><td style = \"text-align: right;\">12.0</td><td style = \"text-align: right;\">13.75</td><td style = \"text-align: right;\">13.75</td><td style = \"text-align: right;\">0.0</td><td style = \"text-align: right;\">0.0</td><td style = \"text-align: right;\">39.95</td><td style = \"text-align: right;\">15.75</td><td style = \"text-align: right;\">15.0</td><td style = \"text-align: right;\">50.0</td><td style = \"text-align: right;\">13.75</td><td style = \"text-align: right;\">12.0</td><td style = \"text-align: right;\">11.0</td><td style = \"text-align: right;\">0.0</td><td style = \"text-align: right;\">0.0</td><td style = \"text-align: right;\">13.75</td><td style = \"text-align: right;\">0.0</td><td style = \"text-align: right;\">17.0</td><td style = \"text-align: right;\">0.0</td><td style = \"text-align: right;\">13.75</td><td style = \"text-align: right;\">0.0</td><td style = \"text-align: right;\">0.0</td><td style = \"text-align: right;\">0.0</td><td style = \"text-align: right;\">0.0</td><td style = \"text-align: right;\">12.0</td><td style = \"text-align: right;\">0.0</td></tr><tr><td class = \"rowNumber\" style = \"font-weight: bold; text-align: right;\">47</td><td style = \"text-align: left;\">2023-12-02T23:00:00</td><td style = \"text-align: right;\">13.75</td><td style = \"text-align: right;\">0.0</td><td style = \"text-align: right;\">46.7</td><td style = \"text-align: right;\">12.0</td><td style = \"text-align: right;\">0.0</td><td style = \"text-align: right;\">0.0</td><td style = \"text-align: right;\">13.75</td><td style = \"text-align: right;\">17.0</td><td style = \"text-align: right;\">13.75</td><td style = \"text-align: right;\">0.0</td><td style = \"text-align: right;\">11.0</td><td style = \"text-align: right;\">11.0</td><td style = \"text-align: right;\">0.0</td><td style = \"text-align: right;\">13.75</td><td style = \"text-align: right;\">12.0</td><td style = \"text-align: right;\">0.0</td><td style = \"text-align: right;\">0.0</td><td style = \"text-align: right;\">13.0</td><td style = \"text-align: right;\">13.75</td><td style = \"text-align: right;\">12.0</td><td style = \"text-align: right;\">12.0</td><td style = \"text-align: right;\">0.0</td><td style = \"text-align: right;\">12.0</td><td style = \"text-align: right;\">13.75</td><td style = \"text-align: right;\">12.0</td><td style = \"text-align: right;\">21.15</td><td style = \"text-align: right;\">13.75</td><td style = \"text-align: right;\">12.0</td><td style = \"text-align: right;\">12.0</td><td style = \"text-align: right;\">13.75</td><td style = \"text-align: right;\">13.75</td><td style = \"text-align: right;\">11.0</td><td style = \"text-align: right;\">0.0</td><td style = \"text-align: right;\">13.75</td><td style = \"text-align: right;\">12.0</td><td style = \"text-align: right;\">17.0</td><td style = \"text-align: right;\">0.0</td><td style = \"text-align: right;\">12.0</td><td style = \"text-align: right;\">13.75</td><td style = \"text-align: right;\">11.0</td><td style = \"text-align: right;\">12.0</td><td style = \"text-align: right;\">0.0</td><td style = \"text-align: right;\">13.75</td><td style = \"text-align: right;\">0.0</td><td style = \"text-align: right;\">0.0</td><td style = \"text-align: right;\">12.0</td><td style = \"text-align: right;\">0.0</td><td style = \"text-align: right;\">0.0</td><td style = \"text-align: right;\">12.0</td><td style = \"text-align: right;\">13.75</td><td style = \"text-align: right;\">13.75</td><td style = \"text-align: right;\">0.0</td><td style = \"text-align: right;\">0.0</td><td style = \"text-align: right;\">39.95</td><td style = \"text-align: right;\">13.75</td><td style = \"text-align: right;\">13.7453</td><td style = \"text-align: right;\">50.0</td><td style = \"text-align: right;\">13.75</td><td style = \"text-align: right;\">12.0</td><td style = \"text-align: right;\">11.0</td><td style = \"text-align: right;\">0.0</td><td style = \"text-align: right;\">0.0</td><td style = \"text-align: right;\">13.75</td><td style = \"text-align: right;\">0.0</td><td style = \"text-align: right;\">17.0</td><td style = \"text-align: right;\">0.0</td><td style = \"text-align: right;\">13.75</td><td style = \"text-align: right;\">0.0</td><td style = \"text-align: right;\">0.0</td><td style = \"text-align: right;\">0.0</td><td style = \"text-align: right;\">0.0</td><td style = \"text-align: right;\">12.0</td><td style = \"text-align: right;\">0.0</td></tr></tbody></table></div>"
      ],
      "text/latex": [
       "\\begin{tabular}{r|ccccccc}\n",
       "\t& datetime & Malicounda\\_4 & C3\\_2 & Gouina & IPP Tobene Power\\_2 & Kahone C1\\_2 & \\\\\n",
       "\t\\hline\n",
       "\t& DateTime & Float64 & Float64 & Float64 & Float64 & Float64 & \\\\\n",
       "\t\\hline\n",
       "\t1 & 2023-12-01T01:00:00 & 13.75 & 0.0 & 46.7 & 12.0 & 0.0 & $\\dots$ \\\\\n",
       "\t2 & 2023-12-01T02:00:00 & 13.75 & 0.0 & 46.7 & 0.0 & 0.0 & $\\dots$ \\\\\n",
       "\t3 & 2023-12-01T03:00:00 & 13.75 & 0.0 & 46.7 & 0.0 & 0.0 & $\\dots$ \\\\\n",
       "\t4 & 2023-12-01T04:00:00 & 13.75 & 0.0 & 41.2939 & 0.0 & 0.0 & $\\dots$ \\\\\n",
       "\t5 & 2023-12-01T05:00:00 & 13.75 & 0.0 & 40.6691 & 12.0 & 0.0 & $\\dots$ \\\\\n",
       "\t6 & 2023-12-01T06:00:00 & 13.75 & 0.0 & 35.2281 & 12.0 & 0.0 & $\\dots$ \\\\\n",
       "\t7 & 2023-12-01T07:00:00 & 13.75 & 0.0 & 38.89 & 12.0 & 0.0 & $\\dots$ \\\\\n",
       "\t8 & 2023-12-01T08:00:00 & 13.75 & 0.0 & 21.5253 & 12.0 & 0.0 & $\\dots$ \\\\\n",
       "\t9 & 2023-12-01T09:00:00 & 13.75 & 0.0 & 26.5394 & 12.0 & 0.0 & $\\dots$ \\\\\n",
       "\t10 & 2023-12-01T10:00:00 & 13.75 & 0.0 & 14.8482 & 12.0 & 0.0 & $\\dots$ \\\\\n",
       "\t11 & 2023-12-01T11:00:00 & 13.75 & 0.0 & 11.4195 & 12.0 & 0.0 & $\\dots$ \\\\\n",
       "\t12 & 2023-12-01T12:00:00 & 13.75 & 0.0 & 0.0 & 0.0 & 0.0 & $\\dots$ \\\\\n",
       "\t13 & 2023-12-01T13:00:00 & 13.75 & 0.0 & 0.0 & 12.0 & 0.0 & $\\dots$ \\\\\n",
       "\t14 & 2023-12-01T14:00:00 & 13.75 & 0.0 & 0.0 & 0.0 & 0.0 & $\\dots$ \\\\\n",
       "\t15 & 2023-12-01T15:00:00 & 13.75 & 0.0 & 0.0 & 12.0 & 0.0 & $\\dots$ \\\\\n",
       "\t16 & 2023-12-01T16:00:00 & 13.75 & 0.0 & 25.4234 & 12.0 & 0.0 & $\\dots$ \\\\\n",
       "\t17 & 2023-12-01T17:00:00 & 13.75 & 0.0 & 40.7179 & 12.0 & 0.0 & $\\dots$ \\\\\n",
       "\t18 & 2023-12-01T18:00:00 & 13.75 & 0.0 & 41.4915 & 12.0 & 0.0 & $\\dots$ \\\\\n",
       "\t19 & 2023-12-01T19:00:00 & 13.75 & 0.0 & 44.7182 & 12.0 & 0.0 & $\\dots$ \\\\\n",
       "\t20 & 2023-12-01T20:00:00 & 13.75 & 0.0 & 39.26 & 12.0 & 0.0 & $\\dots$ \\\\\n",
       "\t21 & 2023-12-01T21:00:00 & 13.75 & 0.0 & 46.7 & 12.0 & 0.0 & $\\dots$ \\\\\n",
       "\t22 & 2023-12-01T22:00:00 & 13.75 & 0.0 & 46.7 & 12.0 & 0.0 & $\\dots$ \\\\\n",
       "\t23 & 2023-12-01T23:00:00 & 13.75 & 0.0 & 46.7 & 12.0 & 0.0 & $\\dots$ \\\\\n",
       "\t24 & 2023-12-02T00:00:00 & 13.75 & 0.0 & 46.7 & 12.0 & 0.0 & $\\dots$ \\\\\n",
       "\t25 & 2023-12-02T01:00:00 & 13.75 & 0.0 & 44.1724 & 12.0 & 0.0 & $\\dots$ \\\\\n",
       "\t26 & 2023-12-02T02:00:00 & 13.75 & 0.0 & 37.4047 & 12.0 & 0.0 & $\\dots$ \\\\\n",
       "\t27 & 2023-12-02T03:00:00 & 13.75 & 0.0 & 30.5473 & 12.0 & 0.0 & $\\dots$ \\\\\n",
       "\t28 & 2023-12-02T04:00:00 & 13.75 & 0.0 & 28.1955 & 12.0 & 0.0 & $\\dots$ \\\\\n",
       "\t29 & 2023-12-02T05:00:00 & 13.75 & 0.0 & 25.8188 & 12.0 & 0.0 & $\\dots$ \\\\\n",
       "\t30 & 2023-12-02T06:00:00 & 13.75 & 0.0 & 12.7611 & 12.0 & 0.0 & $\\dots$ \\\\\n",
       "\t$\\dots$ & $\\dots$ & $\\dots$ & $\\dots$ & $\\dots$ & $\\dots$ & $\\dots$ &  \\\\\n",
       "\\end{tabular}\n"
      ],
      "text/plain": [
       "\u001b[1m47×74 DataFrame\u001b[0m\n",
       "\u001b[1m Row \u001b[0m│\u001b[1m datetime            \u001b[0m\u001b[1m Malicounda_4 \u001b[0m\u001b[1m C3_2    \u001b[0m\u001b[1m Gouina    \u001b[0m\u001b[1m IPP Tobene Power\u001b[0m ⋯\n",
       "     │\u001b[90m DateTime            \u001b[0m\u001b[90m Float64      \u001b[0m\u001b[90m Float64 \u001b[0m\u001b[90m Float64   \u001b[0m\u001b[90m Float64         \u001b[0m ⋯\n",
       "─────┼──────────────────────────────────────────────────────────────────────────\n",
       "   1 │ 2023-12-01T01:00:00         13.75      0.0  46.7                     12 ⋯\n",
       "   2 │ 2023-12-01T02:00:00         13.75      0.0  46.7                      0\n",
       "   3 │ 2023-12-01T03:00:00         13.75      0.0  46.7                      0\n",
       "   4 │ 2023-12-01T04:00:00         13.75      0.0  41.2939                   0\n",
       "   5 │ 2023-12-01T05:00:00         13.75      0.0  40.6691                  12 ⋯\n",
       "   6 │ 2023-12-01T06:00:00         13.75      0.0  35.2281                  12\n",
       "   7 │ 2023-12-01T07:00:00         13.75      0.0  38.89                    12\n",
       "   8 │ 2023-12-01T08:00:00         13.75      0.0  21.5253                  12\n",
       "   9 │ 2023-12-01T09:00:00         13.75      0.0  26.5394                  12 ⋯\n",
       "  10 │ 2023-12-01T10:00:00         13.75      0.0  14.8482                  12\n",
       "  11 │ 2023-12-01T11:00:00         13.75      0.0  11.4195                  12\n",
       "  ⋮  │          ⋮                ⋮           ⋮         ⋮              ⋮        ⋱\n",
       "  38 │ 2023-12-02T14:00:00         13.75      0.0   0.0                      0\n",
       "  39 │ 2023-12-02T15:00:00         13.75      0.0   0.0                      0 ⋯\n",
       "  40 │ 2023-12-02T16:00:00         13.75      0.0   0.563653                 0\n",
       "  41 │ 2023-12-02T17:00:00         13.75      0.0  14.1958                  12\n",
       "  42 │ 2023-12-02T18:00:00         13.75      0.0  33.0533                  12\n",
       "  43 │ 2023-12-02T19:00:00         13.75      0.0  31.95                    12 ⋯\n",
       "  44 │ 2023-12-02T20:00:00         13.75      0.0  46.7                     12\n",
       "  45 │ 2023-12-02T21:00:00         13.75      0.0  46.7                     12\n",
       "  46 │ 2023-12-02T22:00:00         13.75      0.0  44.7                     12\n",
       "  47 │ 2023-12-02T23:00:00         13.75      0.0  46.7                     12 ⋯\n",
       "\u001b[36m                                                  70 columns and 26 rows omitted\u001b[0m"
      ]
     },
     "execution_count": 73,
     "metadata": {},
     "output_type": "execute_result"
    }
   ],
   "source": [
    "pg_df"
   ]
  },
  {
   "cell_type": "code",
   "execution_count": 74,
   "id": "6cb1e9a7-e681-4cec-bd4f-65d015bc92fb",
   "metadata": {},
   "outputs": [
    {
     "data": {
      "text/html": [
       "<div><div style = \"float: left;\"><span>47×2 DataFrame</span></div><div style = \"float: right;\"><span style = \"font-style: italic;\">22 rows omitted</span></div><div style = \"clear: both;\"></div></div><div class = \"data-frame\" style = \"overflow-x: scroll;\"><table class = \"data-frame\" style = \"margin-bottom: 6px;\"><thead><tr class = \"header\"><th class = \"rowNumber\" style = \"font-weight: bold; text-align: right;\">Row</th><th style = \"text-align: left;\">datetime</th><th style = \"text-align: left;\">Ɣ2</th></tr><tr class = \"subheader headerLastRow\"><th class = \"rowNumber\" style = \"font-weight: bold; text-align: right;\"></th><th title = \"DateTime\" style = \"text-align: left;\">DateTime</th><th title = \"Float64\" style = \"text-align: left;\">Float64</th></tr></thead><tbody><tr><td class = \"rowNumber\" style = \"font-weight: bold; text-align: right;\">1</td><td style = \"text-align: left;\">2023-12-01T01:00:00</td><td style = \"text-align: right;\">2.22722</td></tr><tr><td class = \"rowNumber\" style = \"font-weight: bold; text-align: right;\">2</td><td style = \"text-align: left;\">2023-12-01T02:00:00</td><td style = \"text-align: right;\">0.0</td></tr><tr><td class = \"rowNumber\" style = \"font-weight: bold; text-align: right;\">3</td><td style = \"text-align: left;\">2023-12-01T03:00:00</td><td style = \"text-align: right;\">0.0</td></tr><tr><td class = \"rowNumber\" style = \"font-weight: bold; text-align: right;\">4</td><td style = \"text-align: left;\">2023-12-01T04:00:00</td><td style = \"text-align: right;\">0.0</td></tr><tr><td class = \"rowNumber\" style = \"font-weight: bold; text-align: right;\">5</td><td style = \"text-align: left;\">2023-12-01T05:00:00</td><td style = \"text-align: right;\">0.0</td></tr><tr><td class = \"rowNumber\" style = \"font-weight: bold; text-align: right;\">6</td><td style = \"text-align: left;\">2023-12-01T06:00:00</td><td style = \"text-align: right;\">0.0</td></tr><tr><td class = \"rowNumber\" style = \"font-weight: bold; text-align: right;\">7</td><td style = \"text-align: left;\">2023-12-01T07:00:00</td><td style = \"text-align: right;\">0.0</td></tr><tr><td class = \"rowNumber\" style = \"font-weight: bold; text-align: right;\">8</td><td style = \"text-align: left;\">2023-12-01T08:00:00</td><td style = \"text-align: right;\">0.0</td></tr><tr><td class = \"rowNumber\" style = \"font-weight: bold; text-align: right;\">9</td><td style = \"text-align: left;\">2023-12-01T09:00:00</td><td style = \"text-align: right;\">0.0</td></tr><tr><td class = \"rowNumber\" style = \"font-weight: bold; text-align: right;\">10</td><td style = \"text-align: left;\">2023-12-01T10:00:00</td><td style = \"text-align: right;\">0.0</td></tr><tr><td class = \"rowNumber\" style = \"font-weight: bold; text-align: right;\">11</td><td style = \"text-align: left;\">2023-12-01T11:00:00</td><td style = \"text-align: right;\">0.0</td></tr><tr><td class = \"rowNumber\" style = \"font-weight: bold; text-align: right;\">12</td><td style = \"text-align: left;\">2023-12-01T12:00:00</td><td style = \"text-align: right;\">0.0</td></tr><tr><td class = \"rowNumber\" style = \"font-weight: bold; text-align: right;\">13</td><td style = \"text-align: left;\">2023-12-01T13:00:00</td><td style = \"text-align: right;\">0.0</td></tr><tr><td style = \"text-align: right;\">&vellip;</td><td style = \"text-align: right;\">&vellip;</td><td style = \"text-align: right;\">&vellip;</td></tr><tr><td class = \"rowNumber\" style = \"font-weight: bold; text-align: right;\">36</td><td style = \"text-align: left;\">2023-12-02T12:00:00</td><td style = \"text-align: right;\">3.0</td></tr><tr><td class = \"rowNumber\" style = \"font-weight: bold; text-align: right;\">37</td><td style = \"text-align: left;\">2023-12-02T13:00:00</td><td style = \"text-align: right;\">0.0</td></tr><tr><td class = \"rowNumber\" style = \"font-weight: bold; text-align: right;\">38</td><td style = \"text-align: left;\">2023-12-02T14:00:00</td><td style = \"text-align: right;\">0.0</td></tr><tr><td class = \"rowNumber\" style = \"font-weight: bold; text-align: right;\">39</td><td style = \"text-align: left;\">2023-12-02T15:00:00</td><td style = \"text-align: right;\">0.0</td></tr><tr><td class = \"rowNumber\" style = \"font-weight: bold; text-align: right;\">40</td><td style = \"text-align: left;\">2023-12-02T16:00:00</td><td style = \"text-align: right;\">0.0</td></tr><tr><td class = \"rowNumber\" style = \"font-weight: bold; text-align: right;\">41</td><td style = \"text-align: left;\">2023-12-02T17:00:00</td><td style = \"text-align: right;\">0.0</td></tr><tr><td class = \"rowNumber\" style = \"font-weight: bold; text-align: right;\">42</td><td style = \"text-align: left;\">2023-12-02T18:00:00</td><td style = \"text-align: right;\">0.0</td></tr><tr><td class = \"rowNumber\" style = \"font-weight: bold; text-align: right;\">43</td><td style = \"text-align: left;\">2023-12-02T19:00:00</td><td style = \"text-align: right;\">0.0</td></tr><tr><td class = \"rowNumber\" style = \"font-weight: bold; text-align: right;\">44</td><td style = \"text-align: left;\">2023-12-02T20:00:00</td><td style = \"text-align: right;\">1.27949</td></tr><tr><td class = \"rowNumber\" style = \"font-weight: bold; text-align: right;\">45</td><td style = \"text-align: left;\">2023-12-02T21:00:00</td><td style = \"text-align: right;\">0.0</td></tr><tr><td class = \"rowNumber\" style = \"font-weight: bold; text-align: right;\">46</td><td style = \"text-align: left;\">2023-12-02T22:00:00</td><td style = \"text-align: right;\">0.0</td></tr><tr><td class = \"rowNumber\" style = \"font-weight: bold; text-align: right;\">47</td><td style = \"text-align: left;\">2023-12-02T23:00:00</td><td style = \"text-align: right;\">0.0</td></tr></tbody></table></div>"
      ],
      "text/latex": [
       "\\begin{tabular}{r|cc}\n",
       "\t& datetime & Ɣ2\\\\\n",
       "\t\\hline\n",
       "\t& DateTime & Float64\\\\\n",
       "\t\\hline\n",
       "\t1 & 2023-12-01T01:00:00 & 2.22722 \\\\\n",
       "\t2 & 2023-12-01T02:00:00 & 0.0 \\\\\n",
       "\t3 & 2023-12-01T03:00:00 & 0.0 \\\\\n",
       "\t4 & 2023-12-01T04:00:00 & 0.0 \\\\\n",
       "\t5 & 2023-12-01T05:00:00 & 0.0 \\\\\n",
       "\t6 & 2023-12-01T06:00:00 & 0.0 \\\\\n",
       "\t7 & 2023-12-01T07:00:00 & 0.0 \\\\\n",
       "\t8 & 2023-12-01T08:00:00 & 0.0 \\\\\n",
       "\t9 & 2023-12-01T09:00:00 & 0.0 \\\\\n",
       "\t10 & 2023-12-01T10:00:00 & 0.0 \\\\\n",
       "\t11 & 2023-12-01T11:00:00 & 0.0 \\\\\n",
       "\t12 & 2023-12-01T12:00:00 & 0.0 \\\\\n",
       "\t13 & 2023-12-01T13:00:00 & 0.0 \\\\\n",
       "\t14 & 2023-12-01T14:00:00 & 0.293824 \\\\\n",
       "\t15 & 2023-12-01T15:00:00 & 0.0 \\\\\n",
       "\t16 & 2023-12-01T16:00:00 & 0.0 \\\\\n",
       "\t17 & 2023-12-01T17:00:00 & 0.0 \\\\\n",
       "\t18 & 2023-12-01T18:00:00 & 0.0 \\\\\n",
       "\t19 & 2023-12-01T19:00:00 & 0.0 \\\\\n",
       "\t20 & 2023-12-01T20:00:00 & 0.0 \\\\\n",
       "\t21 & 2023-12-01T21:00:00 & 0.0 \\\\\n",
       "\t22 & 2023-12-01T22:00:00 & 0.0 \\\\\n",
       "\t23 & 2023-12-01T23:00:00 & 0.0 \\\\\n",
       "\t24 & 2023-12-02T00:00:00 & 0.0 \\\\\n",
       "\t25 & 2023-12-02T01:00:00 & 0.0 \\\\\n",
       "\t26 & 2023-12-02T02:00:00 & 0.0 \\\\\n",
       "\t27 & 2023-12-02T03:00:00 & 0.0 \\\\\n",
       "\t28 & 2023-12-02T04:00:00 & 0.0 \\\\\n",
       "\t29 & 2023-12-02T05:00:00 & 0.0 \\\\\n",
       "\t30 & 2023-12-02T06:00:00 & 0.0 \\\\\n",
       "\t$\\dots$ & $\\dots$ & $\\dots$ \\\\\n",
       "\\end{tabular}\n"
      ],
      "text/plain": [
       "\u001b[1m47×2 DataFrame\u001b[0m\n",
       "\u001b[1m Row \u001b[0m│\u001b[1m datetime            \u001b[0m\u001b[1m Ɣ2       \u001b[0m\n",
       "     │\u001b[90m DateTime            \u001b[0m\u001b[90m Float64  \u001b[0m\n",
       "─────┼───────────────────────────────\n",
       "   1 │ 2023-12-01T01:00:00  2.22722\n",
       "   2 │ 2023-12-01T02:00:00  0.0\n",
       "   3 │ 2023-12-01T03:00:00  0.0\n",
       "   4 │ 2023-12-01T04:00:00  0.0\n",
       "   5 │ 2023-12-01T05:00:00  0.0\n",
       "   6 │ 2023-12-01T06:00:00  0.0\n",
       "   7 │ 2023-12-01T07:00:00  0.0\n",
       "   8 │ 2023-12-01T08:00:00  0.0\n",
       "   9 │ 2023-12-01T09:00:00  0.0\n",
       "  10 │ 2023-12-01T10:00:00  0.0\n",
       "  11 │ 2023-12-01T11:00:00  0.0\n",
       "  ⋮  │          ⋮              ⋮\n",
       "  38 │ 2023-12-02T14:00:00  0.0\n",
       "  39 │ 2023-12-02T15:00:00  0.0\n",
       "  40 │ 2023-12-02T16:00:00  0.0\n",
       "  41 │ 2023-12-02T17:00:00  0.0\n",
       "  42 │ 2023-12-02T18:00:00  0.0\n",
       "  43 │ 2023-12-02T19:00:00  0.0\n",
       "  44 │ 2023-12-02T20:00:00  1.27949\n",
       "  45 │ 2023-12-02T21:00:00  0.0\n",
       "  46 │ 2023-12-02T22:00:00  0.0\n",
       "  47 │ 2023-12-02T23:00:00  0.0\n",
       "\u001b[36m                      26 rows omitted\u001b[0m"
      ]
     },
     "execution_count": 74,
     "metadata": {},
     "output_type": "execute_result"
    }
   ],
   "source": [
    "Ɣ2_df"
   ]
  },
  {
   "cell_type": "code",
   "execution_count": 75,
   "id": "67986907-9969-48fd-a282-fc9c5ad28489",
   "metadata": {},
   "outputs": [
    {
     "data": {
      "text/plain": [
       "3.2793915488960668"
      ]
     },
     "execution_count": 75,
     "metadata": {},
     "output_type": "execute_result"
    }
   ],
   "source": [
    "maximum(Ɣ3_df[!, Symbol(\"Ɣ3\")])"
   ]
  },
  {
   "cell_type": "code",
   "execution_count": 107,
   "id": "d953e4e8-9b5a-4acd-a080-408afdb7719e",
   "metadata": {},
   "outputs": [
    {
     "data": {
      "text/plain": [
       "1-dimensional DenseAxisArray{Float64,1,...} with index sets:\n",
       "    Dimension 1, 1:47\n",
       "And data, a 47-element Vector{Float64}:\n",
       " 13.75\n",
       " 23.0\n",
       " 14.0\n",
       " 13.75\n",
       " 23.0\n",
       " 18.0\n",
       " 13.75\n",
       " 13.75\n",
       " 20.5\n",
       " 13.94822346075307\n",
       " 13.75\n",
       " 13.75\n",
       " 13.75\n",
       "  ⋮\n",
       "  0.0\n",
       "  0.0\n",
       "  0.0\n",
       "  0.0\n",
       " 13.75\n",
       " 13.75\n",
       " 13.75\n",
       " 23.0\n",
       " 13.75\n",
       " 13.75\n",
       " 23.0\n",
       " 13.75"
      ]
     },
     "execution_count": 107,
     "metadata": {},
     "output_type": "execute_result"
    }
   ],
   "source": [
    "result.pg[\"Malicounda_4\", :]"
   ]
  },
  {
   "cell_type": "code",
   "execution_count": null,
   "id": "26149912-36f9-47ef-ad8a-b6d3a7141cf1",
   "metadata": {},
   "outputs": [],
   "source": []
  }
 ],
 "metadata": {
  "kernelspec": {
   "display_name": "Julia 1.10.4",
   "language": "julia",
   "name": "julia-1.10"
  },
  "language_info": {
   "file_extension": ".jl",
   "mimetype": "application/julia",
   "name": "julia",
   "version": "1.10.4"
  }
 },
 "nbformat": 4,
 "nbformat_minor": 5
}
